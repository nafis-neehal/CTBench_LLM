{
 "cells": [
  {
   "cell_type": "markdown",
   "metadata": {},
   "source": [
    "# Run the whole benchmark on CT-Repo Dataset"
   ]
  },
  {
   "cell_type": "code",
   "execution_count": 11,
   "metadata": {},
   "outputs": [
    {
     "name": "stdout",
     "output_type": "stream",
     "text": [
      "The autoreload extension is already loaded. To reload it, use:\n",
      "  %reload_ext autoreload\n"
     ]
    }
   ],
   "source": [
    "%load_ext autoreload\n",
    "%autoreload 2"
   ]
  },
  {
   "cell_type": "code",
   "execution_count": 12,
   "metadata": {},
   "outputs": [],
   "source": [
    "import module, secret_keys\n",
    "from model_list import models\n",
    "import pandas as pd\n",
    "\n",
    "hf_api_key             = secret_keys.HF_TOKEN                   #<insert your own huggingface token here>\n",
    "openai_api_key         = secret_keys.OPENAI_API_KEY_TEAM        #<insert your own openai token here>"
   ]
  },
  {
   "cell_type": "markdown",
   "metadata": {},
   "source": [
    "# Load Dataset"
   ]
  },
  {
   "cell_type": "markdown",
   "metadata": {},
   "source": [
    "These three IDs are three-shot example IDs in each dataset - ['NCT00000620', 'NCT01483560', 'NCT04280783']. Do not run generation or evaluation on them."
   ]
  },
  {
   "cell_type": "code",
   "execution_count": 3,
   "metadata": {},
   "outputs": [
    {
     "name": "stdout",
     "output_type": "stream",
     "text": [
      "(1693, 10)\n"
     ]
    },
    {
     "data": {
      "text/html": [
       "<div>\n",
       "<style scoped>\n",
       "    .dataframe tbody tr th:only-of-type {\n",
       "        vertical-align: middle;\n",
       "    }\n",
       "\n",
       "    .dataframe tbody tr th {\n",
       "        vertical-align: top;\n",
       "    }\n",
       "\n",
       "    .dataframe thead th {\n",
       "        text-align: right;\n",
       "    }\n",
       "</style>\n",
       "<table border=\"1\" class=\"dataframe\">\n",
       "  <thead>\n",
       "    <tr style=\"text-align: right;\">\n",
       "      <th></th>\n",
       "      <th>NCTId</th>\n",
       "      <th>BriefTitle</th>\n",
       "      <th>EligibilityCriteria</th>\n",
       "      <th>BriefSummary</th>\n",
       "      <th>Conditions</th>\n",
       "      <th>Interventions</th>\n",
       "      <th>PrimaryOutcomes</th>\n",
       "      <th>TrialGroup</th>\n",
       "      <th>API_BaselineMeasures</th>\n",
       "      <th>API_BaselineMeasures_Corrected</th>\n",
       "    </tr>\n",
       "  </thead>\n",
       "  <tbody>\n",
       "    <tr>\n",
       "      <th>0</th>\n",
       "      <td>NCT00000620</td>\n",
       "      <td>Action to Control Cardiovascular Risk in Diabe...</td>\n",
       "      <td>Inclusion Criteria:\\n\\n* Diagnosed with type 2...</td>\n",
       "      <td>The purpose of this study is to prevent major ...</td>\n",
       "      <td>Atherosclerosis, Cardiovascular Diseases, Hype...</td>\n",
       "      <td>Anti-hyperglycemic Agents, Anti-hypertensive A...</td>\n",
       "      <td>First Occurrence of a Major Cardiovascular Eve...</td>\n",
       "      <td>hypertension</td>\n",
       "      <td>Age, Continuous, Gender, Ethnicity (NIH/OMB), ...</td>\n",
       "      <td>`Age, Continuous`, `Gender`, `Ethnicity (NIH/O...</td>\n",
       "    </tr>\n",
       "    <tr>\n",
       "      <th>1</th>\n",
       "      <td>NCT00003901</td>\n",
       "      <td>Prognostic Study of Metastases in Patients Wit...</td>\n",
       "      <td>Inclusion Criteria:\\n\\n1. Patient must be ≥ 18...</td>\n",
       "      <td>RATIONALE: Prognostic testing for early signs ...</td>\n",
       "      <td>Lung Cancer,</td>\n",
       "      <td>immunohistochemistry staining method, biopsy, ...</td>\n",
       "      <td>Overall Survival in Lymph Nodes Examined Patie...</td>\n",
       "      <td>cancer</td>\n",
       "      <td>Age, Continuous, Gender, Race/Ethnicity, Custo...</td>\n",
       "      <td>`Age, Continuous`, `Gender`, `Race/Ethnicity, ...</td>\n",
       "    </tr>\n",
       "  </tbody>\n",
       "</table>\n",
       "</div>"
      ],
      "text/plain": [
       "         NCTId                                         BriefTitle  \\\n",
       "0  NCT00000620  Action to Control Cardiovascular Risk in Diabe...   \n",
       "1  NCT00003901  Prognostic Study of Metastases in Patients Wit...   \n",
       "\n",
       "                                 EligibilityCriteria  \\\n",
       "0  Inclusion Criteria:\\n\\n* Diagnosed with type 2...   \n",
       "1  Inclusion Criteria:\\n\\n1. Patient must be ≥ 18...   \n",
       "\n",
       "                                        BriefSummary  \\\n",
       "0  The purpose of this study is to prevent major ...   \n",
       "1  RATIONALE: Prognostic testing for early signs ...   \n",
       "\n",
       "                                          Conditions  \\\n",
       "0  Atherosclerosis, Cardiovascular Diseases, Hype...   \n",
       "1                                      Lung Cancer,    \n",
       "\n",
       "                                       Interventions  \\\n",
       "0  Anti-hyperglycemic Agents, Anti-hypertensive A...   \n",
       "1  immunohistochemistry staining method, biopsy, ...   \n",
       "\n",
       "                                     PrimaryOutcomes    TrialGroup  \\\n",
       "0  First Occurrence of a Major Cardiovascular Eve...  hypertension   \n",
       "1  Overall Survival in Lymph Nodes Examined Patie...        cancer   \n",
       "\n",
       "                                API_BaselineMeasures  \\\n",
       "0  Age, Continuous, Gender, Ethnicity (NIH/OMB), ...   \n",
       "1  Age, Continuous, Gender, Race/Ethnicity, Custo...   \n",
       "\n",
       "                      API_BaselineMeasures_Corrected  \n",
       "0  `Age, Continuous`, `Gender`, `Ethnicity (NIH/O...  \n",
       "1  `Age, Continuous`, `Gender`, `Race/Ethnicity, ...  "
      ]
     },
     "execution_count": 3,
     "metadata": {},
     "output_type": "execute_result"
    }
   ],
   "source": [
    "data_repo = pd.read_csv('data_new/CT-Repo-With-Examples-Processed-Version-Corrected.csv')\n",
    "print(data_repo.shape)\n",
    "data_repo.head(2)"
   ]
  },
  {
   "cell_type": "markdown",
   "metadata": {},
   "source": [
    "## Generation using GPT-4o with 0-shot prompts (CT-Repo)"
   ]
  },
  {
   "cell_type": "code",
   "execution_count": null,
   "metadata": {},
   "outputs": [],
   "source": [
    "from tqdm import tqdm \n",
    "model_name   = models['gpt-4o']\n",
    "\n",
    "data_repo['gpt4o_zs_gen'] = None\n",
    "\n",
    "for index, row in tqdm(data_repo.iterrows()):\n",
    "\n",
    "    try:\n",
    "        system_message, question = module.build_zeroshot_prompt(data_repo, row)\n",
    "        gen_model_query = module.system_user_template(system_message, question)\n",
    "        gen_model_response = module.run_generation_single_openai(gen_model_query, model_name, \n",
    "                                                    openai_api_key, temperature=0.0)\n",
    "    \n",
    "    except Exception as e:\n",
    "        print(f\"Error {e} at index {index}\")\n",
    "        continue\n",
    "    \n",
    "    data_repo.at[index, 'gpt4o_zs_gen'] = gen_model_response\n",
    "\n",
    "    # print(system_message)\n",
    "    # print(question)\n",
    "    # print(gen_model_response)\n",
    "\n",
    "    # break \n"
   ]
  },
  {
   "cell_type": "markdown",
   "metadata": {},
   "source": [
    "## Generation using GPT-4o with 3-shot prompts (CT-Repo)"
   ]
  },
  {
   "cell_type": "code",
   "execution_count": 24,
   "metadata": {},
   "outputs": [
    {
     "name": "stderr",
     "output_type": "stream",
     "text": [
      "103it [09:32,  5.56s/it]\n"
     ]
    }
   ],
   "source": [
    "model_name   = models['gpt-4o']\n",
    "\n",
    "data_repo['gpt4o_ts_gen'] = None\n",
    "\n",
    "for index, row in tqdm(data_repo.iterrows()):\n",
    "    system_message, question = module.build_three_shot_prompt(data_repo, row, ref_col_name='API_BaselineMeasures_Corrected')\n",
    "    model_query = module.system_user_template(system_message, question)\n",
    "    model_response = module.run_generation_single_openai(model_query, model_name, \n",
    "                                                    openai_api_key, temperature=0.0)\n",
    "    \n",
    "    data_repo.at[index, 'gpt4o_ts_gen'] = model_response\n",
    "\n"
   ]
  },
  {
   "cell_type": "markdown",
   "metadata": {},
   "source": [
    "## Generation using Llama3-70B-it with 0-shot prompts (CT-Repo)"
   ]
  },
  {
   "cell_type": "code",
   "execution_count": 29,
   "metadata": {},
   "outputs": [
    {
     "name": "stderr",
     "output_type": "stream",
     "text": [
      "103it [05:17,  3.08s/it]\n"
     ]
    }
   ],
   "source": [
    "model_hf_endpoint = models['llama3-70b-it']\n",
    "\n",
    "data_repo['llama3_70b_it_zs_gen'] = None\n",
    "\n",
    "for index, row in tqdm(data_repo.iterrows()):\n",
    "\n",
    "    system_message, question = module.build_zeroshot_prompt(data_repo, row)\n",
    "    model_query = module.system_user_template(system_message, question)\n",
    "    model_response = module.run_generation_single_hf_models(model_query, model_hf_endpoint, \n",
    "                                                    hf_api_key, temperature=0.0)\n",
    "    \n",
    "    data_repo.at[index, 'llama3_70b_it_zs_gen'] = model_response\n",
    "\n"
   ]
  },
  {
   "cell_type": "markdown",
   "metadata": {},
   "source": [
    "## Generation using Llama3-70B-it with 3-shot prompts (CT-Repo)"
   ]
  },
  {
   "cell_type": "code",
   "execution_count": 11,
   "metadata": {},
   "outputs": [
    {
     "name": "stderr",
     "output_type": "stream",
     "text": [
      "1693it [00:06, 256.04it/s]\n"
     ]
    }
   ],
   "source": [
    "from tqdm import tqdm \n",
    "model_hf_endpoint = models['llama3-70b-it']\n",
    "\n",
    "#data_repo['llama3_70b_it_ts_gen'] = None\n",
    "\n",
    "for index, row in tqdm(data_repo.iterrows()):\n",
    "\n",
    "    # re_ids = ['NCT00286091', 'NCT00311155', 'NCT00769704']\n",
    "    # if row['NCTId'] not in re_ids:\n",
    "    #     continue\n",
    "\n",
    "    system_message, question = module.build_three_shot_prompt(data_repo, row, ref_col_name='API_BaselineMeasures_Corrected')\n",
    "    model_query = module.system_user_template(system_message, question)\n",
    "    model_response = module.run_generation_single_hf_models(model_query, model_hf_endpoint, \n",
    "                                                    hf_api_key, temperature=0.0)\n",
    "    \n",
    "    data_repo.at[index, 'llama3_70b_it_ts_gen'] = model_response\n",
    "    \n"
   ]
  },
  {
   "cell_type": "code",
   "execution_count": 12,
   "metadata": {},
   "outputs": [],
   "source": [
    "data_repo.to_csv('hidden_data/CT-Repo-With-Examples-Corrected-allgen.csv', index=False)"
   ]
  },
  {
   "cell_type": "markdown",
   "metadata": {},
   "source": [
    "## Evaluation Code"
   ]
  },
  {
   "cell_type": "code",
   "execution_count": 14,
   "metadata": {},
   "outputs": [],
   "source": [
    "data_repo = pd.read_csv('hidden_data/CT-Repo-With-Examples-Corrected-allgen.csv')"
   ]
  },
  {
   "cell_type": "code",
   "execution_count": 15,
   "metadata": {},
   "outputs": [
    {
     "data": {
      "text/html": [
       "<div>\n",
       "<style scoped>\n",
       "    .dataframe tbody tr th:only-of-type {\n",
       "        vertical-align: middle;\n",
       "    }\n",
       "\n",
       "    .dataframe tbody tr th {\n",
       "        vertical-align: top;\n",
       "    }\n",
       "\n",
       "    .dataframe thead th {\n",
       "        text-align: right;\n",
       "    }\n",
       "</style>\n",
       "<table border=\"1\" class=\"dataframe\">\n",
       "  <thead>\n",
       "    <tr style=\"text-align: right;\">\n",
       "      <th></th>\n",
       "      <th>NCTId</th>\n",
       "      <th>BriefTitle</th>\n",
       "      <th>EligibilityCriteria</th>\n",
       "      <th>BriefSummary</th>\n",
       "      <th>Conditions</th>\n",
       "      <th>Interventions</th>\n",
       "      <th>PrimaryOutcomes</th>\n",
       "      <th>TrialGroup</th>\n",
       "      <th>API_BaselineMeasures</th>\n",
       "      <th>API_BaselineMeasures_Corrected</th>\n",
       "      <th>gpt4o_zs_gen</th>\n",
       "      <th>gpt4o_ts_gen</th>\n",
       "      <th>llama3_70b_it_zs_gen</th>\n",
       "      <th>llama3_70b_it_ts_gen</th>\n",
       "    </tr>\n",
       "  </thead>\n",
       "  <tbody>\n",
       "    <tr>\n",
       "      <th>0</th>\n",
       "      <td>NCT00000620</td>\n",
       "      <td>Action to Control Cardiovascular Risk in Diabe...</td>\n",
       "      <td>Inclusion Criteria:\\n\\n* Diagnosed with type 2...</td>\n",
       "      <td>The purpose of this study is to prevent major ...</td>\n",
       "      <td>Atherosclerosis, Cardiovascular Diseases, Hype...</td>\n",
       "      <td>Anti-hyperglycemic Agents, Anti-hypertensive A...</td>\n",
       "      <td>First Occurrence of a Major Cardiovascular Eve...</td>\n",
       "      <td>hypertension</td>\n",
       "      <td>Age, Continuous, Gender, Ethnicity (NIH/OMB), ...</td>\n",
       "      <td>`Age, Continuous`, `Gender`, `Ethnicity (NIH/O...</td>\n",
       "      <td>`Age`, `Sex`, `Race/Ethnicity`, `Body Mass Ind...</td>\n",
       "      <td>`Age, Continuous`, `Gender`, `Ethnicity (NIH/O...</td>\n",
       "      <td>`Age`, `Sex`, `Race`, `Ethnicity`, `Body Mass ...</td>\n",
       "      <td>`Age, Continuous`, `Gender`, `Ethnicity (NIH/O...</td>\n",
       "    </tr>\n",
       "    <tr>\n",
       "      <th>1</th>\n",
       "      <td>NCT00003901</td>\n",
       "      <td>Prognostic Study of Metastases in Patients Wit...</td>\n",
       "      <td>Inclusion Criteria:\\n\\n1. Patient must be ≥ 18...</td>\n",
       "      <td>RATIONALE: Prognostic testing for early signs ...</td>\n",
       "      <td>Lung Cancer,</td>\n",
       "      <td>immunohistochemistry staining method, biopsy, ...</td>\n",
       "      <td>Overall Survival in Lymph Nodes Examined Patie...</td>\n",
       "      <td>cancer</td>\n",
       "      <td>Age, Continuous, Gender, Race/Ethnicity, Custo...</td>\n",
       "      <td>`Age, Continuous`, `Gender`, `Race/Ethnicity, ...</td>\n",
       "      <td>`Age`, `Gender`, `ECOG/Zubrod status`, `Clinic...</td>\n",
       "      <td>`Age, Continuous`, `Sex: Female, Male`, `Race/...</td>\n",
       "      <td>`age`, `sex`, `ECOG/Zubrod status`, `histologi...</td>\n",
       "      <td>`Age, Continuous`, `Sex: Female, Male`, `Race/...</td>\n",
       "    </tr>\n",
       "    <tr>\n",
       "      <th>2</th>\n",
       "      <td>NCT00005879</td>\n",
       "      <td>LY353381 in Preventing Breast Cancer in Women ...</td>\n",
       "      <td>DISEASE CHARACTERISTICS:\\n\\n* Current random f...</td>\n",
       "      <td>RATIONALE: Chemoprevention therapy is the use ...</td>\n",
       "      <td>Breast Cancer,</td>\n",
       "      <td>arzoxifene, Placebo,</td>\n",
       "      <td>Change in Masood Score, Number of Participants...</td>\n",
       "      <td>cancer</td>\n",
       "      <td>Age, Continuous, Sex: Female, Male, Region of ...</td>\n",
       "      <td>`Age, Continuous`, `Sex: Female, Male`, `Regio...</td>\n",
       "      <td>`Age`, `Sex`, `Menopausal status`, `Hemoglobin...</td>\n",
       "      <td>`Age, Continuous`, `Sex: Female`, `Race/Ethnic...</td>\n",
       "      <td>`Age`, `Sex`, `Menopausal status`, `Body Mass ...</td>\n",
       "      <td>`Age, Continuous`, `Sex: Female`, `Race/Ethnic...</td>\n",
       "    </tr>\n",
       "  </tbody>\n",
       "</table>\n",
       "</div>"
      ],
      "text/plain": [
       "         NCTId                                         BriefTitle  \\\n",
       "0  NCT00000620  Action to Control Cardiovascular Risk in Diabe...   \n",
       "1  NCT00003901  Prognostic Study of Metastases in Patients Wit...   \n",
       "2  NCT00005879  LY353381 in Preventing Breast Cancer in Women ...   \n",
       "\n",
       "                                 EligibilityCriteria  \\\n",
       "0  Inclusion Criteria:\\n\\n* Diagnosed with type 2...   \n",
       "1  Inclusion Criteria:\\n\\n1. Patient must be ≥ 18...   \n",
       "2  DISEASE CHARACTERISTICS:\\n\\n* Current random f...   \n",
       "\n",
       "                                        BriefSummary  \\\n",
       "0  The purpose of this study is to prevent major ...   \n",
       "1  RATIONALE: Prognostic testing for early signs ...   \n",
       "2  RATIONALE: Chemoprevention therapy is the use ...   \n",
       "\n",
       "                                          Conditions  \\\n",
       "0  Atherosclerosis, Cardiovascular Diseases, Hype...   \n",
       "1                                      Lung Cancer,    \n",
       "2                                    Breast Cancer,    \n",
       "\n",
       "                                       Interventions  \\\n",
       "0  Anti-hyperglycemic Agents, Anti-hypertensive A...   \n",
       "1  immunohistochemistry staining method, biopsy, ...   \n",
       "2                              arzoxifene, Placebo,    \n",
       "\n",
       "                                     PrimaryOutcomes    TrialGroup  \\\n",
       "0  First Occurrence of a Major Cardiovascular Eve...  hypertension   \n",
       "1  Overall Survival in Lymph Nodes Examined Patie...        cancer   \n",
       "2  Change in Masood Score, Number of Participants...        cancer   \n",
       "\n",
       "                                API_BaselineMeasures  \\\n",
       "0  Age, Continuous, Gender, Ethnicity (NIH/OMB), ...   \n",
       "1  Age, Continuous, Gender, Race/Ethnicity, Custo...   \n",
       "2  Age, Continuous, Sex: Female, Male, Region of ...   \n",
       "\n",
       "                      API_BaselineMeasures_Corrected  \\\n",
       "0  `Age, Continuous`, `Gender`, `Ethnicity (NIH/O...   \n",
       "1  `Age, Continuous`, `Gender`, `Race/Ethnicity, ...   \n",
       "2  `Age, Continuous`, `Sex: Female, Male`, `Regio...   \n",
       "\n",
       "                                        gpt4o_zs_gen  \\\n",
       "0  `Age`, `Sex`, `Race/Ethnicity`, `Body Mass Ind...   \n",
       "1  `Age`, `Gender`, `ECOG/Zubrod status`, `Clinic...   \n",
       "2  `Age`, `Sex`, `Menopausal status`, `Hemoglobin...   \n",
       "\n",
       "                                        gpt4o_ts_gen  \\\n",
       "0  `Age, Continuous`, `Gender`, `Ethnicity (NIH/O...   \n",
       "1  `Age, Continuous`, `Sex: Female, Male`, `Race/...   \n",
       "2  `Age, Continuous`, `Sex: Female`, `Race/Ethnic...   \n",
       "\n",
       "                                llama3_70b_it_zs_gen  \\\n",
       "0  `Age`, `Sex`, `Race`, `Ethnicity`, `Body Mass ...   \n",
       "1  `age`, `sex`, `ECOG/Zubrod status`, `histologi...   \n",
       "2  `Age`, `Sex`, `Menopausal status`, `Body Mass ...   \n",
       "\n",
       "                                llama3_70b_it_ts_gen  \n",
       "0  `Age, Continuous`, `Gender`, `Ethnicity (NIH/O...  \n",
       "1  `Age, Continuous`, `Sex: Female, Male`, `Race/...  \n",
       "2  `Age, Continuous`, `Sex: Female`, `Race/Ethnic...  "
      ]
     },
     "execution_count": 15,
     "metadata": {},
     "output_type": "execute_result"
    }
   ],
   "source": [
    "data_repo.head(3)"
   ]
  },
  {
   "cell_type": "markdown",
   "metadata": {},
   "source": [
    "### Evaluation of Reference VS Candidate Responses"
   ]
  },
  {
   "cell_type": "code",
   "execution_count": 5,
   "metadata": {},
   "outputs": [],
   "source": [
    "# eval_data_repo = pd.DataFrame()\n",
    "# eval_data_repo['NCTId'] = data_repo['NCTId']"
   ]
  },
  {
   "cell_type": "code",
   "execution_count": 13,
   "metadata": {},
   "outputs": [],
   "source": [
    "eval_data_repo = pd.read_csv('hidden_data/CT-Repo-With-Examples-Corrected-allgpteval.csv')"
   ]
  },
  {
   "cell_type": "markdown",
   "metadata": {},
   "source": [
    "Note: eval_model_response from GPT-4o is coming in string format with JSON structure. You need to use json.loads() to use it as a json object."
   ]
  },
  {
   "cell_type": "code",
   "execution_count": null,
   "metadata": {},
   "outputs": [],
   "source": [
    "import json\n",
    "from tqdm import tqdm\n",
    "import time \n",
    "\n",
    "for index, row in tqdm(data_repo.iterrows()):\n",
    "    \n",
    "    print(f\"Processing NCTId {row['NCTId']}\")\n",
    "\n",
    "    # avoid_ids = ['NCT00000620', 'NCT01483560', 'NCT04280783'] #these were used as examples for 3-shot generation\n",
    "    # if row['NCTId'] in avoid_ids:\n",
    "    #     continue\n",
    "\n",
    "    if row['NCTId']!='NCT04985383':\n",
    "        continue \n",
    "\n",
    "    qstart = module.get_question_from_row(row)\n",
    "\n",
    "    reference_list = module.extract_elements_v2(row['API_BaselineMeasures_Corrected'])\n",
    "    \n",
    "    candidate_gzs = module.extract_elements_v2(row['gpt4o_zs_gen'])\n",
    "    candidate_gts = module.extract_elements_v2(row['gpt4o_ts_gen'])\n",
    "    candidate_lzs = module.extract_elements_v2(row['llama3_70b_it_zs_gen'])\n",
    "    candidate_lts = module.extract_elements_v2(row['llama3_70b_it_ts_gen'])\n",
    "    \n",
    "    system_message_gzs, question_gzs = module.build_gpt4_eval_prompt(reference_list, \n",
    "                                                            candidate_gzs, \n",
    "                                                            qstart)\n",
    "    \n",
    "    system_message_gts, question_gts = module.build_gpt4_eval_prompt(reference_list,\n",
    "                                                            candidate_gts,\n",
    "                                                            qstart)\n",
    "    \n",
    "    system_message_lzs, question_lzs = module.build_gpt4_eval_prompt(reference_list,\n",
    "                                                            candidate_lzs,\n",
    "                                                            qstart)\n",
    "    \n",
    "    system_message_lts, question_lts = module.build_gpt4_eval_prompt(reference_list,\n",
    "                                                            candidate_lts,\n",
    "                                                            qstart)\n",
    "\n",
    "    try:\n",
    "        eval_model_response_gzs = module.run_evaluation_with_gpt4o(system_message_gzs, question_gzs, openai_api_key)\n",
    "    except Exception as e:\n",
    "        eval_model_response_gzs = None\n",
    "        print(f\"Error {e} at index {index} with NCTId {row['NCTId']}\")\n",
    "        break\n",
    "    try:\n",
    "        eval_model_response_gts = module.run_evaluation_with_gpt4o(system_message_gts, question_gts, openai_api_key)\n",
    "    except Exception as e:\n",
    "        eval_model_response_gts = None\n",
    "        print(f\"Error {e} at index {index} with NCTId {row['NCTId']}\")\n",
    "        break \n",
    "    try:\n",
    "        eval_model_response_lzs = module.run_evaluation_with_gpt4o(system_message_lzs, question_lzs, openai_api_key)\n",
    "    except Exception as e:\n",
    "        eval_model_response_lzs = None\n",
    "        print(f\"Error {e} at index {index} with NCTId {row['NCTId']}\")\n",
    "        break \n",
    "    try:\n",
    "        eval_model_response_lts = module.run_evaluation_with_gpt4o(system_message_lts, question_lts, openai_api_key)\n",
    "    except Exception as e:\n",
    "        eval_model_response_lts = None\n",
    "        print(f\"Error {e} at index {index} with NCTId {row['NCTId']}\")\n",
    "        break \n",
    "    \n",
    "    #Convert eval_model_response to a JSON string and store in the dataframe\n",
    "    eval_data_repo.at[index, 'gpt4o_zs_gen_matches'] = eval_model_response_gzs \n",
    "    eval_data_repo.at[index, 'gpt4o_ts_gen_matches'] = eval_model_response_gts\n",
    "    eval_data_repo.at[index, 'llama3_70b_it_zs_gen_matches'] = eval_model_response_lzs\n",
    "    eval_data_repo.at[index, 'llama3_70b_it_ts_gen_matches'] = eval_model_response_lts\n",
    "\n",
    "    # if index%20==0:\n",
    "    #     time.sleep(5)\n",
    "    \n",
    "    # if index%100==0:\n",
    "    #     eval_data_repo.to_csv(f'hidden_data/no_release/CT-Repo-With-Examples-Corrected-allgen-eval-upto-{index}.csv', index=False)\n",
    "    \n"
   ]
  },
  {
   "cell_type": "code",
   "execution_count": 25,
   "metadata": {},
   "outputs": [],
   "source": [
    "eval_data_repo.to_csv('hidden_data/CT-Repo-With-Examples-Corrected-allgpteval.csv', index=False)"
   ]
  }
 ],
 "metadata": {
  "kernelspec": {
   "display_name": "ctbench_scripts_venv",
   "language": "python",
   "name": "python3"
  },
  "language_info": {
   "codemirror_mode": {
    "name": "ipython",
    "version": 3
   },
   "file_extension": ".py",
   "mimetype": "text/x-python",
   "name": "python",
   "nbconvert_exporter": "python",
   "pygments_lexer": "ipython3",
   "version": "3.9.6"
  }
 },
 "nbformat": 4,
 "nbformat_minor": 2
}
