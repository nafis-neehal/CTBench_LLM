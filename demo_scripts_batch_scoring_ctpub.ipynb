{
 "cells": [
  {
   "cell_type": "code",
   "execution_count": 1,
   "metadata": {},
   "outputs": [],
   "source": [
    "%load_ext autoreload\n",
    "%autoreload 2"
   ]
  },
  {
   "cell_type": "code",
   "execution_count": 2,
   "metadata": {},
   "outputs": [],
   "source": [
    "import module, secret_keys\n",
    "from model_list import models\n",
    "import pandas as pd\n",
    "\n",
    "hf_api_key             = secret_keys.HF_TOKEN                   #<insert your own huggingface token here>\n",
    "openai_api_key         = secret_keys.OPENAI_API_KEY_TEAM        #<insert your own openai token here>"
   ]
  },
  {
   "cell_type": "code",
   "execution_count": 17,
   "metadata": {},
   "outputs": [],
   "source": [
    "data = pd.read_csv('hidden_data/CT-Pub-With-Examples-Corrected-allgpteval.csv')"
   ]
  },
  {
   "cell_type": "code",
   "execution_count": 18,
   "metadata": {},
   "outputs": [
    {
     "data": {
      "text/plain": [
       "(103, 5)"
      ]
     },
     "execution_count": 18,
     "metadata": {},
     "output_type": "execute_result"
    }
   ],
   "source": [
    "data.shape"
   ]
  },
  {
   "cell_type": "code",
   "execution_count": 19,
   "metadata": {},
   "outputs": [
    {
     "data": {
      "text/html": [
       "<div>\n",
       "<style scoped>\n",
       "    .dataframe tbody tr th:only-of-type {\n",
       "        vertical-align: middle;\n",
       "    }\n",
       "\n",
       "    .dataframe tbody tr th {\n",
       "        vertical-align: top;\n",
       "    }\n",
       "\n",
       "    .dataframe thead th {\n",
       "        text-align: right;\n",
       "    }\n",
       "</style>\n",
       "<table border=\"1\" class=\"dataframe\">\n",
       "  <thead>\n",
       "    <tr style=\"text-align: right;\">\n",
       "      <th></th>\n",
       "      <th>NCTId</th>\n",
       "      <th>gpt4o_zs_gen_matches</th>\n",
       "      <th>gpt4o_ts_gen_matches</th>\n",
       "      <th>llama3_70b_it_zs_gen_matches</th>\n",
       "      <th>llama3_70b_it_ts_gen_matches</th>\n",
       "    </tr>\n",
       "  </thead>\n",
       "  <tbody>\n",
       "    <tr>\n",
       "      <th>0</th>\n",
       "      <td>NCT00000620</td>\n",
       "      <td>{\\n    \"matched_features\": [\\n        [\"Age\", ...</td>\n",
       "      <td>{\\n    \"matched_features\": [\\n        [\"Age\", ...</td>\n",
       "      <td>{\\n    \"matched_features\": [\\n        [\"Age\", ...</td>\n",
       "      <td>{\\n    \"matched_features\": [\\n        [\"Age\", ...</td>\n",
       "    </tr>\n",
       "    <tr>\n",
       "      <th>1</th>\n",
       "      <td>NCT00126737</td>\n",
       "      <td>{\\n    \"matched_features\": [\\n        [\"Age\", ...</td>\n",
       "      <td>{\\n    \"matched_features\": [\\n        [\"Age\", ...</td>\n",
       "      <td>{\\n    \"matched_features\": [\\n        [\"Age\", ...</td>\n",
       "      <td>{\\n    \"matched_features\": [\\n        [\"Age\", ...</td>\n",
       "    </tr>\n",
       "    <tr>\n",
       "      <th>2</th>\n",
       "      <td>NCT00283686</td>\n",
       "      <td>{\\n    \"matched_features\": [\\n        [\"Age\", ...</td>\n",
       "      <td>{\\n    \"matched_features\": [\\n        [\"Age\", ...</td>\n",
       "      <td>{\\n    \"matched_features\": [\\n        [\"Age\", ...</td>\n",
       "      <td>{\\n    \"matched_features\": [\\n        [\"Age\", ...</td>\n",
       "    </tr>\n",
       "    <tr>\n",
       "      <th>3</th>\n",
       "      <td>NCT00329030</td>\n",
       "      <td>{\\n    \"matched_features\": [\\n        [\"Age\", ...</td>\n",
       "      <td>{\\n    \"matched_features\": [\\n        [\"Age\", ...</td>\n",
       "      <td>{\\n    \"matched_features\": [\\n        [\"Age\", ...</td>\n",
       "      <td>{\\n    \"matched_features\": [\\n        [\"Age\", ...</td>\n",
       "    </tr>\n",
       "    <tr>\n",
       "      <th>4</th>\n",
       "      <td>NCT00360334</td>\n",
       "      <td>{\\n    \"matched_features\": [\\n        [\"Age\", ...</td>\n",
       "      <td>{\\n    \"matched_features\": [\\n        [\"Age\", ...</td>\n",
       "      <td>{\\n    \"matched_features\": [\\n        [\"Age\", ...</td>\n",
       "      <td>{\\n    \"matched_features\": [\\n        [\"Age\", ...</td>\n",
       "    </tr>\n",
       "  </tbody>\n",
       "</table>\n",
       "</div>"
      ],
      "text/plain": [
       "         NCTId                               gpt4o_zs_gen_matches  \\\n",
       "0  NCT00000620  {\\n    \"matched_features\": [\\n        [\"Age\", ...   \n",
       "1  NCT00126737  {\\n    \"matched_features\": [\\n        [\"Age\", ...   \n",
       "2  NCT00283686  {\\n    \"matched_features\": [\\n        [\"Age\", ...   \n",
       "3  NCT00329030  {\\n    \"matched_features\": [\\n        [\"Age\", ...   \n",
       "4  NCT00360334  {\\n    \"matched_features\": [\\n        [\"Age\", ...   \n",
       "\n",
       "                                gpt4o_ts_gen_matches  \\\n",
       "0  {\\n    \"matched_features\": [\\n        [\"Age\", ...   \n",
       "1  {\\n    \"matched_features\": [\\n        [\"Age\", ...   \n",
       "2  {\\n    \"matched_features\": [\\n        [\"Age\", ...   \n",
       "3  {\\n    \"matched_features\": [\\n        [\"Age\", ...   \n",
       "4  {\\n    \"matched_features\": [\\n        [\"Age\", ...   \n",
       "\n",
       "                        llama3_70b_it_zs_gen_matches  \\\n",
       "0  {\\n    \"matched_features\": [\\n        [\"Age\", ...   \n",
       "1  {\\n    \"matched_features\": [\\n        [\"Age\", ...   \n",
       "2  {\\n    \"matched_features\": [\\n        [\"Age\", ...   \n",
       "3  {\\n    \"matched_features\": [\\n        [\"Age\", ...   \n",
       "4  {\\n    \"matched_features\": [\\n        [\"Age\", ...   \n",
       "\n",
       "                        llama3_70b_it_ts_gen_matches  \n",
       "0  {\\n    \"matched_features\": [\\n        [\"Age\", ...  \n",
       "1  {\\n    \"matched_features\": [\\n        [\"Age\", ...  \n",
       "2  {\\n    \"matched_features\": [\\n        [\"Age\", ...  \n",
       "3  {\\n    \"matched_features\": [\\n        [\"Age\", ...  \n",
       "4  {\\n    \"matched_features\": [\\n        [\"Age\", ...  "
      ]
     },
     "execution_count": 19,
     "metadata": {},
     "output_type": "execute_result"
    }
   ],
   "source": [
    "data.head()"
   ]
  },
  {
   "cell_type": "code",
   "execution_count": 20,
   "metadata": {},
   "outputs": [],
   "source": [
    "score_df = pd.DataFrame()\n",
    "score_df['NCTId'] = data['NCTId']"
   ]
  },
  {
   "cell_type": "code",
   "execution_count": 21,
   "metadata": {},
   "outputs": [],
   "source": [
    "import json \n",
    "\n",
    "gzs_sum = {'precision':0, 'recall':0, 'f1':0}\n",
    "gts_sum = {'precision':0, 'recall':0, 'f1':0}\n",
    "lzs_sum = {'precision':0, 'recall':0, 'f1':0}\n",
    "lts_sum = {'precision':0, 'recall':0, 'f1':0}\n",
    "\n",
    "for index, row in data.iterrows():\n",
    "    avoid_ids = ['NCT00000620', 'NCT01483560', 'NCT04280783'] #these were used as examples for 3-shot generation\n",
    "    if row['NCTId'] in avoid_ids:\n",
    "        continue\n",
    "\n",
    "    #gzs\n",
    "    gzs_dict = json.loads(row['gpt4o_zs_gen_matches'])\n",
    "    gzs_matches, gzs_remaining_references, gzs_remaining_candidates = gzs_dict['matched_features'], gzs_dict['remaining_reference_features'], gzs_dict['remaining_candidate_features']\n",
    "    gzs_score = module.match_to_score(gzs_matches, gzs_remaining_references, gzs_remaining_candidates)\n",
    "    score_df.at[index, 'gpt4o_zs_gen_scores'] = json.dumps(gzs_score)\n",
    "    gzs_sum['precision'] += gzs_score['precision']\n",
    "    gzs_sum['recall'] += gzs_score['recall']\n",
    "    gzs_sum['f1'] += gzs_score['f1']\n",
    "\n",
    "    #gts\n",
    "    gts_dict = json.loads(row['gpt4o_ts_gen_matches'])\n",
    "    gts_matches, gts_remaining_references, gts_remaining_candidates = gts_dict['matched_features'], gts_dict['remaining_reference_features'], gts_dict['remaining_candidate_features']\n",
    "    gts_score = module.match_to_score(gts_matches, gts_remaining_references, gts_remaining_candidates)\n",
    "    score_df.at[index, 'gpt4o_ts_gen_scores'] = json.dumps(gts_score)\n",
    "    gts_sum['precision'] += gts_score['precision']\n",
    "    gts_sum['recall'] += gts_score['recall']\n",
    "    gts_sum['f1'] += gts_score['f1']\n",
    "\n",
    "    #lzs\n",
    "    lzs_dict = json.loads(row['llama3_70b_it_zs_gen_matches'])\n",
    "    lzs_matches, lzs_remaining_references, lzs_remaining_candidates = lzs_dict['matched_features'], lzs_dict['remaining_reference_features'], lzs_dict['remaining_candidate_features']\n",
    "    lzs_score = module.match_to_score(lzs_matches, lzs_remaining_references, lzs_remaining_candidates)\n",
    "    score_df.at[index, 'llama3_70b_it_zs_gen_scores'] = json.dumps(lzs_score)\n",
    "    lzs_sum['precision'] += lzs_score['precision']\n",
    "    lzs_sum['recall'] += lzs_score['recall']\n",
    "    lzs_sum['f1'] += lzs_score['f1']\n",
    "\n",
    "    #lts \n",
    "    lts_dict = json.loads(row['llama3_70b_it_ts_gen_matches'])\n",
    "    lts_matches, lts_remaining_references, lts_remaining_candidates = lts_dict['matched_features'], lts_dict['remaining_reference_features'], lts_dict['remaining_candidate_features']\n",
    "    lts_score = module.match_to_score(lts_matches, lts_remaining_references, lts_remaining_candidates)\n",
    "    score_df.at[index, 'llama3_70b_it_ts_gen_scores'] = json.dumps(lts_score)\n",
    "    lts_sum['precision'] += lts_score['precision']\n",
    "    lts_sum['recall'] += lts_score['recall']\n",
    "    lts_sum['f1'] += lts_score['f1']\n",
    "\n",
    "    #break\n",
    "\n"
   ]
  },
  {
   "cell_type": "code",
   "execution_count": 29,
   "metadata": {},
   "outputs": [
    {
     "data": {
      "text/html": [
       "<div>\n",
       "<style scoped>\n",
       "    .dataframe tbody tr th:only-of-type {\n",
       "        vertical-align: middle;\n",
       "    }\n",
       "\n",
       "    .dataframe tbody tr th {\n",
       "        vertical-align: top;\n",
       "    }\n",
       "\n",
       "    .dataframe thead th {\n",
       "        text-align: right;\n",
       "    }\n",
       "</style>\n",
       "<table border=\"1\" class=\"dataframe\">\n",
       "  <thead>\n",
       "    <tr style=\"text-align: right;\">\n",
       "      <th></th>\n",
       "      <th>NCTId</th>\n",
       "      <th>gpt4o_zs_gen_scores</th>\n",
       "      <th>gpt4o_ts_gen_scores</th>\n",
       "      <th>llama3_70b_it_zs_gen_scores</th>\n",
       "      <th>llama3_70b_it_ts_gen_scores</th>\n",
       "    </tr>\n",
       "  </thead>\n",
       "  <tbody>\n",
       "    <tr>\n",
       "      <th>0</th>\n",
       "      <td>NCT00000620</td>\n",
       "      <td>NaN</td>\n",
       "      <td>NaN</td>\n",
       "      <td>NaN</td>\n",
       "      <td>NaN</td>\n",
       "    </tr>\n",
       "    <tr>\n",
       "      <th>1</th>\n",
       "      <td>NCT00126737</td>\n",
       "      <td>{\"precision\": 0.5555555555555556, \"recall\": 0....</td>\n",
       "      <td>{\"precision\": 0.35, \"recall\": 0.58333333333333...</td>\n",
       "      <td>{\"precision\": 0.36363636363636365, \"recall\": 0...</td>\n",
       "      <td>{\"precision\": 0.4166666666666667, \"recall\": 0....</td>\n",
       "    </tr>\n",
       "    <tr>\n",
       "      <th>2</th>\n",
       "      <td>NCT00283686</td>\n",
       "      <td>{\"precision\": 0.8571428571428571, \"recall\": 0....</td>\n",
       "      <td>{\"precision\": 0.4, \"recall\": 0.2, \"f1\": 0.2666...</td>\n",
       "      <td>{\"precision\": 0.375, \"recall\": 0.1621621621621...</td>\n",
       "      <td>{\"precision\": 0.23809523809523808, \"recall\": 0...</td>\n",
       "    </tr>\n",
       "    <tr>\n",
       "      <th>3</th>\n",
       "      <td>NCT00329030</td>\n",
       "      <td>{\"precision\": 0.17391304347826086, \"recall\": 0...</td>\n",
       "      <td>{\"precision\": 0.3125, \"recall\": 0.625, \"f1\": 0...</td>\n",
       "      <td>{\"precision\": 0.3, \"recall\": 0.75, \"f1\": 0.428...</td>\n",
       "      <td>{\"precision\": 0.3125, \"recall\": 0.625, \"f1\": 0...</td>\n",
       "    </tr>\n",
       "    <tr>\n",
       "      <th>4</th>\n",
       "      <td>NCT00360334</td>\n",
       "      <td>{\"precision\": 0.4666666666666667, \"recall\": 0....</td>\n",
       "      <td>{\"precision\": 0.47368421052631576, \"recall\": 1...</td>\n",
       "      <td>{\"precision\": 0.5333333333333333, \"recall\": 0....</td>\n",
       "      <td>{\"precision\": 0.35, \"recall\": 0.77777777777777...</td>\n",
       "    </tr>\n",
       "  </tbody>\n",
       "</table>\n",
       "</div>"
      ],
      "text/plain": [
       "         NCTId                                gpt4o_zs_gen_scores  \\\n",
       "0  NCT00000620                                                NaN   \n",
       "1  NCT00126737  {\"precision\": 0.5555555555555556, \"recall\": 0....   \n",
       "2  NCT00283686  {\"precision\": 0.8571428571428571, \"recall\": 0....   \n",
       "3  NCT00329030  {\"precision\": 0.17391304347826086, \"recall\": 0...   \n",
       "4  NCT00360334  {\"precision\": 0.4666666666666667, \"recall\": 0....   \n",
       "\n",
       "                                 gpt4o_ts_gen_scores  \\\n",
       "0                                                NaN   \n",
       "1  {\"precision\": 0.35, \"recall\": 0.58333333333333...   \n",
       "2  {\"precision\": 0.4, \"recall\": 0.2, \"f1\": 0.2666...   \n",
       "3  {\"precision\": 0.3125, \"recall\": 0.625, \"f1\": 0...   \n",
       "4  {\"precision\": 0.47368421052631576, \"recall\": 1...   \n",
       "\n",
       "                         llama3_70b_it_zs_gen_scores  \\\n",
       "0                                                NaN   \n",
       "1  {\"precision\": 0.36363636363636365, \"recall\": 0...   \n",
       "2  {\"precision\": 0.375, \"recall\": 0.1621621621621...   \n",
       "3  {\"precision\": 0.3, \"recall\": 0.75, \"f1\": 0.428...   \n",
       "4  {\"precision\": 0.5333333333333333, \"recall\": 0....   \n",
       "\n",
       "                         llama3_70b_it_ts_gen_scores  \n",
       "0                                                NaN  \n",
       "1  {\"precision\": 0.4166666666666667, \"recall\": 0....  \n",
       "2  {\"precision\": 0.23809523809523808, \"recall\": 0...  \n",
       "3  {\"precision\": 0.3125, \"recall\": 0.625, \"f1\": 0...  \n",
       "4  {\"precision\": 0.35, \"recall\": 0.77777777777777...  "
      ]
     },
     "execution_count": 29,
     "metadata": {},
     "output_type": "execute_result"
    }
   ],
   "source": [
    "score_df.head()"
   ]
  },
  {
   "cell_type": "code",
   "execution_count": 30,
   "metadata": {},
   "outputs": [],
   "source": [
    "score_df.to_csv('hidden_data/CT-Pub-With-Examples-Corrected-gptmetric.csv', index=False)"
   ]
  },
  {
   "cell_type": "code",
   "execution_count": 28,
   "metadata": {},
   "outputs": [
    {
     "name": "stdout",
     "output_type": "stream",
     "text": [
      "GPT-4o Zero Shot Scores: Precision=0.4058158031331031 Recall=0.5253822091625672 F1=0.43123220496938564\n",
      "GPT-4o Three Shot Scores: Precision=0.40578342345214774 Recall=0.58334349386987 F1=0.4558358458155929\n",
      "Llama-3 70B Instruct Zero Shot Scores: Precision=0.43800161220788164 Recall=0.5686781285175699 F1=0.4738921785330177\n",
      "Llama-3 70B Instruct Three Shot Scores: Precision=0.42949291888022545 Recall=0.5787174189522326 F1=0.470271674345745\n"
     ]
    }
   ],
   "source": [
    "print(f\"GPT-4o Zero Shot Scores: Precision={gzs_sum['precision']/100} Recall={gzs_sum['recall']/100} F1={gzs_sum['f1']/100}\")\n",
    "print(f\"GPT-4o Three Shot Scores: Precision={gts_sum['precision']/100} Recall={gts_sum['recall']/100} F1={gts_sum['f1']/100}\")\n",
    "print(f\"Llama-3 70B Instruct Zero Shot Scores: Precision={lzs_sum['precision']/100} Recall={lzs_sum['recall']/100} F1={lzs_sum['f1']/100}\")\n",
    "print(f\"Llama-3 70B Instruct Three Shot Scores: Precision={lts_sum['precision']/100} Recall={lts_sum['recall']/100} F1={lts_sum['f1']/100}\")"
   ]
  }
 ],
 "metadata": {
  "kernelspec": {
   "display_name": "ctbench_scripts_venv",
   "language": "python",
   "name": "python3"
  },
  "language_info": {
   "codemirror_mode": {
    "name": "ipython",
    "version": 3
   },
   "file_extension": ".py",
   "mimetype": "text/x-python",
   "name": "python",
   "nbconvert_exporter": "python",
   "pygments_lexer": "ipython3",
   "version": "3.9.6"
  }
 },
 "nbformat": 4,
 "nbformat_minor": 2
}
