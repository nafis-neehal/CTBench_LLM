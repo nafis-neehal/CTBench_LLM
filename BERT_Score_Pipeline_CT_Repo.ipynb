{
  "cells": [
    {
      "cell_type": "markdown",
      "metadata": {
        "id": "PD7SZUTUZA-x"
      },
      "source": [
        "### **NOTE: You Need GPU For this. I ran this notebook in Google Colab with T4 GPU Instance**\n",
        "Colab Notebook Link: https://colab.research.google.com/drive/1Yg8f3OG98yfKhLa6zoXgF0xiobzVTkgT?usp=sharing (View Only)"
      ]
    },
    {
      "cell_type": "markdown",
      "metadata": {
        "id": "zR9t_gG0X-uj"
      },
      "source": [
        "# Imports and Installs"
      ]
    },
    {
      "cell_type": "code",
      "execution_count": 1,
      "metadata": {
        "colab": {
          "base_uri": "https://localhost:8080/"
        },
        "collapsed": true,
        "id": "2GhaVZgQOtIE",
        "outputId": "0fe5934d-d8bd-42e4-e6c9-e93d3ed8db87"
      },
      "outputs": [
        {
          "output_type": "stream",
          "name": "stdout",
          "text": [
            "Found existing installation: transformers 4.44.2\n",
            "Uninstalling transformers-4.44.2:\n",
            "  Would remove:\n",
            "    /usr/local/bin/transformers-cli\n",
            "    /usr/local/lib/python3.10/dist-packages/transformers-4.44.2.dist-info/*\n",
            "    /usr/local/lib/python3.10/dist-packages/transformers/*\n",
            "Proceed (Y/n)? Y\n",
            "  Successfully uninstalled transformers-4.44.2\n",
            "Collecting transformers==4.26.0\n",
            "  Downloading transformers-4.26.0-py3-none-any.whl.metadata (100 kB)\n",
            "\u001b[2K     \u001b[90m━━━━━━━━━━━━━━━━━━━━━━━━━━━━━━━━━━━━━━━━\u001b[0m \u001b[32m100.3/100.3 kB\u001b[0m \u001b[31m2.9 MB/s\u001b[0m eta \u001b[36m0:00:00\u001b[0m\n",
            "\u001b[?25hRequirement already satisfied: filelock in /usr/local/lib/python3.10/dist-packages (from transformers==4.26.0) (3.16.1)\n",
            "Requirement already satisfied: huggingface-hub<1.0,>=0.11.0 in /usr/local/lib/python3.10/dist-packages (from transformers==4.26.0) (0.24.7)\n",
            "Requirement already satisfied: numpy>=1.17 in /usr/local/lib/python3.10/dist-packages (from transformers==4.26.0) (1.26.4)\n",
            "Requirement already satisfied: packaging>=20.0 in /usr/local/lib/python3.10/dist-packages (from transformers==4.26.0) (24.1)\n",
            "Requirement already satisfied: pyyaml>=5.1 in /usr/local/lib/python3.10/dist-packages (from transformers==4.26.0) (6.0.2)\n",
            "Requirement already satisfied: regex!=2019.12.17 in /usr/local/lib/python3.10/dist-packages (from transformers==4.26.0) (2024.9.11)\n",
            "Requirement already satisfied: requests in /usr/local/lib/python3.10/dist-packages (from transformers==4.26.0) (2.32.3)\n",
            "Collecting tokenizers!=0.11.3,<0.14,>=0.11.1 (from transformers==4.26.0)\n",
            "  Downloading tokenizers-0.13.3-cp310-cp310-manylinux_2_17_x86_64.manylinux2014_x86_64.whl.metadata (6.7 kB)\n",
            "Requirement already satisfied: tqdm>=4.27 in /usr/local/lib/python3.10/dist-packages (from transformers==4.26.0) (4.66.5)\n",
            "Requirement already satisfied: fsspec>=2023.5.0 in /usr/local/lib/python3.10/dist-packages (from huggingface-hub<1.0,>=0.11.0->transformers==4.26.0) (2024.6.1)\n",
            "Requirement already satisfied: typing-extensions>=3.7.4.3 in /usr/local/lib/python3.10/dist-packages (from huggingface-hub<1.0,>=0.11.0->transformers==4.26.0) (4.12.2)\n",
            "Requirement already satisfied: charset-normalizer<4,>=2 in /usr/local/lib/python3.10/dist-packages (from requests->transformers==4.26.0) (3.3.2)\n",
            "Requirement already satisfied: idna<4,>=2.5 in /usr/local/lib/python3.10/dist-packages (from requests->transformers==4.26.0) (3.10)\n",
            "Requirement already satisfied: urllib3<3,>=1.21.1 in /usr/local/lib/python3.10/dist-packages (from requests->transformers==4.26.0) (2.2.3)\n",
            "Requirement already satisfied: certifi>=2017.4.17 in /usr/local/lib/python3.10/dist-packages (from requests->transformers==4.26.0) (2024.8.30)\n",
            "Downloading transformers-4.26.0-py3-none-any.whl (6.3 MB)\n",
            "\u001b[2K   \u001b[90m━━━━━━━━━━━━━━━━━━━━━━━━━━━━━━━━━━━━━━━━\u001b[0m \u001b[32m6.3/6.3 MB\u001b[0m \u001b[31m58.2 MB/s\u001b[0m eta \u001b[36m0:00:00\u001b[0m\n",
            "\u001b[?25hDownloading tokenizers-0.13.3-cp310-cp310-manylinux_2_17_x86_64.manylinux2014_x86_64.whl (7.8 MB)\n",
            "\u001b[2K   \u001b[90m━━━━━━━━━━━━━━━━━━━━━━━━━━━━━━━━━━━━━━━━\u001b[0m \u001b[32m7.8/7.8 MB\u001b[0m \u001b[31m98.4 MB/s\u001b[0m eta \u001b[36m0:00:00\u001b[0m\n",
            "\u001b[?25hInstalling collected packages: tokenizers, transformers\n",
            "  Attempting uninstall: tokenizers\n",
            "    Found existing installation: tokenizers 0.19.1\n",
            "    Uninstalling tokenizers-0.19.1:\n",
            "      Successfully uninstalled tokenizers-0.19.1\n",
            "Successfully installed tokenizers-0.13.3 transformers-4.26.0\n",
            "Collecting trial2vec\n",
            "  Downloading Trial2Vec-0.1.0-py3-none-any.whl.metadata (3.9 kB)\n",
            "Collecting datasets (from trial2vec)\n",
            "  Downloading datasets-3.0.1-py3-none-any.whl.metadata (20 kB)\n",
            "Requirement already satisfied: joblib in /usr/local/lib/python3.10/dist-packages (from trial2vec) (1.4.2)\n",
            "Requirement already satisfied: nltk in /usr/local/lib/python3.10/dist-packages (from trial2vec) (3.8.1)\n",
            "Requirement already satisfied: numpy in /usr/local/lib/python3.10/dist-packages (from trial2vec) (1.26.4)\n",
            "Requirement already satisfied: pandas in /usr/local/lib/python3.10/dist-packages (from trial2vec) (2.2.2)\n",
            "Collecting textaugment (from trial2vec)\n",
            "  Downloading textaugment-2.0.0-py3-none-any.whl.metadata (12 kB)\n",
            "Requirement already satisfied: tqdm in /usr/local/lib/python3.10/dist-packages (from trial2vec) (4.66.5)\n",
            "Requirement already satisfied: transformers in /usr/local/lib/python3.10/dist-packages (from trial2vec) (4.26.0)\n",
            "Collecting wget (from trial2vec)\n",
            "  Downloading wget-3.2.zip (10 kB)\n",
            "  Preparing metadata (setup.py) ... \u001b[?25l\u001b[?25hdone\n",
            "Requirement already satisfied: openpyxl in /usr/local/lib/python3.10/dist-packages (from trial2vec) (3.1.5)\n",
            "Requirement already satisfied: filelock in /usr/local/lib/python3.10/dist-packages (from datasets->trial2vec) (3.16.1)\n",
            "Requirement already satisfied: pyarrow>=15.0.0 in /usr/local/lib/python3.10/dist-packages (from datasets->trial2vec) (16.1.0)\n",
            "Collecting dill<0.3.9,>=0.3.0 (from datasets->trial2vec)\n",
            "  Downloading dill-0.3.8-py3-none-any.whl.metadata (10 kB)\n",
            "Requirement already satisfied: requests>=2.32.2 in /usr/local/lib/python3.10/dist-packages (from datasets->trial2vec) (2.32.3)\n",
            "Collecting xxhash (from datasets->trial2vec)\n",
            "  Downloading xxhash-3.5.0-cp310-cp310-manylinux_2_17_x86_64.manylinux2014_x86_64.whl.metadata (12 kB)\n",
            "Collecting multiprocess (from datasets->trial2vec)\n",
            "  Downloading multiprocess-0.70.17-py310-none-any.whl.metadata (7.2 kB)\n",
            "Requirement already satisfied: fsspec<=2024.6.1,>=2023.1.0 in /usr/local/lib/python3.10/dist-packages (from fsspec[http]<=2024.6.1,>=2023.1.0->datasets->trial2vec) (2024.6.1)\n",
            "Requirement already satisfied: aiohttp in /usr/local/lib/python3.10/dist-packages (from datasets->trial2vec) (3.10.8)\n",
            "Requirement already satisfied: huggingface-hub>=0.22.0 in /usr/local/lib/python3.10/dist-packages (from datasets->trial2vec) (0.24.7)\n",
            "Requirement already satisfied: packaging in /usr/local/lib/python3.10/dist-packages (from datasets->trial2vec) (24.1)\n",
            "Requirement already satisfied: pyyaml>=5.1 in /usr/local/lib/python3.10/dist-packages (from datasets->trial2vec) (6.0.2)\n",
            "Requirement already satisfied: click in /usr/local/lib/python3.10/dist-packages (from nltk->trial2vec) (8.1.7)\n",
            "Requirement already satisfied: regex>=2021.8.3 in /usr/local/lib/python3.10/dist-packages (from nltk->trial2vec) (2024.9.11)\n",
            "Requirement already satisfied: et-xmlfile in /usr/local/lib/python3.10/dist-packages (from openpyxl->trial2vec) (1.1.0)\n",
            "Requirement already satisfied: python-dateutil>=2.8.2 in /usr/local/lib/python3.10/dist-packages (from pandas->trial2vec) (2.8.2)\n",
            "Requirement already satisfied: pytz>=2020.1 in /usr/local/lib/python3.10/dist-packages (from pandas->trial2vec) (2024.2)\n",
            "Requirement already satisfied: tzdata>=2022.7 in /usr/local/lib/python3.10/dist-packages (from pandas->trial2vec) (2024.2)\n",
            "Requirement already satisfied: gensim>=4.0 in /usr/local/lib/python3.10/dist-packages (from textaugment->trial2vec) (4.3.3)\n",
            "Requirement already satisfied: textblob in /usr/local/lib/python3.10/dist-packages (from textaugment->trial2vec) (0.17.1)\n",
            "Collecting googletrans>=2 (from textaugment->trial2vec)\n",
            "  Downloading googletrans-3.0.0.tar.gz (17 kB)\n",
            "  Preparing metadata (setup.py) ... \u001b[?25l\u001b[?25hdone\n",
            "Requirement already satisfied: tokenizers!=0.11.3,<0.14,>=0.11.1 in /usr/local/lib/python3.10/dist-packages (from transformers->trial2vec) (0.13.3)\n",
            "Requirement already satisfied: aiohappyeyeballs>=2.3.0 in /usr/local/lib/python3.10/dist-packages (from aiohttp->datasets->trial2vec) (2.4.2)\n",
            "Requirement already satisfied: aiosignal>=1.1.2 in /usr/local/lib/python3.10/dist-packages (from aiohttp->datasets->trial2vec) (1.3.1)\n",
            "Requirement already satisfied: attrs>=17.3.0 in /usr/local/lib/python3.10/dist-packages (from aiohttp->datasets->trial2vec) (24.2.0)\n",
            "Requirement already satisfied: frozenlist>=1.1.1 in /usr/local/lib/python3.10/dist-packages (from aiohttp->datasets->trial2vec) (1.4.1)\n",
            "Requirement already satisfied: multidict<7.0,>=4.5 in /usr/local/lib/python3.10/dist-packages (from aiohttp->datasets->trial2vec) (6.1.0)\n",
            "Requirement already satisfied: yarl<2.0,>=1.12.0 in /usr/local/lib/python3.10/dist-packages (from aiohttp->datasets->trial2vec) (1.13.1)\n",
            "Requirement already satisfied: async-timeout<5.0,>=4.0 in /usr/local/lib/python3.10/dist-packages (from aiohttp->datasets->trial2vec) (4.0.3)\n",
            "Requirement already satisfied: scipy<1.14.0,>=1.7.0 in /usr/local/lib/python3.10/dist-packages (from gensim>=4.0->textaugment->trial2vec) (1.13.1)\n",
            "Requirement already satisfied: smart-open>=1.8.1 in /usr/local/lib/python3.10/dist-packages (from gensim>=4.0->textaugment->trial2vec) (7.0.4)\n",
            "Collecting httpx==0.13.3 (from googletrans>=2->textaugment->trial2vec)\n",
            "  Downloading httpx-0.13.3-py3-none-any.whl.metadata (25 kB)\n",
            "Requirement already satisfied: certifi in /usr/local/lib/python3.10/dist-packages (from httpx==0.13.3->googletrans>=2->textaugment->trial2vec) (2024.8.30)\n",
            "Collecting hstspreload (from httpx==0.13.3->googletrans>=2->textaugment->trial2vec)\n",
            "  Downloading hstspreload-2024.10.1-py3-none-any.whl.metadata (2.1 kB)\n",
            "Requirement already satisfied: sniffio in /usr/local/lib/python3.10/dist-packages (from httpx==0.13.3->googletrans>=2->textaugment->trial2vec) (1.3.1)\n",
            "Collecting chardet==3.* (from httpx==0.13.3->googletrans>=2->textaugment->trial2vec)\n",
            "  Downloading chardet-3.0.4-py2.py3-none-any.whl.metadata (3.2 kB)\n",
            "Collecting idna==2.* (from httpx==0.13.3->googletrans>=2->textaugment->trial2vec)\n",
            "  Downloading idna-2.10-py2.py3-none-any.whl.metadata (9.1 kB)\n",
            "Collecting rfc3986<2,>=1.3 (from httpx==0.13.3->googletrans>=2->textaugment->trial2vec)\n",
            "  Downloading rfc3986-1.5.0-py2.py3-none-any.whl.metadata (6.5 kB)\n",
            "Collecting httpcore==0.9.* (from httpx==0.13.3->googletrans>=2->textaugment->trial2vec)\n",
            "  Downloading httpcore-0.9.1-py3-none-any.whl.metadata (4.6 kB)\n",
            "Collecting h11<0.10,>=0.8 (from httpcore==0.9.*->httpx==0.13.3->googletrans>=2->textaugment->trial2vec)\n",
            "  Downloading h11-0.9.0-py2.py3-none-any.whl.metadata (8.1 kB)\n",
            "Collecting h2==3.* (from httpcore==0.9.*->httpx==0.13.3->googletrans>=2->textaugment->trial2vec)\n",
            "  Downloading h2-3.2.0-py2.py3-none-any.whl.metadata (32 kB)\n",
            "Collecting hyperframe<6,>=5.2.0 (from h2==3.*->httpcore==0.9.*->httpx==0.13.3->googletrans>=2->textaugment->trial2vec)\n",
            "  Downloading hyperframe-5.2.0-py2.py3-none-any.whl.metadata (7.2 kB)\n",
            "Collecting hpack<4,>=3.0 (from h2==3.*->httpcore==0.9.*->httpx==0.13.3->googletrans>=2->textaugment->trial2vec)\n",
            "  Downloading hpack-3.0.0-py2.py3-none-any.whl.metadata (7.0 kB)\n",
            "Requirement already satisfied: typing-extensions>=3.7.4.3 in /usr/local/lib/python3.10/dist-packages (from huggingface-hub>=0.22.0->datasets->trial2vec) (4.12.2)\n",
            "Requirement already satisfied: six>=1.5 in /usr/local/lib/python3.10/dist-packages (from python-dateutil>=2.8.2->pandas->trial2vec) (1.16.0)\n",
            "Requirement already satisfied: charset-normalizer<4,>=2 in /usr/local/lib/python3.10/dist-packages (from requests>=2.32.2->datasets->trial2vec) (3.3.2)\n",
            "Requirement already satisfied: urllib3<3,>=1.21.1 in /usr/local/lib/python3.10/dist-packages (from requests>=2.32.2->datasets->trial2vec) (2.2.3)\n",
            "INFO: pip is looking at multiple versions of multiprocess to determine which version is compatible with other requirements. This could take a while.\n",
            "Collecting multiprocess (from datasets->trial2vec)\n",
            "  Downloading multiprocess-0.70.16-py310-none-any.whl.metadata (7.2 kB)\n",
            "Requirement already satisfied: wrapt in /usr/local/lib/python3.10/dist-packages (from smart-open>=1.8.1->gensim>=4.0->textaugment->trial2vec) (1.16.0)\n",
            "Downloading Trial2Vec-0.1.0-py3-none-any.whl (27 kB)\n",
            "Downloading datasets-3.0.1-py3-none-any.whl (471 kB)\n",
            "\u001b[2K   \u001b[90m━━━━━━━━━━━━━━━━━━━━━━━━━━━━━━━━━━━━━━━━\u001b[0m \u001b[32m471.6/471.6 kB\u001b[0m \u001b[31m9.3 MB/s\u001b[0m eta \u001b[36m0:00:00\u001b[0m\n",
            "\u001b[?25hDownloading textaugment-2.0.0-py3-none-any.whl (19 kB)\n",
            "Downloading dill-0.3.8-py3-none-any.whl (116 kB)\n",
            "\u001b[2K   \u001b[90m━━━━━━━━━━━━━━━━━━━━━━━━━━━━━━━━━━━━━━━━\u001b[0m \u001b[32m116.3/116.3 kB\u001b[0m \u001b[31m9.1 MB/s\u001b[0m eta \u001b[36m0:00:00\u001b[0m\n",
            "\u001b[?25hDownloading httpx-0.13.3-py3-none-any.whl (55 kB)\n",
            "\u001b[2K   \u001b[90m━━━━━━━━━━━━━━━━━━━━━━━━━━━━━━━━━━━━━━━━\u001b[0m \u001b[32m55.1/55.1 kB\u001b[0m \u001b[31m3.9 MB/s\u001b[0m eta \u001b[36m0:00:00\u001b[0m\n",
            "\u001b[?25hDownloading chardet-3.0.4-py2.py3-none-any.whl (133 kB)\n",
            "\u001b[2K   \u001b[90m━━━━━━━━━━━━━━━━━━━━━━━━━━━━━━━━━━━━━━━━\u001b[0m \u001b[32m133.4/133.4 kB\u001b[0m \u001b[31m9.9 MB/s\u001b[0m eta \u001b[36m0:00:00\u001b[0m\n",
            "\u001b[?25hDownloading httpcore-0.9.1-py3-none-any.whl (42 kB)\n",
            "\u001b[2K   \u001b[90m━━━━━━━━━━━━━━━━━━━━━━━━━━━━━━━━━━━━━━━━\u001b[0m \u001b[32m42.6/42.6 kB\u001b[0m \u001b[31m3.1 MB/s\u001b[0m eta \u001b[36m0:00:00\u001b[0m\n",
            "\u001b[?25hDownloading idna-2.10-py2.py3-none-any.whl (58 kB)\n",
            "\u001b[2K   \u001b[90m━━━━━━━━━━━━━━━━━━━━━━━━━━━━━━━━━━━━━━━━\u001b[0m \u001b[32m58.8/58.8 kB\u001b[0m \u001b[31m4.9 MB/s\u001b[0m eta \u001b[36m0:00:00\u001b[0m\n",
            "\u001b[?25hDownloading h2-3.2.0-py2.py3-none-any.whl (65 kB)\n",
            "\u001b[2K   \u001b[90m━━━━━━━━━━━━━━━━━━━━━━━━━━━━━━━━━━━━━━━━\u001b[0m \u001b[32m65.0/65.0 kB\u001b[0m \u001b[31m4.6 MB/s\u001b[0m eta \u001b[36m0:00:00\u001b[0m\n",
            "\u001b[?25hDownloading multiprocess-0.70.16-py310-none-any.whl (134 kB)\n",
            "\u001b[2K   \u001b[90m━━━━━━━━━━━━━━━━━━━━━━━━━━━━━━━━━━━━━━━━\u001b[0m \u001b[32m134.8/134.8 kB\u001b[0m \u001b[31m8.5 MB/s\u001b[0m eta \u001b[36m0:00:00\u001b[0m\n",
            "\u001b[?25hDownloading xxhash-3.5.0-cp310-cp310-manylinux_2_17_x86_64.manylinux2014_x86_64.whl (194 kB)\n",
            "\u001b[2K   \u001b[90m━━━━━━━━━━━━━━━━━━━━━━━━━━━━━━━━━━━━━━━━\u001b[0m \u001b[32m194.1/194.1 kB\u001b[0m \u001b[31m13.7 MB/s\u001b[0m eta \u001b[36m0:00:00\u001b[0m\n",
            "\u001b[?25hDownloading rfc3986-1.5.0-py2.py3-none-any.whl (31 kB)\n",
            "Downloading hstspreload-2024.10.1-py3-none-any.whl (1.2 MB)\n",
            "\u001b[2K   \u001b[90m━━━━━━━━━━━━━━━━━━━━━━━━━━━━━━━━━━━━━━━━\u001b[0m \u001b[32m1.2/1.2 MB\u001b[0m \u001b[31m42.0 MB/s\u001b[0m eta \u001b[36m0:00:00\u001b[0m\n",
            "\u001b[?25hDownloading h11-0.9.0-py2.py3-none-any.whl (53 kB)\n",
            "\u001b[2K   \u001b[90m━━━━━━━━━━━━━━━━━━━━━━━━━━━━━━━━━━━━━━━━\u001b[0m \u001b[32m53.6/53.6 kB\u001b[0m \u001b[31m4.0 MB/s\u001b[0m eta \u001b[36m0:00:00\u001b[0m\n",
            "\u001b[?25hDownloading hpack-3.0.0-py2.py3-none-any.whl (38 kB)\n",
            "Downloading hyperframe-5.2.0-py2.py3-none-any.whl (12 kB)\n",
            "Building wheels for collected packages: wget, googletrans\n",
            "  Building wheel for wget (setup.py) ... \u001b[?25l\u001b[?25hdone\n",
            "  Created wheel for wget: filename=wget-3.2-py3-none-any.whl size=9656 sha256=a435de0d6120bdbc848398946be1e2c46e1b812842081058c59209214e9fce16\n",
            "  Stored in directory: /root/.cache/pip/wheels/8b/f1/7f/5c94f0a7a505ca1c81cd1d9208ae2064675d97582078e6c769\n",
            "  Building wheel for googletrans (setup.py) ... \u001b[?25l\u001b[?25hdone\n",
            "  Created wheel for googletrans: filename=googletrans-3.0.0-py3-none-any.whl size=15718 sha256=4f58ba59d38e31dd5f082cc0c7afb9267b52a480c6dd71733e1668ad8c96cf10\n",
            "  Stored in directory: /root/.cache/pip/wheels/b3/81/ea/8b030407f8ebfc2f857814e086bb22ca2d4fea1a7be63652ab\n",
            "Successfully built wget googletrans\n",
            "Installing collected packages: wget, rfc3986, hyperframe, hpack, h11, chardet, xxhash, idna, hstspreload, h2, dill, multiprocess, httpcore, httpx, googletrans, textaugment, datasets, trial2vec\n",
            "  Attempting uninstall: chardet\n",
            "    Found existing installation: chardet 5.2.0\n",
            "    Uninstalling chardet-5.2.0:\n",
            "      Successfully uninstalled chardet-5.2.0\n",
            "  Attempting uninstall: idna\n",
            "    Found existing installation: idna 3.10\n",
            "    Uninstalling idna-3.10:\n",
            "      Successfully uninstalled idna-3.10\n",
            "Successfully installed chardet-3.0.4 datasets-3.0.1 dill-0.3.8 googletrans-3.0.0 h11-0.9.0 h2-3.2.0 hpack-3.0.0 hstspreload-2024.10.1 httpcore-0.9.1 httpx-0.13.3 hyperframe-5.2.0 idna-2.10 multiprocess-0.70.16 rfc3986-1.5.0 textaugment-2.0.0 trial2vec-0.1.0 wget-3.2 xxhash-3.5.0\n"
          ]
        }
      ],
      "source": [
        "!pip3 uninstall transformers\n",
        "!pip3 install transformers==4.26.0\n",
        "!pip3 install trial2vec"
      ]
    },
    {
      "cell_type": "code",
      "execution_count": 2,
      "metadata": {
        "colab": {
          "base_uri": "https://localhost:8080/",
          "height": 484,
          "referenced_widgets": [
            "25750f87a2dc4e3c982acbb5202b0955",
            "a9a7d3e7fb8745c69522101130196c3c",
            "3e426a80dd5140bb925ef028730f8fce",
            "8fb209700dbd4465a79db0a9f720935d",
            "1b2f21e4622a4dd2aae853799d01177c",
            "6d60ccda388e4266aebf1e710ac4b860",
            "e20e80e2f0c04426a75b01b6ab76ed0f",
            "d66527ab9762488cb987b623842b1a2a",
            "9b82acaf63584ae89e4ff688fa025faa",
            "6d228dfbb9d949fa920d6a996074f680",
            "de041edcea0f481bbdabbead26417883",
            "e59f1d78108540a9877f4663437add4d",
            "c6c1a11ed91849d89a4980fa4af75f84",
            "2b5c28c2f8a2495da9e72301ee0703ac",
            "a4aea4074519489baba60310e5a039c4",
            "78f4cfa6d673400d94a35c1079158d83",
            "946ac09f6fc74be19c3a64194e06226d",
            "4145211341024c7ebe574b659bc7b8f3",
            "7020d24f56424696830c4d6b6fa45263",
            "c70d7df7f15f45cb91c5b560126a90d6",
            "0b0a75e34aea4f14ba51e5745e3e29ca",
            "2d9853c4480f4e98a6ac53641cb65ed1",
            "0db14b4a552743f3bedb16ffe9f96ad5",
            "e4c84760a0564df28ee3d7cf73baccac",
            "91e5050ff7ca4d178ab9b810923de54d",
            "719bbdfa252842a0b5ae09b35b83992e",
            "651d2db9ba594652a8b4fd41f2f946de",
            "746cba623a7646f5a9b7eae8325556f4",
            "07b547390b4347caab3dd34fd0de32a1",
            "09d93aa2521d4c8da52c7aef214e9d94",
            "bf18bd60a8bb4be59c01161ffd87b0fc",
            "60180ac527734efa98991722dfac3daa",
            "4318d2a4f99f46ef88e1afa3eafb9aaf"
          ]
        },
        "id": "czeJpIcOQCrg",
        "outputId": "992b5d2b-0bdb-4454-8c5d-4aef50b7fbb0"
      },
      "outputs": [
        {
          "output_type": "stream",
          "name": "stderr",
          "text": [
            "/usr/local/lib/python3.10/dist-packages/huggingface_hub/file_download.py:1150: FutureWarning: `resume_download` is deprecated and will be removed in version 1.0.0. Downloads always resume when possible. If you want to force a new download, use `force_download=True`.\n",
            "  warnings.warn(\n"
          ]
        },
        {
          "output_type": "display_data",
          "data": {
            "text/plain": [
              "config.json:   0%|          | 0.00/385 [00:00<?, ?B/s]"
            ],
            "application/vnd.jupyter.widget-view+json": {
              "version_major": 2,
              "version_minor": 0,
              "model_id": "25750f87a2dc4e3c982acbb5202b0955"
            }
          },
          "metadata": {}
        },
        {
          "output_type": "display_data",
          "data": {
            "text/plain": [
              "vocab.txt:   0%|          | 0.00/213k [00:00<?, ?B/s]"
            ],
            "application/vnd.jupyter.widget-view+json": {
              "version_major": 2,
              "version_minor": 0,
              "model_id": "e59f1d78108540a9877f4663437add4d"
            }
          },
          "metadata": {}
        },
        {
          "output_type": "stream",
          "name": "stderr",
          "text": [
            "/usr/local/lib/python3.10/dist-packages/huggingface_hub/file_download.py:1150: FutureWarning: `resume_download` is deprecated and will be removed in version 1.0.0. Downloads always resume when possible. If you want to force a new download, use `force_download=True`.\n",
            "  warnings.warn(\n"
          ]
        },
        {
          "output_type": "display_data",
          "data": {
            "text/plain": [
              "pytorch_model.bin:   0%|          | 0.00/436M [00:00<?, ?B/s]"
            ],
            "application/vnd.jupyter.widget-view+json": {
              "version_major": 2,
              "version_minor": 0,
              "model_id": "0db14b4a552743f3bedb16ffe9f96ad5"
            }
          },
          "metadata": {}
        },
        {
          "output_type": "stream",
          "name": "stderr",
          "text": [
            "/usr/local/lib/python3.10/dist-packages/transformers/modeling_utils.py:415: FutureWarning: You are using `torch.load` with `weights_only=False` (the current default value), which uses the default pickle module implicitly. It is possible to construct malicious pickle data which will execute arbitrary code during unpickling (See https://github.com/pytorch/pytorch/blob/main/SECURITY.md#untrusted-models for more details). In a future release, the default value for `weights_only` will be flipped to `True`. This limits the functions that could be executed during unpickling. Arbitrary objects will no longer be allowed to be loaded via this mode unless they are explicitly allowlisted by the user via `torch.serialization.add_safe_globals`. We recommend you start setting `weights_only=True` for any use case where you don't have full control of the loaded file. Please open an issue on GitHub for any issues related to this experimental feature.\n",
            "  return torch.load(checkpoint_file, map_location=\"cpu\")\n",
            "Some weights of the model checkpoint at emilyalsentzer/Bio_ClinicalBERT were not used when initializing BertModel: ['cls.seq_relationship.weight', 'cls.predictions.transform.dense.weight', 'cls.predictions.bias', 'cls.predictions.transform.dense.bias', 'cls.predictions.decoder.weight', 'cls.predictions.transform.LayerNorm.weight', 'cls.predictions.transform.LayerNorm.bias', 'cls.seq_relationship.bias']\n",
            "- This IS expected if you are initializing BertModel from the checkpoint of a model trained on another task or with another architecture (e.g. initializing a BertForSequenceClassification model from a BertForPreTraining model).\n",
            "- This IS NOT expected if you are initializing BertModel from the checkpoint of a model that you expect to be exactly identical (initializing a BertForSequenceClassification model from a BertForSequenceClassification model).\n"
          ]
        },
        {
          "output_type": "stream",
          "name": "stdout",
          "text": [
            "Download pretrained Trial2Vec model, save to ./trial_search/pretrained_trial2vec.\n",
            "Load pretrained Trial2Vec model from ./trial_search/pretrained_trial2vec\n"
          ]
        },
        {
          "output_type": "stream",
          "name": "stderr",
          "text": [
            "/usr/local/lib/python3.10/dist-packages/trial2vec/model.py:836: FutureWarning: You are using `torch.load` with `weights_only=False` (the current default value), which uses the default pickle module implicitly. It is possible to construct malicious pickle data which will execute arbitrary code during unpickling (See https://github.com/pytorch/pytorch/blob/main/SECURITY.md#untrusted-models for more details). In a future release, the default value for `weights_only` will be flipped to `True`. This limits the functions that could be executed during unpickling. Arbitrary objects will no longer be allowed to be loaded via this mode unless they are explicitly allowlisted by the user via `torch.serialization.add_safe_globals`. We recommend you start setting `weights_only=True` for any use case where you don't have full control of the loaded file. Please open an issue on GitHub for any issues related to this experimental feature.\n",
            "  state_dict = torch.load(checkpoint_filename, map_location=torch.device('cpu'))\n"
          ]
        },
        {
          "output_type": "stream",
          "name": "stdout",
          "text": [
            "load predictor config file from ./trial_search/pretrained_trial2vec/model_config.json\n"
          ]
        },
        {
          "output_type": "stream",
          "name": "stderr",
          "text": [
            "Some weights of the model checkpoint at emilyalsentzer/Bio_ClinicalBERT were not used when initializing BertModel: ['cls.seq_relationship.weight', 'cls.predictions.transform.dense.weight', 'cls.predictions.bias', 'cls.predictions.transform.dense.bias', 'cls.predictions.decoder.weight', 'cls.predictions.transform.LayerNorm.weight', 'cls.predictions.transform.LayerNorm.bias', 'cls.seq_relationship.bias']\n",
            "- This IS expected if you are initializing BertModel from the checkpoint of a model trained on another task or with another architecture (e.g. initializing a BertForSequenceClassification model from a BertForPreTraining model).\n",
            "- This IS NOT expected if you are initializing BertModel from the checkpoint of a model that you expect to be exactly identical (initializing a BertForSequenceClassification model from a BertForSequenceClassification model).\n"
          ]
        },
        {
          "output_type": "stream",
          "name": "stdout",
          "text": [
            "Load pretrained Trial2Vec model from ./trial_search/pretrained_trial2vec\n",
            "load predictor config file from ./trial_search/pretrained_trial2vec/model_config.json\n"
          ]
        }
      ],
      "source": [
        "from trial2vec import Trial2Vec\n",
        "from trial2vec import download_embedding\n",
        "\n",
        "import torch\n",
        "import torch.nn.functional as F\n",
        "import json\n",
        "import matplotlib.pyplot as plt\n",
        "import seaborn as sns\n",
        "\n",
        "t2v_emb = download_embedding()\n",
        "\n",
        "model = Trial2Vec()\n",
        "model.from_pretrained('./trial_search/pretrained_trial2vec')\n"
      ]
    },
    {
      "cell_type": "code",
      "execution_count": 3,
      "metadata": {
        "id": "1mCpebC4YDzq"
      },
      "outputs": [],
      "source": [
        "import re\n",
        "import matplotlib.pyplot as plt\n",
        "import seaborn as sns\n",
        "import torch\n",
        "import torch.nn.functional as F\n",
        "import json\n",
        "import random"
      ]
    },
    {
      "cell_type": "markdown",
      "metadata": {
        "id": "EYJT-ZcLYFyj"
      },
      "source": [
        "# Helper Functions"
      ]
    },
    {
      "cell_type": "code",
      "execution_count": 4,
      "metadata": {
        "id": "tnShsqDXQVEK"
      },
      "outputs": [],
      "source": [
        "def get_match_json(similarity_matrix, reference_features, candidate_features, threshold):\n",
        "\n",
        "    # Initialize lists to keep track of matches and unmatched features\n",
        "    matched_features = []\n",
        "    remaining_reference_features = reference_features.copy()\n",
        "    remaining_candidate_features = candidate_features.copy()\n",
        "\n",
        "    iteration = 1\n",
        "    while similarity_matrix.size(0) > 0 and similarity_matrix.size(1) > 0:\n",
        "\n",
        "        # Find the maximum similarity value\n",
        "        max_similarity, max_idx = torch.max(similarity_matrix, dim=1)\n",
        "        max_value, ref_idx = torch.max(max_similarity, dim=0)\n",
        "        max_value = max_value.item()\n",
        "        ref_idx = ref_idx.item()\n",
        "\n",
        "        if max_value < threshold or len(remaining_candidate_features) == 0:\n",
        "            break\n",
        "\n",
        "        # Find all pairs with the same maximum similarity value\n",
        "        candidates = [(i, max_idx[i].item()) for i in range(similarity_matrix.size(0)) if max_similarity[i].item() == max_value]\n",
        "\n",
        "        # Select one pair randomly\n",
        "        ref_idx, cand_idx = random.choice(candidates)\n",
        "\n",
        "        # Add the matched pair to the list of matched features\n",
        "        matched_pair = (remaining_reference_features[ref_idx], remaining_candidate_features[cand_idx])\n",
        "        matched_features.append(matched_pair)\n",
        "\n",
        "        # Remove the matched pair from the lists\n",
        "        del remaining_reference_features[ref_idx]\n",
        "        del remaining_candidate_features[cand_idx]\n",
        "\n",
        "        # Remove the corresponding row and column from the similarity matrix\n",
        "        similarity_matrix = torch.cat((similarity_matrix[:ref_idx], similarity_matrix[ref_idx+1:]), dim=0)\n",
        "        similarity_matrix = torch.cat((similarity_matrix[:, :cand_idx], similarity_matrix[:, cand_idx+1:]), dim=1)\n",
        "\n",
        "        iteration += 1\n",
        "\n",
        "    # Create the result dictionary\n",
        "    result = {\n",
        "        \"matched_features\": matched_features,\n",
        "        \"remaining_reference_features\": remaining_reference_features,\n",
        "        \"remaining_candidate_features\": remaining_candidate_features\n",
        "    }\n",
        "\n",
        "    return result\n",
        "\n",
        "def extract_elements_v2(s):\n",
        "  \"\"\"\n",
        "  Extracts elements enclosed within backticks (`) from a string.\n",
        "\n",
        "  Args:\n",
        "    s: The input string.\n",
        "\n",
        "  Returns:\n",
        "    A list of elements enclosed within backticks.\n",
        "  \"\"\"\n",
        "  pattern = r\"`(.*?)`\"\n",
        "  elements = re.findall(pattern, s)\n",
        "  return elements\n",
        "\n",
        "\n",
        "def plot_similarity_matrix(similarity_matrix_np, reference, candidate):\n",
        "\n",
        "    # Plotting the similarity matrix using seaborn's heatmap\n",
        "    plt.figure(figsize=(10, 8))\n",
        "    ax = sns.heatmap(similarity_matrix_np, annot=True, cmap='coolwarm', fmt=\".2f\",\n",
        "                     xticklabels=candidate, yticklabels=reference)\n",
        "    plt.title(\"Pairwise Cosine Similarities\")\n",
        "    plt.xlabel(\"Candidate Components\")\n",
        "    plt.ylabel(\"Reference Components\")\n",
        "    plt.show()\n",
        "\n",
        "def calculate_plot_and_return_matches(model, ref, can, threshold, show_plot=False):\n",
        "\n",
        "    reference = extract_elements_v2(ref)\n",
        "    candidate = extract_elements_v2(can)\n",
        "\n",
        "    # Assume model.sentence_vector is a method that returns a tensor of shape [n, 128] for n sentences\n",
        "    reference_tensor = model.sentence_vector(reference).cpu()\n",
        "    candidate_tensor = model.sentence_vector(candidate).cpu()\n",
        "\n",
        "    # Normalize the tensors\n",
        "    reference_tensor = F.normalize(reference_tensor, p=2, dim=1)\n",
        "    candidate_tensor = F.normalize(candidate_tensor, p=2, dim=1)\n",
        "\n",
        "    # Compute the similarity matrix\n",
        "    similarity_matrix = torch.mm(reference_tensor, candidate_tensor.transpose(0, 1))\n",
        "\n",
        "    result = get_match_json(similarity_matrix, reference, candidate, threshold)\n",
        "    if show_plot:\n",
        "      plot_similarity_matrix(similarity_matrix.numpy(), reference, candidate)\n",
        "\n",
        "    return json.dumps(result, indent=2), similarity_matrix\n",
        "\n",
        "###### For saving similarity matrix in db #######\n",
        "def encode_matrix(similarity_matrix):\n",
        "    import pickle, base64\n",
        "    similarity_matrix_serialized = pickle.dumps(similarity_matrix)\n",
        "    similarity_matrix_encoded = base64.b64encode(similarity_matrix_serialized).decode('utf-8')\n",
        "    return similarity_matrix_encoded\n",
        "\n",
        "def decode_matrix(similarity_matrix_encoded):\n",
        "    import pickle, base64\n",
        "    similarity_matrix_serialized = base64.b64decode(similarity_matrix_encoded)\n",
        "    similarity_matrix = pickle.loads(similarity_matrix_serialized)\n",
        "    return similarity_matrix\n",
        "###################################################\n",
        "\n",
        "def run_bert_score(gen_model_name, model, doc_id, reference_list, candidate_list, bert_scores):\n",
        "\n",
        "    result_07, _ = calculate_plot_and_return_matches(model, reference_list, candidate_list, threshold=0.7)\n",
        "\n",
        "    return result_07\n",
        "\n",
        "def match_to_score(matched_pairs, remaining_reference_features, remaining_candidate_features):\n",
        "    \"\"\"\n",
        "    Calculates precision, recall, and F1 score based on the given matched pairs and remaining features.\n",
        "\n",
        "    Parameters:\n",
        "    matched_pairs (list): A list of matched feature pairs.\n",
        "    remaining_reference_features (list): A list of remaining reference features.\n",
        "    remaining_candidate_features (list): A list of remaining candidate features.\n",
        "\n",
        "    Returns:\n",
        "    dict: A dictionary containing the precision, recall, and F1 score.\n",
        "    \"\"\"\n",
        "    precision = len(matched_pairs) / (len(matched_pairs) + len(remaining_candidate_features)) # TP/(TP+FP)\n",
        "    recall = len(matched_pairs) /  (len(matched_pairs) + len(remaining_reference_features)) #TP/(TP+FN)\n",
        "\n",
        "    if precision == 0 or recall == 0:\n",
        "        f1 = 0\n",
        "    else:\n",
        "        f1 = 2 * (precision * recall) / (precision + recall) # F1\n",
        "\n",
        "    return {\"precision\": precision, \"recall\": recall, \"f1\": f1}"
      ]
    },
    {
      "cell_type": "markdown",
      "metadata": {
        "id": "vfaGiY3fYYKP"
      },
      "source": [
        "# Load Data with generated matches from all 4 models and the reference (CT-PUB)"
      ]
    },
    {
      "cell_type": "code",
      "execution_count": 5,
      "metadata": {
        "id": "kJIdNwyIPyEF"
      },
      "outputs": [],
      "source": [
        "import pandas as pd\n",
        "data = pd.read_csv('CT-Repo-With-Examples-Corrected-allgen.csv')"
      ]
    },
    {
      "cell_type": "code",
      "execution_count": 6,
      "metadata": {
        "colab": {
          "base_uri": "https://localhost:8080/",
          "height": 337
        },
        "id": "zSz4SEpESF75",
        "outputId": "c24ece5a-8b8c-441a-f02f-aaae437584d2"
      },
      "outputs": [
        {
          "output_type": "execute_result",
          "data": {
            "text/plain": [
              "         NCTId                                         BriefTitle  \\\n",
              "0  NCT00000620  Action to Control Cardiovascular Risk in Diabe...   \n",
              "1  NCT00003901  Prognostic Study of Metastases in Patients Wit...   \n",
              "2  NCT00005879  LY353381 in Preventing Breast Cancer in Women ...   \n",
              "\n",
              "                                 EligibilityCriteria  \\\n",
              "0  Inclusion Criteria:\\n\\n* Diagnosed with type 2...   \n",
              "1  Inclusion Criteria:\\n\\n1. Patient must be ≥ 18...   \n",
              "2  DISEASE CHARACTERISTICS:\\n\\n* Current random f...   \n",
              "\n",
              "                                        BriefSummary  \\\n",
              "0  The purpose of this study is to prevent major ...   \n",
              "1  RATIONALE: Prognostic testing for early signs ...   \n",
              "2  RATIONALE: Chemoprevention therapy is the use ...   \n",
              "\n",
              "                                          Conditions  \\\n",
              "0  Atherosclerosis, Cardiovascular Diseases, Hype...   \n",
              "1                                      Lung Cancer,    \n",
              "2                                    Breast Cancer,    \n",
              "\n",
              "                                       Interventions  \\\n",
              "0  Anti-hyperglycemic Agents, Anti-hypertensive A...   \n",
              "1  immunohistochemistry staining method, biopsy, ...   \n",
              "2                              arzoxifene, Placebo,    \n",
              "\n",
              "                                     PrimaryOutcomes    TrialGroup  \\\n",
              "0  First Occurrence of a Major Cardiovascular Eve...  hypertension   \n",
              "1  Overall Survival in Lymph Nodes Examined Patie...        cancer   \n",
              "2  Change in Masood Score, Number of Participants...        cancer   \n",
              "\n",
              "                                API_BaselineMeasures  \\\n",
              "0  Age, Continuous, Gender, Ethnicity (NIH/OMB), ...   \n",
              "1  Age, Continuous, Gender, Race/Ethnicity, Custo...   \n",
              "2  Age, Continuous, Sex: Female, Male, Region of ...   \n",
              "\n",
              "                      API_BaselineMeasures_Corrected  \\\n",
              "0  `Age, Continuous`, `Gender`, `Ethnicity (NIH/O...   \n",
              "1  `Age, Continuous`, `Gender`, `Race/Ethnicity, ...   \n",
              "2  `Age, Continuous`, `Sex: Female, Male`, `Regio...   \n",
              "\n",
              "                                        gpt4o_zs_gen  \\\n",
              "0  `Age`, `Sex`, `Race/Ethnicity`, `Body Mass Ind...   \n",
              "1  `Age`, `Gender`, `ECOG/Zubrod status`, `Clinic...   \n",
              "2  `Age`, `Sex`, `Menopausal status`, `Hemoglobin...   \n",
              "\n",
              "                                        gpt4o_ts_gen  \\\n",
              "0  `Age, Continuous`, `Gender`, `Ethnicity (NIH/O...   \n",
              "1  `Age, Continuous`, `Sex: Female, Male`, `Race/...   \n",
              "2  `Age, Continuous`, `Sex: Female`, `Race/Ethnic...   \n",
              "\n",
              "                                llama3_70b_it_zs_gen  \\\n",
              "0  `Age`, `Sex`, `Race`, `Ethnicity`, `Body Mass ...   \n",
              "1  `age`, `sex`, `ECOG/Zubrod status`, `histologi...   \n",
              "2  `Age`, `Sex`, `Menopausal status`, `Body Mass ...   \n",
              "\n",
              "                                llama3_70b_it_ts_gen  \n",
              "0  `Age, Continuous`, `Gender`, `Ethnicity (NIH/O...  \n",
              "1  `Age, Continuous`, `Sex: Female, Male`, `Race/...  \n",
              "2  `Age, Continuous`, `Sex: Female`, `Race/Ethnic...  "
            ],
            "text/html": [
              "\n",
              "  <div id=\"df-18a062db-30b9-49db-b0a0-bead240984a0\" class=\"colab-df-container\">\n",
              "    <div>\n",
              "<style scoped>\n",
              "    .dataframe tbody tr th:only-of-type {\n",
              "        vertical-align: middle;\n",
              "    }\n",
              "\n",
              "    .dataframe tbody tr th {\n",
              "        vertical-align: top;\n",
              "    }\n",
              "\n",
              "    .dataframe thead th {\n",
              "        text-align: right;\n",
              "    }\n",
              "</style>\n",
              "<table border=\"1\" class=\"dataframe\">\n",
              "  <thead>\n",
              "    <tr style=\"text-align: right;\">\n",
              "      <th></th>\n",
              "      <th>NCTId</th>\n",
              "      <th>BriefTitle</th>\n",
              "      <th>EligibilityCriteria</th>\n",
              "      <th>BriefSummary</th>\n",
              "      <th>Conditions</th>\n",
              "      <th>Interventions</th>\n",
              "      <th>PrimaryOutcomes</th>\n",
              "      <th>TrialGroup</th>\n",
              "      <th>API_BaselineMeasures</th>\n",
              "      <th>API_BaselineMeasures_Corrected</th>\n",
              "      <th>gpt4o_zs_gen</th>\n",
              "      <th>gpt4o_ts_gen</th>\n",
              "      <th>llama3_70b_it_zs_gen</th>\n",
              "      <th>llama3_70b_it_ts_gen</th>\n",
              "    </tr>\n",
              "  </thead>\n",
              "  <tbody>\n",
              "    <tr>\n",
              "      <th>0</th>\n",
              "      <td>NCT00000620</td>\n",
              "      <td>Action to Control Cardiovascular Risk in Diabe...</td>\n",
              "      <td>Inclusion Criteria:\\n\\n* Diagnosed with type 2...</td>\n",
              "      <td>The purpose of this study is to prevent major ...</td>\n",
              "      <td>Atherosclerosis, Cardiovascular Diseases, Hype...</td>\n",
              "      <td>Anti-hyperglycemic Agents, Anti-hypertensive A...</td>\n",
              "      <td>First Occurrence of a Major Cardiovascular Eve...</td>\n",
              "      <td>hypertension</td>\n",
              "      <td>Age, Continuous, Gender, Ethnicity (NIH/OMB), ...</td>\n",
              "      <td>`Age, Continuous`, `Gender`, `Ethnicity (NIH/O...</td>\n",
              "      <td>`Age`, `Sex`, `Race/Ethnicity`, `Body Mass Ind...</td>\n",
              "      <td>`Age, Continuous`, `Gender`, `Ethnicity (NIH/O...</td>\n",
              "      <td>`Age`, `Sex`, `Race`, `Ethnicity`, `Body Mass ...</td>\n",
              "      <td>`Age, Continuous`, `Gender`, `Ethnicity (NIH/O...</td>\n",
              "    </tr>\n",
              "    <tr>\n",
              "      <th>1</th>\n",
              "      <td>NCT00003901</td>\n",
              "      <td>Prognostic Study of Metastases in Patients Wit...</td>\n",
              "      <td>Inclusion Criteria:\\n\\n1. Patient must be ≥ 18...</td>\n",
              "      <td>RATIONALE: Prognostic testing for early signs ...</td>\n",
              "      <td>Lung Cancer,</td>\n",
              "      <td>immunohistochemistry staining method, biopsy, ...</td>\n",
              "      <td>Overall Survival in Lymph Nodes Examined Patie...</td>\n",
              "      <td>cancer</td>\n",
              "      <td>Age, Continuous, Gender, Race/Ethnicity, Custo...</td>\n",
              "      <td>`Age, Continuous`, `Gender`, `Race/Ethnicity, ...</td>\n",
              "      <td>`Age`, `Gender`, `ECOG/Zubrod status`, `Clinic...</td>\n",
              "      <td>`Age, Continuous`, `Sex: Female, Male`, `Race/...</td>\n",
              "      <td>`age`, `sex`, `ECOG/Zubrod status`, `histologi...</td>\n",
              "      <td>`Age, Continuous`, `Sex: Female, Male`, `Race/...</td>\n",
              "    </tr>\n",
              "    <tr>\n",
              "      <th>2</th>\n",
              "      <td>NCT00005879</td>\n",
              "      <td>LY353381 in Preventing Breast Cancer in Women ...</td>\n",
              "      <td>DISEASE CHARACTERISTICS:\\n\\n* Current random f...</td>\n",
              "      <td>RATIONALE: Chemoprevention therapy is the use ...</td>\n",
              "      <td>Breast Cancer,</td>\n",
              "      <td>arzoxifene, Placebo,</td>\n",
              "      <td>Change in Masood Score, Number of Participants...</td>\n",
              "      <td>cancer</td>\n",
              "      <td>Age, Continuous, Sex: Female, Male, Region of ...</td>\n",
              "      <td>`Age, Continuous`, `Sex: Female, Male`, `Regio...</td>\n",
              "      <td>`Age`, `Sex`, `Menopausal status`, `Hemoglobin...</td>\n",
              "      <td>`Age, Continuous`, `Sex: Female`, `Race/Ethnic...</td>\n",
              "      <td>`Age`, `Sex`, `Menopausal status`, `Body Mass ...</td>\n",
              "      <td>`Age, Continuous`, `Sex: Female`, `Race/Ethnic...</td>\n",
              "    </tr>\n",
              "  </tbody>\n",
              "</table>\n",
              "</div>\n",
              "    <div class=\"colab-df-buttons\">\n",
              "\n",
              "  <div class=\"colab-df-container\">\n",
              "    <button class=\"colab-df-convert\" onclick=\"convertToInteractive('df-18a062db-30b9-49db-b0a0-bead240984a0')\"\n",
              "            title=\"Convert this dataframe to an interactive table.\"\n",
              "            style=\"display:none;\">\n",
              "\n",
              "  <svg xmlns=\"http://www.w3.org/2000/svg\" height=\"24px\" viewBox=\"0 -960 960 960\">\n",
              "    <path d=\"M120-120v-720h720v720H120Zm60-500h600v-160H180v160Zm220 220h160v-160H400v160Zm0 220h160v-160H400v160ZM180-400h160v-160H180v160Zm440 0h160v-160H620v160ZM180-180h160v-160H180v160Zm440 0h160v-160H620v160Z\"/>\n",
              "  </svg>\n",
              "    </button>\n",
              "\n",
              "  <style>\n",
              "    .colab-df-container {\n",
              "      display:flex;\n",
              "      gap: 12px;\n",
              "    }\n",
              "\n",
              "    .colab-df-convert {\n",
              "      background-color: #E8F0FE;\n",
              "      border: none;\n",
              "      border-radius: 50%;\n",
              "      cursor: pointer;\n",
              "      display: none;\n",
              "      fill: #1967D2;\n",
              "      height: 32px;\n",
              "      padding: 0 0 0 0;\n",
              "      width: 32px;\n",
              "    }\n",
              "\n",
              "    .colab-df-convert:hover {\n",
              "      background-color: #E2EBFA;\n",
              "      box-shadow: 0px 1px 2px rgba(60, 64, 67, 0.3), 0px 1px 3px 1px rgba(60, 64, 67, 0.15);\n",
              "      fill: #174EA6;\n",
              "    }\n",
              "\n",
              "    .colab-df-buttons div {\n",
              "      margin-bottom: 4px;\n",
              "    }\n",
              "\n",
              "    [theme=dark] .colab-df-convert {\n",
              "      background-color: #3B4455;\n",
              "      fill: #D2E3FC;\n",
              "    }\n",
              "\n",
              "    [theme=dark] .colab-df-convert:hover {\n",
              "      background-color: #434B5C;\n",
              "      box-shadow: 0px 1px 3px 1px rgba(0, 0, 0, 0.15);\n",
              "      filter: drop-shadow(0px 1px 2px rgba(0, 0, 0, 0.3));\n",
              "      fill: #FFFFFF;\n",
              "    }\n",
              "  </style>\n",
              "\n",
              "    <script>\n",
              "      const buttonEl =\n",
              "        document.querySelector('#df-18a062db-30b9-49db-b0a0-bead240984a0 button.colab-df-convert');\n",
              "      buttonEl.style.display =\n",
              "        google.colab.kernel.accessAllowed ? 'block' : 'none';\n",
              "\n",
              "      async function convertToInteractive(key) {\n",
              "        const element = document.querySelector('#df-18a062db-30b9-49db-b0a0-bead240984a0');\n",
              "        const dataTable =\n",
              "          await google.colab.kernel.invokeFunction('convertToInteractive',\n",
              "                                                    [key], {});\n",
              "        if (!dataTable) return;\n",
              "\n",
              "        const docLinkHtml = 'Like what you see? Visit the ' +\n",
              "          '<a target=\"_blank\" href=https://colab.research.google.com/notebooks/data_table.ipynb>data table notebook</a>'\n",
              "          + ' to learn more about interactive tables.';\n",
              "        element.innerHTML = '';\n",
              "        dataTable['output_type'] = 'display_data';\n",
              "        await google.colab.output.renderOutput(dataTable, element);\n",
              "        const docLink = document.createElement('div');\n",
              "        docLink.innerHTML = docLinkHtml;\n",
              "        element.appendChild(docLink);\n",
              "      }\n",
              "    </script>\n",
              "  </div>\n",
              "\n",
              "\n",
              "<div id=\"df-085a7161-303d-4196-8985-441c833f5e21\">\n",
              "  <button class=\"colab-df-quickchart\" onclick=\"quickchart('df-085a7161-303d-4196-8985-441c833f5e21')\"\n",
              "            title=\"Suggest charts\"\n",
              "            style=\"display:none;\">\n",
              "\n",
              "<svg xmlns=\"http://www.w3.org/2000/svg\" height=\"24px\"viewBox=\"0 0 24 24\"\n",
              "     width=\"24px\">\n",
              "    <g>\n",
              "        <path d=\"M19 3H5c-1.1 0-2 .9-2 2v14c0 1.1.9 2 2 2h14c1.1 0 2-.9 2-2V5c0-1.1-.9-2-2-2zM9 17H7v-7h2v7zm4 0h-2V7h2v10zm4 0h-2v-4h2v4z\"/>\n",
              "    </g>\n",
              "</svg>\n",
              "  </button>\n",
              "\n",
              "<style>\n",
              "  .colab-df-quickchart {\n",
              "      --bg-color: #E8F0FE;\n",
              "      --fill-color: #1967D2;\n",
              "      --hover-bg-color: #E2EBFA;\n",
              "      --hover-fill-color: #174EA6;\n",
              "      --disabled-fill-color: #AAA;\n",
              "      --disabled-bg-color: #DDD;\n",
              "  }\n",
              "\n",
              "  [theme=dark] .colab-df-quickchart {\n",
              "      --bg-color: #3B4455;\n",
              "      --fill-color: #D2E3FC;\n",
              "      --hover-bg-color: #434B5C;\n",
              "      --hover-fill-color: #FFFFFF;\n",
              "      --disabled-bg-color: #3B4455;\n",
              "      --disabled-fill-color: #666;\n",
              "  }\n",
              "\n",
              "  .colab-df-quickchart {\n",
              "    background-color: var(--bg-color);\n",
              "    border: none;\n",
              "    border-radius: 50%;\n",
              "    cursor: pointer;\n",
              "    display: none;\n",
              "    fill: var(--fill-color);\n",
              "    height: 32px;\n",
              "    padding: 0;\n",
              "    width: 32px;\n",
              "  }\n",
              "\n",
              "  .colab-df-quickchart:hover {\n",
              "    background-color: var(--hover-bg-color);\n",
              "    box-shadow: 0 1px 2px rgba(60, 64, 67, 0.3), 0 1px 3px 1px rgba(60, 64, 67, 0.15);\n",
              "    fill: var(--button-hover-fill-color);\n",
              "  }\n",
              "\n",
              "  .colab-df-quickchart-complete:disabled,\n",
              "  .colab-df-quickchart-complete:disabled:hover {\n",
              "    background-color: var(--disabled-bg-color);\n",
              "    fill: var(--disabled-fill-color);\n",
              "    box-shadow: none;\n",
              "  }\n",
              "\n",
              "  .colab-df-spinner {\n",
              "    border: 2px solid var(--fill-color);\n",
              "    border-color: transparent;\n",
              "    border-bottom-color: var(--fill-color);\n",
              "    animation:\n",
              "      spin 1s steps(1) infinite;\n",
              "  }\n",
              "\n",
              "  @keyframes spin {\n",
              "    0% {\n",
              "      border-color: transparent;\n",
              "      border-bottom-color: var(--fill-color);\n",
              "      border-left-color: var(--fill-color);\n",
              "    }\n",
              "    20% {\n",
              "      border-color: transparent;\n",
              "      border-left-color: var(--fill-color);\n",
              "      border-top-color: var(--fill-color);\n",
              "    }\n",
              "    30% {\n",
              "      border-color: transparent;\n",
              "      border-left-color: var(--fill-color);\n",
              "      border-top-color: var(--fill-color);\n",
              "      border-right-color: var(--fill-color);\n",
              "    }\n",
              "    40% {\n",
              "      border-color: transparent;\n",
              "      border-right-color: var(--fill-color);\n",
              "      border-top-color: var(--fill-color);\n",
              "    }\n",
              "    60% {\n",
              "      border-color: transparent;\n",
              "      border-right-color: var(--fill-color);\n",
              "    }\n",
              "    80% {\n",
              "      border-color: transparent;\n",
              "      border-right-color: var(--fill-color);\n",
              "      border-bottom-color: var(--fill-color);\n",
              "    }\n",
              "    90% {\n",
              "      border-color: transparent;\n",
              "      border-bottom-color: var(--fill-color);\n",
              "    }\n",
              "  }\n",
              "</style>\n",
              "\n",
              "  <script>\n",
              "    async function quickchart(key) {\n",
              "      const quickchartButtonEl =\n",
              "        document.querySelector('#' + key + ' button');\n",
              "      quickchartButtonEl.disabled = true;  // To prevent multiple clicks.\n",
              "      quickchartButtonEl.classList.add('colab-df-spinner');\n",
              "      try {\n",
              "        const charts = await google.colab.kernel.invokeFunction(\n",
              "            'suggestCharts', [key], {});\n",
              "      } catch (error) {\n",
              "        console.error('Error during call to suggestCharts:', error);\n",
              "      }\n",
              "      quickchartButtonEl.classList.remove('colab-df-spinner');\n",
              "      quickchartButtonEl.classList.add('colab-df-quickchart-complete');\n",
              "    }\n",
              "    (() => {\n",
              "      let quickchartButtonEl =\n",
              "        document.querySelector('#df-085a7161-303d-4196-8985-441c833f5e21 button');\n",
              "      quickchartButtonEl.style.display =\n",
              "        google.colab.kernel.accessAllowed ? 'block' : 'none';\n",
              "    })();\n",
              "  </script>\n",
              "</div>\n",
              "\n",
              "    </div>\n",
              "  </div>\n"
            ],
            "application/vnd.google.colaboratory.intrinsic+json": {
              "type": "dataframe",
              "variable_name": "data",
              "summary": "{\n  \"name\": \"data\",\n  \"rows\": 1693,\n  \"fields\": [\n    {\n      \"column\": \"NCTId\",\n      \"properties\": {\n        \"dtype\": \"string\",\n        \"num_unique_values\": 1693,\n        \"samples\": [\n          \"NCT03002155\",\n          \"NCT05159622\",\n          \"NCT03954223\"\n        ],\n        \"semantic_type\": \"\",\n        \"description\": \"\"\n      }\n    },\n    {\n      \"column\": \"BriefTitle\",\n      \"properties\": {\n        \"dtype\": \"string\",\n        \"num_unique_values\": 1692,\n        \"samples\": [\n          \"Philadelphia Telemedicine Glaucoma Detection and Follow-Up Study\",\n          \"A Study of Mealtime Insulin LY900014 in Participants With Type 2 Diabetes Using Continuous Glucose Monitoring (PRONTO-Time in Range)\",\n          \"Feasibility Study on the Impact of Economic Incentives to Improve the Management of Type 2 Diabetes Mellitus\"\n        ],\n        \"semantic_type\": \"\",\n        \"description\": \"\"\n      }\n    },\n    {\n      \"column\": \"EligibilityCriteria\",\n      \"properties\": {\n        \"dtype\": \"string\",\n        \"num_unique_values\": 1693,\n        \"samples\": [\n          \"Inclusion Criteria:\\n\\n* 18 or more years of age\\n* diagnosis of type 2 diabetes\\n* undergoing treatment for a Wagner grade II, III, or IV diabetic foot ulcer\\n* able to attend regular exercise classes and two data collection sessions\\n\\nExclusion Criteria:\\n\\n* medical conditions where aerobic or resistance exercise is contraindicated (e.g., uncontrolled cardiovascular problems)\\n* a score of less than 18 on the Montreal Cognitive Assessment indicating moderate cognitive impairment\\n* response from primary physician requesting that the participant not engage in exercise\\n* current participation in a regular exercise program (more than 30 minutes, more than 2 times a week)\",\n          \"Inclusion Criteria:\\n\\n* Adult (\\\\>18 year old) primary caregivers (biological parents, legal guardians) with at least 1 child enrolled in the CentroNia home-visiting program.\\n* No intention of moving from the neighborhood or moving out of the program for the next year\\n\\nExclusion Criteria:\\n\\n* Caregivers with children younger than 6 months old at time of recruitment.\\n* Caregivers who have access or be using a water filtration system including pitchers with filters or an installed filtering device.\",\n          \"Inclusion Criteria:\\n\\n1. age 14-18\\n2. BMI\\\\> 85th percentile\\n3. parent, guardian or family member ages 18 years and older willing to participate\\n\\nExclusion Criteria:\\n\\n* Insulin requirement\\n\\n  1. previous diagnosis of Prader Willi Syndrome, brain tumor or hypothalamic obesity\\n  2. serious mental conditions (e.g. developmental or intellectual disability or previously diagnosed eating disorder or positive screen at consent visit)\\n  3. physical, mental of other inability to participate in the assessments (e.g. inability to wear CGM, inability to be in the imaging modality without sedation, or inability to eat by mouth)\\n  4. previous or planned bariatric surgery\\n  5. current use of medication that impacts weight or executive functioning (e.g., antipsychotics, sedatives, hypnotics, off-label obesity medication)\\n  6. current psychotherapy regarding weight or eating behavior\\n  7. current participation in other interventional studies. In our experience, children younger than 13 years of age and older than 21 years would require different intervention/counseling strategies.\"\n        ],\n        \"semantic_type\": \"\",\n        \"description\": \"\"\n      }\n    },\n    {\n      \"column\": \"BriefSummary\",\n      \"properties\": {\n        \"dtype\": \"string\",\n        \"num_unique_values\": 1691,\n        \"samples\": [\n          \"The REDUCE HTN: REINFORCE study is being conducted to determine whether the Vessix Reduce\\u2122 Catheter and Vessix\\u2122 Generator for the treatment of uncontrolled hypertension (off-treatment office systolic blood pressure \\u2265150 mmHg and \\u2264180 mmHg) shows acceptable performance at 8 weeks when compared to a masked procedure (renal angiogram).\",\n          \"This study is being done to evaluate glycemic control in participants with type 2 diabetes who are taking mealtime insulin LY900014 in combination with long-acting insulin glargine. Participants will use continuous glucose monitoring (CGM) (Freestyle Libre 14-day system) during the study.\",\n          \"This feasibility study aims to compare the implementation process of three different interventions that use economic incentives to promote lifestyle behavioral changes in patients with type 2 diabetes mellitus, and to identify barriers and facilitators linked to the process of implementing each of the interventions. The interventions are based on economic incentives directed to the patient (individual incentives) or a team comprised by the patient and a partner (mixed incentives).\\n\\nDesign: Three-month randomized control feasibility study to test the feasibility of implementing three types of intervention with economic incentives in patients with diabetes mellitus.\\n\\nSetting: Diabetes outpatient clinics from a public hospital in Peru.\"\n        ],\n        \"semantic_type\": \"\",\n        \"description\": \"\"\n      }\n    },\n    {\n      \"column\": \"Conditions\",\n      \"properties\": {\n        \"dtype\": \"string\",\n        \"num_unique_values\": 964,\n        \"samples\": [\n          \"Liver Transection During Laparoscopic Liver Resection, \",\n          \"Diabetic Foot Ulcer, Surgical Wound, \",\n          \"Hypertension, Chronic Kidney Diseases, \"\n        ],\n        \"semantic_type\": \"\",\n        \"description\": \"\"\n      }\n    },\n    {\n      \"column\": \"Interventions\",\n      \"properties\": {\n        \"dtype\": \"string\",\n        \"num_unique_values\": 1620,\n        \"samples\": [\n          \"cabazitaxel (XRP6258) (RPR116258), mitoxantrone, prednisone, \",\n          \"Carboplatin, Pemetrexed, Bevacizumab, Cixutumumab, \",\n          \"PF-06882961, Placebo, \"\n        ],\n        \"semantic_type\": \"\",\n        \"description\": \"\"\n      }\n    },\n    {\n      \"column\": \"PrimaryOutcomes\",\n      \"properties\": {\n        \"dtype\": \"string\",\n        \"num_unique_values\": 1587,\n        \"samples\": [\n          \"Change From Baseline in Glycosylated Hemoglobin (HbA1c) at Week 24, \",\n          \"Mean CGM Glucose, Percentage of Time Where Glucose is Less Than 54 mg/dL, \",\n          \"Best Overall Response (BOR), \"\n        ],\n        \"semantic_type\": \"\",\n        \"description\": \"\"\n      }\n    },\n    {\n      \"column\": \"TrialGroup\",\n      \"properties\": {\n        \"dtype\": \"category\",\n        \"num_unique_values\": 5,\n        \"samples\": [\n          \"cancer\",\n          \"obesity\",\n          \"chronic kidney disease\"\n        ],\n        \"semantic_type\": \"\",\n        \"description\": \"\"\n      }\n    },\n    {\n      \"column\": \"API_BaselineMeasures\",\n      \"properties\": {\n        \"dtype\": \"string\",\n        \"num_unique_values\": 1508,\n        \"samples\": [\n          \"Age, Continuous, Sex: Female, Male, Ethnicity (NIH/OMB), Race (NIH/OMB), Region of Enrollment, Estimated glomerular filtration rate, Systolic blood pressure, Use of angiotensin converting enzyme-inhibitor (ACE-I) or angiotensin receptor blocker (ARB), Total body weight, Lean body weight, Congestive heart failure, Serum total carbon dioxide (CO2), Serum potassium, Hemoglobin A1c, Urinary albumin/creatinine, Urinary pH, Urinary ammonium, Urinary titratable acids, Urinary transforming growth factor-B1/creatinine, Urinary kidney injury molecule-1/creatinine, Urinary fibronectin/creatinine, Urinary neutrophil gelatinase-associated lipocalin/creatinine, \",\n          \"Age, Categorical, Age, Continuous, Sex: Female, Male, Race (NIH/OMB), Region of Enrollment, Menopause Status, Eastern Cooperative Oncology Group (ECOG) status, Type of Disease for Cohort Purposes, Ki67 cut-off 20%, Histopathologic Type, Histologic Grade, \",\n          \"Age, Continuous, Sex: Female, Male, Race (NIH/OMB), Region of Enrollment, Pre-Intervention Mean Arterial Pressure, Pre-Intervention 25-hydroxyvitamin D3, Pre-Intervention Parathyroid hormone concentration, Pre-Intervention Serum calcium concentration, \"\n        ],\n        \"semantic_type\": \"\",\n        \"description\": \"\"\n      }\n    },\n    {\n      \"column\": \"API_BaselineMeasures_Corrected\",\n      \"properties\": {\n        \"dtype\": \"string\",\n        \"num_unique_values\": 1508,\n        \"samples\": [\n          \"`Age, Continuous`, `Sex: Female, Male`, `Ethnicity (NIH/OMB)`, `Race (NIH/OMB)`, `Region of Enrollment`, `Estimated glomerular filtration rate`, `Systolic blood pressure`, `Use of angiotensin converting enzyme-inhibitor (ACE-I) or angiotensin receptor blocker (ARB)`, `Total body weight`, `Lean body weight`, `Congestive heart failure`, `Serum total carbon dioxide (CO2)`, `Serum potassium`, `Hemoglobin A1c`, `Urinary albumin/creatinine`, `Urinary pH`, `Urinary ammonium`, `Urinary titratable acids`, `Urinary transforming growth factor-B1/creatinine`, `Urinary kidney injury molecule-1/creatinine`, `Urinary fibronectin/creatinine`, `Urinary neutrophil gelatinase-associated lipocalin/creatinine`, \",\n          \"`Age, Categorical`, `Age, Continuous`, `Sex: Female, Male`, `Race (NIH/OMB)`, `Region of Enrollment`, `Menopause Status`, `Eastern Cooperative Oncology Group (ECOG) status`, `Type of Disease for Cohort Purposes`, `Ki67 cut-off 20%`, `Histopathologic Type`, `Histologic Grade`, \",\n          \"`Age, Continuous`, `Sex: Female, Male`, `Race (NIH/OMB)`, `Region of Enrollment`, `Pre-Intervention Mean Arterial Pressure`, `Pre-Intervention 25-hydroxyvitamin D3`, `Pre-Intervention Parathyroid hormone concentration`, `Pre-Intervention Serum calcium concentration`, \"\n        ],\n        \"semantic_type\": \"\",\n        \"description\": \"\"\n      }\n    },\n    {\n      \"column\": \"gpt4o_zs_gen\",\n      \"properties\": {\n        \"dtype\": \"string\",\n        \"num_unique_values\": 1691,\n        \"samples\": [\n          \"`Age`, `Gender`, `BMI`, `Smoking history (cigarettes/day)`, `Duration of smoking (years)`, `Weight Concern Scale score`, `CES-D score`, `Blood pressure (systolic and diastolic)`, `History of psychiatric disorders`, `Current medications`, `Substance abuse history`, `Comorbid medical conditions`, `Geographic location (Olmsted County)`, `Motivation to quit smoking`, `Contraception use (for women of childbearing potential)`\",\n          \"`Age`, `Gender`, `Duration of Type 2 Diabetes`, `HbA1c`, `Body Mass Index (BMI)`, `Basal Insulin Dose`, `Bolus Insulin Dose`, `Use of Oral Antihyperglycemic Medications (OAMs)`, `Use of GLP-1 Receptor Agonist`, `History of Severe Hypoglycemia`, `History of Hyperglycemic Hyperosmolar State`, `History of Diabetic Ketoacidosis`, `Hypoglycemia Unawareness`\",\n          \"`Age`, `Gender`, `Body Mass Index (BMI)`, `Duration of Diabetes`, `Baseline Glycated Hemoglobin (HbA1c)`, `Socioeconomic Status`, `Education Level`, `Employment Status`, `Marital Status`, `Medication Use`, `Physical Activity Level`, `Dietary Habits`, `Smoking Status`, `Alcohol Consumption`, `Comorbidities`, `Baseline Blood Pressure`, `Baseline Lipid Profile`, `Family History of Diabetes`, `Support System Availability`\"\n        ],\n        \"semantic_type\": \"\",\n        \"description\": \"\"\n      }\n    },\n    {\n      \"column\": \"gpt4o_ts_gen\",\n      \"properties\": {\n        \"dtype\": \"string\",\n        \"num_unique_values\": 1692,\n        \"samples\": [\n          \"`Age, Continuous`, `Sex: Female, Male`, `Race/Ethnicity, Customized`, `Region of Enrollment`, `Family history of glaucoma`, `Diabetes status`, `Previous eye care visit`, `Intraocular pressure`, `Fundus photography results`,\",\n          \"`Age, Continuous`, `Sex: Female, Male`, `Race/Ethnicity, Customized`, `Region of Enrollment`, `Body Mass Index`, `Duration of Diabetes`, `HbA1c`, `Daily Insulin Dose`, `Use of Oral Antihyperglycemic Medications`, `Use of Injectable GLP-1 Receptor Agonist`, `History of Severe Hypoglycemia`, `History of Hyperglycemic Hyperosmolar State`, `History of Diabetic Ketoacidosis`,\",\n          \"`Age, Continuous`, `Sex: Female`, `Race/Ethnicity, Customized`, `Region of Enrollment`, `Body Mass Index`, `Systolic Blood Pressure`, `Diastolic Blood Pressure`, `Gestational Age at Delivery`, `Parity`, `Proteinuria`, `Use of Antihypertensive Medication`, `Liver Function Tests (AST, ALT)`, `Platelet Count`, `Renal Function (Creatinine)`,\"\n        ],\n        \"semantic_type\": \"\",\n        \"description\": \"\"\n      }\n    },\n    {\n      \"column\": \"llama3_70b_it_zs_gen\",\n      \"properties\": {\n        \"dtype\": \"string\",\n        \"num_unique_values\": 1692,\n        \"samples\": [\n          \"`Age`, `Sex`, `Race`, `Ethnicity`, `Body Mass Index (BMI)`, `Office Systolic Blood Pressure (OSBP)`, `Office Diastolic Blood Pressure (ODBP)`, `Average 24-hour Ambulatory Systolic Blood Pressure (ASBP)`, `Average 24-hour Ambulatory Diastolic Blood Pressure (ADBP)`, `Estimated Glomerular Filtration Rate (eGFR)`, `Type of Antihypertensive Medications`, `Number of Antihypertensive Medications`, `History of Cardiovascular Disease`, `History of Diabetes`, `History of Kidney Disease`, `History of Heart Failure`.\",\n          \"`Age`, `Sex`, `Race`, `Ethnicity`, `Body Mass Index (BMI)`, `Duration of Type 2 Diabetes`, `HbA1c at Screening`, `Fasting Plasma Glucose at Screening`, `Type and Dose of Basal Insulin`, `Type and Dose of Bolus Insulin`, `Type and Dose of Oral Antihyperglycemic Medications`, `Type and Dose of Injectable GLP-1 Receptor Agonist`, `History of Hypoglycemia`, `History of Hyperglycemic Hyperosmolar State or Diabetic Ketoacidosis`.\",\n          \"`Age`, `Gender`, `Body Mass Index (BMI)`, `HbA1c level`, `Duration of diabetes`, `Type of diabetes treatment`, `Comorbidities`, `Smoking status`, `Education level`, `Occupation`, `Marital status`, `Number of years with partner (for mixed incentives group)`, `Relationship with companion/team support (for mixed incentives group)`.\"\n        ],\n        \"semantic_type\": \"\",\n        \"description\": \"\"\n      }\n    },\n    {\n      \"column\": \"llama3_70b_it_ts_gen\",\n      \"properties\": {\n        \"dtype\": \"string\",\n        \"num_unique_values\": 1677,\n        \"samples\": [\n          \"`Age, Continuous`, `Sex: Female, Male`, `Race/Ethnicity, Customized`, `Region of Enrollment`, `Sturge-Weber syndrome brain involvement`, `Cognitive neuroscore`, `Anti-epileptic, mood or behavioral drugs`, `VNS setting`, `Ketogenic or Atkins diet ratio`, `Seizure frequency`, `Cognitive impairment severity`,\",\n          \"`Age, Continuous`, `Sex: Female, Male`, `Race/Ethnicity, Customized`, `Region of Enrollment`, `ECOG Performance Status`, `Number of Liver Metastases`, `Largest Liver Metastasis Diameter`, `Prior Chemotherapy`, `Prior Radiation Therapy`, `Child-Pugh Classification`, `Underlying Cirrhosis`\",\n          \"`Age, Continuous`, `Sex: Female, Male`, `Race/Ethnicity, Customized`, `Region of Enrollment`, `ECOG Performance Status`, `Serum Creatinine`, `Granulocyte Count`, `Platelet Count`, `Hemoglobin`, `AST`, `ALT`, `Alkaline Phosphatase`, `Bilirubin`, `Tumor Stage`, `Tumor Grade`, `Prior Surgery`, `Prior Intra-vesical Chemotherapy`\"\n        ],\n        \"semantic_type\": \"\",\n        \"description\": \"\"\n      }\n    }\n  ]\n}"
            }
          },
          "metadata": {},
          "execution_count": 6
        }
      ],
      "source": [
        "data.head(3)"
      ]
    },
    {
      "cell_type": "markdown",
      "metadata": {
        "id": "VDNNiqAVYj-N"
      },
      "source": [
        "## Generate Matches based on BERT Score and \"ListMatch BERT\" algorithm mentioned in Paper Supplement."
      ]
    },
    {
      "cell_type": "code",
      "execution_count": 7,
      "metadata": {
        "colab": {
          "base_uri": "https://localhost:8080/"
        },
        "collapsed": true,
        "id": "9ZNh7R90R21V",
        "outputId": "a535e615-cc9a-4aa3-9ee5-8bb524c2f96d"
      },
      "outputs": [
        {
          "output_type": "stream",
          "name": "stderr",
          "text": [
            "\r0it [00:00, ?it/s]"
          ]
        },
        {
          "output_type": "stream",
          "name": "stdout",
          "text": [
            "1. Trial ID:NCT00000620\n",
            "2. Trial ID:NCT00003901\n"
          ]
        },
        {
          "output_type": "stream",
          "name": "stderr",
          "text": [
            "\r2it [00:02,  1.42s/it]"
          ]
        },
        {
          "output_type": "stream",
          "name": "stdout",
          "text": [
            "3. Trial ID:NCT00005879\n"
          ]
        },
        {
          "output_type": "stream",
          "name": "stderr",
          "text": [
            "4it [00:03,  1.52it/s]"
          ]
        },
        {
          "output_type": "stream",
          "name": "stdout",
          "text": [
            "4. Trial ID:NCT00005908\n",
            "5. Trial ID:NCT00006110\n"
          ]
        },
        {
          "output_type": "stream",
          "name": "stderr",
          "text": [
            "6it [00:03,  2.58it/s]"
          ]
        },
        {
          "output_type": "stream",
          "name": "stdout",
          "text": [
            "6. Trial ID:NCT00006392\n",
            "7. Trial ID:NCT00027846\n"
          ]
        },
        {
          "output_type": "stream",
          "name": "stderr",
          "text": [
            "8it [00:04,  3.62it/s]"
          ]
        },
        {
          "output_type": "stream",
          "name": "stdout",
          "text": [
            "8. Trial ID:NCT00028093\n",
            "9. Trial ID:NCT00028769\n"
          ]
        },
        {
          "output_type": "stream",
          "name": "stderr",
          "text": [
            "\r9it [00:04,  3.84it/s]"
          ]
        },
        {
          "output_type": "stream",
          "name": "stdout",
          "text": [
            "10. Trial ID:NCT00052962\n"
          ]
        },
        {
          "output_type": "stream",
          "name": "stderr",
          "text": [
            "11it [00:04,  4.41it/s]"
          ]
        },
        {
          "output_type": "stream",
          "name": "stdout",
          "text": [
            "11. Trial ID:NCT00062764\n",
            "12. Trial ID:NCT00063232\n"
          ]
        },
        {
          "output_type": "stream",
          "name": "stderr",
          "text": [
            "13it [00:05,  4.79it/s]"
          ]
        },
        {
          "output_type": "stream",
          "name": "stdout",
          "text": [
            "13. Trial ID:NCT00063882\n",
            "14. Trial ID:NCT00064753\n"
          ]
        },
        {
          "output_type": "stream",
          "name": "stderr",
          "text": [
            "15it [00:05,  4.94it/s]"
          ]
        },
        {
          "output_type": "stream",
          "name": "stdout",
          "text": [
            "15. Trial ID:NCT00066729\n",
            "16. Trial ID:NCT00069576\n"
          ]
        },
        {
          "output_type": "stream",
          "name": "stderr",
          "text": [
            "17it [00:05,  5.07it/s]"
          ]
        },
        {
          "output_type": "stream",
          "name": "stdout",
          "text": [
            "17. Trial ID:NCT00069784\n",
            "18. Trial ID:NCT00079001\n"
          ]
        },
        {
          "output_type": "stream",
          "name": "stderr",
          "text": [
            "19it [00:06,  5.38it/s]"
          ]
        },
        {
          "output_type": "stream",
          "name": "stdout",
          "text": [
            "19. Trial ID:NCT00079274\n",
            "20. Trial ID:NCT00080301\n"
          ]
        },
        {
          "output_type": "stream",
          "name": "stderr",
          "text": [
            "21it [00:06,  5.41it/s]"
          ]
        },
        {
          "output_type": "stream",
          "name": "stdout",
          "text": [
            "21. Trial ID:NCT00082368\n",
            "22. Trial ID:NCT00085540\n"
          ]
        },
        {
          "output_type": "stream",
          "name": "stderr",
          "text": [
            "23it [00:06,  5.55it/s]"
          ]
        },
        {
          "output_type": "stream",
          "name": "stdout",
          "text": [
            "23. Trial ID:NCT00086580\n",
            "24. Trial ID:NCT00088530\n"
          ]
        },
        {
          "output_type": "stream",
          "name": "stderr",
          "text": [
            "25it [00:07,  5.47it/s]"
          ]
        },
        {
          "output_type": "stream",
          "name": "stdout",
          "text": [
            "25. Trial ID:NCT00090519\n",
            "26. Trial ID:NCT00096382\n"
          ]
        },
        {
          "output_type": "stream",
          "name": "stderr",
          "text": [
            "27it [00:07,  5.23it/s]"
          ]
        },
        {
          "output_type": "stream",
          "name": "stdout",
          "text": [
            "27. Trial ID:NCT00098020\n",
            "28. Trial ID:NCT00100789\n"
          ]
        },
        {
          "output_type": "stream",
          "name": "stderr",
          "text": [
            "\r28it [00:07,  4.66it/s]"
          ]
        },
        {
          "output_type": "stream",
          "name": "stdout",
          "text": [
            "29. Trial ID:NCT00104572\n"
          ]
        },
        {
          "output_type": "stream",
          "name": "stderr",
          "text": [
            "\r29it [00:08,  4.60it/s]"
          ]
        },
        {
          "output_type": "stream",
          "name": "stdout",
          "text": [
            "30. Trial ID:NCT00109031\n"
          ]
        },
        {
          "output_type": "stream",
          "name": "stderr",
          "text": [
            "\r30it [00:08,  4.15it/s]"
          ]
        },
        {
          "output_type": "stream",
          "name": "stdout",
          "text": [
            "31. Trial ID:NCT00110084\n"
          ]
        },
        {
          "output_type": "stream",
          "name": "stderr",
          "text": [
            "32it [00:08,  4.41it/s]"
          ]
        },
        {
          "output_type": "stream",
          "name": "stdout",
          "text": [
            "32. Trial ID:NCT00110214\n",
            "33. Trial ID:NCT00112294\n"
          ]
        },
        {
          "output_type": "stream",
          "name": "stderr",
          "text": [
            "34it [00:09,  4.68it/s]"
          ]
        },
        {
          "output_type": "stream",
          "name": "stdout",
          "text": [
            "34. Trial ID:NCT00113074\n",
            "35. Trial ID:NCT00116779\n"
          ]
        },
        {
          "output_type": "stream",
          "name": "stderr",
          "text": [
            "\r35it [00:09,  5.30it/s]"
          ]
        },
        {
          "output_type": "stream",
          "name": "stdout",
          "text": [
            "36. Trial ID:NCT00116831\n"
          ]
        },
        {
          "output_type": "stream",
          "name": "stderr",
          "text": [
            "37it [00:09,  4.92it/s]"
          ]
        },
        {
          "output_type": "stream",
          "name": "stdout",
          "text": [
            "37. Trial ID:NCT00117962\n",
            "38. Trial ID:NCT00118040\n"
          ]
        },
        {
          "output_type": "stream",
          "name": "stderr",
          "text": [
            "39it [00:10,  5.03it/s]"
          ]
        },
        {
          "output_type": "stream",
          "name": "stdout",
          "text": [
            "39. Trial ID:NCT00121667\n",
            "40. Trial ID:NCT00125853\n"
          ]
        },
        {
          "output_type": "stream",
          "name": "stderr",
          "text": [
            "41it [00:10,  5.32it/s]"
          ]
        },
        {
          "output_type": "stream",
          "name": "stdout",
          "text": [
            "41. Trial ID:NCT00126581\n",
            "42. Trial ID:NCT00126594\n"
          ]
        },
        {
          "output_type": "stream",
          "name": "stderr",
          "text": [
            "43it [00:10,  5.47it/s]"
          ]
        },
        {
          "output_type": "stream",
          "name": "stdout",
          "text": [
            "43. Trial ID:NCT00126737\n",
            "44. Trial ID:NCT00129376\n"
          ]
        },
        {
          "output_type": "stream",
          "name": "stderr",
          "text": [
            "45it [00:11,  5.08it/s]"
          ]
        },
        {
          "output_type": "stream",
          "name": "stdout",
          "text": [
            "45. Trial ID:NCT00129389\n",
            "46. Trial ID:NCT00135707\n"
          ]
        },
        {
          "output_type": "stream",
          "name": "stderr",
          "text": [
            "\r46it [00:11,  5.02it/s]"
          ]
        },
        {
          "output_type": "stream",
          "name": "stdout",
          "text": [
            "47. Trial ID:NCT00137280\n"
          ]
        },
        {
          "output_type": "stream",
          "name": "stderr",
          "text": [
            "\r47it [00:11,  4.29it/s]"
          ]
        },
        {
          "output_type": "stream",
          "name": "stdout",
          "text": [
            "48. Trial ID:NCT00147199\n"
          ]
        },
        {
          "output_type": "stream",
          "name": "stderr",
          "text": [
            "\r48it [00:12,  4.04it/s]"
          ]
        },
        {
          "output_type": "stream",
          "name": "stdout",
          "text": [
            "49. Trial ID:NCT00151775\n"
          ]
        },
        {
          "output_type": "stream",
          "name": "stderr",
          "text": [
            "\r49it [00:12,  3.76it/s]"
          ]
        },
        {
          "output_type": "stream",
          "name": "stdout",
          "text": [
            "50. Trial ID:NCT00182689\n"
          ]
        },
        {
          "output_type": "stream",
          "name": "stderr",
          "text": [
            "\r50it [00:12,  3.86it/s]"
          ]
        },
        {
          "output_type": "stream",
          "name": "stdout",
          "text": [
            "51. Trial ID:NCT00191191\n"
          ]
        },
        {
          "output_type": "stream",
          "name": "stderr",
          "text": [
            "\r51it [00:13,  3.78it/s]"
          ]
        },
        {
          "output_type": "stream",
          "name": "stdout",
          "text": [
            "52. Trial ID:NCT00191646\n"
          ]
        },
        {
          "output_type": "stream",
          "name": "stderr",
          "text": [
            "\r52it [00:13,  3.65it/s]"
          ]
        },
        {
          "output_type": "stream",
          "name": "stdout",
          "text": [
            "53. Trial ID:NCT00191789\n"
          ]
        },
        {
          "output_type": "stream",
          "name": "stderr",
          "text": [
            "\r53it [00:13,  3.41it/s]"
          ]
        },
        {
          "output_type": "stream",
          "name": "stdout",
          "text": [
            "54. Trial ID:NCT00192114\n"
          ]
        },
        {
          "output_type": "stream",
          "name": "stderr",
          "text": [
            "\r54it [00:14,  2.70it/s]"
          ]
        },
        {
          "output_type": "stream",
          "name": "stdout",
          "text": [
            "55. Trial ID:NCT00194714\n"
          ]
        },
        {
          "output_type": "stream",
          "name": "stderr",
          "text": [
            "\r55it [00:14,  2.06it/s]"
          ]
        },
        {
          "output_type": "stream",
          "name": "stdout",
          "text": [
            "56. Trial ID:NCT00201825\n"
          ]
        },
        {
          "output_type": "stream",
          "name": "stderr",
          "text": [
            "\r56it [00:15,  1.85it/s]"
          ]
        },
        {
          "output_type": "stream",
          "name": "stdout",
          "text": [
            "57. Trial ID:NCT00205660\n"
          ]
        },
        {
          "output_type": "stream",
          "name": "stderr",
          "text": [
            "\r57it [00:16,  1.77it/s]"
          ]
        },
        {
          "output_type": "stream",
          "name": "stdout",
          "text": [
            "58. Trial ID:NCT00213980\n"
          ]
        },
        {
          "output_type": "stream",
          "name": "stderr",
          "text": [
            "\r58it [00:16,  1.94it/s]"
          ]
        },
        {
          "output_type": "stream",
          "name": "stdout",
          "text": [
            "59. Trial ID:NCT00217672\n"
          ]
        },
        {
          "output_type": "stream",
          "name": "stderr",
          "text": [
            "\r59it [00:17,  2.00it/s]"
          ]
        },
        {
          "output_type": "stream",
          "name": "stdout",
          "text": [
            "60. Trial ID:NCT00234494\n"
          ]
        },
        {
          "output_type": "stream",
          "name": "stderr",
          "text": [
            "\r60it [00:17,  2.04it/s]"
          ]
        },
        {
          "output_type": "stream",
          "name": "stdout",
          "text": [
            "61. Trial ID:NCT00234533\n"
          ]
        },
        {
          "output_type": "stream",
          "name": "stderr",
          "text": [
            "\r61it [00:18,  2.14it/s]"
          ]
        },
        {
          "output_type": "stream",
          "name": "stdout",
          "text": [
            "62. Trial ID:NCT00254501\n"
          ]
        },
        {
          "output_type": "stream",
          "name": "stderr",
          "text": [
            "\r62it [00:18,  2.35it/s]"
          ]
        },
        {
          "output_type": "stream",
          "name": "stdout",
          "text": [
            "63. Trial ID:NCT00257920\n"
          ]
        },
        {
          "output_type": "stream",
          "name": "stderr",
          "text": [
            "\r63it [00:18,  2.58it/s]"
          ]
        },
        {
          "output_type": "stream",
          "name": "stdout",
          "text": [
            "64. Trial ID:NCT00258362\n"
          ]
        },
        {
          "output_type": "stream",
          "name": "stderr",
          "text": [
            "\r64it [00:18,  2.67it/s]"
          ]
        },
        {
          "output_type": "stream",
          "name": "stdout",
          "text": [
            "65. Trial ID:NCT00258674\n"
          ]
        },
        {
          "output_type": "stream",
          "name": "stderr",
          "text": [
            "\r65it [00:19,  2.62it/s]"
          ]
        },
        {
          "output_type": "stream",
          "name": "stdout",
          "text": [
            "66. Trial ID:NCT00262964\n"
          ]
        },
        {
          "output_type": "stream",
          "name": "stderr",
          "text": [
            "\r66it [00:19,  2.84it/s]"
          ]
        },
        {
          "output_type": "stream",
          "name": "stdout",
          "text": [
            "67. Trial ID:NCT00266695\n"
          ]
        },
        {
          "output_type": "stream",
          "name": "stderr",
          "text": [
            "\r67it [00:19,  3.05it/s]"
          ]
        },
        {
          "output_type": "stream",
          "name": "stdout",
          "text": [
            "68. Trial ID:NCT00268892\n"
          ]
        },
        {
          "output_type": "stream",
          "name": "stderr",
          "text": [
            "\r68it [00:20,  3.04it/s]"
          ]
        },
        {
          "output_type": "stream",
          "name": "stdout",
          "text": [
            "69. Trial ID:NCT00270855\n"
          ]
        },
        {
          "output_type": "stream",
          "name": "stderr",
          "text": [
            "\r69it [00:20,  3.16it/s]"
          ]
        },
        {
          "output_type": "stream",
          "name": "stdout",
          "text": [
            "70. Trial ID:NCT00279201\n"
          ]
        },
        {
          "output_type": "stream",
          "name": "stderr",
          "text": [
            "\r70it [00:20,  3.25it/s]"
          ]
        },
        {
          "output_type": "stream",
          "name": "stdout",
          "text": [
            "71. Trial ID:NCT00283244\n"
          ]
        },
        {
          "output_type": "stream",
          "name": "stderr",
          "text": [
            "\r71it [00:21,  3.08it/s]"
          ]
        },
        {
          "output_type": "stream",
          "name": "stdout",
          "text": [
            "72. Trial ID:NCT00283686\n"
          ]
        },
        {
          "output_type": "stream",
          "name": "stderr",
          "text": [
            "\r72it [00:21,  3.35it/s]"
          ]
        },
        {
          "output_type": "stream",
          "name": "stdout",
          "text": [
            "73. Trial ID:NCT00286091\n"
          ]
        },
        {
          "output_type": "stream",
          "name": "stderr",
          "text": [
            "\r73it [00:21,  3.19it/s]"
          ]
        },
        {
          "output_type": "stream",
          "name": "stdout",
          "text": [
            "74. Trial ID:NCT00286754\n"
          ]
        },
        {
          "output_type": "stream",
          "name": "stderr",
          "text": [
            "\r74it [00:22,  3.19it/s]"
          ]
        },
        {
          "output_type": "stream",
          "name": "stdout",
          "text": [
            "75. Trial ID:NCT00295620\n"
          ]
        },
        {
          "output_type": "stream",
          "name": "stderr",
          "text": [
            "\r75it [00:22,  3.48it/s]"
          ]
        },
        {
          "output_type": "stream",
          "name": "stdout",
          "text": [
            "76. Trial ID:NCT00295750\n"
          ]
        },
        {
          "output_type": "stream",
          "name": "stderr",
          "text": [
            "\r76it [00:22,  3.25it/s]"
          ]
        },
        {
          "output_type": "stream",
          "name": "stdout",
          "text": [
            "77. Trial ID:NCT00306384\n"
          ]
        },
        {
          "output_type": "stream",
          "name": "stderr",
          "text": [
            "\r77it [00:23,  3.09it/s]"
          ]
        },
        {
          "output_type": "stream",
          "name": "stdout",
          "text": [
            "78. Trial ID:NCT00308139\n"
          ]
        },
        {
          "output_type": "stream",
          "name": "stderr",
          "text": [
            "79it [00:23,  3.51it/s]"
          ]
        },
        {
          "output_type": "stream",
          "name": "stdout",
          "text": [
            "79. Trial ID:NCT00309140\n",
            "80. Trial ID:NCT00311155\n"
          ]
        },
        {
          "output_type": "stream",
          "name": "stderr",
          "text": [
            "\r80it [00:24,  3.02it/s]"
          ]
        },
        {
          "output_type": "stream",
          "name": "stdout",
          "text": [
            "81. Trial ID:NCT00314795\n"
          ]
        },
        {
          "output_type": "stream",
          "name": "stderr",
          "text": [
            "82it [00:24,  3.90it/s]"
          ]
        },
        {
          "output_type": "stream",
          "name": "stdout",
          "text": [
            "82. Trial ID:NCT00316225\n",
            "83. Trial ID:NCT00319111\n"
          ]
        },
        {
          "output_type": "stream",
          "name": "stderr",
          "text": [
            "84it [00:24,  4.75it/s]"
          ]
        },
        {
          "output_type": "stream",
          "name": "stdout",
          "text": [
            "84. Trial ID:NCT00320112\n",
            "85. Trial ID:NCT00321555\n"
          ]
        },
        {
          "output_type": "stream",
          "name": "stderr",
          "text": [
            "86it [00:25,  5.26it/s]"
          ]
        },
        {
          "output_type": "stream",
          "name": "stdout",
          "text": [
            "86. Trial ID:NCT00321620\n",
            "87. Trial ID:NCT00322621\n"
          ]
        },
        {
          "output_type": "stream",
          "name": "stderr",
          "text": [
            "88it [00:25,  5.29it/s]"
          ]
        },
        {
          "output_type": "stream",
          "name": "stdout",
          "text": [
            "88. Trial ID:NCT00323882\n",
            "89. Trial ID:NCT00324155\n"
          ]
        },
        {
          "output_type": "stream",
          "name": "stderr",
          "text": [
            "90it [00:25,  5.53it/s]"
          ]
        },
        {
          "output_type": "stream",
          "name": "stdout",
          "text": [
            "90. Trial ID:NCT00325403\n",
            "91. Trial ID:NCT00325442\n"
          ]
        },
        {
          "output_type": "stream",
          "name": "stderr",
          "text": [
            "92it [00:26,  5.36it/s]"
          ]
        },
        {
          "output_type": "stream",
          "name": "stdout",
          "text": [
            "92. Trial ID:NCT00326495\n",
            "93. Trial ID:NCT00328172\n"
          ]
        },
        {
          "output_type": "stream",
          "name": "stderr",
          "text": [
            "\r93it [00:26,  4.33it/s]"
          ]
        },
        {
          "output_type": "stream",
          "name": "stdout",
          "text": [
            "94. Trial ID:NCT00328562\n"
          ]
        },
        {
          "output_type": "stream",
          "name": "stderr",
          "text": [
            "\r94it [00:26,  3.48it/s]"
          ]
        },
        {
          "output_type": "stream",
          "name": "stdout",
          "text": [
            "95. Trial ID:NCT00329030\n"
          ]
        },
        {
          "output_type": "stream",
          "name": "stderr",
          "text": [
            "96it [00:27,  3.71it/s]"
          ]
        },
        {
          "output_type": "stream",
          "name": "stdout",
          "text": [
            "96. Trial ID:NCT00336323\n",
            "97. Trial ID:NCT00337610\n"
          ]
        },
        {
          "output_type": "stream",
          "name": "stderr",
          "text": [
            "98it [00:27,  4.84it/s]"
          ]
        },
        {
          "output_type": "stream",
          "name": "stdout",
          "text": [
            "98. Trial ID:NCT00338949\n",
            "99. Trial ID:NCT00339833\n"
          ]
        },
        {
          "output_type": "stream",
          "name": "stderr",
          "text": [
            "\r99it [00:27,  5.30it/s]"
          ]
        },
        {
          "output_type": "stream",
          "name": "stdout",
          "text": [
            "100. Trial ID:NCT00343291\n"
          ]
        },
        {
          "output_type": "stream",
          "name": "stderr",
          "text": [
            "101it [00:28,  5.09it/s]"
          ]
        },
        {
          "output_type": "stream",
          "name": "stdout",
          "text": [
            "101. Trial ID:NCT00343382\n",
            "102. Trial ID:NCT00344500\n"
          ]
        },
        {
          "output_type": "stream",
          "name": "stderr",
          "text": [
            "103it [00:28,  5.27it/s]"
          ]
        },
        {
          "output_type": "stream",
          "name": "stdout",
          "text": [
            "103. Trial ID:NCT00348595\n",
            "104. Trial ID:NCT00350025\n"
          ]
        },
        {
          "output_type": "stream",
          "name": "stderr",
          "text": [
            "105it [00:29,  5.61it/s]"
          ]
        },
        {
          "output_type": "stream",
          "name": "stdout",
          "text": [
            "105. Trial ID:NCT00350792\n",
            "106. Trial ID:NCT00354744\n"
          ]
        },
        {
          "output_type": "stream",
          "name": "stderr",
          "text": [
            "107it [00:29,  5.74it/s]"
          ]
        },
        {
          "output_type": "stream",
          "name": "stdout",
          "text": [
            "107. Trial ID:NCT00360334\n",
            "108. Trial ID:NCT00363129\n"
          ]
        },
        {
          "output_type": "stream",
          "name": "stderr",
          "text": [
            "109it [00:29,  5.79it/s]"
          ]
        },
        {
          "output_type": "stream",
          "name": "stdout",
          "text": [
            "109. Trial ID:NCT00365794\n",
            "110. Trial ID:NCT00367601\n"
          ]
        },
        {
          "output_type": "stream",
          "name": "stderr",
          "text": [
            "111it [00:30,  5.53it/s]"
          ]
        },
        {
          "output_type": "stream",
          "name": "stdout",
          "text": [
            "111. Trial ID:NCT00369655\n"
          ]
        },
        {
          "output_type": "stream",
          "name": "stderr",
          "text": [
            "\r112it [00:30,  5.50it/s]"
          ]
        },
        {
          "output_type": "stream",
          "name": "stdout",
          "text": [
            "112. Trial ID:NCT00370292\n",
            "113. Trial ID:NCT00373360\n"
          ]
        },
        {
          "output_type": "stream",
          "name": "stderr",
          "text": [
            "114it [00:30,  6.43it/s]"
          ]
        },
        {
          "output_type": "stream",
          "name": "stdout",
          "text": [
            "114. Trial ID:NCT00373425\n",
            "115. Trial ID:NCT00373529\n"
          ]
        },
        {
          "output_type": "stream",
          "name": "stderr",
          "text": [
            "116it [00:30,  6.93it/s]"
          ]
        },
        {
          "output_type": "stream",
          "name": "stdout",
          "text": [
            "116. Trial ID:NCT00375492\n",
            "117. Trial ID:NCT00375830\n"
          ]
        },
        {
          "output_type": "stream",
          "name": "stderr",
          "text": [
            "118it [00:31,  7.81it/s]"
          ]
        },
        {
          "output_type": "stream",
          "name": "stdout",
          "text": [
            "118. Trial ID:NCT00377520\n",
            "119. Trial ID:NCT00381940\n"
          ]
        },
        {
          "output_type": "stream",
          "name": "stderr",
          "text": [
            "120it [00:31,  7.62it/s]"
          ]
        },
        {
          "output_type": "stream",
          "name": "stdout",
          "text": [
            "120. Trial ID:NCT00385580\n",
            "121. Trial ID:NCT00392925\n"
          ]
        },
        {
          "output_type": "stream",
          "name": "stderr",
          "text": [
            "122it [00:31,  7.44it/s]"
          ]
        },
        {
          "output_type": "stream",
          "name": "stdout",
          "text": [
            "122. Trial ID:NCT00393029\n",
            "123. Trial ID:NCT00394082\n"
          ]
        },
        {
          "output_type": "stream",
          "name": "stderr",
          "text": [
            "124it [00:31,  7.44it/s]"
          ]
        },
        {
          "output_type": "stream",
          "name": "stdout",
          "text": [
            "124. Trial ID:NCT00395512\n",
            "125. Trial ID:NCT00395746\n"
          ]
        },
        {
          "output_type": "stream",
          "name": "stderr",
          "text": [
            "126it [00:32,  7.55it/s]"
          ]
        },
        {
          "output_type": "stream",
          "name": "stdout",
          "text": [
            "126. Trial ID:NCT00396591\n",
            "127. Trial ID:NCT00397930\n"
          ]
        },
        {
          "output_type": "stream",
          "name": "stderr",
          "text": [
            "128it [00:32,  6.97it/s]"
          ]
        },
        {
          "output_type": "stream",
          "name": "stdout",
          "text": [
            "128. Trial ID:NCT00397982\n",
            "129. Trial ID:NCT00398112\n"
          ]
        },
        {
          "output_type": "stream",
          "name": "stderr",
          "text": [
            "130it [00:32,  6.91it/s]"
          ]
        },
        {
          "output_type": "stream",
          "name": "stdout",
          "text": [
            "130. Trial ID:NCT00403481\n",
            "131. Trial ID:NCT00406133\n"
          ]
        },
        {
          "output_type": "stream",
          "name": "stderr",
          "text": [
            "132it [00:32,  7.21it/s]"
          ]
        },
        {
          "output_type": "stream",
          "name": "stdout",
          "text": [
            "132. Trial ID:NCT00408681\n",
            "133. Trial ID:NCT00409565\n"
          ]
        },
        {
          "output_type": "stream",
          "name": "stderr",
          "text": [
            "134it [00:33,  6.80it/s]"
          ]
        },
        {
          "output_type": "stream",
          "name": "stdout",
          "text": [
            "134. Trial ID:NCT00412932\n",
            "135. Trial ID:NCT00415194\n"
          ]
        },
        {
          "output_type": "stream",
          "name": "stderr",
          "text": [
            "136it [00:33,  7.38it/s]"
          ]
        },
        {
          "output_type": "stream",
          "name": "stdout",
          "text": [
            "136. Trial ID:NCT00415610\n",
            "137. Trial ID:NCT00417079\n"
          ]
        },
        {
          "output_type": "stream",
          "name": "stderr",
          "text": [
            "138it [00:33,  7.82it/s]"
          ]
        },
        {
          "output_type": "stream",
          "name": "stdout",
          "text": [
            "138. Trial ID:NCT00419562\n",
            "139. Trial ID:NCT00420095\n"
          ]
        },
        {
          "output_type": "stream",
          "name": "stderr",
          "text": [
            "140it [00:34,  8.23it/s]"
          ]
        },
        {
          "output_type": "stream",
          "name": "stdout",
          "text": [
            "140. Trial ID:NCT00420342\n",
            "141. Trial ID:NCT00422058\n"
          ]
        },
        {
          "output_type": "stream",
          "name": "stderr",
          "text": [
            "142it [00:34,  7.76it/s]"
          ]
        },
        {
          "output_type": "stream",
          "name": "stdout",
          "text": [
            "142. Trial ID:NCT00423592\n",
            "143. Trial ID:NCT00424021\n"
          ]
        },
        {
          "output_type": "stream",
          "name": "stderr",
          "text": [
            "144it [00:34,  8.15it/s]"
          ]
        },
        {
          "output_type": "stream",
          "name": "stdout",
          "text": [
            "144. Trial ID:NCT00425269\n",
            "145. Trial ID:NCT00430638\n"
          ]
        },
        {
          "output_type": "stream",
          "name": "stderr",
          "text": [
            "146it [00:34,  8.00it/s]"
          ]
        },
        {
          "output_type": "stream",
          "name": "stdout",
          "text": [
            "146. Trial ID:NCT00432276\n",
            "147. Trial ID:NCT00432809\n"
          ]
        },
        {
          "output_type": "stream",
          "name": "stderr",
          "text": [
            "148it [00:35,  7.19it/s]"
          ]
        },
        {
          "output_type": "stream",
          "name": "stdout",
          "text": [
            "148. Trial ID:NCT00433446\n",
            "149. Trial ID:NCT00438932\n"
          ]
        },
        {
          "output_type": "stream",
          "name": "stderr",
          "text": [
            "150it [00:35,  7.72it/s]"
          ]
        },
        {
          "output_type": "stream",
          "name": "stdout",
          "text": [
            "150. Trial ID:NCT00441064\n",
            "151. Trial ID:NCT00441350\n"
          ]
        },
        {
          "output_type": "stream",
          "name": "stderr",
          "text": [
            "152it [00:35,  7.83it/s]"
          ]
        },
        {
          "output_type": "stream",
          "name": "stdout",
          "text": [
            "152. Trial ID:NCT00443755\n",
            "153. Trial ID:NCT00445003\n"
          ]
        },
        {
          "output_type": "stream",
          "name": "stderr",
          "text": [
            "154it [00:35,  6.74it/s]"
          ]
        },
        {
          "output_type": "stream",
          "name": "stdout",
          "text": [
            "154. Trial ID:NCT00445601\n",
            "155. Trial ID:NCT00446030\n"
          ]
        },
        {
          "output_type": "stream",
          "name": "stderr",
          "text": [
            "156it [00:36,  6.69it/s]"
          ]
        },
        {
          "output_type": "stream",
          "name": "stdout",
          "text": [
            "156. Trial ID:NCT00446992\n",
            "157. Trial ID:NCT00447057\n"
          ]
        },
        {
          "output_type": "stream",
          "name": "stderr",
          "text": [
            "158it [00:36,  7.53it/s]"
          ]
        },
        {
          "output_type": "stream",
          "name": "stdout",
          "text": [
            "158. Trial ID:NCT00447382\n",
            "159. Trial ID:NCT00447590\n"
          ]
        },
        {
          "output_type": "stream",
          "name": "stderr",
          "text": [
            "160it [00:36,  7.55it/s]"
          ]
        },
        {
          "output_type": "stream",
          "name": "stdout",
          "text": [
            "160. Trial ID:NCT00454194\n",
            "161. Trial ID:NCT00456365\n"
          ]
        },
        {
          "output_type": "stream",
          "name": "stderr",
          "text": [
            "162it [00:37,  7.56it/s]"
          ]
        },
        {
          "output_type": "stream",
          "name": "stdout",
          "text": [
            "162. Trial ID:NCT00456885\n",
            "163. Trial ID:NCT00458003\n"
          ]
        },
        {
          "output_type": "stream",
          "name": "stderr",
          "text": [
            "164it [00:37,  7.52it/s]"
          ]
        },
        {
          "output_type": "stream",
          "name": "stdout",
          "text": [
            "164. Trial ID:NCT00461591\n",
            "165. Trial ID:NCT00469092\n"
          ]
        },
        {
          "output_type": "stream",
          "name": "stderr",
          "text": [
            "166it [00:37,  7.84it/s]"
          ]
        },
        {
          "output_type": "stream",
          "name": "stdout",
          "text": [
            "166. Trial ID:NCT00472641\n",
            "167. Trial ID:NCT00475982\n"
          ]
        },
        {
          "output_type": "stream",
          "name": "stderr",
          "text": [
            "168it [00:37,  7.83it/s]"
          ]
        },
        {
          "output_type": "stream",
          "name": "stdout",
          "text": [
            "168. Trial ID:NCT00477750\n",
            "169. Trial ID:NCT00484419\n"
          ]
        },
        {
          "output_type": "stream",
          "name": "stderr",
          "text": [
            "170it [00:38,  7.32it/s]"
          ]
        },
        {
          "output_type": "stream",
          "name": "stdout",
          "text": [
            "170. Trial ID:NCT00486525\n",
            "171. Trial ID:NCT00487240\n"
          ]
        },
        {
          "output_type": "stream",
          "name": "stderr",
          "text": [
            "172it [00:38,  7.41it/s]"
          ]
        },
        {
          "output_type": "stream",
          "name": "stdout",
          "text": [
            "172. Trial ID:NCT00488982\n",
            "173. Trial ID:NCT00490529\n"
          ]
        },
        {
          "output_type": "stream",
          "name": "stderr",
          "text": [
            "174it [00:38,  7.76it/s]"
          ]
        },
        {
          "output_type": "stream",
          "name": "stdout",
          "text": [
            "174. Trial ID:NCT00490646\n",
            "175. Trial ID:NCT00496834\n"
          ]
        },
        {
          "output_type": "stream",
          "name": "stderr",
          "text": [
            "176it [00:38,  7.74it/s]"
          ]
        },
        {
          "output_type": "stream",
          "name": "stdout",
          "text": [
            "176. Trial ID:NCT00497146\n",
            "177. Trial ID:NCT00513604\n"
          ]
        },
        {
          "output_type": "stream",
          "name": "stderr",
          "text": [
            "178it [00:39,  7.27it/s]"
          ]
        },
        {
          "output_type": "stream",
          "name": "stdout",
          "text": [
            "178. Trial ID:NCT00514046\n",
            "179. Trial ID:NCT00515723\n"
          ]
        },
        {
          "output_type": "stream",
          "name": "stderr",
          "text": [
            "180it [00:39,  7.70it/s]"
          ]
        },
        {
          "output_type": "stream",
          "name": "stdout",
          "text": [
            "180. Trial ID:NCT00518882\n",
            "181. Trial ID:NCT00525629\n"
          ]
        },
        {
          "output_type": "stream",
          "name": "stderr",
          "text": [
            "182it [00:39,  8.12it/s]"
          ]
        },
        {
          "output_type": "stream",
          "name": "stdout",
          "text": [
            "182. Trial ID:NCT00527514\n",
            "183. Trial ID:NCT00528879\n"
          ]
        },
        {
          "output_type": "stream",
          "name": "stderr",
          "text": [
            "184it [00:39,  7.69it/s]"
          ]
        },
        {
          "output_type": "stream",
          "name": "stdout",
          "text": [
            "184. Trial ID:NCT00532155\n",
            "185. Trial ID:NCT00532844\n"
          ]
        },
        {
          "output_type": "stream",
          "name": "stderr",
          "text": [
            "186it [00:40,  8.03it/s]"
          ]
        },
        {
          "output_type": "stream",
          "name": "stdout",
          "text": [
            "186. Trial ID:NCT00532935\n",
            "187. Trial ID:NCT00533429\n"
          ]
        },
        {
          "output_type": "stream",
          "name": "stderr",
          "text": [
            "188it [00:40,  7.83it/s]"
          ]
        },
        {
          "output_type": "stream",
          "name": "stdout",
          "text": [
            "188. Trial ID:NCT00536172\n",
            "189. Trial ID:NCT00537303\n"
          ]
        },
        {
          "output_type": "stream",
          "name": "stderr",
          "text": [
            "190it [00:40,  6.85it/s]"
          ]
        },
        {
          "output_type": "stream",
          "name": "stdout",
          "text": [
            "190. Trial ID:NCT00543140\n",
            "191. Trial ID:NCT00546052\n"
          ]
        },
        {
          "output_type": "stream",
          "name": "stderr",
          "text": [
            "192it [00:41,  6.59it/s]"
          ]
        },
        {
          "output_type": "stream",
          "name": "stdout",
          "text": [
            "192. Trial ID:NCT00548652\n",
            "193. Trial ID:NCT00549302\n"
          ]
        },
        {
          "output_type": "stream",
          "name": "stderr",
          "text": [
            "194it [00:41,  6.51it/s]"
          ]
        },
        {
          "output_type": "stream",
          "name": "stdout",
          "text": [
            "194. Trial ID:NCT00552409\n",
            "195. Trial ID:NCT00556933\n"
          ]
        },
        {
          "output_type": "stream",
          "name": "stderr",
          "text": [
            "196it [00:41,  6.67it/s]"
          ]
        },
        {
          "output_type": "stream",
          "name": "stdout",
          "text": [
            "196. Trial ID:NCT00560391\n",
            "197. Trial ID:NCT00560417\n"
          ]
        },
        {
          "output_type": "stream",
          "name": "stderr",
          "text": [
            "198it [00:41,  6.00it/s]"
          ]
        },
        {
          "output_type": "stream",
          "name": "stdout",
          "text": [
            "198. Trial ID:NCT00566995\n",
            "199. Trial ID:NCT00568178\n"
          ]
        },
        {
          "output_type": "stream",
          "name": "stderr",
          "text": [
            "200it [00:42,  5.61it/s]"
          ]
        },
        {
          "output_type": "stream",
          "name": "stdout",
          "text": [
            "200. Trial ID:NCT00572533\n",
            "201. Trial ID:NCT00578214\n"
          ]
        },
        {
          "output_type": "stream",
          "name": "stderr",
          "text": [
            "202it [00:42,  5.68it/s]"
          ]
        },
        {
          "output_type": "stream",
          "name": "stdout",
          "text": [
            "202. Trial ID:NCT00578786\n",
            "203. Trial ID:NCT00579436\n"
          ]
        },
        {
          "output_type": "stream",
          "name": "stderr",
          "text": [
            "204it [00:43,  5.57it/s]"
          ]
        },
        {
          "output_type": "stream",
          "name": "stdout",
          "text": [
            "204. Trial ID:NCT00585689\n",
            "205. Trial ID:NCT00587158\n"
          ]
        },
        {
          "output_type": "stream",
          "name": "stderr",
          "text": [
            "206it [00:43,  5.60it/s]"
          ]
        },
        {
          "output_type": "stream",
          "name": "stdout",
          "text": [
            "206. Trial ID:NCT00593866\n",
            "207. Trial ID:NCT00596427\n"
          ]
        },
        {
          "output_type": "stream",
          "name": "stderr",
          "text": [
            "208it [00:43,  6.18it/s]"
          ]
        },
        {
          "output_type": "stream",
          "name": "stdout",
          "text": [
            "208. Trial ID:NCT00596934\n",
            "209. Trial ID:NCT00602420\n"
          ]
        },
        {
          "output_type": "stream",
          "name": "stderr",
          "text": [
            "210it [00:43,  6.87it/s]"
          ]
        },
        {
          "output_type": "stream",
          "name": "stdout",
          "text": [
            "210. Trial ID:NCT00603590\n",
            "211. Trial ID:NCT00608062\n"
          ]
        },
        {
          "output_type": "stream",
          "name": "stderr",
          "text": [
            "212it [00:44,  7.09it/s]"
          ]
        },
        {
          "output_type": "stream",
          "name": "stdout",
          "text": [
            "212. Trial ID:NCT00609271\n",
            "213. Trial ID:NCT00610714\n"
          ]
        },
        {
          "output_type": "stream",
          "name": "stderr",
          "text": [
            "214it [00:44,  7.19it/s]"
          ]
        },
        {
          "output_type": "stream",
          "name": "stdout",
          "text": [
            "214. Trial ID:NCT00613626\n",
            "215. Trial ID:NCT00614120\n"
          ]
        },
        {
          "output_type": "stream",
          "name": "stderr",
          "text": [
            "216it [00:44,  7.66it/s]"
          ]
        },
        {
          "output_type": "stream",
          "name": "stdout",
          "text": [
            "216. Trial ID:NCT00614523\n",
            "217. Trial ID:NCT00615420\n"
          ]
        },
        {
          "output_type": "stream",
          "name": "stderr",
          "text": [
            "218it [00:45,  7.76it/s]"
          ]
        },
        {
          "output_type": "stream",
          "name": "stdout",
          "text": [
            "218. Trial ID:NCT00617305\n",
            "219. Trial ID:NCT00618072\n"
          ]
        },
        {
          "output_type": "stream",
          "name": "stderr",
          "text": [
            "220it [00:45,  7.62it/s]"
          ]
        },
        {
          "output_type": "stream",
          "name": "stdout",
          "text": [
            "220. Trial ID:NCT00618995\n",
            "221. Trial ID:NCT00620282\n"
          ]
        },
        {
          "output_type": "stream",
          "name": "stderr",
          "text": [
            "222it [00:45,  7.64it/s]"
          ]
        },
        {
          "output_type": "stream",
          "name": "stdout",
          "text": [
            "222. Trial ID:NCT00622284\n",
            "223. Trial ID:NCT00623194\n"
          ]
        },
        {
          "output_type": "stream",
          "name": "stderr",
          "text": [
            "224it [00:45,  8.22it/s]"
          ]
        },
        {
          "output_type": "stream",
          "name": "stdout",
          "text": [
            "224. Trial ID:NCT00623831\n",
            "225. Trial ID:NCT00630825\n"
          ]
        },
        {
          "output_type": "stream",
          "name": "stderr",
          "text": [
            "226it [00:46,  8.02it/s]"
          ]
        },
        {
          "output_type": "stream",
          "name": "stdout",
          "text": [
            "226. Trial ID:NCT00631540\n",
            "227. Trial ID:NCT00633594\n"
          ]
        },
        {
          "output_type": "stream",
          "name": "stderr",
          "text": [
            "228it [00:46,  6.91it/s]"
          ]
        },
        {
          "output_type": "stream",
          "name": "stdout",
          "text": [
            "228. Trial ID:NCT00634036\n",
            "229. Trial ID:NCT00645840\n"
          ]
        },
        {
          "output_type": "stream",
          "name": "stderr",
          "text": [
            "230it [00:46,  7.42it/s]"
          ]
        },
        {
          "output_type": "stream",
          "name": "stdout",
          "text": [
            "230. Trial ID:NCT00649389\n",
            "231. Trial ID:NCT00652626\n"
          ]
        },
        {
          "output_type": "stream",
          "name": "stderr",
          "text": [
            "232it [00:46,  7.31it/s]"
          ]
        },
        {
          "output_type": "stream",
          "name": "stdout",
          "text": [
            "232. Trial ID:NCT00654745\n",
            "233. Trial ID:NCT00655863\n"
          ]
        },
        {
          "output_type": "stream",
          "name": "stderr",
          "text": [
            "234it [00:47,  7.52it/s]"
          ]
        },
        {
          "output_type": "stream",
          "name": "stdout",
          "text": [
            "234. Trial ID:NCT00661830\n",
            "235. Trial ID:NCT00663260\n"
          ]
        },
        {
          "output_type": "stream",
          "name": "stderr",
          "text": [
            "236it [00:47,  7.76it/s]"
          ]
        },
        {
          "output_type": "stream",
          "name": "stdout",
          "text": [
            "236. Trial ID:NCT00666328\n",
            "237. Trial ID:NCT00666562\n"
          ]
        },
        {
          "output_type": "stream",
          "name": "stderr",
          "text": [
            "238it [00:47,  7.80it/s]"
          ]
        },
        {
          "output_type": "stream",
          "name": "stdout",
          "text": [
            "238. Trial ID:NCT00666666\n",
            "239. Trial ID:NCT00667394\n"
          ]
        },
        {
          "output_type": "stream",
          "name": "stderr",
          "text": [
            "240it [00:47,  7.76it/s]"
          ]
        },
        {
          "output_type": "stream",
          "name": "stdout",
          "text": [
            "240. Trial ID:NCT00669864\n",
            "241. Trial ID:NCT00670462\n"
          ]
        },
        {
          "output_type": "stream",
          "name": "stderr",
          "text": [
            "242it [00:48,  7.97it/s]"
          ]
        },
        {
          "output_type": "stream",
          "name": "stdout",
          "text": [
            "242. Trial ID:NCT00673231\n",
            "243. Trial ID:NCT00679289\n"
          ]
        },
        {
          "output_type": "stream",
          "name": "stderr",
          "text": [
            "244it [00:48,  7.62it/s]"
          ]
        },
        {
          "output_type": "stream",
          "name": "stdout",
          "text": [
            "244. Trial ID:NCT00682448\n",
            "245. Trial ID:NCT00683020\n"
          ]
        },
        {
          "output_type": "stream",
          "name": "stderr",
          "text": [
            "246it [00:48,  7.09it/s]"
          ]
        },
        {
          "output_type": "stream",
          "name": "stdout",
          "text": [
            "246. Trial ID:NCT00683774\n",
            "247. Trial ID:NCT00686127\n"
          ]
        },
        {
          "output_type": "stream",
          "name": "stderr",
          "text": [
            "248it [00:48,  7.75it/s]"
          ]
        },
        {
          "output_type": "stream",
          "name": "stdout",
          "text": [
            "248. Trial ID:NCT00686712\n",
            "249. Trial ID:NCT00687739\n"
          ]
        },
        {
          "output_type": "stream",
          "name": "stderr",
          "text": [
            "250it [00:49,  7.36it/s]"
          ]
        },
        {
          "output_type": "stream",
          "name": "stdout",
          "text": [
            "250. Trial ID:NCT00688701\n",
            "251. Trial ID:NCT00694122\n"
          ]
        },
        {
          "output_type": "stream",
          "name": "stderr",
          "text": [
            "252it [00:49,  7.34it/s]"
          ]
        },
        {
          "output_type": "stream",
          "name": "stdout",
          "text": [
            "252. Trial ID:NCT00696657\n",
            "253. Trial ID:NCT00697346\n"
          ]
        },
        {
          "output_type": "stream",
          "name": "stderr",
          "text": [
            "254it [00:49,  7.68it/s]"
          ]
        },
        {
          "output_type": "stream",
          "name": "stdout",
          "text": [
            "254. Trial ID:NCT00700817\n",
            "255. Trial ID:NCT00704912\n"
          ]
        },
        {
          "output_type": "stream",
          "name": "stderr",
          "text": [
            "256it [00:50,  7.26it/s]"
          ]
        },
        {
          "output_type": "stream",
          "name": "stdout",
          "text": [
            "256. Trial ID:NCT00707031\n",
            "257. Trial ID:NCT00707577\n"
          ]
        },
        {
          "output_type": "stream",
          "name": "stderr",
          "text": [
            "\r257it [00:50,  7.26it/s]"
          ]
        },
        {
          "output_type": "stream",
          "name": "stdout",
          "text": [
            "258. Trial ID:NCT00712673\n"
          ]
        },
        {
          "output_type": "stream",
          "name": "stderr",
          "text": [
            "259it [00:50,  5.93it/s]"
          ]
        },
        {
          "output_type": "stream",
          "name": "stdout",
          "text": [
            "259. Trial ID:NCT00713830\n",
            "260. Trial ID:NCT00719212\n"
          ]
        },
        {
          "output_type": "stream",
          "name": "stderr",
          "text": [
            "261it [00:50,  6.81it/s]"
          ]
        },
        {
          "output_type": "stream",
          "name": "stdout",
          "text": [
            "261. Trial ID:NCT00731094\n",
            "262. Trial ID:NCT00736879\n"
          ]
        },
        {
          "output_type": "stream",
          "name": "stderr",
          "text": [
            "263it [00:51,  7.23it/s]"
          ]
        },
        {
          "output_type": "stream",
          "name": "stdout",
          "text": [
            "263. Trial ID:NCT00737529\n",
            "264. Trial ID:NCT00739674\n"
          ]
        },
        {
          "output_type": "stream",
          "name": "stderr",
          "text": [
            "265it [00:51,  7.48it/s]"
          ]
        },
        {
          "output_type": "stream",
          "name": "stdout",
          "text": [
            "265. Trial ID:NCT00741390\n",
            "266. Trial ID:NCT00741819\n"
          ]
        },
        {
          "output_type": "stream",
          "name": "stderr",
          "text": [
            "267it [00:51,  7.54it/s]"
          ]
        },
        {
          "output_type": "stream",
          "name": "stdout",
          "text": [
            "267. Trial ID:NCT00749606\n",
            "268. Trial ID:NCT00749892\n"
          ]
        },
        {
          "output_type": "stream",
          "name": "stderr",
          "text": [
            "269it [00:51,  8.01it/s]"
          ]
        },
        {
          "output_type": "stream",
          "name": "stdout",
          "text": [
            "269. Trial ID:NCT00750438\n",
            "270. Trial ID:NCT00751114\n"
          ]
        },
        {
          "output_type": "stream",
          "name": "stderr",
          "text": [
            "271it [00:52,  7.97it/s]"
          ]
        },
        {
          "output_type": "stream",
          "name": "stdout",
          "text": [
            "271. Trial ID:NCT00752726\n",
            "272. Trial ID:NCT00754741\n"
          ]
        },
        {
          "output_type": "stream",
          "name": "stderr",
          "text": [
            "273it [00:52,  7.79it/s]"
          ]
        },
        {
          "output_type": "stream",
          "name": "stdout",
          "text": [
            "273. Trial ID:NCT00763412\n",
            "274. Trial ID:NCT00767520\n"
          ]
        },
        {
          "output_type": "stream",
          "name": "stderr",
          "text": [
            "275it [00:52,  7.98it/s]"
          ]
        },
        {
          "output_type": "stream",
          "name": "stdout",
          "text": [
            "275. Trial ID:NCT00769704\n",
            "276. Trial ID:NCT00770120\n"
          ]
        },
        {
          "output_type": "stream",
          "name": "stderr",
          "text": [
            "277it [00:52,  8.12it/s]"
          ]
        },
        {
          "output_type": "stream",
          "name": "stdout",
          "text": [
            "277. Trial ID:NCT00773279\n",
            "278. Trial ID:NCT00777179\n"
          ]
        },
        {
          "output_type": "stream",
          "name": "stderr",
          "text": [
            "279it [00:53,  7.48it/s]"
          ]
        },
        {
          "output_type": "stream",
          "name": "stdout",
          "text": [
            "279. Trial ID:NCT00777491\n",
            "280. Trial ID:NCT00781885\n"
          ]
        },
        {
          "output_type": "stream",
          "name": "stderr",
          "text": [
            "281it [00:53,  7.20it/s]"
          ]
        },
        {
          "output_type": "stream",
          "name": "stdout",
          "text": [
            "281. Trial ID:NCT00781937\n",
            "282. Trial ID:NCT00785291\n"
          ]
        },
        {
          "output_type": "stream",
          "name": "stderr",
          "text": [
            "283it [00:53,  6.44it/s]"
          ]
        },
        {
          "output_type": "stream",
          "name": "stdout",
          "text": [
            "283. Trial ID:NCT00789191\n",
            "284. Trial ID:NCT00791258\n"
          ]
        },
        {
          "output_type": "stream",
          "name": "stderr",
          "text": [
            "285it [00:54,  6.33it/s]"
          ]
        },
        {
          "output_type": "stream",
          "name": "stdout",
          "text": [
            "285. Trial ID:NCT00791479\n",
            "286. Trial ID:NCT00792571\n"
          ]
        },
        {
          "output_type": "stream",
          "name": "stderr",
          "text": [
            "287it [00:54,  6.16it/s]"
          ]
        },
        {
          "output_type": "stream",
          "name": "stdout",
          "text": [
            "287. Trial ID:NCT00792701\n",
            "288. Trial ID:NCT00793455\n"
          ]
        },
        {
          "output_type": "stream",
          "name": "stderr",
          "text": [
            "289it [00:54,  6.45it/s]"
          ]
        },
        {
          "output_type": "stream",
          "name": "stdout",
          "text": [
            "289. Trial ID:NCT00793780\n",
            "290. Trial ID:NCT00795600\n"
          ]
        },
        {
          "output_type": "stream",
          "name": "stderr",
          "text": [
            "291it [00:55,  6.55it/s]"
          ]
        },
        {
          "output_type": "stream",
          "name": "stdout",
          "text": [
            "291. Trial ID:NCT00796991\n",
            "292. Trial ID:NCT00798720\n"
          ]
        },
        {
          "output_type": "stream",
          "name": "stderr",
          "text": [
            "293it [00:55,  6.09it/s]"
          ]
        },
        {
          "output_type": "stream",
          "name": "stdout",
          "text": [
            "293. Trial ID:NCT00799604\n",
            "294. Trial ID:NCT00801632\n"
          ]
        },
        {
          "output_type": "stream",
          "name": "stderr",
          "text": [
            "295it [00:55,  5.64it/s]"
          ]
        },
        {
          "output_type": "stream",
          "name": "stdout",
          "text": [
            "295. Trial ID:NCT00802204\n",
            "296. Trial ID:NCT00803634\n"
          ]
        },
        {
          "output_type": "stream",
          "name": "stderr",
          "text": [
            "297it [00:56,  5.64it/s]"
          ]
        },
        {
          "output_type": "stream",
          "name": "stdout",
          "text": [
            "297. Trial ID:NCT00803712\n",
            "298. Trial ID:NCT00807092\n"
          ]
        },
        {
          "output_type": "stream",
          "name": "stderr",
          "text": [
            "299it [00:56,  5.60it/s]"
          ]
        },
        {
          "output_type": "stream",
          "name": "stdout",
          "text": [
            "299. Trial ID:NCT00810693\n",
            "300. Trial ID:NCT00813176\n"
          ]
        },
        {
          "output_type": "stream",
          "name": "stderr",
          "text": [
            "301it [00:56,  5.87it/s]"
          ]
        },
        {
          "output_type": "stream",
          "name": "stdout",
          "text": [
            "301. Trial ID:NCT00813995\n",
            "302. Trial ID:NCT00818623\n"
          ]
        },
        {
          "output_type": "stream",
          "name": "stderr",
          "text": [
            "303it [00:57,  5.45it/s]"
          ]
        },
        {
          "output_type": "stream",
          "name": "stdout",
          "text": [
            "303. Trial ID:NCT00818883\n"
          ]
        },
        {
          "output_type": "stream",
          "name": "stderr",
          "text": [
            "\r304it [00:57,  5.83it/s]"
          ]
        },
        {
          "output_type": "stream",
          "name": "stdout",
          "text": [
            "304. Trial ID:NCT00819091\n",
            "305. Trial ID:NCT00819182\n"
          ]
        },
        {
          "output_type": "stream",
          "name": "stderr",
          "text": [
            "306it [00:57,  6.72it/s]"
          ]
        },
        {
          "output_type": "stream",
          "name": "stdout",
          "text": [
            "306. Trial ID:NCT00819741\n",
            "307. Trial ID:NCT00832780\n"
          ]
        },
        {
          "output_type": "stream",
          "name": "stderr",
          "text": [
            "308it [00:57,  7.59it/s]"
          ]
        },
        {
          "output_type": "stream",
          "name": "stdout",
          "text": [
            "308. Trial ID:NCT00837512\n",
            "309. Trial ID:NCT00846365\n"
          ]
        },
        {
          "output_type": "stream",
          "name": "stderr",
          "text": [
            "310it [00:58,  7.55it/s]"
          ]
        },
        {
          "output_type": "stream",
          "name": "stdout",
          "text": [
            "310. Trial ID:NCT00847626\n",
            "311. Trial ID:NCT00851903\n"
          ]
        },
        {
          "output_type": "stream",
          "name": "stderr",
          "text": [
            "312it [00:58,  7.66it/s]"
          ]
        },
        {
          "output_type": "stream",
          "name": "stdout",
          "text": [
            "312. Trial ID:NCT00855166\n",
            "313. Trial ID:NCT00855465\n"
          ]
        },
        {
          "output_type": "stream",
          "name": "stderr",
          "text": [
            "314it [00:58,  7.48it/s]"
          ]
        },
        {
          "output_type": "stream",
          "name": "stdout",
          "text": [
            "314. Trial ID:NCT00856284\n",
            "315. Trial ID:NCT00856492\n"
          ]
        },
        {
          "output_type": "stream",
          "name": "stderr",
          "text": [
            "316it [00:58,  6.79it/s]"
          ]
        },
        {
          "output_type": "stream",
          "name": "stdout",
          "text": [
            "316. Trial ID:NCT00856609\n",
            "317. Trial ID:NCT00859469\n"
          ]
        },
        {
          "output_type": "stream",
          "name": "stderr",
          "text": [
            "318it [00:59,  7.14it/s]"
          ]
        },
        {
          "output_type": "stream",
          "name": "stdout",
          "text": [
            "318. Trial ID:NCT00860262\n",
            "319. Trial ID:NCT00863746\n"
          ]
        },
        {
          "output_type": "stream",
          "name": "stderr",
          "text": [
            "320it [00:59,  6.70it/s]"
          ]
        },
        {
          "output_type": "stream",
          "name": "stdout",
          "text": [
            "320. Trial ID:NCT00864227\n",
            "321. Trial ID:NCT00868192\n"
          ]
        },
        {
          "output_type": "stream",
          "name": "stderr",
          "text": [
            "322it [00:59,  6.76it/s]"
          ]
        },
        {
          "output_type": "stream",
          "name": "stdout",
          "text": [
            "322. Trial ID:NCT00877890\n",
            "323. Trial ID:NCT00877929\n"
          ]
        },
        {
          "output_type": "stream",
          "name": "stderr",
          "text": [
            "324it [01:00,  7.11it/s]"
          ]
        },
        {
          "output_type": "stream",
          "name": "stdout",
          "text": [
            "324. Trial ID:NCT00887978\n",
            "325. Trial ID:NCT00888290\n"
          ]
        },
        {
          "output_type": "stream",
          "name": "stderr",
          "text": [
            "326it [01:00,  7.41it/s]"
          ]
        },
        {
          "output_type": "stream",
          "name": "stdout",
          "text": [
            "326. Trial ID:NCT00890045\n",
            "327. Trial ID:NCT00895921\n"
          ]
        },
        {
          "output_type": "stream",
          "name": "stderr",
          "text": [
            "328it [01:00,  7.78it/s]"
          ]
        },
        {
          "output_type": "stream",
          "name": "stdout",
          "text": [
            "328. Trial ID:NCT00896181\n",
            "329. Trial ID:NCT00896389\n"
          ]
        },
        {
          "output_type": "stream",
          "name": "stderr",
          "text": [
            "330it [01:00,  7.89it/s]"
          ]
        },
        {
          "output_type": "stream",
          "name": "stdout",
          "text": [
            "330. Trial ID:NCT00900627\n",
            "331. Trial ID:NCT00901901\n"
          ]
        },
        {
          "output_type": "stream",
          "name": "stderr",
          "text": [
            "332it [01:01,  8.09it/s]"
          ]
        },
        {
          "output_type": "stream",
          "name": "stdout",
          "text": [
            "332. Trial ID:NCT00902538\n",
            "333. Trial ID:NCT00905255\n"
          ]
        },
        {
          "output_type": "stream",
          "name": "stderr",
          "text": [
            "334it [01:01,  7.56it/s]"
          ]
        },
        {
          "output_type": "stream",
          "name": "stdout",
          "text": [
            "334. Trial ID:NCT00909480\n",
            "335. Trial ID:NCT00910091\n"
          ]
        },
        {
          "output_type": "stream",
          "name": "stderr",
          "text": [
            "336it [01:01,  7.83it/s]"
          ]
        },
        {
          "output_type": "stream",
          "name": "stdout",
          "text": [
            "336. Trial ID:NCT00911625\n",
            "337. Trial ID:NCT00912197\n"
          ]
        },
        {
          "output_type": "stream",
          "name": "stderr",
          "text": [
            "338it [01:01,  7.80it/s]"
          ]
        },
        {
          "output_type": "stream",
          "name": "stdout",
          "text": [
            "338. Trial ID:NCT00915772\n",
            "339. Trial ID:NCT00917267\n"
          ]
        },
        {
          "output_type": "stream",
          "name": "stderr",
          "text": [
            "340it [01:02,  7.75it/s]"
          ]
        },
        {
          "output_type": "stream",
          "name": "stdout",
          "text": [
            "340. Trial ID:NCT00918138\n",
            "341. Trial ID:NCT00918346\n"
          ]
        },
        {
          "output_type": "stream",
          "name": "stderr",
          "text": [
            "342it [01:02,  6.67it/s]"
          ]
        },
        {
          "output_type": "stream",
          "name": "stdout",
          "text": [
            "342. Trial ID:NCT00918723\n",
            "343. Trial ID:NCT00931879\n"
          ]
        },
        {
          "output_type": "stream",
          "name": "stderr",
          "text": [
            "344it [01:02,  6.37it/s]"
          ]
        },
        {
          "output_type": "stream",
          "name": "stdout",
          "text": [
            "344. Trial ID:NCT00939640\n",
            "345. Trial ID:NCT00940823\n"
          ]
        },
        {
          "output_type": "stream",
          "name": "stderr",
          "text": [
            "346it [01:03,  7.11it/s]"
          ]
        },
        {
          "output_type": "stream",
          "name": "stdout",
          "text": [
            "346. Trial ID:NCT00943072\n",
            "347. Trial ID:NCT00943852\n"
          ]
        },
        {
          "output_type": "stream",
          "name": "stderr",
          "text": [
            "348it [01:03,  7.46it/s]"
          ]
        },
        {
          "output_type": "stream",
          "name": "stdout",
          "text": [
            "348. Trial ID:NCT00946920\n",
            "349. Trial ID:NCT00946998\n"
          ]
        },
        {
          "output_type": "stream",
          "name": "stderr",
          "text": [
            "350it [01:03,  7.89it/s]"
          ]
        },
        {
          "output_type": "stream",
          "name": "stdout",
          "text": [
            "350. Trial ID:NCT00949884\n",
            "351. Trial ID:NCT00950235\n"
          ]
        },
        {
          "output_type": "stream",
          "name": "stderr",
          "text": [
            "352it [01:03,  7.62it/s]"
          ]
        },
        {
          "output_type": "stream",
          "name": "stdout",
          "text": [
            "352. Trial ID:NCT00957268\n",
            "353. Trial ID:NCT00962091\n"
          ]
        },
        {
          "output_type": "stream",
          "name": "stderr",
          "text": [
            "354it [01:04,  7.55it/s]"
          ]
        },
        {
          "output_type": "stream",
          "name": "stdout",
          "text": [
            "354. Trial ID:NCT00962247\n",
            "355. Trial ID:NCT00963820\n"
          ]
        },
        {
          "output_type": "stream",
          "name": "stderr",
          "text": [
            "356it [01:04,  7.65it/s]"
          ]
        },
        {
          "output_type": "stream",
          "name": "stdout",
          "text": [
            "356. Trial ID:NCT00964678\n",
            "357. Trial ID:NCT00965250\n"
          ]
        },
        {
          "output_type": "stream",
          "name": "stderr",
          "text": [
            "358it [01:04,  7.29it/s]"
          ]
        },
        {
          "output_type": "stream",
          "name": "stdout",
          "text": [
            "358. Trial ID:NCT00967369\n",
            "359. Trial ID:NCT00967668\n"
          ]
        },
        {
          "output_type": "stream",
          "name": "stderr",
          "text": [
            "360it [01:04,  7.72it/s]"
          ]
        },
        {
          "output_type": "stream",
          "name": "stdout",
          "text": [
            "360. Trial ID:NCT00967694\n",
            "361. Trial ID:NCT00968708\n"
          ]
        },
        {
          "output_type": "stream",
          "name": "stderr",
          "text": [
            "362it [01:05,  7.67it/s]"
          ]
        },
        {
          "output_type": "stream",
          "name": "stdout",
          "text": [
            "362. Trial ID:NCT00970502\n",
            "363. Trial ID:NCT00971620\n"
          ]
        },
        {
          "output_type": "stream",
          "name": "stderr",
          "text": [
            "364it [01:05,  8.16it/s]"
          ]
        },
        {
          "output_type": "stream",
          "name": "stdout",
          "text": [
            "364. Trial ID:NCT00973362\n",
            "365. Trial ID:NCT00974259\n"
          ]
        },
        {
          "output_type": "stream",
          "name": "stderr",
          "text": [
            "366it [01:05,  8.04it/s]"
          ]
        },
        {
          "output_type": "stream",
          "name": "stdout",
          "text": [
            "366. Trial ID:NCT00975000\n",
            "367. Trial ID:NCT00976937\n"
          ]
        },
        {
          "output_type": "stream",
          "name": "stderr",
          "text": [
            "368it [01:06,  6.90it/s]"
          ]
        },
        {
          "output_type": "stream",
          "name": "stdout",
          "text": [
            "368. Trial ID:NCT00977080\n",
            "369. Trial ID:NCT00978250\n"
          ]
        },
        {
          "output_type": "stream",
          "name": "stderr",
          "text": [
            "370it [01:06,  7.35it/s]"
          ]
        },
        {
          "output_type": "stream",
          "name": "stdout",
          "text": [
            "370. Trial ID:NCT00984867\n",
            "371. Trial ID:NCT00985192\n"
          ]
        },
        {
          "output_type": "stream",
          "name": "stderr",
          "text": [
            "372it [01:06,  7.19it/s]"
          ]
        },
        {
          "output_type": "stream",
          "name": "stdout",
          "text": [
            "372. Trial ID:NCT00985426\n",
            "373. Trial ID:NCT00988208\n"
          ]
        },
        {
          "output_type": "stream",
          "name": "stderr",
          "text": [
            "374it [01:06,  6.28it/s]"
          ]
        },
        {
          "output_type": "stream",
          "name": "stdout",
          "text": [
            "374. Trial ID:NCT00989963\n",
            "375. Trial ID:NCT00990314\n"
          ]
        },
        {
          "output_type": "stream",
          "name": "stderr",
          "text": [
            "376it [01:07,  6.80it/s]"
          ]
        },
        {
          "output_type": "stream",
          "name": "stdout",
          "text": [
            "376. Trial ID:NCT00993473\n",
            "377. Trial ID:NCT00994682\n"
          ]
        },
        {
          "output_type": "stream",
          "name": "stderr",
          "text": [
            "378it [01:07,  6.23it/s]"
          ]
        },
        {
          "output_type": "stream",
          "name": "stdout",
          "text": [
            "378. Trial ID:NCT00996281\n",
            "379. Trial ID:NCT01000480\n"
          ]
        },
        {
          "output_type": "stream",
          "name": "stderr",
          "text": [
            "380it [01:07,  6.19it/s]"
          ]
        },
        {
          "output_type": "stream",
          "name": "stdout",
          "text": [
            "380. Trial ID:NCT01001104\n",
            "381. Trial ID:NCT01003639\n"
          ]
        },
        {
          "output_type": "stream",
          "name": "stderr",
          "text": [
            "382it [01:08,  6.08it/s]"
          ]
        },
        {
          "output_type": "stream",
          "name": "stdout",
          "text": [
            "382. Trial ID:NCT01009138\n",
            "383. Trial ID:NCT01020448\n"
          ]
        },
        {
          "output_type": "stream",
          "name": "stderr",
          "text": [
            "384it [01:08,  6.27it/s]"
          ]
        },
        {
          "output_type": "stream",
          "name": "stdout",
          "text": [
            "384. Trial ID:NCT01022762\n",
            "385. Trial ID:NCT01023581\n"
          ]
        },
        {
          "output_type": "stream",
          "name": "stderr",
          "text": [
            "386it [01:08,  6.39it/s]"
          ]
        },
        {
          "output_type": "stream",
          "name": "stdout",
          "text": [
            "386. Trial ID:NCT01026220\n",
            "387. Trial ID:NCT01027949\n"
          ]
        },
        {
          "output_type": "stream",
          "name": "stderr",
          "text": [
            "388it [01:09,  5.88it/s]"
          ]
        },
        {
          "output_type": "stream",
          "name": "stdout",
          "text": [
            "388. Trial ID:NCT01029262\n",
            "389. Trial ID:NCT01029691\n"
          ]
        },
        {
          "output_type": "stream",
          "name": "stderr",
          "text": [
            "390it [01:09,  5.69it/s]"
          ]
        },
        {
          "output_type": "stream",
          "name": "stdout",
          "text": [
            "390. Trial ID:NCT01029704\n",
            "391. Trial ID:NCT01030341\n"
          ]
        },
        {
          "output_type": "stream",
          "name": "stderr",
          "text": [
            "392it [01:09,  5.64it/s]"
          ]
        },
        {
          "output_type": "stream",
          "name": "stdout",
          "text": [
            "392. Trial ID:NCT01031680\n",
            "393. Trial ID:NCT01032629\n"
          ]
        },
        {
          "output_type": "stream",
          "name": "stderr",
          "text": [
            "394it [01:10,  5.35it/s]"
          ]
        },
        {
          "output_type": "stream",
          "name": "stdout",
          "text": [
            "394. Trial ID:NCT01033071\n",
            "395. Trial ID:NCT01034631\n"
          ]
        },
        {
          "output_type": "stream",
          "name": "stderr",
          "text": [
            "396it [01:10,  5.38it/s]"
          ]
        },
        {
          "output_type": "stream",
          "name": "stdout",
          "text": [
            "396. Trial ID:NCT01035229\n",
            "397. Trial ID:NCT01036594\n"
          ]
        },
        {
          "output_type": "stream",
          "name": "stderr",
          "text": [
            "398it [01:10,  6.48it/s]"
          ]
        },
        {
          "output_type": "stream",
          "name": "stdout",
          "text": [
            "398. Trial ID:NCT01044290\n",
            "399. Trial ID:NCT01044693\n"
          ]
        },
        {
          "output_type": "stream",
          "name": "stderr",
          "text": [
            "400it [01:11,  6.67it/s]"
          ]
        },
        {
          "output_type": "stream",
          "name": "stdout",
          "text": [
            "400. Trial ID:NCT01048905\n",
            "401. Trial ID:NCT01052714\n"
          ]
        },
        {
          "output_type": "stream",
          "name": "stderr",
          "text": [
            "402it [01:11,  6.08it/s]"
          ]
        },
        {
          "output_type": "stream",
          "name": "stdout",
          "text": [
            "402. Trial ID:NCT01056718\n",
            "403. Trial ID:NCT01060540\n"
          ]
        },
        {
          "output_type": "stream",
          "name": "stderr",
          "text": [
            "404it [01:11,  7.04it/s]"
          ]
        },
        {
          "output_type": "stream",
          "name": "stdout",
          "text": [
            "404. Trial ID:NCT01061775\n",
            "405. Trial ID:NCT01067469\n"
          ]
        },
        {
          "output_type": "stream",
          "name": "stderr",
          "text": [
            "406it [01:12,  7.14it/s]"
          ]
        },
        {
          "output_type": "stream",
          "name": "stdout",
          "text": [
            "406. Trial ID:NCT01068418\n",
            "407. Trial ID:NCT01068626\n"
          ]
        },
        {
          "output_type": "stream",
          "name": "stderr",
          "text": [
            "408it [01:12,  7.53it/s]"
          ]
        },
        {
          "output_type": "stream",
          "name": "stdout",
          "text": [
            "408. Trial ID:NCT01068730\n",
            "409. Trial ID:NCT01068743\n"
          ]
        },
        {
          "output_type": "stream",
          "name": "stderr",
          "text": [
            "410it [01:12,  7.65it/s]"
          ]
        },
        {
          "output_type": "stream",
          "name": "stdout",
          "text": [
            "410. Trial ID:NCT01075282\n",
            "411. Trial ID:NCT01080391\n"
          ]
        },
        {
          "output_type": "stream",
          "name": "stderr",
          "text": [
            "412it [01:12,  6.98it/s]"
          ]
        },
        {
          "output_type": "stream",
          "name": "stdout",
          "text": [
            "412. Trial ID:NCT01086540\n",
            "413. Trial ID:NCT01087502\n"
          ]
        },
        {
          "output_type": "stream",
          "name": "stderr",
          "text": [
            "414it [01:13,  7.17it/s]"
          ]
        },
        {
          "output_type": "stream",
          "name": "stdout",
          "text": [
            "414. Trial ID:NCT01092182\n",
            "415. Trial ID:NCT01092364\n"
          ]
        },
        {
          "output_type": "stream",
          "name": "stderr",
          "text": [
            "416it [01:13,  7.50it/s]"
          ]
        },
        {
          "output_type": "stream",
          "name": "stdout",
          "text": [
            "416. Trial ID:NCT01093755\n",
            "417. Trial ID:NCT01100931\n"
          ]
        },
        {
          "output_type": "stream",
          "name": "stderr",
          "text": [
            "418it [01:13,  6.81it/s]"
          ]
        },
        {
          "output_type": "stream",
          "name": "stdout",
          "text": [
            "418. Trial ID:NCT01101880\n",
            "419. Trial ID:NCT01102231\n"
          ]
        },
        {
          "output_type": "stream",
          "name": "stderr",
          "text": [
            "420it [01:14,  7.63it/s]"
          ]
        },
        {
          "output_type": "stream",
          "name": "stdout",
          "text": [
            "420. Trial ID:NCT01103284\n",
            "421. Trial ID:NCT01103778\n"
          ]
        },
        {
          "output_type": "stream",
          "name": "stderr",
          "text": [
            "422it [01:14,  7.54it/s]"
          ]
        },
        {
          "output_type": "stream",
          "name": "stdout",
          "text": [
            "422. Trial ID:NCT01104701\n",
            "423. Trial ID:NCT01104870\n"
          ]
        },
        {
          "output_type": "stream",
          "name": "stderr",
          "text": [
            "424it [01:14,  7.52it/s]"
          ]
        },
        {
          "output_type": "stream",
          "name": "stdout",
          "text": [
            "424. Trial ID:NCT01106014\n",
            "425. Trial ID:NCT01107444\n"
          ]
        },
        {
          "output_type": "stream",
          "name": "stderr",
          "text": [
            "426it [01:14,  6.95it/s]"
          ]
        },
        {
          "output_type": "stream",
          "name": "stdout",
          "text": [
            "426. Trial ID:NCT01108055\n",
            "427. Trial ID:NCT01114438\n"
          ]
        },
        {
          "output_type": "stream",
          "name": "stderr",
          "text": [
            "428it [01:15,  7.00it/s]"
          ]
        },
        {
          "output_type": "stream",
          "name": "stdout",
          "text": [
            "428. Trial ID:NCT01117350\n",
            "429. Trial ID:NCT01118091\n"
          ]
        },
        {
          "output_type": "stream",
          "name": "stderr",
          "text": [
            "430it [01:15,  6.81it/s]"
          ]
        },
        {
          "output_type": "stream",
          "name": "stdout",
          "text": [
            "430. Trial ID:NCT01120028\n",
            "431. Trial ID:NCT01123980\n"
          ]
        },
        {
          "output_type": "stream",
          "name": "stderr",
          "text": [
            "432it [01:15,  6.89it/s]"
          ]
        },
        {
          "output_type": "stream",
          "name": "stdout",
          "text": [
            "432. Trial ID:NCT01126580\n",
            "433. Trial ID:NCT01131312\n"
          ]
        },
        {
          "output_type": "stream",
          "name": "stderr",
          "text": [
            "434it [01:15,  7.73it/s]"
          ]
        },
        {
          "output_type": "stream",
          "name": "stdout",
          "text": [
            "434. Trial ID:NCT01139411\n",
            "435. Trial ID:NCT01141712\n"
          ]
        },
        {
          "output_type": "stream",
          "name": "stderr",
          "text": [
            "436it [01:16,  7.67it/s]"
          ]
        },
        {
          "output_type": "stream",
          "name": "stdout",
          "text": [
            "436. Trial ID:NCT01145833\n",
            "437. Trial ID:NCT01146704\n"
          ]
        },
        {
          "output_type": "stream",
          "name": "stderr",
          "text": [
            "438it [01:16,  6.98it/s]"
          ]
        },
        {
          "output_type": "stream",
          "name": "stdout",
          "text": [
            "438. Trial ID:NCT01147250\n",
            "439. Trial ID:NCT01149421\n"
          ]
        },
        {
          "output_type": "stream",
          "name": "stderr",
          "text": [
            "440it [01:16,  7.14it/s]"
          ]
        },
        {
          "output_type": "stream",
          "name": "stdout",
          "text": [
            "440. Trial ID:NCT01151046\n",
            "441. Trial ID:NCT01152580\n"
          ]
        },
        {
          "output_type": "stream",
          "name": "stderr",
          "text": [
            "442it [01:17,  7.63it/s]"
          ]
        },
        {
          "output_type": "stream",
          "name": "stdout",
          "text": [
            "442. Trial ID:NCT01154933\n",
            "443. Trial ID:NCT01155050\n"
          ]
        },
        {
          "output_type": "stream",
          "name": "stderr",
          "text": [
            "444it [01:17,  7.36it/s]"
          ]
        },
        {
          "output_type": "stream",
          "name": "stdout",
          "text": [
            "444. Trial ID:NCT01155284\n",
            "445. Trial ID:NCT01157234\n"
          ]
        },
        {
          "output_type": "stream",
          "name": "stderr",
          "text": [
            "446it [01:17,  7.57it/s]"
          ]
        },
        {
          "output_type": "stream",
          "name": "stdout",
          "text": [
            "446. Trial ID:NCT01159574\n",
            "447. Trial ID:NCT01160380\n"
          ]
        },
        {
          "output_type": "stream",
          "name": "stderr",
          "text": [
            "448it [01:17,  7.68it/s]"
          ]
        },
        {
          "output_type": "stream",
          "name": "stdout",
          "text": [
            "448. Trial ID:NCT01160484\n",
            "449. Trial ID:NCT01163682\n"
          ]
        },
        {
          "output_type": "stream",
          "name": "stderr",
          "text": [
            "450it [01:18,  8.23it/s]"
          ]
        },
        {
          "output_type": "stream",
          "name": "stdout",
          "text": [
            "450. Trial ID:NCT01163721\n",
            "451. Trial ID:NCT01165684\n"
          ]
        },
        {
          "output_type": "stream",
          "name": "stderr",
          "text": [
            "452it [01:18,  7.66it/s]"
          ]
        },
        {
          "output_type": "stream",
          "name": "stdout",
          "text": [
            "452. Trial ID:NCT01169779\n",
            "453. Trial ID:NCT01170208\n"
          ]
        },
        {
          "output_type": "stream",
          "name": "stderr",
          "text": [
            "454it [01:18,  8.12it/s]"
          ]
        },
        {
          "output_type": "stream",
          "name": "stdout",
          "text": [
            "454. Trial ID:NCT01170702\n",
            "455. Trial ID:NCT01173471\n"
          ]
        },
        {
          "output_type": "stream",
          "name": "stderr",
          "text": [
            "456it [01:18,  7.66it/s]"
          ]
        },
        {
          "output_type": "stream",
          "name": "stdout",
          "text": [
            "456. Trial ID:NCT01174173\n",
            "457. Trial ID:NCT01175473\n"
          ]
        },
        {
          "output_type": "stream",
          "name": "stderr",
          "text": [
            "458it [01:19,  7.16it/s]"
          ]
        },
        {
          "output_type": "stream",
          "name": "stdout",
          "text": [
            "458. Trial ID:NCT01175902\n",
            "459. Trial ID:NCT01179672\n"
          ]
        },
        {
          "output_type": "stream",
          "name": "stderr",
          "text": [
            "460it [01:19,  6.83it/s]"
          ]
        },
        {
          "output_type": "stream",
          "name": "stdout",
          "text": [
            "460. Trial ID:NCT01181986\n",
            "461. Trial ID:NCT01183104\n"
          ]
        },
        {
          "output_type": "stream",
          "name": "stderr",
          "text": [
            "462it [01:19,  6.92it/s]"
          ]
        },
        {
          "output_type": "stream",
          "name": "stdout",
          "text": [
            "462. Trial ID:NCT01183780\n",
            "463. Trial ID:NCT01188876\n"
          ]
        },
        {
          "output_type": "stream",
          "name": "stderr",
          "text": [
            "464it [01:20,  7.42it/s]"
          ]
        },
        {
          "output_type": "stream",
          "name": "stdout",
          "text": [
            "464. Trial ID:NCT01191268\n",
            "465. Trial ID:NCT01192412\n"
          ]
        },
        {
          "output_type": "stream",
          "name": "stderr",
          "text": [
            "466it [01:20,  7.03it/s]"
          ]
        },
        {
          "output_type": "stream",
          "name": "stdout",
          "text": [
            "466. Trial ID:NCT01193244\n",
            "467. Trial ID:NCT01194479\n"
          ]
        },
        {
          "output_type": "stream",
          "name": "stderr",
          "text": [
            "468it [01:20,  7.55it/s]"
          ]
        },
        {
          "output_type": "stream",
          "name": "stdout",
          "text": [
            "468. Trial ID:NCT01194830\n",
            "469. Trial ID:NCT01200290\n"
          ]
        },
        {
          "output_type": "stream",
          "name": "stderr",
          "text": [
            "\r469it [01:20,  7.60it/s]"
          ]
        },
        {
          "output_type": "stream",
          "name": "stdout",
          "text": [
            "470. Trial ID:NCT01200329\n"
          ]
        },
        {
          "output_type": "stream",
          "name": "stderr",
          "text": [
            "\r470it [01:21,  3.66it/s]"
          ]
        },
        {
          "output_type": "stream",
          "name": "stdout",
          "text": [
            "471. Trial ID:NCT01202175\n"
          ]
        },
        {
          "output_type": "stream",
          "name": "stderr",
          "text": [
            "\r471it [01:22,  2.42it/s]"
          ]
        },
        {
          "output_type": "stream",
          "name": "stdout",
          "text": [
            "472. Trial ID:NCT01206062\n"
          ]
        },
        {
          "output_type": "stream",
          "name": "stderr",
          "text": [
            "473it [01:22,  3.36it/s]"
          ]
        },
        {
          "output_type": "stream",
          "name": "stdout",
          "text": [
            "473. Trial ID:NCT01208870\n",
            "474. Trial ID:NCT01217463\n"
          ]
        },
        {
          "output_type": "stream",
          "name": "stderr",
          "text": [
            "475it [01:22,  4.28it/s]"
          ]
        },
        {
          "output_type": "stream",
          "name": "stdout",
          "text": [
            "475. Trial ID:NCT01217840\n",
            "476. Trial ID:NCT01221090\n"
          ]
        },
        {
          "output_type": "stream",
          "name": "stderr",
          "text": [
            "477it [01:23,  4.94it/s]"
          ]
        },
        {
          "output_type": "stream",
          "name": "stdout",
          "text": [
            "477. Trial ID:NCT01222494\n",
            "478. Trial ID:NCT01222689\n"
          ]
        },
        {
          "output_type": "stream",
          "name": "stderr",
          "text": [
            "479it [01:23,  5.23it/s]"
          ]
        },
        {
          "output_type": "stream",
          "name": "stdout",
          "text": [
            "479. Trial ID:NCT01223352\n",
            "480. Trial ID:NCT01224210\n"
          ]
        },
        {
          "output_type": "stream",
          "name": "stderr",
          "text": [
            "481it [01:23,  5.55it/s]"
          ]
        },
        {
          "output_type": "stream",
          "name": "stdout",
          "text": [
            "481. Trial ID:NCT01227187\n",
            "482. Trial ID:NCT01227616\n"
          ]
        },
        {
          "output_type": "stream",
          "name": "stderr",
          "text": [
            "483it [01:24,  5.95it/s]"
          ]
        },
        {
          "output_type": "stream",
          "name": "stdout",
          "text": [
            "483. Trial ID:NCT01229891\n",
            "484. Trial ID:NCT01232491\n"
          ]
        },
        {
          "output_type": "stream",
          "name": "stderr",
          "text": [
            "485it [01:24,  5.60it/s]"
          ]
        },
        {
          "output_type": "stream",
          "name": "stdout",
          "text": [
            "485. Trial ID:NCT01234467\n",
            "486. Trial ID:NCT01234649\n"
          ]
        },
        {
          "output_type": "stream",
          "name": "stderr",
          "text": [
            "487it [01:24,  6.19it/s]"
          ]
        },
        {
          "output_type": "stream",
          "name": "stdout",
          "text": [
            "487. Trial ID:NCT01239381\n",
            "488. Trial ID:NCT01241448\n"
          ]
        },
        {
          "output_type": "stream",
          "name": "stderr",
          "text": [
            "489it [01:25,  7.02it/s]"
          ]
        },
        {
          "output_type": "stream",
          "name": "stdout",
          "text": [
            "489. Trial ID:NCT01245374\n",
            "490. Trial ID:NCT01247090\n"
          ]
        },
        {
          "output_type": "stream",
          "name": "stderr",
          "text": [
            "491it [01:25,  7.20it/s]"
          ]
        },
        {
          "output_type": "stream",
          "name": "stdout",
          "text": [
            "491. Trial ID:NCT01247363\n",
            "492. Trial ID:NCT01251757\n"
          ]
        },
        {
          "output_type": "stream",
          "name": "stderr",
          "text": [
            "493it [01:25,  7.01it/s]"
          ]
        },
        {
          "output_type": "stream",
          "name": "stdout",
          "text": [
            "493. Trial ID:NCT01252667\n",
            "494. Trial ID:NCT01255436\n"
          ]
        },
        {
          "output_type": "stream",
          "name": "stderr",
          "text": [
            "495it [01:25,  7.54it/s]"
          ]
        },
        {
          "output_type": "stream",
          "name": "stdout",
          "text": [
            "495. Trial ID:NCT01260454\n",
            "496. Trial ID:NCT01263782\n"
          ]
        },
        {
          "output_type": "stream",
          "name": "stderr",
          "text": [
            "497it [01:26,  7.36it/s]"
          ]
        },
        {
          "output_type": "stream",
          "name": "stdout",
          "text": [
            "497. Trial ID:NCT01265563\n",
            "498. Trial ID:NCT01268553\n"
          ]
        },
        {
          "output_type": "stream",
          "name": "stderr",
          "text": [
            "499it [01:26,  7.55it/s]"
          ]
        },
        {
          "output_type": "stream",
          "name": "stdout",
          "text": [
            "499. Trial ID:NCT01272219\n",
            "500. Trial ID:NCT01272232\n"
          ]
        },
        {
          "output_type": "stream",
          "name": "stderr",
          "text": [
            "501it [01:26,  7.73it/s]"
          ]
        },
        {
          "output_type": "stream",
          "name": "stdout",
          "text": [
            "501. Trial ID:NCT01278160\n",
            "502. Trial ID:NCT01278212\n"
          ]
        },
        {
          "output_type": "stream",
          "name": "stderr",
          "text": [
            "503it [01:26,  7.99it/s]"
          ]
        },
        {
          "output_type": "stream",
          "name": "stdout",
          "text": [
            "503. Trial ID:NCT01278797\n",
            "504. Trial ID:NCT01279109\n"
          ]
        },
        {
          "output_type": "stream",
          "name": "stderr",
          "text": [
            "\r504it [01:27,  8.06it/s]"
          ]
        },
        {
          "output_type": "stream",
          "name": "stdout",
          "text": [
            "505. Trial ID:NCT01280903\n"
          ]
        },
        {
          "output_type": "stream",
          "name": "stderr",
          "text": [
            "506it [01:27,  5.34it/s]"
          ]
        },
        {
          "output_type": "stream",
          "name": "stdout",
          "text": [
            "506. Trial ID:NCT01287520\n",
            "507. Trial ID:NCT01288612\n"
          ]
        },
        {
          "output_type": "stream",
          "name": "stderr",
          "text": [
            "508it [01:27,  6.36it/s]"
          ]
        },
        {
          "output_type": "stream",
          "name": "stdout",
          "text": [
            "508. Trial ID:NCT01289548\n",
            "509. Trial ID:NCT01293682\n"
          ]
        },
        {
          "output_type": "stream",
          "name": "stderr",
          "text": [
            "510it [01:28,  7.38it/s]"
          ]
        },
        {
          "output_type": "stream",
          "name": "stdout",
          "text": [
            "510. Trial ID:NCT01294423\n",
            "511. Trial ID:NCT01295671\n"
          ]
        },
        {
          "output_type": "stream",
          "name": "stderr",
          "text": [
            "512it [01:28,  7.29it/s]"
          ]
        },
        {
          "output_type": "stream",
          "name": "stdout",
          "text": [
            "512. Trial ID:NCT01295710\n",
            "513. Trial ID:NCT01297335\n"
          ]
        },
        {
          "output_type": "stream",
          "name": "stderr",
          "text": [
            "514it [01:28,  7.80it/s]"
          ]
        },
        {
          "output_type": "stream",
          "name": "stdout",
          "text": [
            "514. Trial ID:NCT01302379\n",
            "515. Trial ID:NCT01307579\n"
          ]
        },
        {
          "output_type": "stream",
          "name": "stderr",
          "text": [
            "516it [01:28,  7.62it/s]"
          ]
        },
        {
          "output_type": "stream",
          "name": "stdout",
          "text": [
            "516. Trial ID:NCT01308840\n",
            "517. Trial ID:NCT01309828\n"
          ]
        },
        {
          "output_type": "stream",
          "name": "stderr",
          "text": [
            "518it [01:29,  7.46it/s]"
          ]
        },
        {
          "output_type": "stream",
          "name": "stdout",
          "text": [
            "518. Trial ID:NCT01320202\n",
            "519. Trial ID:NCT01320722\n"
          ]
        },
        {
          "output_type": "stream",
          "name": "stderr",
          "text": [
            "520it [01:29,  7.64it/s]"
          ]
        },
        {
          "output_type": "stream",
          "name": "stdout",
          "text": [
            "520. Trial ID:NCT01322347\n",
            "521. Trial ID:NCT01324310\n"
          ]
        },
        {
          "output_type": "stream",
          "name": "stderr",
          "text": [
            "522it [01:29,  7.02it/s]"
          ]
        },
        {
          "output_type": "stream",
          "name": "stdout",
          "text": [
            "522. Trial ID:NCT01324323\n",
            "523. Trial ID:NCT01324999\n"
          ]
        },
        {
          "output_type": "stream",
          "name": "stderr",
          "text": [
            "524it [01:29,  7.40it/s]"
          ]
        },
        {
          "output_type": "stream",
          "name": "stdout",
          "text": [
            "524. Trial ID:NCT01329939\n",
            "525. Trial ID:NCT01334554\n"
          ]
        },
        {
          "output_type": "stream",
          "name": "stderr",
          "text": [
            "526it [01:30,  7.71it/s]"
          ]
        },
        {
          "output_type": "stream",
          "name": "stdout",
          "text": [
            "526. Trial ID:NCT01335308\n",
            "527. Trial ID:NCT01338415\n"
          ]
        },
        {
          "output_type": "stream",
          "name": "stderr",
          "text": [
            "528it [01:30,  8.05it/s]"
          ]
        },
        {
          "output_type": "stream",
          "name": "stdout",
          "text": [
            "528. Trial ID:NCT01341782\n",
            "529. Trial ID:NCT01346072\n"
          ]
        },
        {
          "output_type": "stream",
          "name": "stderr",
          "text": [
            "530it [01:30,  7.84it/s]"
          ]
        },
        {
          "output_type": "stream",
          "name": "stdout",
          "text": [
            "530. Trial ID:NCT01349660\n",
            "531. Trial ID:NCT01355159\n"
          ]
        },
        {
          "output_type": "stream",
          "name": "stderr",
          "text": [
            "532it [01:31,  7.45it/s]"
          ]
        },
        {
          "output_type": "stream",
          "name": "stdout",
          "text": [
            "532. Trial ID:NCT01357551\n",
            "533. Trial ID:NCT01362140\n"
          ]
        },
        {
          "output_type": "stream",
          "name": "stderr",
          "text": [
            "534it [01:31,  7.19it/s]"
          ]
        },
        {
          "output_type": "stream",
          "name": "stdout",
          "text": [
            "534. Trial ID:NCT01364584\n",
            "535. Trial ID:NCT01365182\n"
          ]
        },
        {
          "output_type": "stream",
          "name": "stderr",
          "text": [
            "536it [01:31,  7.78it/s]"
          ]
        },
        {
          "output_type": "stream",
          "name": "stdout",
          "text": [
            "536. Trial ID:NCT01369069\n",
            "537. Trial ID:NCT01376557\n"
          ]
        },
        {
          "output_type": "stream",
          "name": "stderr",
          "text": [
            "538it [01:31,  7.79it/s]"
          ]
        },
        {
          "output_type": "stream",
          "name": "stdout",
          "text": [
            "538. Trial ID:NCT01377844\n",
            "539. Trial ID:NCT01385098\n"
          ]
        },
        {
          "output_type": "stream",
          "name": "stderr",
          "text": [
            "540it [01:32,  7.66it/s]"
          ]
        },
        {
          "output_type": "stream",
          "name": "stdout",
          "text": [
            "540. Trial ID:NCT01392989\n",
            "541. Trial ID:NCT01395823\n"
          ]
        },
        {
          "output_type": "stream",
          "name": "stderr",
          "text": [
            "542it [01:32,  7.66it/s]"
          ]
        },
        {
          "output_type": "stream",
          "name": "stdout",
          "text": [
            "542. Trial ID:NCT01398358\n",
            "543. Trial ID:NCT01402284\n"
          ]
        },
        {
          "output_type": "stream",
          "name": "stderr",
          "text": [
            "544it [01:32,  7.58it/s]"
          ]
        },
        {
          "output_type": "stream",
          "name": "stdout",
          "text": [
            "544. Trial ID:NCT01405768\n",
            "545. Trial ID:NCT01411267\n"
          ]
        },
        {
          "output_type": "stream",
          "name": "stderr",
          "text": [
            "546it [01:32,  7.72it/s]"
          ]
        },
        {
          "output_type": "stream",
          "name": "stdout",
          "text": [
            "546. Trial ID:NCT01414114\n",
            "547. Trial ID:NCT01419535\n"
          ]
        },
        {
          "output_type": "stream",
          "name": "stderr",
          "text": [
            "548it [01:33,  7.61it/s]"
          ]
        },
        {
          "output_type": "stream",
          "name": "stdout",
          "text": [
            "548. Trial ID:NCT01420016\n",
            "549. Trial ID:NCT01421667\n"
          ]
        },
        {
          "output_type": "stream",
          "name": "stderr",
          "text": [
            "550it [01:33,  7.62it/s]"
          ]
        },
        {
          "output_type": "stream",
          "name": "stdout",
          "text": [
            "550. Trial ID:NCT01422408\n",
            "551. Trial ID:NCT01424306\n"
          ]
        },
        {
          "output_type": "stream",
          "name": "stderr",
          "text": [
            "552it [01:33,  7.78it/s]"
          ]
        },
        {
          "output_type": "stream",
          "name": "stdout",
          "text": [
            "552. Trial ID:NCT01427920\n",
            "553. Trial ID:NCT01431391\n"
          ]
        },
        {
          "output_type": "stream",
          "name": "stderr",
          "text": [
            "554it [01:33,  8.13it/s]"
          ]
        },
        {
          "output_type": "stream",
          "name": "stdout",
          "text": [
            "554. Trial ID:NCT01435603\n",
            "555. Trial ID:NCT01438229\n"
          ]
        },
        {
          "output_type": "stream",
          "name": "stderr",
          "text": [
            "556it [01:34,  7.82it/s]"
          ]
        },
        {
          "output_type": "stream",
          "name": "stdout",
          "text": [
            "556. Trial ID:NCT01438476\n",
            "557. Trial ID:NCT01441973\n"
          ]
        },
        {
          "output_type": "stream",
          "name": "stderr",
          "text": [
            "558it [01:34,  7.18it/s]"
          ]
        },
        {
          "output_type": "stream",
          "name": "stdout",
          "text": [
            "558. Trial ID:NCT01444898\n",
            "559. Trial ID:NCT01447914\n"
          ]
        },
        {
          "output_type": "stream",
          "name": "stderr",
          "text": [
            "560it [01:34,  6.39it/s]"
          ]
        },
        {
          "output_type": "stream",
          "name": "stdout",
          "text": [
            "560. Trial ID:NCT01447927\n",
            "561. Trial ID:NCT01450631\n"
          ]
        },
        {
          "output_type": "stream",
          "name": "stderr",
          "text": [
            "562it [01:35,  5.93it/s]"
          ]
        },
        {
          "output_type": "stream",
          "name": "stdout",
          "text": [
            "562. Trial ID:NCT01450943\n",
            "563. Trial ID:NCT01452269\n"
          ]
        },
        {
          "output_type": "stream",
          "name": "stderr",
          "text": [
            "564it [01:35,  6.18it/s]"
          ]
        },
        {
          "output_type": "stream",
          "name": "stdout",
          "text": [
            "564. Trial ID:NCT01452412\n",
            "565. Trial ID:NCT01454401\n"
          ]
        },
        {
          "output_type": "stream",
          "name": "stderr",
          "text": [
            "566it [01:35,  6.28it/s]"
          ]
        },
        {
          "output_type": "stream",
          "name": "stdout",
          "text": [
            "566. Trial ID:NCT01456130\n",
            "567. Trial ID:NCT01456169\n"
          ]
        },
        {
          "output_type": "stream",
          "name": "stderr",
          "text": [
            "\r567it [01:35,  5.91it/s]"
          ]
        },
        {
          "output_type": "stream",
          "name": "stdout",
          "text": [
            "568. Trial ID:NCT01456195\n"
          ]
        },
        {
          "output_type": "stream",
          "name": "stderr",
          "text": [
            "569it [01:36,  5.33it/s]"
          ]
        },
        {
          "output_type": "stream",
          "name": "stdout",
          "text": [
            "569. Trial ID:NCT01462097\n",
            "570. Trial ID:NCT01476644\n"
          ]
        },
        {
          "output_type": "stream",
          "name": "stderr",
          "text": [
            "571it [01:36,  5.36it/s]"
          ]
        },
        {
          "output_type": "stream",
          "name": "stdout",
          "text": [
            "571. Trial ID:NCT01477333\n",
            "572. Trial ID:NCT01477567\n"
          ]
        },
        {
          "output_type": "stream",
          "name": "stderr",
          "text": [
            "573it [01:37,  5.54it/s]"
          ]
        },
        {
          "output_type": "stream",
          "name": "stdout",
          "text": [
            "573. Trial ID:NCT01478048\n",
            "574. Trial ID:NCT01478594\n"
          ]
        },
        {
          "output_type": "stream",
          "name": "stderr",
          "text": [
            "575it [01:37,  5.71it/s]"
          ]
        },
        {
          "output_type": "stream",
          "name": "stdout",
          "text": [
            "575. Trial ID:NCT01478971\n",
            "576. Trial ID:NCT01482962\n"
          ]
        },
        {
          "output_type": "stream",
          "name": "stderr",
          "text": [
            "577it [01:37,  5.79it/s]"
          ]
        },
        {
          "output_type": "stream",
          "name": "stdout",
          "text": [
            "577. Trial ID:NCT01483027\n",
            "578. Trial ID:NCT01483560\n",
            "579. Trial ID:NCT01484873\n"
          ]
        },
        {
          "output_type": "stream",
          "name": "stderr",
          "text": [
            "580it [01:38,  6.83it/s]"
          ]
        },
        {
          "output_type": "stream",
          "name": "stdout",
          "text": [
            "580. Trial ID:NCT01485614\n",
            "581. Trial ID:NCT01485627\n"
          ]
        },
        {
          "output_type": "stream",
          "name": "stderr",
          "text": [
            "582it [01:38,  6.47it/s]"
          ]
        },
        {
          "output_type": "stream",
          "name": "stdout",
          "text": [
            "582. Trial ID:NCT01488279\n",
            "583. Trial ID:NCT01489189\n"
          ]
        },
        {
          "output_type": "stream",
          "name": "stderr",
          "text": [
            "584it [01:38,  6.41it/s]"
          ]
        },
        {
          "output_type": "stream",
          "name": "stdout",
          "text": [
            "584. Trial ID:NCT01491919\n",
            "585. Trial ID:NCT01493024\n"
          ]
        },
        {
          "output_type": "stream",
          "name": "stderr",
          "text": [
            "586it [01:39,  7.15it/s]"
          ]
        },
        {
          "output_type": "stream",
          "name": "stdout",
          "text": [
            "586. Trial ID:NCT01496469\n",
            "587. Trial ID:NCT01498289\n"
          ]
        },
        {
          "output_type": "stream",
          "name": "stderr",
          "text": [
            "588it [01:39,  7.40it/s]"
          ]
        },
        {
          "output_type": "stream",
          "name": "stdout",
          "text": [
            "588. Trial ID:NCT01498640\n",
            "589. Trial ID:NCT01499082\n"
          ]
        },
        {
          "output_type": "stream",
          "name": "stderr",
          "text": [
            "590it [01:39,  7.95it/s]"
          ]
        },
        {
          "output_type": "stream",
          "name": "stdout",
          "text": [
            "590. Trial ID:NCT01499095\n",
            "591. Trial ID:NCT01500720\n"
          ]
        },
        {
          "output_type": "stream",
          "name": "stderr",
          "text": [
            "592it [01:39,  6.74it/s]"
          ]
        },
        {
          "output_type": "stream",
          "name": "stdout",
          "text": [
            "592. Trial ID:NCT01502410\n",
            "593. Trial ID:NCT01505868\n"
          ]
        },
        {
          "output_type": "stream",
          "name": "stderr",
          "text": [
            "\r593it [01:40,  6.79it/s]"
          ]
        },
        {
          "output_type": "stream",
          "name": "stdout",
          "text": [
            "594. Trial ID:NCT01508221\n"
          ]
        },
        {
          "output_type": "stream",
          "name": "stderr",
          "text": [
            "\r594it [01:40,  5.83it/s]"
          ]
        },
        {
          "output_type": "stream",
          "name": "stdout",
          "text": [
            "595. Trial ID:NCT01513343\n"
          ]
        },
        {
          "output_type": "stream",
          "name": "stderr",
          "text": [
            "\r595it [01:40,  3.75it/s]"
          ]
        },
        {
          "output_type": "stream",
          "name": "stdout",
          "text": [
            "596. Trial ID:NCT01514201\n"
          ]
        },
        {
          "output_type": "stream",
          "name": "stderr",
          "text": [
            "597it [01:41,  4.58it/s]"
          ]
        },
        {
          "output_type": "stream",
          "name": "stdout",
          "text": [
            "597. Trial ID:NCT01514292\n",
            "598. Trial ID:NCT01515319\n"
          ]
        },
        {
          "output_type": "stream",
          "name": "stderr",
          "text": [
            "599it [01:41,  5.75it/s]"
          ]
        },
        {
          "output_type": "stream",
          "name": "stdout",
          "text": [
            "599. Trial ID:NCT01517412\n",
            "600. Trial ID:NCT01519466\n"
          ]
        },
        {
          "output_type": "stream",
          "name": "stderr",
          "text": [
            "601it [01:41,  6.76it/s]"
          ]
        },
        {
          "output_type": "stream",
          "name": "stdout",
          "text": [
            "601. Trial ID:NCT01519674\n",
            "602. Trial ID:NCT01522469\n"
          ]
        },
        {
          "output_type": "stream",
          "name": "stderr",
          "text": [
            "603it [01:41,  7.12it/s]"
          ]
        },
        {
          "output_type": "stream",
          "name": "stdout",
          "text": [
            "603. Trial ID:NCT01524991\n",
            "604. Trial ID:NCT01525082\n"
          ]
        },
        {
          "output_type": "stream",
          "name": "stderr",
          "text": [
            "605it [01:42,  6.82it/s]"
          ]
        },
        {
          "output_type": "stream",
          "name": "stdout",
          "text": [
            "605. Trial ID:NCT01525589\n",
            "606. Trial ID:NCT01526655\n"
          ]
        },
        {
          "output_type": "stream",
          "name": "stderr",
          "text": [
            "607it [01:42,  7.11it/s]"
          ]
        },
        {
          "output_type": "stream",
          "name": "stdout",
          "text": [
            "607. Trial ID:NCT01535040\n",
            "608. Trial ID:NCT01537042\n"
          ]
        },
        {
          "output_type": "stream",
          "name": "stderr",
          "text": [
            "609it [01:42,  7.82it/s]"
          ]
        },
        {
          "output_type": "stream",
          "name": "stdout",
          "text": [
            "609. Trial ID:NCT01538615\n",
            "610. Trial ID:NCT01541865\n"
          ]
        },
        {
          "output_type": "stream",
          "name": "stderr",
          "text": [
            "611it [01:43,  7.28it/s]"
          ]
        },
        {
          "output_type": "stream",
          "name": "stdout",
          "text": [
            "611. Trial ID:NCT01545336\n",
            "612. Trial ID:NCT01552408\n"
          ]
        },
        {
          "output_type": "stream",
          "name": "stderr",
          "text": [
            "613it [01:43,  7.23it/s]"
          ]
        },
        {
          "output_type": "stream",
          "name": "stdout",
          "text": [
            "613. Trial ID:NCT01552694\n",
            "614. Trial ID:NCT01554618\n"
          ]
        },
        {
          "output_type": "stream",
          "name": "stderr",
          "text": [
            "615it [01:43,  7.38it/s]"
          ]
        },
        {
          "output_type": "stream",
          "name": "stdout",
          "text": [
            "615. Trial ID:NCT01555164\n",
            "616. Trial ID:NCT01556997\n"
          ]
        },
        {
          "output_type": "stream",
          "name": "stderr",
          "text": [
            "617it [01:43,  7.34it/s]"
          ]
        },
        {
          "output_type": "stream",
          "name": "stdout",
          "text": [
            "617. Trial ID:NCT01557166\n",
            "618. Trial ID:NCT01557582\n"
          ]
        },
        {
          "output_type": "stream",
          "name": "stderr",
          "text": [
            "619it [01:44,  6.75it/s]"
          ]
        },
        {
          "output_type": "stream",
          "name": "stdout",
          "text": [
            "619. Trial ID:NCT01559844\n",
            "620. Trial ID:NCT01560624\n"
          ]
        },
        {
          "output_type": "stream",
          "name": "stderr",
          "text": [
            "621it [01:44,  6.86it/s]"
          ]
        },
        {
          "output_type": "stream",
          "name": "stdout",
          "text": [
            "621. Trial ID:NCT01560637\n",
            "622. Trial ID:NCT01565564\n"
          ]
        },
        {
          "output_type": "stream",
          "name": "stderr",
          "text": [
            "623it [01:44,  7.29it/s]"
          ]
        },
        {
          "output_type": "stream",
          "name": "stdout",
          "text": [
            "623. Trial ID:NCT01566695\n",
            "624. Trial ID:NCT01574157\n"
          ]
        },
        {
          "output_type": "stream",
          "name": "stderr",
          "text": [
            "625it [01:45,  6.63it/s]"
          ]
        },
        {
          "output_type": "stream",
          "name": "stdout",
          "text": [
            "625. Trial ID:NCT01576341\n",
            "626. Trial ID:NCT01578967\n"
          ]
        },
        {
          "output_type": "stream",
          "name": "stderr",
          "text": [
            "627it [01:45,  6.94it/s]"
          ]
        },
        {
          "output_type": "stream",
          "name": "stdout",
          "text": [
            "627. Trial ID:NCT01586156\n",
            "628. Trial ID:NCT01590810\n"
          ]
        },
        {
          "output_type": "stream",
          "name": "stderr",
          "text": [
            "629it [01:45,  7.52it/s]"
          ]
        },
        {
          "output_type": "stream",
          "name": "stdout",
          "text": [
            "629. Trial ID:NCT01591681\n",
            "630. Trial ID:NCT01592695\n"
          ]
        },
        {
          "output_type": "stream",
          "name": "stderr",
          "text": [
            "631it [01:45,  7.96it/s]"
          ]
        },
        {
          "output_type": "stream",
          "name": "stdout",
          "text": [
            "631. Trial ID:NCT01594762\n",
            "632. Trial ID:NCT01596504\n"
          ]
        },
        {
          "output_type": "stream",
          "name": "stderr",
          "text": [
            "633it [01:46,  8.08it/s]"
          ]
        },
        {
          "output_type": "stream",
          "name": "stdout",
          "text": [
            "633. Trial ID:NCT01596582\n",
            "634. Trial ID:NCT01598064\n"
          ]
        },
        {
          "output_type": "stream",
          "name": "stderr",
          "text": [
            "635it [01:46,  7.55it/s]"
          ]
        },
        {
          "output_type": "stream",
          "name": "stdout",
          "text": [
            "635. Trial ID:NCT01606748\n",
            "636. Trial ID:NCT01607879\n"
          ]
        },
        {
          "output_type": "stream",
          "name": "stderr",
          "text": [
            "\r636it [01:46,  7.54it/s]"
          ]
        },
        {
          "output_type": "stream",
          "name": "stdout",
          "text": [
            "637. Trial ID:NCT01614795\n"
          ]
        },
        {
          "output_type": "stream",
          "name": "stderr",
          "text": [
            "638it [01:46,  6.85it/s]"
          ]
        },
        {
          "output_type": "stream",
          "name": "stdout",
          "text": [
            "638. Trial ID:NCT01616563\n",
            "639. Trial ID:NCT01618214\n"
          ]
        },
        {
          "output_type": "stream",
          "name": "stderr",
          "text": [
            "640it [01:47,  7.65it/s]"
          ]
        },
        {
          "output_type": "stream",
          "name": "stdout",
          "text": [
            "640. Trial ID:NCT01619488\n",
            "641. Trial ID:NCT01619865\n"
          ]
        },
        {
          "output_type": "stream",
          "name": "stderr",
          "text": [
            "642it [01:47,  7.67it/s]"
          ]
        },
        {
          "output_type": "stream",
          "name": "stdout",
          "text": [
            "642. Trial ID:NCT01621178\n",
            "643. Trial ID:NCT01621880\n"
          ]
        },
        {
          "output_type": "stream",
          "name": "stderr",
          "text": [
            "\r643it [01:47,  6.70it/s]"
          ]
        },
        {
          "output_type": "stream",
          "name": "stdout",
          "text": [
            "644. Trial ID:NCT01622257\n"
          ]
        },
        {
          "output_type": "stream",
          "name": "stderr",
          "text": [
            "645it [01:47,  6.39it/s]"
          ]
        },
        {
          "output_type": "stream",
          "name": "stdout",
          "text": [
            "645. Trial ID:NCT01631747\n",
            "646. Trial ID:NCT01632150\n"
          ]
        },
        {
          "output_type": "stream",
          "name": "stderr",
          "text": [
            "647it [01:48,  6.40it/s]"
          ]
        },
        {
          "output_type": "stream",
          "name": "stdout",
          "text": [
            "647. Trial ID:NCT01633853\n",
            "648. Trial ID:NCT01634048\n"
          ]
        },
        {
          "output_type": "stream",
          "name": "stderr",
          "text": [
            "649it [01:48,  7.26it/s]"
          ]
        },
        {
          "output_type": "stream",
          "name": "stdout",
          "text": [
            "649. Trial ID:NCT01636284\n",
            "650. Trial ID:NCT01638429\n"
          ]
        },
        {
          "output_type": "stream",
          "name": "stderr",
          "text": [
            "651it [01:48,  7.56it/s]"
          ]
        },
        {
          "output_type": "stream",
          "name": "stdout",
          "text": [
            "651. Trial ID:NCT01640184\n",
            "652. Trial ID:NCT01643382\n"
          ]
        },
        {
          "output_type": "stream",
          "name": "stderr",
          "text": [
            "653it [01:49,  6.69it/s]"
          ]
        },
        {
          "output_type": "stream",
          "name": "stdout",
          "text": [
            "653. Trial ID:NCT01643473\n",
            "654. Trial ID:NCT01643668\n"
          ]
        },
        {
          "output_type": "stream",
          "name": "stderr",
          "text": [
            "655it [01:49,  6.31it/s]"
          ]
        },
        {
          "output_type": "stream",
          "name": "stdout",
          "text": [
            "655. Trial ID:NCT01645930\n",
            "656. Trial ID:NCT01651117\n"
          ]
        },
        {
          "output_type": "stream",
          "name": "stderr",
          "text": [
            "657it [01:49,  6.25it/s]"
          ]
        },
        {
          "output_type": "stream",
          "name": "stdout",
          "text": [
            "657. Trial ID:NCT01652729\n",
            "658. Trial ID:NCT01652872\n"
          ]
        },
        {
          "output_type": "stream",
          "name": "stderr",
          "text": [
            "659it [01:49,  6.33it/s]"
          ]
        },
        {
          "output_type": "stream",
          "name": "stdout",
          "text": [
            "659. Trial ID:NCT01653847\n",
            "660. Trial ID:NCT01653912\n"
          ]
        },
        {
          "output_type": "stream",
          "name": "stderr",
          "text": [
            "661it [01:50,  6.17it/s]"
          ]
        },
        {
          "output_type": "stream",
          "name": "stdout",
          "text": [
            "661. Trial ID:NCT01656408\n",
            "662. Trial ID:NCT01657682\n"
          ]
        },
        {
          "output_type": "stream",
          "name": "stderr",
          "text": [
            "663it [01:50,  5.84it/s]"
          ]
        },
        {
          "output_type": "stream",
          "name": "stdout",
          "text": [
            "663. Trial ID:NCT01658579\n",
            "664. Trial ID:NCT01661062\n"
          ]
        },
        {
          "output_type": "stream",
          "name": "stderr",
          "text": [
            "665it [01:51,  5.63it/s]"
          ]
        },
        {
          "output_type": "stream",
          "name": "stdout",
          "text": [
            "665. Trial ID:NCT01663012\n",
            "666. Trial ID:NCT01664091\n"
          ]
        },
        {
          "output_type": "stream",
          "name": "stderr",
          "text": [
            "667it [01:51,  5.46it/s]"
          ]
        },
        {
          "output_type": "stream",
          "name": "stdout",
          "text": [
            "667. Trial ID:NCT01664182\n",
            "668. Trial ID:NCT01664624\n"
          ]
        },
        {
          "output_type": "stream",
          "name": "stderr",
          "text": [
            "669it [01:51,  5.44it/s]"
          ]
        },
        {
          "output_type": "stream",
          "name": "stdout",
          "text": [
            "669. Trial ID:NCT01666314\n",
            "670. Trial ID:NCT01672294\n"
          ]
        },
        {
          "output_type": "stream",
          "name": "stderr",
          "text": [
            "671it [01:52,  5.53it/s]"
          ]
        },
        {
          "output_type": "stream",
          "name": "stdout",
          "text": [
            "671. Trial ID:NCT01673191\n",
            "672. Trial ID:NCT01673373\n"
          ]
        },
        {
          "output_type": "stream",
          "name": "stderr",
          "text": [
            "673it [01:52,  6.11it/s]"
          ]
        },
        {
          "output_type": "stream",
          "name": "stdout",
          "text": [
            "673. Trial ID:NCT01676220\n",
            "674. Trial ID:NCT01677507\n"
          ]
        },
        {
          "output_type": "stream",
          "name": "stderr",
          "text": [
            "675it [01:52,  6.53it/s]"
          ]
        },
        {
          "output_type": "stream",
          "name": "stdout",
          "text": [
            "675. Trial ID:NCT01677910\n",
            "676. Trial ID:NCT01681212\n"
          ]
        },
        {
          "output_type": "stream",
          "name": "stderr",
          "text": [
            "677it [01:52,  7.08it/s]"
          ]
        },
        {
          "output_type": "stream",
          "name": "stdout",
          "text": [
            "677. Trial ID:NCT01681810\n",
            "678. Trial ID:NCT01682603\n"
          ]
        },
        {
          "output_type": "stream",
          "name": "stderr",
          "text": [
            "\r678it [01:53,  7.38it/s]"
          ]
        },
        {
          "output_type": "stream",
          "name": "stdout",
          "text": [
            "679. Trial ID:NCT01682837\n"
          ]
        },
        {
          "output_type": "stream",
          "name": "stderr",
          "text": [
            "680it [01:53,  6.87it/s]"
          ]
        },
        {
          "output_type": "stream",
          "name": "stdout",
          "text": [
            "680. Trial ID:NCT01683266\n",
            "681. Trial ID:NCT01683994\n"
          ]
        },
        {
          "output_type": "stream",
          "name": "stderr",
          "text": [
            "682it [01:53,  6.97it/s]"
          ]
        },
        {
          "output_type": "stream",
          "name": "stdout",
          "text": [
            "682. Trial ID:NCT01684748\n",
            "683. Trial ID:NCT01684917\n"
          ]
        },
        {
          "output_type": "stream",
          "name": "stderr",
          "text": [
            "684it [01:53,  7.26it/s]"
          ]
        },
        {
          "output_type": "stream",
          "name": "stdout",
          "text": [
            "684. Trial ID:NCT01686828\n",
            "685. Trial ID:NCT01687257\n"
          ]
        },
        {
          "output_type": "stream",
          "name": "stderr",
          "text": [
            "686it [01:54,  6.85it/s]"
          ]
        },
        {
          "output_type": "stream",
          "name": "stdout",
          "text": [
            "686. Trial ID:NCT01687673\n",
            "687. Trial ID:NCT01688973\n"
          ]
        },
        {
          "output_type": "stream",
          "name": "stderr",
          "text": [
            "688it [01:54,  6.59it/s]"
          ]
        },
        {
          "output_type": "stream",
          "name": "stdout",
          "text": [
            "688. Trial ID:NCT01690520\n",
            "689. Trial ID:NCT01693029\n"
          ]
        },
        {
          "output_type": "stream",
          "name": "stderr",
          "text": [
            "690it [01:54,  6.74it/s]"
          ]
        },
        {
          "output_type": "stream",
          "name": "stdout",
          "text": [
            "690. Trial ID:NCT01707381\n",
            "691. Trial ID:NCT01712789\n"
          ]
        },
        {
          "output_type": "stream",
          "name": "stderr",
          "text": [
            "692it [01:55,  6.93it/s]"
          ]
        },
        {
          "output_type": "stream",
          "name": "stdout",
          "text": [
            "692. Trial ID:NCT01715129\n",
            "693. Trial ID:NCT01718691\n"
          ]
        },
        {
          "output_type": "stream",
          "name": "stderr",
          "text": [
            "694it [01:55,  6.53it/s]"
          ]
        },
        {
          "output_type": "stream",
          "name": "stdout",
          "text": [
            "694. Trial ID:NCT01720446\n",
            "695. Trial ID:NCT01721044\n"
          ]
        },
        {
          "output_type": "stream",
          "name": "stderr",
          "text": [
            "696it [01:55,  7.03it/s]"
          ]
        },
        {
          "output_type": "stream",
          "name": "stdout",
          "text": [
            "696. Trial ID:NCT01722643\n",
            "697. Trial ID:NCT01725815\n"
          ]
        },
        {
          "output_type": "stream",
          "name": "stderr",
          "text": [
            "698it [01:56,  7.06it/s]"
          ]
        },
        {
          "output_type": "stream",
          "name": "stdout",
          "text": [
            "698. Trial ID:NCT01726582\n",
            "699. Trial ID:NCT01736124\n"
          ]
        },
        {
          "output_type": "stream",
          "name": "stderr",
          "text": [
            "700it [01:56,  7.08it/s]"
          ]
        },
        {
          "output_type": "stream",
          "name": "stdout",
          "text": [
            "700. Trial ID:NCT01736397\n",
            "701. Trial ID:NCT01742208\n"
          ]
        },
        {
          "output_type": "stream",
          "name": "stderr",
          "text": [
            "\r701it [01:56,  7.34it/s]"
          ]
        },
        {
          "output_type": "stream",
          "name": "stdout",
          "text": [
            "702. Trial ID:NCT01743001\n"
          ]
        },
        {
          "output_type": "stream",
          "name": "stderr",
          "text": [
            "703it [01:56,  6.82it/s]"
          ]
        },
        {
          "output_type": "stream",
          "name": "stdout",
          "text": [
            "703. Trial ID:NCT01744392\n",
            "704. Trial ID:NCT01744730\n"
          ]
        },
        {
          "output_type": "stream",
          "name": "stderr",
          "text": [
            "705it [01:57,  7.05it/s]"
          ]
        },
        {
          "output_type": "stream",
          "name": "stdout",
          "text": [
            "705. Trial ID:NCT01748643\n",
            "706. Trial ID:NCT01754467\n"
          ]
        },
        {
          "output_type": "stream",
          "name": "stderr",
          "text": [
            "707it [01:57,  7.32it/s]"
          ]
        },
        {
          "output_type": "stream",
          "name": "stdout",
          "text": [
            "707. Trial ID:NCT01755195\n",
            "708. Trial ID:NCT01757392\n"
          ]
        },
        {
          "output_type": "stream",
          "name": "stderr",
          "text": [
            "709it [01:57,  7.86it/s]"
          ]
        },
        {
          "output_type": "stream",
          "name": "stdout",
          "text": [
            "709. Trial ID:NCT01757847\n",
            "710. Trial ID:NCT01760239\n"
          ]
        },
        {
          "output_type": "stream",
          "name": "stderr",
          "text": [
            "711it [01:57,  8.08it/s]"
          ]
        },
        {
          "output_type": "stream",
          "name": "stdout",
          "text": [
            "711. Trial ID:NCT01762501\n",
            "712. Trial ID:NCT01763346\n"
          ]
        },
        {
          "output_type": "stream",
          "name": "stderr",
          "text": [
            "713it [01:58,  7.93it/s]"
          ]
        },
        {
          "output_type": "stream",
          "name": "stdout",
          "text": [
            "713. Trial ID:NCT01764386\n",
            "714. Trial ID:NCT01766037\n"
          ]
        },
        {
          "output_type": "stream",
          "name": "stderr",
          "text": [
            "715it [01:58,  7.56it/s]"
          ]
        },
        {
          "output_type": "stream",
          "name": "stdout",
          "text": [
            "715. Trial ID:NCT01767155\n",
            "716. Trial ID:NCT01767194\n"
          ]
        },
        {
          "output_type": "stream",
          "name": "stderr",
          "text": [
            "717it [01:58,  6.78it/s]"
          ]
        },
        {
          "output_type": "stream",
          "name": "stdout",
          "text": [
            "717. Trial ID:NCT01767792\n",
            "718. Trial ID:NCT01768637\n"
          ]
        },
        {
          "output_type": "stream",
          "name": "stderr",
          "text": [
            "719it [01:59,  6.53it/s]"
          ]
        },
        {
          "output_type": "stream",
          "name": "stdout",
          "text": [
            "719. Trial ID:NCT01779362\n",
            "720. Trial ID:NCT01780974\n"
          ]
        },
        {
          "output_type": "stream",
          "name": "stderr",
          "text": [
            "721it [01:59,  7.03it/s]"
          ]
        },
        {
          "output_type": "stream",
          "name": "stdout",
          "text": [
            "721. Trial ID:NCT01781286\n",
            "722. Trial ID:NCT01785849\n"
          ]
        },
        {
          "output_type": "stream",
          "name": "stderr",
          "text": [
            "723it [01:59,  7.57it/s]"
          ]
        },
        {
          "output_type": "stream",
          "name": "stdout",
          "text": [
            "723. Trial ID:NCT01785875\n",
            "724. Trial ID:NCT01787331\n"
          ]
        },
        {
          "output_type": "stream",
          "name": "stderr",
          "text": [
            "725it [01:59,  7.62it/s]"
          ]
        },
        {
          "output_type": "stream",
          "name": "stdout",
          "text": [
            "725. Trial ID:NCT01788046\n",
            "726. Trial ID:NCT01790438\n"
          ]
        },
        {
          "output_type": "stream",
          "name": "stderr",
          "text": [
            "727it [02:00,  7.66it/s]"
          ]
        },
        {
          "output_type": "stream",
          "name": "stdout",
          "text": [
            "727. Trial ID:NCT01797302\n",
            "728. Trial ID:NCT01798706\n"
          ]
        },
        {
          "output_type": "stream",
          "name": "stderr",
          "text": [
            "729it [02:00,  7.49it/s]"
          ]
        },
        {
          "output_type": "stream",
          "name": "stdout",
          "text": [
            "729. Trial ID:NCT01802567\n",
            "730. Trial ID:NCT01805089\n"
          ]
        },
        {
          "output_type": "stream",
          "name": "stderr",
          "text": [
            "731it [02:00,  7.94it/s]"
          ]
        },
        {
          "output_type": "stream",
          "name": "stdout",
          "text": [
            "731. Trial ID:NCT01807091\n",
            "732. Trial ID:NCT01816906\n"
          ]
        },
        {
          "output_type": "stream",
          "name": "stderr",
          "text": [
            "733it [02:00,  7.66it/s]"
          ]
        },
        {
          "output_type": "stream",
          "name": "stdout",
          "text": [
            "733. Trial ID:NCT01819272\n",
            "734. Trial ID:NCT01821352\n"
          ]
        },
        {
          "output_type": "stream",
          "name": "stderr",
          "text": [
            "735it [02:01,  7.73it/s]"
          ]
        },
        {
          "output_type": "stream",
          "name": "stdout",
          "text": [
            "735. Trial ID:NCT01822548\n",
            "736. Trial ID:NCT01822925\n"
          ]
        },
        {
          "output_type": "stream",
          "name": "stderr",
          "text": [
            "737it [02:01,  7.65it/s]"
          ]
        },
        {
          "output_type": "stream",
          "name": "stdout",
          "text": [
            "737. Trial ID:NCT01823510\n",
            "738. Trial ID:NCT01824290\n"
          ]
        },
        {
          "output_type": "stream",
          "name": "stderr",
          "text": [
            "739it [02:01,  7.64it/s]"
          ]
        },
        {
          "output_type": "stream",
          "name": "stdout",
          "text": [
            "739. Trial ID:NCT01826604\n",
            "740. Trial ID:NCT01831921\n"
          ]
        },
        {
          "output_type": "stream",
          "name": "stderr",
          "text": [
            "741it [02:01,  7.88it/s]"
          ]
        },
        {
          "output_type": "stream",
          "name": "stdout",
          "text": [
            "741. Trial ID:NCT01834404\n",
            "742. Trial ID:NCT01835379\n"
          ]
        },
        {
          "output_type": "stream",
          "name": "stderr",
          "text": [
            "743it [02:02,  7.88it/s]"
          ]
        },
        {
          "output_type": "stream",
          "name": "stdout",
          "text": [
            "743. Trial ID:NCT01836523\n",
            "744. Trial ID:NCT01837680\n"
          ]
        },
        {
          "output_type": "stream",
          "name": "stderr",
          "text": [
            "745it [02:02,  6.90it/s]"
          ]
        },
        {
          "output_type": "stream",
          "name": "stdout",
          "text": [
            "745. Trial ID:NCT01841073\n",
            "746. Trial ID:NCT01843673\n"
          ]
        },
        {
          "output_type": "stream",
          "name": "stderr",
          "text": [
            "747it [02:02,  6.56it/s]"
          ]
        },
        {
          "output_type": "stream",
          "name": "stdout",
          "text": [
            "747. Trial ID:NCT01846728\n",
            "748. Trial ID:NCT01847001\n"
          ]
        },
        {
          "output_type": "stream",
          "name": "stderr",
          "text": [
            "749it [02:03,  6.48it/s]"
          ]
        },
        {
          "output_type": "stream",
          "name": "stdout",
          "text": [
            "749. Trial ID:NCT01847313\n",
            "750. Trial ID:NCT01856114\n"
          ]
        },
        {
          "output_type": "stream",
          "name": "stderr",
          "text": [
            "751it [02:03,  6.44it/s]"
          ]
        },
        {
          "output_type": "stream",
          "name": "stdout",
          "text": [
            "751. Trial ID:NCT01858948\n",
            "752. Trial ID:NCT01862796\n"
          ]
        },
        {
          "output_type": "stream",
          "name": "stderr",
          "text": [
            "753it [02:03,  6.38it/s]"
          ]
        },
        {
          "output_type": "stream",
          "name": "stdout",
          "text": [
            "753. Trial ID:NCT01864564\n",
            "754. Trial ID:NCT01864603\n"
          ]
        },
        {
          "output_type": "stream",
          "name": "stderr",
          "text": [
            "755it [02:04,  5.85it/s]"
          ]
        },
        {
          "output_type": "stream",
          "name": "stdout",
          "text": [
            "755. Trial ID:NCT01865448\n",
            "756. Trial ID:NCT01874431\n"
          ]
        },
        {
          "output_type": "stream",
          "name": "stderr",
          "text": [
            "757it [02:04,  5.63it/s]"
          ]
        },
        {
          "output_type": "stream",
          "name": "stdout",
          "text": [
            "757. Trial ID:NCT01875367\n",
            "758. Trial ID:NCT01879800\n"
          ]
        },
        {
          "output_type": "stream",
          "name": "stderr",
          "text": [
            "759it [02:04,  5.52it/s]"
          ]
        },
        {
          "output_type": "stream",
          "name": "stdout",
          "text": [
            "759. Trial ID:NCT01881620\n",
            "760. Trial ID:NCT01883804\n"
          ]
        },
        {
          "output_type": "stream",
          "name": "stderr",
          "text": [
            "761it [02:05,  5.50it/s]"
          ]
        },
        {
          "output_type": "stream",
          "name": "stdout",
          "text": [
            "761. Trial ID:NCT01885208\n",
            "762. Trial ID:NCT01885559\n"
          ]
        },
        {
          "output_type": "stream",
          "name": "stderr",
          "text": [
            "763it [02:05,  5.35it/s]"
          ]
        },
        {
          "output_type": "stream",
          "name": "stdout",
          "text": [
            "763. Trial ID:NCT01886937\n",
            "764. Trial ID:NCT01887600\n"
          ]
        },
        {
          "output_type": "stream",
          "name": "stderr",
          "text": [
            "765it [02:05,  5.97it/s]"
          ]
        },
        {
          "output_type": "stream",
          "name": "stdout",
          "text": [
            "765. Trial ID:NCT01890122\n",
            "766. Trial ID:NCT01890226\n"
          ]
        },
        {
          "output_type": "stream",
          "name": "stderr",
          "text": [
            "767it [02:06,  7.01it/s]"
          ]
        },
        {
          "output_type": "stream",
          "name": "stdout",
          "text": [
            "767. Trial ID:NCT01891344\n",
            "768. Trial ID:NCT01893801\n"
          ]
        },
        {
          "output_type": "stream",
          "name": "stderr",
          "text": [
            "769it [02:06,  6.40it/s]"
          ]
        },
        {
          "output_type": "stream",
          "name": "stdout",
          "text": [
            "769. Trial ID:NCT01894568\n",
            "770. Trial ID:NCT01894906\n"
          ]
        },
        {
          "output_type": "stream",
          "name": "stderr",
          "text": [
            "771it [02:06,  6.83it/s]"
          ]
        },
        {
          "output_type": "stream",
          "name": "stdout",
          "text": [
            "771. Trial ID:NCT01896232\n",
            "772. Trial ID:NCT01900392\n"
          ]
        },
        {
          "output_type": "stream",
          "name": "stderr",
          "text": [
            "773it [02:07,  7.30it/s]"
          ]
        },
        {
          "output_type": "stream",
          "name": "stdout",
          "text": [
            "773. Trial ID:NCT01901146\n",
            "774. Trial ID:NCT01905956\n"
          ]
        },
        {
          "output_type": "stream",
          "name": "stderr",
          "text": [
            "775it [02:07,  7.31it/s]"
          ]
        },
        {
          "output_type": "stream",
          "name": "stdout",
          "text": [
            "775. Trial ID:NCT01907828\n",
            "776. Trial ID:NCT01908699\n"
          ]
        },
        {
          "output_type": "stream",
          "name": "stderr",
          "text": [
            "777it [02:07,  7.38it/s]"
          ]
        },
        {
          "output_type": "stream",
          "name": "stdout",
          "text": [
            "777. Trial ID:NCT01911897\n",
            "778. Trial ID:NCT01920282\n"
          ]
        },
        {
          "output_type": "stream",
          "name": "stderr",
          "text": [
            "779it [02:07,  7.65it/s]"
          ]
        },
        {
          "output_type": "stream",
          "name": "stdout",
          "text": [
            "779. Trial ID:NCT01921322\n",
            "780. Trial ID:NCT01922934\n"
          ]
        },
        {
          "output_type": "stream",
          "name": "stderr",
          "text": [
            "781it [02:08,  7.70it/s]"
          ]
        },
        {
          "output_type": "stream",
          "name": "stdout",
          "text": [
            "781. Trial ID:NCT01923363\n",
            "782. Trial ID:NCT01923961\n"
          ]
        },
        {
          "output_type": "stream",
          "name": "stderr",
          "text": [
            "783it [02:08,  7.80it/s]"
          ]
        },
        {
          "output_type": "stream",
          "name": "stdout",
          "text": [
            "783. Trial ID:NCT01928329\n",
            "784. Trial ID:NCT01929109\n"
          ]
        },
        {
          "output_type": "stream",
          "name": "stderr",
          "text": [
            "785it [02:08,  7.84it/s]"
          ]
        },
        {
          "output_type": "stream",
          "name": "stdout",
          "text": [
            "785. Trial ID:NCT01930487\n",
            "786. Trial ID:NCT01932970\n"
          ]
        },
        {
          "output_type": "stream",
          "name": "stderr",
          "text": [
            "787it [02:08,  7.18it/s]"
          ]
        },
        {
          "output_type": "stream",
          "name": "stdout",
          "text": [
            "787. Trial ID:NCT01933789\n",
            "788. Trial ID:NCT01934582\n"
          ]
        },
        {
          "output_type": "stream",
          "name": "stderr",
          "text": [
            "789it [02:09,  7.47it/s]"
          ]
        },
        {
          "output_type": "stream",
          "name": "stdout",
          "text": [
            "789. Trial ID:NCT01939366\n",
            "790. Trial ID:NCT01939405\n"
          ]
        },
        {
          "output_type": "stream",
          "name": "stderr",
          "text": [
            "791it [02:09,  7.60it/s]"
          ]
        },
        {
          "output_type": "stream",
          "name": "stdout",
          "text": [
            "791. Trial ID:NCT01942694\n",
            "792. Trial ID:NCT01944098\n"
          ]
        },
        {
          "output_type": "stream",
          "name": "stderr",
          "text": [
            "793it [02:09,  7.58it/s]"
          ]
        },
        {
          "output_type": "stream",
          "name": "stdout",
          "text": [
            "793. Trial ID:NCT01945060\n",
            "794. Trial ID:NCT01945138\n"
          ]
        },
        {
          "output_type": "stream",
          "name": "stderr",
          "text": [
            "795it [02:09,  7.60it/s]"
          ]
        },
        {
          "output_type": "stream",
          "name": "stdout",
          "text": [
            "795. Trial ID:NCT01961323\n",
            "796. Trial ID:NCT01961531\n"
          ]
        },
        {
          "output_type": "stream",
          "name": "stderr",
          "text": [
            "797it [02:10,  7.39it/s]"
          ]
        },
        {
          "output_type": "stream",
          "name": "stdout",
          "text": [
            "797. Trial ID:NCT01964430\n",
            "798. Trial ID:NCT01973972\n"
          ]
        },
        {
          "output_type": "stream",
          "name": "stderr",
          "text": [
            "799it [02:10,  7.70it/s]"
          ]
        },
        {
          "output_type": "stream",
          "name": "stdout",
          "text": [
            "799. Trial ID:NCT01975428\n",
            "800. Trial ID:NCT01980914\n"
          ]
        },
        {
          "output_type": "stream",
          "name": "stderr",
          "text": [
            "801it [02:10,  7.72it/s]"
          ]
        },
        {
          "output_type": "stream",
          "name": "stdout",
          "text": [
            "801. Trial ID:NCT01982448\n",
            "802. Trial ID:NCT01986855\n"
          ]
        },
        {
          "output_type": "stream",
          "name": "stderr",
          "text": [
            "803it [02:10,  7.35it/s]"
          ]
        },
        {
          "output_type": "stream",
          "name": "stdout",
          "text": [
            "803. Trial ID:NCT01986881\n",
            "804. Trial ID:NCT01986920\n"
          ]
        },
        {
          "output_type": "stream",
          "name": "stderr",
          "text": [
            "805it [02:11,  7.03it/s]"
          ]
        },
        {
          "output_type": "stream",
          "name": "stdout",
          "text": [
            "805. Trial ID:NCT01989546\n",
            "806. Trial ID:NCT01994746\n"
          ]
        },
        {
          "output_type": "stream",
          "name": "stderr",
          "text": [
            "807it [02:11,  7.56it/s]"
          ]
        },
        {
          "output_type": "stream",
          "name": "stdout",
          "text": [
            "807. Trial ID:NCT01996813\n",
            "808. Trial ID:NCT01998243\n"
          ]
        },
        {
          "output_type": "stream",
          "name": "stderr",
          "text": [
            "809it [02:11,  6.83it/s]"
          ]
        },
        {
          "output_type": "stream",
          "name": "stdout",
          "text": [
            "809. Trial ID:NCT02000427\n",
            "810. Trial ID:NCT02003963\n"
          ]
        },
        {
          "output_type": "stream",
          "name": "stderr",
          "text": [
            "811it [02:12,  6.86it/s]"
          ]
        },
        {
          "output_type": "stream",
          "name": "stdout",
          "text": [
            "811. Trial ID:NCT02006979\n",
            "812. Trial ID:NCT02008682\n"
          ]
        },
        {
          "output_type": "stream",
          "name": "stderr",
          "text": [
            "813it [02:12,  7.28it/s]"
          ]
        },
        {
          "output_type": "stream",
          "name": "stdout",
          "text": [
            "813. Trial ID:NCT02010359\n",
            "814. Trial ID:NCT02010684\n"
          ]
        },
        {
          "output_type": "stream",
          "name": "stderr",
          "text": [
            "815it [02:12,  7.48it/s]"
          ]
        },
        {
          "output_type": "stream",
          "name": "stdout",
          "text": [
            "815. Trial ID:NCT02014740\n",
            "816. Trial ID:NCT02017223\n"
          ]
        },
        {
          "output_type": "stream",
          "name": "stderr",
          "text": [
            "817it [02:12,  7.36it/s]"
          ]
        },
        {
          "output_type": "stream",
          "name": "stdout",
          "text": [
            "817. Trial ID:NCT02017444\n",
            "818. Trial ID:NCT02021292\n"
          ]
        },
        {
          "output_type": "stream",
          "name": "stderr",
          "text": [
            "819it [02:13,  7.10it/s]"
          ]
        },
        {
          "output_type": "stream",
          "name": "stdout",
          "text": [
            "819. Trial ID:NCT02024750\n",
            "820. Trial ID:NCT02029976\n"
          ]
        },
        {
          "output_type": "stream",
          "name": "stderr",
          "text": [
            "821it [02:13,  7.35it/s]"
          ]
        },
        {
          "output_type": "stream",
          "name": "stdout",
          "text": [
            "821. Trial ID:NCT02029989\n",
            "822. Trial ID:NCT02030119\n"
          ]
        },
        {
          "output_type": "stream",
          "name": "stderr",
          "text": [
            "823it [02:13,  6.44it/s]"
          ]
        },
        {
          "output_type": "stream",
          "name": "stdout",
          "text": [
            "823. Trial ID:NCT02033889\n",
            "824. Trial ID:NCT02036541\n"
          ]
        },
        {
          "output_type": "stream",
          "name": "stderr",
          "text": [
            "825it [02:14,  6.29it/s]"
          ]
        },
        {
          "output_type": "stream",
          "name": "stdout",
          "text": [
            "825. Trial ID:NCT02038010\n",
            "826. Trial ID:NCT02038179\n"
          ]
        },
        {
          "output_type": "stream",
          "name": "stderr",
          "text": [
            "827it [02:14,  6.41it/s]"
          ]
        },
        {
          "output_type": "stream",
          "name": "stdout",
          "text": [
            "827. Trial ID:NCT02041429\n",
            "828. Trial ID:NCT02045446\n"
          ]
        },
        {
          "output_type": "stream",
          "name": "stderr",
          "text": [
            "829it [02:14,  6.94it/s]"
          ]
        },
        {
          "output_type": "stream",
          "name": "stdout",
          "text": [
            "829. Trial ID:NCT02046395\n",
            "830. Trial ID:NCT02049814\n"
          ]
        },
        {
          "output_type": "stream",
          "name": "stderr",
          "text": [
            "831it [02:14,  7.55it/s]"
          ]
        },
        {
          "output_type": "stream",
          "name": "stdout",
          "text": [
            "831. Trial ID:NCT02049944\n",
            "832. Trial ID:NCT02056626\n"
          ]
        },
        {
          "output_type": "stream",
          "name": "stderr",
          "text": [
            "833it [02:15,  7.49it/s]"
          ]
        },
        {
          "output_type": "stream",
          "name": "stdout",
          "text": [
            "833. Trial ID:NCT02058160\n",
            "834. Trial ID:NCT02059005\n"
          ]
        },
        {
          "output_type": "stream",
          "name": "stderr",
          "text": [
            "835it [02:15,  7.85it/s]"
          ]
        },
        {
          "output_type": "stream",
          "name": "stdout",
          "text": [
            "835. Trial ID:NCT02059135\n",
            "836. Trial ID:NCT02059278\n"
          ]
        },
        {
          "output_type": "stream",
          "name": "stderr",
          "text": [
            "837it [02:15,  7.33it/s]"
          ]
        },
        {
          "output_type": "stream",
          "name": "stdout",
          "text": [
            "837. Trial ID:NCT02062645\n",
            "838. Trial ID:NCT02063178\n"
          ]
        },
        {
          "output_type": "stream",
          "name": "stderr",
          "text": [
            "839it [02:16,  6.59it/s]"
          ]
        },
        {
          "output_type": "stream",
          "name": "stdout",
          "text": [
            "839. Trial ID:NCT02065895\n",
            "840. Trial ID:NCT02068443\n"
          ]
        },
        {
          "output_type": "stream",
          "name": "stderr",
          "text": [
            "841it [02:16,  6.14it/s]"
          ]
        },
        {
          "output_type": "stream",
          "name": "stdout",
          "text": [
            "841. Trial ID:NCT02068885\n",
            "842. Trial ID:NCT02070991\n"
          ]
        },
        {
          "output_type": "stream",
          "name": "stderr",
          "text": [
            "843it [02:16,  5.80it/s]"
          ]
        },
        {
          "output_type": "stream",
          "name": "stdout",
          "text": [
            "843. Trial ID:NCT02073682\n",
            "844. Trial ID:NCT02073929\n"
          ]
        },
        {
          "output_type": "stream",
          "name": "stderr",
          "text": [
            "845it [02:17,  6.17it/s]"
          ]
        },
        {
          "output_type": "stream",
          "name": "stdout",
          "text": [
            "845. Trial ID:NCT02079805\n",
            "846. Trial ID:NCT02081001\n"
          ]
        },
        {
          "output_type": "stream",
          "name": "stderr",
          "text": [
            "847it [02:17,  5.70it/s]"
          ]
        },
        {
          "output_type": "stream",
          "name": "stdout",
          "text": [
            "847. Trial ID:NCT02081014\n",
            "848. Trial ID:NCT02087774\n"
          ]
        },
        {
          "output_type": "stream",
          "name": "stderr",
          "text": [
            "849it [02:17,  5.65it/s]"
          ]
        },
        {
          "output_type": "stream",
          "name": "stdout",
          "text": [
            "849. Trial ID:NCT02091362\n",
            "850. Trial ID:NCT02099110\n"
          ]
        },
        {
          "output_type": "stream",
          "name": "stderr",
          "text": [
            "\r850it [02:18,  5.63it/s]"
          ]
        },
        {
          "output_type": "stream",
          "name": "stdout",
          "text": [
            "851. Trial ID:NCT02099838\n"
          ]
        },
        {
          "output_type": "stream",
          "name": "stderr",
          "text": [
            "852it [02:18,  5.51it/s]"
          ]
        },
        {
          "output_type": "stream",
          "name": "stdout",
          "text": [
            "852. Trial ID:NCT02100189\n",
            "853. Trial ID:NCT02102204\n"
          ]
        },
        {
          "output_type": "stream",
          "name": "stderr",
          "text": [
            "854it [02:18,  5.61it/s]"
          ]
        },
        {
          "output_type": "stream",
          "name": "stdout",
          "text": [
            "854. Trial ID:NCT02104739\n",
            "855. Trial ID:NCT02104804\n"
          ]
        },
        {
          "output_type": "stream",
          "name": "stderr",
          "text": [
            "856it [02:19,  5.44it/s]"
          ]
        },
        {
          "output_type": "stream",
          "name": "stdout",
          "text": [
            "856. Trial ID:NCT02106884\n",
            "857. Trial ID:NCT02107443\n"
          ]
        },
        {
          "output_type": "stream",
          "name": "stderr",
          "text": [
            "858it [02:19,  6.51it/s]"
          ]
        },
        {
          "output_type": "stream",
          "name": "stdout",
          "text": [
            "858. Trial ID:NCT02109029\n",
            "859. Trial ID:NCT02111980\n"
          ]
        },
        {
          "output_type": "stream",
          "name": "stderr",
          "text": [
            "860it [02:19,  6.68it/s]"
          ]
        },
        {
          "output_type": "stream",
          "name": "stdout",
          "text": [
            "860. Trial ID:NCT02114814\n",
            "861. Trial ID:NCT02114892\n"
          ]
        },
        {
          "output_type": "stream",
          "name": "stderr",
          "text": [
            "862it [02:20,  6.58it/s]"
          ]
        },
        {
          "output_type": "stream",
          "name": "stdout",
          "text": [
            "862. Trial ID:NCT02124460\n",
            "863. Trial ID:NCT02127710\n"
          ]
        },
        {
          "output_type": "stream",
          "name": "stderr",
          "text": [
            "864it [02:20,  6.82it/s]"
          ]
        },
        {
          "output_type": "stream",
          "name": "stdout",
          "text": [
            "864. Trial ID:NCT02129608\n",
            "865. Trial ID:NCT02130427\n"
          ]
        },
        {
          "output_type": "stream",
          "name": "stderr",
          "text": [
            "866it [02:20,  7.11it/s]"
          ]
        },
        {
          "output_type": "stream",
          "name": "stdout",
          "text": [
            "866. Trial ID:NCT02134314\n",
            "867. Trial ID:NCT02137512\n"
          ]
        },
        {
          "output_type": "stream",
          "name": "stderr",
          "text": [
            "868it [02:20,  7.32it/s]"
          ]
        },
        {
          "output_type": "stream",
          "name": "stdout",
          "text": [
            "868. Trial ID:NCT02138240\n",
            "869. Trial ID:NCT02147626\n"
          ]
        },
        {
          "output_type": "stream",
          "name": "stderr",
          "text": [
            "870it [02:21,  7.71it/s]"
          ]
        },
        {
          "output_type": "stream",
          "name": "stdout",
          "text": [
            "870. Trial ID:NCT02151643\n",
            "871. Trial ID:NCT02166346\n"
          ]
        },
        {
          "output_type": "stream",
          "name": "stderr",
          "text": [
            "872it [02:21,  7.89it/s]"
          ]
        },
        {
          "output_type": "stream",
          "name": "stdout",
          "text": [
            "872. Trial ID:NCT02168309\n",
            "873. Trial ID:NCT02168660\n"
          ]
        },
        {
          "output_type": "stream",
          "name": "stderr",
          "text": [
            "874it [02:21,  7.55it/s]"
          ]
        },
        {
          "output_type": "stream",
          "name": "stdout",
          "text": [
            "874. Trial ID:NCT02171429\n",
            "875. Trial ID:NCT02175212\n"
          ]
        },
        {
          "output_type": "stream",
          "name": "stderr",
          "text": [
            "876it [02:21,  7.61it/s]"
          ]
        },
        {
          "output_type": "stream",
          "name": "stdout",
          "text": [
            "876. Trial ID:NCT02182830\n",
            "877. Trial ID:NCT02182895\n"
          ]
        },
        {
          "output_type": "stream",
          "name": "stderr",
          "text": [
            "878it [02:22,  7.61it/s]"
          ]
        },
        {
          "output_type": "stream",
          "name": "stdout",
          "text": [
            "878. Trial ID:NCT02186652\n",
            "879. Trial ID:NCT02191137\n"
          ]
        },
        {
          "output_type": "stream",
          "name": "stderr",
          "text": [
            "880it [02:22,  7.35it/s]"
          ]
        },
        {
          "output_type": "stream",
          "name": "stdout",
          "text": [
            "880. Trial ID:NCT02192905\n",
            "881. Trial ID:NCT02194465\n"
          ]
        },
        {
          "output_type": "stream",
          "name": "stderr",
          "text": [
            "882it [02:22,  7.51it/s]"
          ]
        },
        {
          "output_type": "stream",
          "name": "stdout",
          "text": [
            "882. Trial ID:NCT02196701\n",
            "883. Trial ID:NCT02201212\n"
          ]
        },
        {
          "output_type": "stream",
          "name": "stderr",
          "text": [
            "884it [02:22,  7.50it/s]"
          ]
        },
        {
          "output_type": "stream",
          "name": "stdout",
          "text": [
            "884. Trial ID:NCT02203916\n",
            "885. Trial ID:NCT02211014\n"
          ]
        },
        {
          "output_type": "stream",
          "name": "stderr",
          "text": [
            "886it [02:23,  7.43it/s]"
          ]
        },
        {
          "output_type": "stream",
          "name": "stdout",
          "text": [
            "886. Trial ID:NCT02211131\n",
            "887. Trial ID:NCT02214017\n"
          ]
        },
        {
          "output_type": "stream",
          "name": "stderr",
          "text": [
            "888it [02:23,  7.81it/s]"
          ]
        },
        {
          "output_type": "stream",
          "name": "stdout",
          "text": [
            "888. Trial ID:NCT02214186\n",
            "889. Trial ID:NCT02215967\n"
          ]
        },
        {
          "output_type": "stream",
          "name": "stderr",
          "text": [
            "890it [02:23,  7.59it/s]"
          ]
        },
        {
          "output_type": "stream",
          "name": "stdout",
          "text": [
            "890. Trial ID:NCT02220894\n",
            "891. Trial ID:NCT02224820\n"
          ]
        },
        {
          "output_type": "stream",
          "name": "stderr",
          "text": [
            "892it [02:23,  7.54it/s]"
          ]
        },
        {
          "output_type": "stream",
          "name": "stdout",
          "text": [
            "892. Trial ID:NCT02227862\n",
            "893. Trial ID:NCT02229214\n"
          ]
        },
        {
          "output_type": "stream",
          "name": "stderr",
          "text": [
            "894it [02:24,  7.57it/s]"
          ]
        },
        {
          "output_type": "stream",
          "name": "stdout",
          "text": [
            "894. Trial ID:NCT02229552\n",
            "895. Trial ID:NCT02230891\n"
          ]
        },
        {
          "output_type": "stream",
          "name": "stderr",
          "text": [
            "896it [02:24,  6.63it/s]"
          ]
        },
        {
          "output_type": "stream",
          "name": "stdout",
          "text": [
            "896. Trial ID:NCT02232126\n",
            "897. Trial ID:NCT02234063\n"
          ]
        },
        {
          "output_type": "stream",
          "name": "stderr",
          "text": [
            "898it [02:24,  6.69it/s]"
          ]
        },
        {
          "output_type": "stream",
          "name": "stdout",
          "text": [
            "898. Trial ID:NCT02234141\n",
            "899. Trial ID:NCT02237079\n"
          ]
        },
        {
          "output_type": "stream",
          "name": "stderr",
          "text": [
            "900it [02:25,  6.72it/s]"
          ]
        },
        {
          "output_type": "stream",
          "name": "stdout",
          "text": [
            "900. Trial ID:NCT02237157\n",
            "901. Trial ID:NCT02239679\n"
          ]
        },
        {
          "output_type": "stream",
          "name": "stderr",
          "text": [
            "902it [02:25,  7.07it/s]"
          ]
        },
        {
          "output_type": "stream",
          "name": "stdout",
          "text": [
            "902. Trial ID:NCT02243202\n",
            "903. Trial ID:NCT02244424\n"
          ]
        },
        {
          "output_type": "stream",
          "name": "stderr",
          "text": [
            "904it [02:25,  7.48it/s]"
          ]
        },
        {
          "output_type": "stream",
          "name": "stdout",
          "text": [
            "904. Trial ID:NCT02246413\n",
            "905. Trial ID:NCT02248688\n"
          ]
        },
        {
          "output_type": "stream",
          "name": "stderr",
          "text": [
            "906it [02:26,  6.38it/s]"
          ]
        },
        {
          "output_type": "stream",
          "name": "stdout",
          "text": [
            "906. Trial ID:NCT02248714\n",
            "907. Trial ID:NCT02248857\n"
          ]
        },
        {
          "output_type": "stream",
          "name": "stderr",
          "text": [
            "908it [02:26,  6.83it/s]"
          ]
        },
        {
          "output_type": "stream",
          "name": "stdout",
          "text": [
            "908. Trial ID:NCT02248961\n",
            "909. Trial ID:NCT02249091\n"
          ]
        },
        {
          "output_type": "stream",
          "name": "stderr",
          "text": [
            "910it [02:26,  7.45it/s]"
          ]
        },
        {
          "output_type": "stream",
          "name": "stdout",
          "text": [
            "910. Trial ID:NCT02251717\n",
            "911. Trial ID:NCT02258074\n"
          ]
        },
        {
          "output_type": "stream",
          "name": "stderr",
          "text": [
            "912it [02:26,  6.63it/s]"
          ]
        },
        {
          "output_type": "stream",
          "name": "stdout",
          "text": [
            "912. Trial ID:NCT02258373\n",
            "913. Trial ID:NCT02259010\n"
          ]
        },
        {
          "output_type": "stream",
          "name": "stderr",
          "text": [
            "914it [02:27,  6.76it/s]"
          ]
        },
        {
          "output_type": "stream",
          "name": "stdout",
          "text": [
            "914. Trial ID:NCT02260531\n",
            "915. Trial ID:NCT02269943\n"
          ]
        },
        {
          "output_type": "stream",
          "name": "stderr",
          "text": [
            "916it [02:27,  7.42it/s]"
          ]
        },
        {
          "output_type": "stream",
          "name": "stdout",
          "text": [
            "916. Trial ID:NCT02270255\n",
            "917. Trial ID:NCT02273180\n"
          ]
        },
        {
          "output_type": "stream",
          "name": "stderr",
          "text": [
            "918it [02:27,  7.64it/s]"
          ]
        },
        {
          "output_type": "stream",
          "name": "stdout",
          "text": [
            "918. Trial ID:NCT02274844\n",
            "919. Trial ID:NCT02274948\n"
          ]
        },
        {
          "output_type": "stream",
          "name": "stderr",
          "text": [
            "920it [02:27,  7.87it/s]"
          ]
        },
        {
          "output_type": "stream",
          "name": "stdout",
          "text": [
            "920. Trial ID:NCT02276872\n",
            "921. Trial ID:NCT02277548\n"
          ]
        },
        {
          "output_type": "stream",
          "name": "stderr",
          "text": [
            "922it [02:28,  6.73it/s]"
          ]
        },
        {
          "output_type": "stream",
          "name": "stdout",
          "text": [
            "922. Trial ID:NCT02277691\n",
            "923. Trial ID:NCT02278471\n"
          ]
        },
        {
          "output_type": "stream",
          "name": "stderr",
          "text": [
            "924it [02:28,  7.54it/s]"
          ]
        },
        {
          "output_type": "stream",
          "name": "stdout",
          "text": [
            "924. Trial ID:NCT02278939\n",
            "925. Trial ID:NCT02279160\n"
          ]
        },
        {
          "output_type": "stream",
          "name": "stderr",
          "text": [
            "926it [02:28,  7.37it/s]"
          ]
        },
        {
          "output_type": "stream",
          "name": "stdout",
          "text": [
            "926. Trial ID:NCT02279394\n",
            "927. Trial ID:NCT02279745\n"
          ]
        },
        {
          "output_type": "stream",
          "name": "stderr",
          "text": [
            "928it [02:29,  7.20it/s]"
          ]
        },
        {
          "output_type": "stream",
          "name": "stdout",
          "text": [
            "928. Trial ID:NCT02285062\n",
            "929. Trial ID:NCT02290106\n"
          ]
        },
        {
          "output_type": "stream",
          "name": "stderr",
          "text": [
            "930it [02:29,  6.35it/s]"
          ]
        },
        {
          "output_type": "stream",
          "name": "stdout",
          "text": [
            "930. Trial ID:NCT02290184\n",
            "931. Trial ID:NCT02290925\n"
          ]
        },
        {
          "output_type": "stream",
          "name": "stderr",
          "text": [
            "932it [02:29,  6.32it/s]"
          ]
        },
        {
          "output_type": "stream",
          "name": "stdout",
          "text": [
            "932. Trial ID:NCT02292446\n",
            "933. Trial ID:NCT02294474\n"
          ]
        },
        {
          "output_type": "stream",
          "name": "stderr",
          "text": [
            "934it [02:30,  6.23it/s]"
          ]
        },
        {
          "output_type": "stream",
          "name": "stdout",
          "text": [
            "934. Trial ID:NCT02298803\n",
            "935. Trial ID:NCT02298946\n"
          ]
        },
        {
          "output_type": "stream",
          "name": "stderr",
          "text": [
            "936it [02:30,  6.00it/s]"
          ]
        },
        {
          "output_type": "stream",
          "name": "stdout",
          "text": [
            "936. Trial ID:NCT02299388\n",
            "937. Trial ID:NCT02299414\n"
          ]
        },
        {
          "output_type": "stream",
          "name": "stderr",
          "text": [
            "938it [02:30,  6.37it/s]"
          ]
        },
        {
          "output_type": "stream",
          "name": "stdout",
          "text": [
            "938. Trial ID:NCT02299791\n",
            "939. Trial ID:NCT02301416\n"
          ]
        },
        {
          "output_type": "stream",
          "name": "stderr",
          "text": [
            "940it [02:31,  5.98it/s]"
          ]
        },
        {
          "output_type": "stream",
          "name": "stdout",
          "text": [
            "940. Trial ID:NCT02302716\n",
            "941. Trial ID:NCT02304367\n"
          ]
        },
        {
          "output_type": "stream",
          "name": "stderr",
          "text": [
            "942it [02:31,  5.52it/s]"
          ]
        },
        {
          "output_type": "stream",
          "name": "stdout",
          "text": [
            "942. Trial ID:NCT02305381\n",
            "943. Trial ID:NCT02309112\n"
          ]
        },
        {
          "output_type": "stream",
          "name": "stderr",
          "text": [
            "944it [02:31,  5.65it/s]"
          ]
        },
        {
          "output_type": "stream",
          "name": "stdout",
          "text": [
            "944. Trial ID:NCT02309138\n",
            "945. Trial ID:NCT02314403\n"
          ]
        },
        {
          "output_type": "stream",
          "name": "stderr",
          "text": [
            "\r945it [02:32,  5.56it/s]"
          ]
        },
        {
          "output_type": "stream",
          "name": "stdout",
          "text": [
            "946. Trial ID:NCT02317744\n"
          ]
        },
        {
          "output_type": "stream",
          "name": "stderr",
          "text": [
            "947it [02:32,  5.26it/s]"
          ]
        },
        {
          "output_type": "stream",
          "name": "stdout",
          "text": [
            "947. Trial ID:NCT02320123\n",
            "948. Trial ID:NCT02320253\n"
          ]
        },
        {
          "output_type": "stream",
          "name": "stderr",
          "text": [
            "949it [02:32,  5.97it/s]"
          ]
        },
        {
          "output_type": "stream",
          "name": "stdout",
          "text": [
            "949. Trial ID:NCT02320292\n",
            "950. Trial ID:NCT02320721\n"
          ]
        },
        {
          "output_type": "stream",
          "name": "stderr",
          "text": [
            "951it [02:32,  6.90it/s]"
          ]
        },
        {
          "output_type": "stream",
          "name": "stdout",
          "text": [
            "951. Trial ID:NCT02322320\n",
            "952. Trial ID:NCT02324569\n"
          ]
        },
        {
          "output_type": "stream",
          "name": "stderr",
          "text": [
            "953it [02:33,  6.73it/s]"
          ]
        },
        {
          "output_type": "stream",
          "name": "stdout",
          "text": [
            "953. Trial ID:NCT02325466\n",
            "954. Trial ID:NCT02327429\n"
          ]
        },
        {
          "output_type": "stream",
          "name": "stderr",
          "text": [
            "955it [02:33,  7.12it/s]"
          ]
        },
        {
          "output_type": "stream",
          "name": "stdout",
          "text": [
            "955. Trial ID:NCT02328326\n",
            "956. Trial ID:NCT02328755\n"
          ]
        },
        {
          "output_type": "stream",
          "name": "stderr",
          "text": [
            "957it [02:33,  7.25it/s]"
          ]
        },
        {
          "output_type": "stream",
          "name": "stdout",
          "text": [
            "957. Trial ID:NCT02331394\n",
            "958. Trial ID:NCT02334059\n"
          ]
        },
        {
          "output_type": "stream",
          "name": "stderr",
          "text": [
            "959it [02:34,  7.00it/s]"
          ]
        },
        {
          "output_type": "stream",
          "name": "stdout",
          "text": [
            "959. Trial ID:NCT02337530\n",
            "960. Trial ID:NCT02337933\n"
          ]
        },
        {
          "output_type": "stream",
          "name": "stderr",
          "text": [
            "\r960it [02:34,  6.76it/s]"
          ]
        },
        {
          "output_type": "stream",
          "name": "stdout",
          "text": [
            "961. Trial ID:NCT02337946\n"
          ]
        },
        {
          "output_type": "stream",
          "name": "stderr",
          "text": [
            "962it [02:34,  6.23it/s]"
          ]
        },
        {
          "output_type": "stream",
          "name": "stdout",
          "text": [
            "962. Trial ID:NCT02338193\n",
            "963. Trial ID:NCT02338362\n"
          ]
        },
        {
          "output_type": "stream",
          "name": "stderr",
          "text": [
            "964it [02:34,  6.70it/s]"
          ]
        },
        {
          "output_type": "stream",
          "name": "stdout",
          "text": [
            "964. Trial ID:NCT02341417\n",
            "965. Trial ID:NCT02342639\n"
          ]
        },
        {
          "output_type": "stream",
          "name": "stderr",
          "text": [
            "966it [02:35,  6.90it/s]"
          ]
        },
        {
          "output_type": "stream",
          "name": "stdout",
          "text": [
            "966. Trial ID:NCT02346526\n",
            "967. Trial ID:NCT02347527\n"
          ]
        },
        {
          "output_type": "stream",
          "name": "stderr",
          "text": [
            "968it [02:35,  6.96it/s]"
          ]
        },
        {
          "output_type": "stream",
          "name": "stdout",
          "text": [
            "968. Trial ID:NCT02347787\n",
            "969. Trial ID:NCT02348658\n"
          ]
        },
        {
          "output_type": "stream",
          "name": "stderr",
          "text": [
            "970it [02:35,  7.32it/s]"
          ]
        },
        {
          "output_type": "stream",
          "name": "stdout",
          "text": [
            "970. Trial ID:NCT02351349\n",
            "971. Trial ID:NCT02352974\n"
          ]
        },
        {
          "output_type": "stream",
          "name": "stderr",
          "text": [
            "972it [02:35,  7.70it/s]"
          ]
        },
        {
          "output_type": "stream",
          "name": "stdout",
          "text": [
            "972. Trial ID:NCT02355210\n",
            "973. Trial ID:NCT02355821\n"
          ]
        },
        {
          "output_type": "stream",
          "name": "stderr",
          "text": [
            "974it [02:36,  7.48it/s]"
          ]
        },
        {
          "output_type": "stream",
          "name": "stdout",
          "text": [
            "974. Trial ID:NCT02357810\n",
            "975. Trial ID:NCT02358343\n"
          ]
        },
        {
          "output_type": "stream",
          "name": "stderr",
          "text": [
            "976it [02:36,  7.08it/s]"
          ]
        },
        {
          "output_type": "stream",
          "name": "stdout",
          "text": [
            "976. Trial ID:NCT02358668\n",
            "977. Trial ID:NCT02360774\n"
          ]
        },
        {
          "output_type": "stream",
          "name": "stderr",
          "text": [
            "978it [02:36,  7.43it/s]"
          ]
        },
        {
          "output_type": "stream",
          "name": "stdout",
          "text": [
            "978. Trial ID:NCT02362048\n",
            "979. Trial ID:NCT02363010\n"
          ]
        },
        {
          "output_type": "stream",
          "name": "stderr",
          "text": [
            "980it [02:37,  7.79it/s]"
          ]
        },
        {
          "output_type": "stream",
          "name": "stdout",
          "text": [
            "980. Trial ID:NCT02365480\n",
            "981. Trial ID:NCT02367066\n"
          ]
        },
        {
          "output_type": "stream",
          "name": "stderr",
          "text": [
            "982it [02:37,  7.54it/s]"
          ]
        },
        {
          "output_type": "stream",
          "name": "stdout",
          "text": [
            "982. Trial ID:NCT02367105\n",
            "983. Trial ID:NCT02369484\n"
          ]
        },
        {
          "output_type": "stream",
          "name": "stderr",
          "text": [
            "984it [02:37,  6.83it/s]"
          ]
        },
        {
          "output_type": "stream",
          "name": "stdout",
          "text": [
            "984. Trial ID:NCT02370121\n",
            "985. Trial ID:NCT02371746\n"
          ]
        },
        {
          "output_type": "stream",
          "name": "stderr",
          "text": [
            "986it [02:37,  7.16it/s]"
          ]
        },
        {
          "output_type": "stream",
          "name": "stdout",
          "text": [
            "986. Trial ID:NCT02382016\n",
            "987. Trial ID:NCT02383940\n"
          ]
        },
        {
          "output_type": "stream",
          "name": "stderr",
          "text": [
            "988it [02:38,  7.74it/s]"
          ]
        },
        {
          "output_type": "stream",
          "name": "stdout",
          "text": [
            "988. Trial ID:NCT02384941\n",
            "989. Trial ID:NCT02390050\n"
          ]
        },
        {
          "output_type": "stream",
          "name": "stderr",
          "text": [
            "990it [02:38,  7.84it/s]"
          ]
        },
        {
          "output_type": "stream",
          "name": "stdout",
          "text": [
            "990. Trial ID:NCT02390245\n",
            "991. Trial ID:NCT02392351\n"
          ]
        },
        {
          "output_type": "stream",
          "name": "stderr",
          "text": [
            "992it [02:38,  7.45it/s]"
          ]
        },
        {
          "output_type": "stream",
          "name": "stdout",
          "text": [
            "992. Trial ID:NCT02393547\n",
            "993. Trial ID:NCT02394795\n"
          ]
        },
        {
          "output_type": "stream",
          "name": "stderr",
          "text": [
            "\r993it [02:38,  6.98it/s]"
          ]
        },
        {
          "output_type": "stream",
          "name": "stdout",
          "text": [
            "994. Trial ID:NCT02402062\n"
          ]
        },
        {
          "output_type": "stream",
          "name": "stderr",
          "text": [
            "995it [02:39,  5.45it/s]"
          ]
        },
        {
          "output_type": "stream",
          "name": "stdout",
          "text": [
            "995. Trial ID:NCT02409329\n",
            "996. Trial ID:NCT02413320\n"
          ]
        },
        {
          "output_type": "stream",
          "name": "stderr",
          "text": [
            "997it [02:39,  6.49it/s]"
          ]
        },
        {
          "output_type": "stream",
          "name": "stdout",
          "text": [
            "997. Trial ID:NCT02417415\n",
            "998. Trial ID:NCT02420691\n"
          ]
        },
        {
          "output_type": "stream",
          "name": "stderr",
          "text": [
            "999it [02:39,  6.85it/s]"
          ]
        },
        {
          "output_type": "stream",
          "name": "stdout",
          "text": [
            "999. Trial ID:NCT02421510\n",
            "1000. Trial ID:NCT02425046\n"
          ]
        },
        {
          "output_type": "stream",
          "name": "stderr",
          "text": [
            "1001it [02:40,  6.97it/s]"
          ]
        },
        {
          "output_type": "stream",
          "name": "stdout",
          "text": [
            "1001. Trial ID:NCT02428855\n",
            "1002. Trial ID:NCT02429115\n"
          ]
        },
        {
          "output_type": "stream",
          "name": "stderr",
          "text": [
            "1003it [02:40,  6.99it/s]"
          ]
        },
        {
          "output_type": "stream",
          "name": "stdout",
          "text": [
            "1003. Trial ID:NCT02433977\n",
            "1004. Trial ID:NCT02437084\n"
          ]
        },
        {
          "output_type": "stream",
          "name": "stderr",
          "text": [
            "1005it [02:40,  7.75it/s]"
          ]
        },
        {
          "output_type": "stream",
          "name": "stdout",
          "text": [
            "1005. Trial ID:NCT02441946\n",
            "1006. Trial ID:NCT02444143\n"
          ]
        },
        {
          "output_type": "stream",
          "name": "stderr",
          "text": [
            "1007it [02:40,  7.77it/s]"
          ]
        },
        {
          "output_type": "stream",
          "name": "stdout",
          "text": [
            "1007. Trial ID:NCT02448563\n",
            "1008. Trial ID:NCT02451150\n"
          ]
        },
        {
          "output_type": "stream",
          "name": "stderr",
          "text": [
            "1009it [02:41,  7.27it/s]"
          ]
        },
        {
          "output_type": "stream",
          "name": "stdout",
          "text": [
            "1009. Trial ID:NCT02451917\n",
            "1010. Trial ID:NCT02452320\n"
          ]
        },
        {
          "output_type": "stream",
          "name": "stderr",
          "text": [
            "1011it [02:41,  7.80it/s]"
          ]
        },
        {
          "output_type": "stream",
          "name": "stdout",
          "text": [
            "1011. Trial ID:NCT02453711\n",
            "1012. Trial ID:NCT02455388\n"
          ]
        },
        {
          "output_type": "stream",
          "name": "stderr",
          "text": [
            "1013it [02:41,  8.12it/s]"
          ]
        },
        {
          "output_type": "stream",
          "name": "stdout",
          "text": [
            "1013. Trial ID:NCT02456636\n",
            "1014. Trial ID:NCT02459769\n"
          ]
        },
        {
          "output_type": "stream",
          "name": "stderr",
          "text": [
            "1015it [02:41,  7.76it/s]"
          ]
        },
        {
          "output_type": "stream",
          "name": "stdout",
          "text": [
            "1015. Trial ID:NCT02460263\n",
            "1016. Trial ID:NCT02460783\n"
          ]
        },
        {
          "output_type": "stream",
          "name": "stderr",
          "text": [
            "1017it [02:42,  7.82it/s]"
          ]
        },
        {
          "output_type": "stream",
          "name": "stdout",
          "text": [
            "1017. Trial ID:NCT02461589\n",
            "1018. Trial ID:NCT02462967\n"
          ]
        },
        {
          "output_type": "stream",
          "name": "stderr",
          "text": [
            "1019it [02:42,  7.37it/s]"
          ]
        },
        {
          "output_type": "stream",
          "name": "stdout",
          "text": [
            "1019. Trial ID:NCT02466776\n",
            "1020. Trial ID:NCT02471183\n"
          ]
        },
        {
          "output_type": "stream",
          "name": "stderr",
          "text": [
            "1021it [02:42,  6.30it/s]"
          ]
        },
        {
          "output_type": "stream",
          "name": "stdout",
          "text": [
            "1021. Trial ID:NCT02473926\n",
            "1022. Trial ID:NCT02478775\n"
          ]
        },
        {
          "output_type": "stream",
          "name": "stderr",
          "text": [
            "1023it [02:43,  6.05it/s]"
          ]
        },
        {
          "output_type": "stream",
          "name": "stdout",
          "text": [
            "1023. Trial ID:NCT02480764\n",
            "1024. Trial ID:NCT02481414\n"
          ]
        },
        {
          "output_type": "stream",
          "name": "stderr",
          "text": [
            "1025it [02:43,  6.17it/s]"
          ]
        },
        {
          "output_type": "stream",
          "name": "stdout",
          "text": [
            "1025. Trial ID:NCT02482610\n",
            "1026. Trial ID:NCT02487251\n"
          ]
        },
        {
          "output_type": "stream",
          "name": "stderr",
          "text": [
            "1027it [02:43,  6.19it/s]"
          ]
        },
        {
          "output_type": "stream",
          "name": "stdout",
          "text": [
            "1027. Trial ID:NCT02496884\n",
            "1028. Trial ID:NCT02497300\n"
          ]
        },
        {
          "output_type": "stream",
          "name": "stderr",
          "text": [
            "1029it [02:44,  5.87it/s]"
          ]
        },
        {
          "output_type": "stream",
          "name": "stdout",
          "text": [
            "1029. Trial ID:NCT02500979\n",
            "1030. Trial ID:NCT02510664\n"
          ]
        },
        {
          "output_type": "stream",
          "name": "stderr",
          "text": [
            "\r1030it [02:44,  5.74it/s]"
          ]
        },
        {
          "output_type": "stream",
          "name": "stdout",
          "text": [
            "1031. Trial ID:NCT02512068\n"
          ]
        },
        {
          "output_type": "stream",
          "name": "stderr",
          "text": [
            "1032it [02:44,  5.24it/s]"
          ]
        },
        {
          "output_type": "stream",
          "name": "stdout",
          "text": [
            "1032. Trial ID:NCT02512965\n",
            "1033. Trial ID:NCT02513329\n"
          ]
        },
        {
          "output_type": "stream",
          "name": "stderr",
          "text": [
            "1034it [02:45,  5.32it/s]"
          ]
        },
        {
          "output_type": "stream",
          "name": "stdout",
          "text": [
            "1034. Trial ID:NCT02514889\n",
            "1035. Trial ID:NCT02515630\n"
          ]
        },
        {
          "output_type": "stream",
          "name": "stderr",
          "text": [
            "1036it [02:45,  5.07it/s]"
          ]
        },
        {
          "output_type": "stream",
          "name": "stdout",
          "text": [
            "1036. Trial ID:NCT02517866\n",
            "1037. Trial ID:NCT02518191\n"
          ]
        },
        {
          "output_type": "stream",
          "name": "stderr",
          "text": [
            "1038it [02:45,  5.27it/s]"
          ]
        },
        {
          "output_type": "stream",
          "name": "stdout",
          "text": [
            "1038. Trial ID:NCT02518685\n",
            "1039. Trial ID:NCT02520414\n"
          ]
        },
        {
          "output_type": "stream",
          "name": "stderr",
          "text": [
            "1040it [02:46,  5.72it/s]"
          ]
        },
        {
          "output_type": "stream",
          "name": "stdout",
          "text": [
            "1040. Trial ID:NCT02521181\n",
            "1041. Trial ID:NCT02522494\n"
          ]
        },
        {
          "output_type": "stream",
          "name": "stderr",
          "text": [
            "1042it [02:46,  6.79it/s]"
          ]
        },
        {
          "output_type": "stream",
          "name": "stdout",
          "text": [
            "1042. Trial ID:NCT02530385\n",
            "1043. Trial ID:NCT02531035\n"
          ]
        },
        {
          "output_type": "stream",
          "name": "stderr",
          "text": [
            "1044it [02:46,  7.11it/s]"
          ]
        },
        {
          "output_type": "stream",
          "name": "stdout",
          "text": [
            "1044. Trial ID:NCT02532855\n",
            "1045. Trial ID:NCT02538510\n"
          ]
        },
        {
          "output_type": "stream",
          "name": "stderr",
          "text": [
            "1046it [02:47,  7.07it/s]"
          ]
        },
        {
          "output_type": "stream",
          "name": "stdout",
          "text": [
            "1046. Trial ID:NCT02538783\n",
            "1047. Trial ID:NCT02538965\n"
          ]
        },
        {
          "output_type": "stream",
          "name": "stderr",
          "text": [
            "1048it [02:47,  6.86it/s]"
          ]
        },
        {
          "output_type": "stream",
          "name": "stdout",
          "text": [
            "1048. Trial ID:NCT02540993\n",
            "1049. Trial ID:NCT02543294\n"
          ]
        },
        {
          "output_type": "stream",
          "name": "stderr",
          "text": [
            "1050it [02:47,  7.37it/s]"
          ]
        },
        {
          "output_type": "stream",
          "name": "stdout",
          "text": [
            "1050. Trial ID:NCT02543723\n",
            "1051. Trial ID:NCT02546544\n"
          ]
        },
        {
          "output_type": "stream",
          "name": "stderr",
          "text": [
            "1052it [02:47,  6.91it/s]"
          ]
        },
        {
          "output_type": "stream",
          "name": "stdout",
          "text": [
            "1052. Trial ID:NCT02552888\n",
            "1053. Trial ID:NCT02558491\n"
          ]
        },
        {
          "output_type": "stream",
          "name": "stderr",
          "text": [
            "1054it [02:48,  6.79it/s]"
          ]
        },
        {
          "output_type": "stream",
          "name": "stdout",
          "text": [
            "1054. Trial ID:NCT02559180\n",
            "1055. Trial ID:NCT02560493\n"
          ]
        },
        {
          "output_type": "stream",
          "name": "stderr",
          "text": [
            "1056it [02:48,  7.07it/s]"
          ]
        },
        {
          "output_type": "stream",
          "name": "stdout",
          "text": [
            "1056. Trial ID:NCT02560584\n",
            "1057. Trial ID:NCT02561130\n"
          ]
        },
        {
          "output_type": "stream",
          "name": "stderr",
          "text": [
            "1058it [02:48,  7.52it/s]"
          ]
        },
        {
          "output_type": "stream",
          "name": "stdout",
          "text": [
            "1058. Trial ID:NCT02561338\n",
            "1059. Trial ID:NCT02562755\n"
          ]
        },
        {
          "output_type": "stream",
          "name": "stderr",
          "text": [
            "1060it [02:49,  7.80it/s]"
          ]
        },
        {
          "output_type": "stream",
          "name": "stdout",
          "text": [
            "1060. Trial ID:NCT02563808\n",
            "1061. Trial ID:NCT02572882\n"
          ]
        },
        {
          "output_type": "stream",
          "name": "stderr",
          "text": [
            "1062it [02:49,  7.56it/s]"
          ]
        },
        {
          "output_type": "stream",
          "name": "stdout",
          "text": [
            "1062. Trial ID:NCT02577003\n",
            "1063. Trial ID:NCT02578680\n"
          ]
        },
        {
          "output_type": "stream",
          "name": "stderr",
          "text": [
            "1064it [02:49,  7.70it/s]"
          ]
        },
        {
          "output_type": "stream",
          "name": "stdout",
          "text": [
            "1064. Trial ID:NCT02578745\n",
            "1065. Trial ID:NCT02579096\n"
          ]
        },
        {
          "output_type": "stream",
          "name": "stderr",
          "text": [
            "1066it [02:49,  7.64it/s]"
          ]
        },
        {
          "output_type": "stream",
          "name": "stdout",
          "text": [
            "1066. Trial ID:NCT02582814\n",
            "1067. Trial ID:NCT02582840\n"
          ]
        },
        {
          "output_type": "stream",
          "name": "stderr",
          "text": [
            "1068it [02:50,  7.30it/s]"
          ]
        },
        {
          "output_type": "stream",
          "name": "stdout",
          "text": [
            "1068. Trial ID:NCT02586025\n",
            "1069. Trial ID:NCT02586155\n"
          ]
        },
        {
          "output_type": "stream",
          "name": "stderr",
          "text": [
            "1070it [02:50,  7.17it/s]"
          ]
        },
        {
          "output_type": "stream",
          "name": "stdout",
          "text": [
            "1070. Trial ID:NCT02587936\n",
            "1071. Trial ID:NCT02589977\n"
          ]
        },
        {
          "output_type": "stream",
          "name": "stderr",
          "text": [
            "1072it [02:50,  7.61it/s]"
          ]
        },
        {
          "output_type": "stream",
          "name": "stdout",
          "text": [
            "1072. Trial ID:NCT02590406\n",
            "1073. Trial ID:NCT02592421\n"
          ]
        },
        {
          "output_type": "stream",
          "name": "stderr",
          "text": [
            "1074it [02:50,  7.36it/s]"
          ]
        },
        {
          "output_type": "stream",
          "name": "stdout",
          "text": [
            "1074. Trial ID:NCT02595684\n",
            "1075. Trial ID:NCT02597127\n"
          ]
        },
        {
          "output_type": "stream",
          "name": "stderr",
          "text": [
            "1076it [02:51,  7.29it/s]"
          ]
        },
        {
          "output_type": "stream",
          "name": "stdout",
          "text": [
            "1076. Trial ID:NCT02597582\n",
            "1077. Trial ID:NCT02597712\n"
          ]
        },
        {
          "output_type": "stream",
          "name": "stderr",
          "text": [
            "1078it [02:51,  7.61it/s]"
          ]
        },
        {
          "output_type": "stream",
          "name": "stdout",
          "text": [
            "1078. Trial ID:NCT02599194\n",
            "1079. Trial ID:NCT02600819\n"
          ]
        },
        {
          "output_type": "stream",
          "name": "stderr",
          "text": [
            "1080it [02:51,  7.91it/s]"
          ]
        },
        {
          "output_type": "stream",
          "name": "stdout",
          "text": [
            "1080. Trial ID:NCT02602496\n",
            "1081. Trial ID:NCT02603809\n"
          ]
        },
        {
          "output_type": "stream",
          "name": "stderr",
          "text": [
            "1082it [02:51,  8.15it/s]"
          ]
        },
        {
          "output_type": "stream",
          "name": "stdout",
          "text": [
            "1082. Trial ID:NCT02607280\n",
            "1083. Trial ID:NCT02615158\n"
          ]
        },
        {
          "output_type": "stream",
          "name": "stderr",
          "text": [
            "1084it [02:52,  7.66it/s]"
          ]
        },
        {
          "output_type": "stream",
          "name": "stdout",
          "text": [
            "1084. Trial ID:NCT02620774\n",
            "1085. Trial ID:NCT02621476\n"
          ]
        },
        {
          "output_type": "stream",
          "name": "stderr",
          "text": [
            "1086it [02:52,  7.52it/s]"
          ]
        },
        {
          "output_type": "stream",
          "name": "stdout",
          "text": [
            "1086. Trial ID:NCT02622295\n",
            "1087. Trial ID:NCT02623348\n"
          ]
        },
        {
          "output_type": "stream",
          "name": "stderr",
          "text": [
            "1088it [02:52,  7.90it/s]"
          ]
        },
        {
          "output_type": "stream",
          "name": "stdout",
          "text": [
            "1088. Trial ID:NCT02626819\n",
            "1089. Trial ID:NCT02628223\n"
          ]
        },
        {
          "output_type": "stream",
          "name": "stderr",
          "text": [
            "1090it [02:52,  8.00it/s]"
          ]
        },
        {
          "output_type": "stream",
          "name": "stdout",
          "text": [
            "1090. Trial ID:NCT02629991\n",
            "1091. Trial ID:NCT02630030\n"
          ]
        },
        {
          "output_type": "stream",
          "name": "stderr",
          "text": [
            "1092it [02:53,  7.00it/s]"
          ]
        },
        {
          "output_type": "stream",
          "name": "stdout",
          "text": [
            "1092. Trial ID:NCT02630316\n",
            "1093. Trial ID:NCT02630706\n"
          ]
        },
        {
          "output_type": "stream",
          "name": "stderr",
          "text": [
            "1094it [02:53,  6.72it/s]"
          ]
        },
        {
          "output_type": "stream",
          "name": "stdout",
          "text": [
            "1094. Trial ID:NCT02632838\n",
            "1095. Trial ID:NCT02633020\n"
          ]
        },
        {
          "output_type": "stream",
          "name": "stderr",
          "text": [
            "1096it [02:53,  7.37it/s]"
          ]
        },
        {
          "output_type": "stream",
          "name": "stdout",
          "text": [
            "1096. Trial ID:NCT02636049\n",
            "1097. Trial ID:NCT02636439\n"
          ]
        },
        {
          "output_type": "stream",
          "name": "stderr",
          "text": [
            "1098it [02:54,  6.98it/s]"
          ]
        },
        {
          "output_type": "stream",
          "name": "stdout",
          "text": [
            "1098. Trial ID:NCT02639182\n",
            "1099. Trial ID:NCT02639429\n"
          ]
        },
        {
          "output_type": "stream",
          "name": "stderr",
          "text": [
            "1100it [02:54,  7.36it/s]"
          ]
        },
        {
          "output_type": "stream",
          "name": "stdout",
          "text": [
            "1100. Trial ID:NCT02639910\n",
            "1101. Trial ID:NCT02641522\n"
          ]
        },
        {
          "output_type": "stream",
          "name": "stderr",
          "text": [
            "1102it [02:54,  7.29it/s]"
          ]
        },
        {
          "output_type": "stream",
          "name": "stdout",
          "text": [
            "1102. Trial ID:NCT02642159\n",
            "1103. Trial ID:NCT02643966\n"
          ]
        },
        {
          "output_type": "stream",
          "name": "stderr",
          "text": [
            "1104it [02:54,  7.37it/s]"
          ]
        },
        {
          "output_type": "stream",
          "name": "stdout",
          "text": [
            "1104. Trial ID:NCT02646982\n",
            "1105. Trial ID:NCT02647320\n"
          ]
        },
        {
          "output_type": "stream",
          "name": "stderr",
          "text": [
            "1106it [02:55,  7.15it/s]"
          ]
        },
        {
          "output_type": "stream",
          "name": "stdout",
          "text": [
            "1106. Trial ID:NCT02647944\n",
            "1107. Trial ID:NCT02648204\n"
          ]
        },
        {
          "output_type": "stream",
          "name": "stderr",
          "text": [
            "1108it [02:55,  7.36it/s]"
          ]
        },
        {
          "output_type": "stream",
          "name": "stdout",
          "text": [
            "1108. Trial ID:NCT02648347\n",
            "1109. Trial ID:NCT02649634\n"
          ]
        },
        {
          "output_type": "stream",
          "name": "stderr",
          "text": [
            "1110it [02:55,  7.86it/s]"
          ]
        },
        {
          "output_type": "stream",
          "name": "stdout",
          "text": [
            "1110. Trial ID:NCT02653092\n",
            "1111. Trial ID:NCT02656693\n"
          ]
        },
        {
          "output_type": "stream",
          "name": "stderr",
          "text": [
            "1112it [02:56,  6.76it/s]"
          ]
        },
        {
          "output_type": "stream",
          "name": "stdout",
          "text": [
            "1112. Trial ID:NCT02662569\n",
            "1113. Trial ID:NCT02664441\n"
          ]
        },
        {
          "output_type": "stream",
          "name": "stderr",
          "text": [
            "1114it [02:56,  6.05it/s]"
          ]
        },
        {
          "output_type": "stream",
          "name": "stdout",
          "text": [
            "1114. Trial ID:NCT02667626\n",
            "1115. Trial ID:NCT02667912\n"
          ]
        },
        {
          "output_type": "stream",
          "name": "stderr",
          "text": [
            "1116it [02:56,  6.23it/s]"
          ]
        },
        {
          "output_type": "stream",
          "name": "stdout",
          "text": [
            "1116. Trial ID:NCT02670811\n",
            "1117. Trial ID:NCT02672176\n"
          ]
        },
        {
          "output_type": "stream",
          "name": "stderr",
          "text": [
            "1118it [02:57,  6.26it/s]"
          ]
        },
        {
          "output_type": "stream",
          "name": "stdout",
          "text": [
            "1118. Trial ID:NCT02673203\n",
            "1119. Trial ID:NCT02674464\n"
          ]
        },
        {
          "output_type": "stream",
          "name": "stderr",
          "text": [
            "1120it [02:57,  6.45it/s]"
          ]
        },
        {
          "output_type": "stream",
          "name": "stdout",
          "text": [
            "1120. Trial ID:NCT02677779\n",
            "1121. Trial ID:NCT02678390\n"
          ]
        },
        {
          "output_type": "stream",
          "name": "stderr",
          "text": [
            "1122it [02:57,  6.50it/s]"
          ]
        },
        {
          "output_type": "stream",
          "name": "stdout",
          "text": [
            "1122. Trial ID:NCT02680574\n",
            "1123. Trial ID:NCT02682901\n"
          ]
        },
        {
          "output_type": "stream",
          "name": "stderr",
          "text": [
            "1124it [02:58,  6.21it/s]"
          ]
        },
        {
          "output_type": "stream",
          "name": "stdout",
          "text": [
            "1124. Trial ID:NCT02682992\n",
            "1125. Trial ID:NCT02684435\n"
          ]
        },
        {
          "output_type": "stream",
          "name": "stderr",
          "text": [
            "1126it [02:58,  5.95it/s]"
          ]
        },
        {
          "output_type": "stream",
          "name": "stdout",
          "text": [
            "1126. Trial ID:NCT02687412\n",
            "1127. Trial ID:NCT02688218\n"
          ]
        },
        {
          "output_type": "stream",
          "name": "stderr",
          "text": [
            "1128it [02:58,  5.87it/s]"
          ]
        },
        {
          "output_type": "stream",
          "name": "stdout",
          "text": [
            "1128. Trial ID:NCT02688621\n",
            "1129. Trial ID:NCT02689154\n"
          ]
        },
        {
          "output_type": "stream",
          "name": "stderr",
          "text": [
            "1130it [02:59,  5.88it/s]"
          ]
        },
        {
          "output_type": "stream",
          "name": "stdout",
          "text": [
            "1130. Trial ID:NCT02690948\n",
            "1131. Trial ID:NCT02691260\n"
          ]
        },
        {
          "output_type": "stream",
          "name": "stderr",
          "text": [
            "1132it [02:59,  5.81it/s]"
          ]
        },
        {
          "output_type": "stream",
          "name": "stdout",
          "text": [
            "1132. Trial ID:NCT02692040\n",
            "1133. Trial ID:NCT02692560\n"
          ]
        },
        {
          "output_type": "stream",
          "name": "stderr",
          "text": [
            "1134it [02:59,  5.81it/s]"
          ]
        },
        {
          "output_type": "stream",
          "name": "stdout",
          "text": [
            "1134. Trial ID:NCT02694562\n",
            "1135. Trial ID:NCT02694744\n"
          ]
        },
        {
          "output_type": "stream",
          "name": "stderr",
          "text": [
            "1136it [03:00,  6.67it/s]"
          ]
        },
        {
          "output_type": "stream",
          "name": "stdout",
          "text": [
            "1136. Trial ID:NCT02698891\n",
            "1137. Trial ID:NCT02699125\n"
          ]
        },
        {
          "output_type": "stream",
          "name": "stderr",
          "text": [
            "1138it [03:00,  7.16it/s]"
          ]
        },
        {
          "output_type": "stream",
          "name": "stdout",
          "text": [
            "1138. Trial ID:NCT02705365\n",
            "1139. Trial ID:NCT02709720\n"
          ]
        },
        {
          "output_type": "stream",
          "name": "stderr",
          "text": [
            "1140it [03:00,  7.54it/s]"
          ]
        },
        {
          "output_type": "stream",
          "name": "stdout",
          "text": [
            "1140. Trial ID:NCT02713529\n",
            "1141. Trial ID:NCT02723019\n"
          ]
        },
        {
          "output_type": "stream",
          "name": "stderr",
          "text": [
            "1142it [03:00,  6.40it/s]"
          ]
        },
        {
          "output_type": "stream",
          "name": "stdout",
          "text": [
            "1142. Trial ID:NCT02724020\n",
            "1143. Trial ID:NCT02728050\n"
          ]
        },
        {
          "output_type": "stream",
          "name": "stderr",
          "text": [
            "1144it [03:01,  7.03it/s]"
          ]
        },
        {
          "output_type": "stream",
          "name": "stdout",
          "text": [
            "1144. Trial ID:NCT02728830\n",
            "1145. Trial ID:NCT02730546\n"
          ]
        },
        {
          "output_type": "stream",
          "name": "stderr",
          "text": [
            "1146it [03:01,  6.69it/s]"
          ]
        },
        {
          "output_type": "stream",
          "name": "stdout",
          "text": [
            "1146. Trial ID:NCT02731729\n",
            "1147. Trial ID:NCT02736474\n"
          ]
        },
        {
          "output_type": "stream",
          "name": "stderr",
          "text": [
            "1148it [03:01,  7.05it/s]"
          ]
        },
        {
          "output_type": "stream",
          "name": "stdout",
          "text": [
            "1148. Trial ID:NCT02737501\n",
            "1149. Trial ID:NCT02737722\n"
          ]
        },
        {
          "output_type": "stream",
          "name": "stderr",
          "text": [
            "1150it [03:02,  7.50it/s]"
          ]
        },
        {
          "output_type": "stream",
          "name": "stdout",
          "text": [
            "1150. Trial ID:NCT02738086\n",
            "1151. Trial ID:NCT02738879\n"
          ]
        },
        {
          "output_type": "stream",
          "name": "stderr",
          "text": [
            "1152it [03:02,  7.35it/s]"
          ]
        },
        {
          "output_type": "stream",
          "name": "stdout",
          "text": [
            "1152. Trial ID:NCT02739100\n",
            "1153. Trial ID:NCT02739620\n"
          ]
        },
        {
          "output_type": "stream",
          "name": "stderr",
          "text": [
            "1154it [03:02,  7.20it/s]"
          ]
        },
        {
          "output_type": "stream",
          "name": "stdout",
          "text": [
            "1154. Trial ID:NCT02739984\n",
            "1155. Trial ID:NCT02747108\n"
          ]
        },
        {
          "output_type": "stream",
          "name": "stderr",
          "text": [
            "1156it [03:02,  7.22it/s]"
          ]
        },
        {
          "output_type": "stream",
          "name": "stdout",
          "text": [
            "1156. Trial ID:NCT02750410\n",
            "1157. Trial ID:NCT02750501\n"
          ]
        },
        {
          "output_type": "stream",
          "name": "stderr",
          "text": [
            "1158it [03:03,  7.44it/s]"
          ]
        },
        {
          "output_type": "stream",
          "name": "stdout",
          "text": [
            "1158. Trial ID:NCT02754570\n",
            "1159. Trial ID:NCT02754596\n"
          ]
        },
        {
          "output_type": "stream",
          "name": "stderr",
          "text": [
            "1160it [03:03,  7.66it/s]"
          ]
        },
        {
          "output_type": "stream",
          "name": "stdout",
          "text": [
            "1160. Trial ID:NCT02755831\n",
            "1161. Trial ID:NCT02759055\n"
          ]
        },
        {
          "output_type": "stream",
          "name": "stderr",
          "text": [
            "1162it [03:03,  6.95it/s]"
          ]
        },
        {
          "output_type": "stream",
          "name": "stdout",
          "text": [
            "1162. Trial ID:NCT02759146\n",
            "1163. Trial ID:NCT02762084\n"
          ]
        },
        {
          "output_type": "stream",
          "name": "stderr",
          "text": [
            "1164it [03:03,  7.36it/s]"
          ]
        },
        {
          "output_type": "stream",
          "name": "stdout",
          "text": [
            "1164. Trial ID:NCT02762708\n",
            "1165. Trial ID:NCT02766582\n"
          ]
        },
        {
          "output_type": "stream",
          "name": "stderr",
          "text": [
            "1166it [03:04,  6.53it/s]"
          ]
        },
        {
          "output_type": "stream",
          "name": "stdout",
          "text": [
            "1166. Trial ID:NCT02767869\n",
            "1167. Trial ID:NCT02769481\n"
          ]
        },
        {
          "output_type": "stream",
          "name": "stderr",
          "text": [
            "1168it [03:04,  6.90it/s]"
          ]
        },
        {
          "output_type": "stream",
          "name": "stdout",
          "text": [
            "1168. Trial ID:NCT02769728\n",
            "1169. Trial ID:NCT02776553\n"
          ]
        },
        {
          "output_type": "stream",
          "name": "stderr",
          "text": [
            "1170it [03:04,  6.13it/s]"
          ]
        },
        {
          "output_type": "stream",
          "name": "stdout",
          "text": [
            "1170. Trial ID:NCT02781649\n",
            "1171. Trial ID:NCT02788201\n"
          ]
        },
        {
          "output_type": "stream",
          "name": "stderr",
          "text": [
            "1172it [03:05,  6.75it/s]"
          ]
        },
        {
          "output_type": "stream",
          "name": "stdout",
          "text": [
            "1172. Trial ID:NCT02790437\n",
            "1173. Trial ID:NCT02790931\n"
          ]
        },
        {
          "output_type": "stream",
          "name": "stderr",
          "text": [
            "1174it [03:05,  6.79it/s]"
          ]
        },
        {
          "output_type": "stream",
          "name": "stdout",
          "text": [
            "1174. Trial ID:NCT02791438\n",
            "1175. Trial ID:NCT02791490\n"
          ]
        },
        {
          "output_type": "stream",
          "name": "stderr",
          "text": [
            "\r1175it [03:05,  7.09it/s]"
          ]
        },
        {
          "output_type": "stream",
          "name": "stdout",
          "text": [
            "1176. Trial ID:NCT02796170\n"
          ]
        },
        {
          "output_type": "stream",
          "name": "stderr",
          "text": [
            "1177it [03:06,  5.95it/s]"
          ]
        },
        {
          "output_type": "stream",
          "name": "stdout",
          "text": [
            "1177. Trial ID:NCT02796560\n",
            "1178. Trial ID:NCT02799082\n"
          ]
        },
        {
          "output_type": "stream",
          "name": "stderr",
          "text": [
            "1179it [03:06,  6.00it/s]"
          ]
        },
        {
          "output_type": "stream",
          "name": "stdout",
          "text": [
            "1179. Trial ID:NCT02802865\n",
            "1180. Trial ID:NCT02804750\n"
          ]
        },
        {
          "output_type": "stream",
          "name": "stderr",
          "text": [
            "1181it [03:06,  6.91it/s]"
          ]
        },
        {
          "output_type": "stream",
          "name": "stdout",
          "text": [
            "1181. Trial ID:NCT02805972\n",
            "1182. Trial ID:NCT02809183\n"
          ]
        },
        {
          "output_type": "stream",
          "name": "stderr",
          "text": [
            "1183it [03:06,  6.93it/s]"
          ]
        },
        {
          "output_type": "stream",
          "name": "stdout",
          "text": [
            "1183. Trial ID:NCT02812160\n",
            "1184. Trial ID:NCT02813421\n"
          ]
        },
        {
          "output_type": "stream",
          "name": "stderr",
          "text": [
            "1185it [03:07,  7.20it/s]"
          ]
        },
        {
          "output_type": "stream",
          "name": "stdout",
          "text": [
            "1185. Trial ID:NCT02813551\n",
            "1186. Trial ID:NCT02815982\n"
          ]
        },
        {
          "output_type": "stream",
          "name": "stderr",
          "text": [
            "1187it [03:07,  7.07it/s]"
          ]
        },
        {
          "output_type": "stream",
          "name": "stdout",
          "text": [
            "1187. Trial ID:NCT02816710\n",
            "1188. Trial ID:NCT02822222\n"
          ]
        },
        {
          "output_type": "stream",
          "name": "stderr",
          "text": [
            "1189it [03:07,  6.67it/s]"
          ]
        },
        {
          "output_type": "stream",
          "name": "stdout",
          "text": [
            "1189. Trial ID:NCT02829268\n",
            "1190. Trial ID:NCT02830880\n"
          ]
        },
        {
          "output_type": "stream",
          "name": "stderr",
          "text": [
            "\r1190it [03:08,  5.07it/s]"
          ]
        },
        {
          "output_type": "stream",
          "name": "stdout",
          "text": [
            "1191. Trial ID:NCT02833415\n"
          ]
        },
        {
          "output_type": "stream",
          "name": "stderr",
          "text": [
            "\r1191it [03:08,  3.45it/s]"
          ]
        },
        {
          "output_type": "stream",
          "name": "stdout",
          "text": [
            "1192. Trial ID:NCT02833857\n"
          ]
        },
        {
          "output_type": "stream",
          "name": "stderr",
          "text": [
            "1193it [03:08,  4.39it/s]"
          ]
        },
        {
          "output_type": "stream",
          "name": "stdout",
          "text": [
            "1193. Trial ID:NCT02834663\n",
            "1194. Trial ID:NCT02835339\n"
          ]
        },
        {
          "output_type": "stream",
          "name": "stderr",
          "text": [
            "1195it [03:09,  5.50it/s]"
          ]
        },
        {
          "output_type": "stream",
          "name": "stdout",
          "text": [
            "1195. Trial ID:NCT02835495\n",
            "1196. Trial ID:NCT02836873\n"
          ]
        },
        {
          "output_type": "stream",
          "name": "stderr",
          "text": [
            "1197it [03:09,  6.33it/s]"
          ]
        },
        {
          "output_type": "stream",
          "name": "stdout",
          "text": [
            "1197. Trial ID:NCT02837237\n",
            "1198. Trial ID:NCT02839720\n"
          ]
        },
        {
          "output_type": "stream",
          "name": "stderr",
          "text": [
            "1199it [03:09,  6.13it/s]"
          ]
        },
        {
          "output_type": "stream",
          "name": "stdout",
          "text": [
            "1199. Trial ID:NCT02841280\n",
            "1200. Trial ID:NCT02846779\n"
          ]
        },
        {
          "output_type": "stream",
          "name": "stderr",
          "text": [
            "1201it [03:10,  5.99it/s]"
          ]
        },
        {
          "output_type": "stream",
          "name": "stdout",
          "text": [
            "1201. Trial ID:NCT02848079\n",
            "1202. Trial ID:NCT02849184\n"
          ]
        },
        {
          "output_type": "stream",
          "name": "stderr",
          "text": [
            "1203it [03:10,  6.27it/s]"
          ]
        },
        {
          "output_type": "stream",
          "name": "stdout",
          "text": [
            "1203. Trial ID:NCT02855944\n",
            "1204. Trial ID:NCT02858076\n"
          ]
        },
        {
          "output_type": "stream",
          "name": "stderr",
          "text": [
            "1205it [03:10,  5.71it/s]"
          ]
        },
        {
          "output_type": "stream",
          "name": "stdout",
          "text": [
            "1205. Trial ID:NCT02858895\n",
            "1206. Trial ID:NCT02862548\n"
          ]
        },
        {
          "output_type": "stream",
          "name": "stderr",
          "text": [
            "1207it [03:11,  5.74it/s]"
          ]
        },
        {
          "output_type": "stream",
          "name": "stdout",
          "text": [
            "1207. Trial ID:NCT02863445\n",
            "1208. Trial ID:NCT02865850\n"
          ]
        },
        {
          "output_type": "stream",
          "name": "stderr",
          "text": [
            "1209it [03:11,  5.56it/s]"
          ]
        },
        {
          "output_type": "stream",
          "name": "stdout",
          "text": [
            "1209. Trial ID:NCT02866669\n",
            "1210. Trial ID:NCT02866695\n"
          ]
        },
        {
          "output_type": "stream",
          "name": "stderr",
          "text": [
            "1211it [03:11,  5.69it/s]"
          ]
        },
        {
          "output_type": "stream",
          "name": "stdout",
          "text": [
            "1211. Trial ID:NCT02867995\n",
            "1212. Trial ID:NCT02873715\n"
          ]
        },
        {
          "output_type": "stream",
          "name": "stderr",
          "text": [
            "1213it [03:12,  5.56it/s]"
          ]
        },
        {
          "output_type": "stream",
          "name": "stdout",
          "text": [
            "1213. Trial ID:NCT02877004\n",
            "1214. Trial ID:NCT02877680\n"
          ]
        },
        {
          "output_type": "stream",
          "name": "stderr",
          "text": [
            "1215it [03:12,  5.54it/s]"
          ]
        },
        {
          "output_type": "stream",
          "name": "stdout",
          "text": [
            "1215. Trial ID:NCT02888171\n",
            "1216. Trial ID:NCT02888691\n"
          ]
        },
        {
          "output_type": "stream",
          "name": "stderr",
          "text": [
            "1217it [03:12,  5.58it/s]"
          ]
        },
        {
          "output_type": "stream",
          "name": "stdout",
          "text": [
            "1217. Trial ID:NCT02889510\n",
            "1218. Trial ID:NCT02891174\n"
          ]
        },
        {
          "output_type": "stream",
          "name": "stderr",
          "text": [
            "1219it [03:13,  5.64it/s]"
          ]
        },
        {
          "output_type": "stream",
          "name": "stdout",
          "text": [
            "1219. Trial ID:NCT02891382\n",
            "1220. Trial ID:NCT02892149\n"
          ]
        },
        {
          "output_type": "stream",
          "name": "stderr",
          "text": [
            "1221it [03:13,  5.50it/s]"
          ]
        },
        {
          "output_type": "stream",
          "name": "stdout",
          "text": [
            "1221. Trial ID:NCT02896192\n",
            "1222. Trial ID:NCT02896855\n"
          ]
        },
        {
          "output_type": "stream",
          "name": "stderr",
          "text": [
            "1223it [03:13,  6.20it/s]"
          ]
        },
        {
          "output_type": "stream",
          "name": "stdout",
          "text": [
            "1223. Trial ID:NCT02902120\n",
            "1224. Trial ID:NCT02902965\n"
          ]
        },
        {
          "output_type": "stream",
          "name": "stderr",
          "text": [
            "1225it [03:14,  6.75it/s]"
          ]
        },
        {
          "output_type": "stream",
          "name": "stdout",
          "text": [
            "1225. Trial ID:NCT02904512\n",
            "1226. Trial ID:NCT02906579\n"
          ]
        },
        {
          "output_type": "stream",
          "name": "stderr",
          "text": [
            "1227it [03:14,  6.02it/s]"
          ]
        },
        {
          "output_type": "stream",
          "name": "stdout",
          "text": [
            "1227. Trial ID:NCT02911701\n",
            "1228. Trial ID:NCT02911753\n"
          ]
        },
        {
          "output_type": "stream",
          "name": "stderr",
          "text": [
            "1229it [03:14,  6.60it/s]"
          ]
        },
        {
          "output_type": "stream",
          "name": "stdout",
          "text": [
            "1229. Trial ID:NCT02911844\n",
            "1230. Trial ID:NCT02915029\n"
          ]
        },
        {
          "output_type": "stream",
          "name": "stderr",
          "text": [
            "1231it [03:15,  6.94it/s]"
          ]
        },
        {
          "output_type": "stream",
          "name": "stdout",
          "text": [
            "1231. Trial ID:NCT02917278\n",
            "1232. Trial ID:NCT02923674\n"
          ]
        },
        {
          "output_type": "stream",
          "name": "stderr",
          "text": [
            "1233it [03:15,  6.72it/s]"
          ]
        },
        {
          "output_type": "stream",
          "name": "stdout",
          "text": [
            "1233. Trial ID:NCT02926950\n",
            "1234. Trial ID:NCT02927262\n"
          ]
        },
        {
          "output_type": "stream",
          "name": "stderr",
          "text": [
            "1235it [03:15,  6.94it/s]"
          ]
        },
        {
          "output_type": "stream",
          "name": "stdout",
          "text": [
            "1235. Trial ID:NCT02936076\n",
            "1236. Trial ID:NCT02940860\n"
          ]
        },
        {
          "output_type": "stream",
          "name": "stderr",
          "text": [
            "1237it [03:16,  7.41it/s]"
          ]
        },
        {
          "output_type": "stream",
          "name": "stdout",
          "text": [
            "1237. Trial ID:NCT02942407\n",
            "1238. Trial ID:NCT02946034\n"
          ]
        },
        {
          "output_type": "stream",
          "name": "stderr",
          "text": [
            "1239it [03:16,  7.68it/s]"
          ]
        },
        {
          "output_type": "stream",
          "name": "stdout",
          "text": [
            "1239. Trial ID:NCT02947984\n",
            "1240. Trial ID:NCT02953262\n"
          ]
        },
        {
          "output_type": "stream",
          "name": "stderr",
          "text": [
            "1241it [03:16,  7.79it/s]"
          ]
        },
        {
          "output_type": "stream",
          "name": "stdout",
          "text": [
            "1241. Trial ID:NCT02954601\n",
            "1242. Trial ID:NCT02956044\n"
          ]
        },
        {
          "output_type": "stream",
          "name": "stderr",
          "text": [
            "1243it [03:16,  8.05it/s]"
          ]
        },
        {
          "output_type": "stream",
          "name": "stdout",
          "text": [
            "1243. Trial ID:NCT02956473\n",
            "1244. Trial ID:NCT02957539\n"
          ]
        },
        {
          "output_type": "stream",
          "name": "stderr",
          "text": [
            "\r1244it [03:16,  8.00it/s]"
          ]
        },
        {
          "output_type": "stream",
          "name": "stdout",
          "text": [
            "1245. Trial ID:NCT02960204\n"
          ]
        },
        {
          "output_type": "stream",
          "name": "stderr",
          "text": [
            "1246it [03:17,  6.76it/s]"
          ]
        },
        {
          "output_type": "stream",
          "name": "stdout",
          "text": [
            "1246. Trial ID:NCT02961920\n",
            "1247. Trial ID:NCT02962492\n"
          ]
        },
        {
          "output_type": "stream",
          "name": "stderr",
          "text": [
            "1248it [03:17,  7.15it/s]"
          ]
        },
        {
          "output_type": "stream",
          "name": "stdout",
          "text": [
            "1248. Trial ID:NCT02962648\n",
            "1249. Trial ID:NCT02963597\n"
          ]
        },
        {
          "output_type": "stream",
          "name": "stderr",
          "text": [
            "1250it [03:17,  7.44it/s]"
          ]
        },
        {
          "output_type": "stream",
          "name": "stdout",
          "text": [
            "1250. Trial ID:NCT02963766\n",
            "1251. Trial ID:NCT02965976\n"
          ]
        },
        {
          "output_type": "stream",
          "name": "stderr",
          "text": [
            "1252it [03:18,  7.75it/s]"
          ]
        },
        {
          "output_type": "stream",
          "name": "stdout",
          "text": [
            "1252. Trial ID:NCT02966028\n",
            "1253. Trial ID:NCT02968368\n"
          ]
        },
        {
          "output_type": "stream",
          "name": "stderr",
          "text": [
            "1254it [03:18,  7.69it/s]"
          ]
        },
        {
          "output_type": "stream",
          "name": "stdout",
          "text": [
            "1254. Trial ID:NCT02969031\n",
            "1255. Trial ID:NCT02970812\n"
          ]
        },
        {
          "output_type": "stream",
          "name": "stderr",
          "text": [
            "1256it [03:18,  7.63it/s]"
          ]
        },
        {
          "output_type": "stream",
          "name": "stdout",
          "text": [
            "1256. Trial ID:NCT02973321\n",
            "1257. Trial ID:NCT02981069\n"
          ]
        },
        {
          "output_type": "stream",
          "name": "stderr",
          "text": [
            "1258it [03:18,  7.81it/s]"
          ]
        },
        {
          "output_type": "stream",
          "name": "stdout",
          "text": [
            "1258. Trial ID:NCT02981446\n",
            "1259. Trial ID:NCT02983877\n"
          ]
        },
        {
          "output_type": "stream",
          "name": "stderr",
          "text": [
            "1260it [03:19,  7.91it/s]"
          ]
        },
        {
          "output_type": "stream",
          "name": "stdout",
          "text": [
            "1260. Trial ID:NCT02984995\n",
            "1261. Trial ID:NCT02985866\n"
          ]
        },
        {
          "output_type": "stream",
          "name": "stderr",
          "text": [
            "1262it [03:19,  7.60it/s]"
          ]
        },
        {
          "output_type": "stream",
          "name": "stdout",
          "text": [
            "1262. Trial ID:NCT02991482\n",
            "1263. Trial ID:NCT02998840\n"
          ]
        },
        {
          "output_type": "stream",
          "name": "stderr",
          "text": [
            "1264it [03:19,  7.65it/s]"
          ]
        },
        {
          "output_type": "stream",
          "name": "stdout",
          "text": [
            "1264. Trial ID:NCT03002155\n",
            "1265. Trial ID:NCT03011567\n"
          ]
        },
        {
          "output_type": "stream",
          "name": "stderr",
          "text": [
            "1266it [03:19,  7.95it/s]"
          ]
        },
        {
          "output_type": "stream",
          "name": "stdout",
          "text": [
            "1266. Trial ID:NCT03013543\n",
            "1267. Trial ID:NCT03014479\n"
          ]
        },
        {
          "output_type": "stream",
          "name": "stderr",
          "text": [
            "1268it [03:20,  6.38it/s]"
          ]
        },
        {
          "output_type": "stream",
          "name": "stdout",
          "text": [
            "1268. Trial ID:NCT03018080\n",
            "1269. Trial ID:NCT03018938\n"
          ]
        },
        {
          "output_type": "stream",
          "name": "stderr",
          "text": [
            "1270it [03:20,  6.98it/s]"
          ]
        },
        {
          "output_type": "stream",
          "name": "stdout",
          "text": [
            "1270. Trial ID:NCT03020225\n",
            "1271. Trial ID:NCT03023046\n"
          ]
        },
        {
          "output_type": "stream",
          "name": "stderr",
          "text": [
            "\r1271it [03:20,  7.01it/s]"
          ]
        },
        {
          "output_type": "stream",
          "name": "stdout",
          "text": [
            "1272. Trial ID:NCT03025880\n"
          ]
        },
        {
          "output_type": "stream",
          "name": "stderr",
          "text": [
            "1273it [03:20,  6.61it/s]"
          ]
        },
        {
          "output_type": "stream",
          "name": "stdout",
          "text": [
            "1273. Trial ID:NCT03028948\n",
            "1274. Trial ID:NCT03036150\n"
          ]
        },
        {
          "output_type": "stream",
          "name": "stderr",
          "text": [
            "1275it [03:21,  6.98it/s]"
          ]
        },
        {
          "output_type": "stream",
          "name": "stdout",
          "text": [
            "1275. Trial ID:NCT03036839\n",
            "1276. Trial ID:NCT03036852\n"
          ]
        },
        {
          "output_type": "stream",
          "name": "stderr",
          "text": [
            "\r1276it [03:21,  7.10it/s]"
          ]
        },
        {
          "output_type": "stream",
          "name": "stdout",
          "text": [
            "1277. Trial ID:NCT03038620\n"
          ]
        },
        {
          "output_type": "stream",
          "name": "stderr",
          "text": [
            "1278it [03:21,  6.33it/s]"
          ]
        },
        {
          "output_type": "stream",
          "name": "stdout",
          "text": [
            "1278. Trial ID:NCT03045341\n",
            "1279. Trial ID:NCT03047980\n"
          ]
        },
        {
          "output_type": "stream",
          "name": "stderr",
          "text": [
            "1280it [03:22,  6.99it/s]"
          ]
        },
        {
          "output_type": "stream",
          "name": "stdout",
          "text": [
            "1280. Trial ID:NCT03052257\n",
            "1281. Trial ID:NCT03057366\n"
          ]
        },
        {
          "output_type": "stream",
          "name": "stderr",
          "text": [
            "1282it [03:22,  7.12it/s]"
          ]
        },
        {
          "output_type": "stream",
          "name": "stdout",
          "text": [
            "1282. Trial ID:NCT03066830\n",
            "1283. Trial ID:NCT03070483\n"
          ]
        },
        {
          "output_type": "stream",
          "name": "stderr",
          "text": [
            "1284it [03:22,  7.48it/s]"
          ]
        },
        {
          "output_type": "stream",
          "name": "stdout",
          "text": [
            "1284. Trial ID:NCT03071263\n",
            "1285. Trial ID:NCT03075085\n"
          ]
        },
        {
          "output_type": "stream",
          "name": "stderr",
          "text": [
            "1286it [03:22,  7.33it/s]"
          ]
        },
        {
          "output_type": "stream",
          "name": "stdout",
          "text": [
            "1286. Trial ID:NCT03077204\n",
            "1287. Trial ID:NCT03083808\n"
          ]
        },
        {
          "output_type": "stream",
          "name": "stderr",
          "text": [
            "1288it [03:23,  7.25it/s]"
          ]
        },
        {
          "output_type": "stream",
          "name": "stdout",
          "text": [
            "1288. Trial ID:NCT03085238\n",
            "1289. Trial ID:NCT03092479\n"
          ]
        },
        {
          "output_type": "stream",
          "name": "stderr",
          "text": [
            "1290it [03:23,  6.80it/s]"
          ]
        },
        {
          "output_type": "stream",
          "name": "stdout",
          "text": [
            "1290. Trial ID:NCT03096873\n",
            "1291. Trial ID:NCT03100968\n"
          ]
        },
        {
          "output_type": "stream",
          "name": "stderr",
          "text": [
            "1292it [03:23,  7.24it/s]"
          ]
        },
        {
          "output_type": "stream",
          "name": "stdout",
          "text": [
            "1292. Trial ID:NCT03101514\n",
            "1293. Trial ID:NCT03101930\n"
          ]
        },
        {
          "output_type": "stream",
          "name": "stderr",
          "text": [
            "1294it [03:24,  6.54it/s]"
          ]
        },
        {
          "output_type": "stream",
          "name": "stdout",
          "text": [
            "1294. Trial ID:NCT03104205\n",
            "1295. Trial ID:NCT03104543\n"
          ]
        },
        {
          "output_type": "stream",
          "name": "stderr",
          "text": [
            "1296it [03:24,  6.23it/s]"
          ]
        },
        {
          "output_type": "stream",
          "name": "stdout",
          "text": [
            "1296. Trial ID:NCT03104738\n",
            "1297. Trial ID:NCT03107208\n"
          ]
        },
        {
          "output_type": "stream",
          "name": "stderr",
          "text": [
            "1298it [03:24,  6.26it/s]"
          ]
        },
        {
          "output_type": "stream",
          "name": "stdout",
          "text": [
            "1298. Trial ID:NCT03109262\n",
            "1299. Trial ID:NCT03113955\n"
          ]
        },
        {
          "output_type": "stream",
          "name": "stderr",
          "text": [
            "1300it [03:24,  6.21it/s]"
          ]
        },
        {
          "output_type": "stream",
          "name": "stdout",
          "text": [
            "1300. Trial ID:NCT03115112\n",
            "1301. Trial ID:NCT03125629\n"
          ]
        },
        {
          "output_type": "stream",
          "name": "stderr",
          "text": [
            "1302it [03:25,  6.15it/s]"
          ]
        },
        {
          "output_type": "stream",
          "name": "stdout",
          "text": [
            "1302. Trial ID:NCT03126786\n",
            "1303. Trial ID:NCT03127852\n"
          ]
        },
        {
          "output_type": "stream",
          "name": "stderr",
          "text": [
            "1304it [03:25,  5.96it/s]"
          ]
        },
        {
          "output_type": "stream",
          "name": "stdout",
          "text": [
            "1304. Trial ID:NCT03130257\n",
            "1305. Trial ID:NCT03136055\n"
          ]
        },
        {
          "output_type": "stream",
          "name": "stderr",
          "text": [
            "1306it [03:26,  5.47it/s]"
          ]
        },
        {
          "output_type": "stream",
          "name": "stdout",
          "text": [
            "1306. Trial ID:NCT03141905\n",
            "1307. Trial ID:NCT03144635\n"
          ]
        },
        {
          "output_type": "stream",
          "name": "stderr",
          "text": [
            "1308it [03:26,  5.35it/s]"
          ]
        },
        {
          "output_type": "stream",
          "name": "stdout",
          "text": [
            "1308. Trial ID:NCT03148691\n",
            "1309. Trial ID:NCT03149055\n"
          ]
        },
        {
          "output_type": "stream",
          "name": "stderr",
          "text": [
            "\r1309it [03:26,  5.45it/s]"
          ]
        },
        {
          "output_type": "stream",
          "name": "stdout",
          "text": [
            "1310. Trial ID:NCT03149328\n"
          ]
        },
        {
          "output_type": "stream",
          "name": "stderr",
          "text": [
            "\r1310it [03:27,  2.87it/s]"
          ]
        },
        {
          "output_type": "stream",
          "name": "stdout",
          "text": [
            "1311. Trial ID:NCT03151005\n"
          ]
        },
        {
          "output_type": "stream",
          "name": "stderr",
          "text": [
            "\r1311it [03:27,  2.34it/s]"
          ]
        },
        {
          "output_type": "stream",
          "name": "stdout",
          "text": [
            "1312. Trial ID:NCT03152591\n"
          ]
        },
        {
          "output_type": "stream",
          "name": "stderr",
          "text": [
            "1313it [03:28,  3.29it/s]"
          ]
        },
        {
          "output_type": "stream",
          "name": "stdout",
          "text": [
            "1313. Trial ID:NCT03158051\n",
            "1314. Trial ID:NCT03158805\n"
          ]
        },
        {
          "output_type": "stream",
          "name": "stderr",
          "text": [
            "1315it [03:28,  4.55it/s]"
          ]
        },
        {
          "output_type": "stream",
          "name": "stdout",
          "text": [
            "1315. Trial ID:NCT03163992\n",
            "1316. Trial ID:NCT03164538\n"
          ]
        },
        {
          "output_type": "stream",
          "name": "stderr",
          "text": [
            "1317it [03:28,  5.67it/s]"
          ]
        },
        {
          "output_type": "stream",
          "name": "stdout",
          "text": [
            "1317. Trial ID:NCT03165994\n",
            "1318. Trial ID:NCT03166124\n"
          ]
        },
        {
          "output_type": "stream",
          "name": "stderr",
          "text": [
            "1319it [03:29,  6.66it/s]"
          ]
        },
        {
          "output_type": "stream",
          "name": "stdout",
          "text": [
            "1319. Trial ID:NCT03170882\n",
            "1320. Trial ID:NCT03176472\n"
          ]
        },
        {
          "output_type": "stream",
          "name": "stderr",
          "text": [
            "1321it [03:29,  7.00it/s]"
          ]
        },
        {
          "output_type": "stream",
          "name": "stdout",
          "text": [
            "1321. Trial ID:NCT03179410\n",
            "1322. Trial ID:NCT03180294\n"
          ]
        },
        {
          "output_type": "stream",
          "name": "stderr",
          "text": [
            "1323it [03:29,  5.90it/s]"
          ]
        },
        {
          "output_type": "stream",
          "name": "stdout",
          "text": [
            "1323. Trial ID:NCT03180619\n",
            "1324. Trial ID:NCT03182582"
          ]
        },
        {
          "output_type": "stream",
          "name": "stderr",
          "text": [
            "\r1324it [03:29,  6.27it/s]"
          ]
        },
        {
          "output_type": "stream",
          "name": "stdout",
          "text": [
            "\n",
            "1325. Trial ID:NCT03185455\n"
          ]
        },
        {
          "output_type": "stream",
          "name": "stderr",
          "text": [
            "1326it [03:30,  6.33it/s]"
          ]
        },
        {
          "output_type": "stream",
          "name": "stdout",
          "text": [
            "1326. Trial ID:NCT03187418\n",
            "1327. Trial ID:NCT03187678\n"
          ]
        },
        {
          "output_type": "stream",
          "name": "stderr",
          "text": [
            "1328it [03:30,  7.26it/s]"
          ]
        },
        {
          "output_type": "stream",
          "name": "stdout",
          "text": [
            "1328. Trial ID:NCT03189446\n",
            "1329. Trial ID:NCT03195140\n"
          ]
        },
        {
          "output_type": "stream",
          "name": "stderr",
          "text": [
            "1330it [03:30,  7.69it/s]"
          ]
        },
        {
          "output_type": "stream",
          "name": "stdout",
          "text": [
            "1330. Trial ID:NCT03196076\n",
            "1331. Trial ID:NCT03196791\n"
          ]
        },
        {
          "output_type": "stream",
          "name": "stderr",
          "text": [
            "1332it [03:31,  7.41it/s]"
          ]
        },
        {
          "output_type": "stream",
          "name": "stdout",
          "text": [
            "1332. Trial ID:NCT03197038\n",
            "1333. Trial ID:NCT03199638\n"
          ]
        },
        {
          "output_type": "stream",
          "name": "stderr",
          "text": [
            "1334it [03:31,  6.90it/s]"
          ]
        },
        {
          "output_type": "stream",
          "name": "stdout",
          "text": [
            "1334. Trial ID:NCT03200366\n",
            "1335. Trial ID:NCT03203694\n"
          ]
        },
        {
          "output_type": "stream",
          "name": "stderr",
          "text": [
            "1336it [03:31,  6.62it/s]"
          ]
        },
        {
          "output_type": "stream",
          "name": "stdout",
          "text": [
            "1336. Trial ID:NCT03206073\n",
            "1337. Trial ID:NCT03208192\n"
          ]
        },
        {
          "output_type": "stream",
          "name": "stderr",
          "text": [
            "1338it [03:31,  7.24it/s]"
          ]
        },
        {
          "output_type": "stream",
          "name": "stdout",
          "text": [
            "1338. Trial ID:NCT03210220\n",
            "1339. Trial ID:NCT03213158\n"
          ]
        },
        {
          "output_type": "stream",
          "name": "stderr",
          "text": [
            "1340it [03:32,  7.60it/s]"
          ]
        },
        {
          "output_type": "stream",
          "name": "stdout",
          "text": [
            "1340. Trial ID:NCT03214367\n",
            "1341. Trial ID:NCT03216226\n"
          ]
        },
        {
          "output_type": "stream",
          "name": "stderr",
          "text": [
            "1342it [03:32,  7.81it/s]"
          ]
        },
        {
          "output_type": "stream",
          "name": "stdout",
          "text": [
            "1342. Trial ID:NCT03219320\n",
            "1343. Trial ID:NCT03223649\n"
          ]
        },
        {
          "output_type": "stream",
          "name": "stderr",
          "text": [
            "1344it [03:32,  7.92it/s]"
          ]
        },
        {
          "output_type": "stream",
          "name": "stdout",
          "text": [
            "1344. Trial ID:NCT03236246\n",
            "1345. Trial ID:NCT03240874\n"
          ]
        },
        {
          "output_type": "stream",
          "name": "stderr",
          "text": [
            "1346it [03:32,  8.01it/s]"
          ]
        },
        {
          "output_type": "stream",
          "name": "stdout",
          "text": [
            "1346. Trial ID:NCT03242018\n",
            "1347. Trial ID:NCT03242252\n"
          ]
        },
        {
          "output_type": "stream",
          "name": "stderr",
          "text": [
            "1348it [03:33,  7.00it/s]"
          ]
        },
        {
          "output_type": "stream",
          "name": "stdout",
          "text": [
            "1348. Trial ID:NCT03251079\n",
            "1349. Trial ID:NCT03252431\n"
          ]
        },
        {
          "output_type": "stream",
          "name": "stderr",
          "text": [
            "1350it [03:33,  7.34it/s]"
          ]
        },
        {
          "output_type": "stream",
          "name": "stdout",
          "text": [
            "1350. Trial ID:NCT03259789\n",
            "1351. Trial ID:NCT03263780\n"
          ]
        },
        {
          "output_type": "stream",
          "name": "stderr",
          "text": [
            "1352it [03:33,  7.80it/s]"
          ]
        },
        {
          "output_type": "stream",
          "name": "stdout",
          "text": [
            "1352. Trial ID:NCT03264248\n",
            "1353. Trial ID:NCT03268941\n"
          ]
        },
        {
          "output_type": "stream",
          "name": "stderr",
          "text": [
            "1354it [03:33,  7.93it/s]"
          ]
        },
        {
          "output_type": "stream",
          "name": "stdout",
          "text": [
            "1354. Trial ID:NCT03269344\n",
            "1355. Trial ID:NCT03273387\n"
          ]
        },
        {
          "output_type": "stream",
          "name": "stderr",
          "text": [
            "1356it [03:34,  7.03it/s]"
          ]
        },
        {
          "output_type": "stream",
          "name": "stdout",
          "text": [
            "1356. Trial ID:NCT03273712\n",
            "1357. Trial ID:NCT03283098\n"
          ]
        },
        {
          "output_type": "stream",
          "name": "stderr",
          "text": [
            "1358it [03:34,  7.46it/s]"
          ]
        },
        {
          "output_type": "stream",
          "name": "stdout",
          "text": [
            "1358. Trial ID:NCT03284853\n",
            "1359. Trial ID:NCT03285594\n"
          ]
        },
        {
          "output_type": "stream",
          "name": "stderr",
          "text": [
            "1360it [03:34,  7.62it/s]"
          ]
        },
        {
          "output_type": "stream",
          "name": "stdout",
          "text": [
            "1360. Trial ID:NCT03287960\n",
            "1361. Trial ID:NCT03288142\n"
          ]
        },
        {
          "output_type": "stream",
          "name": "stderr",
          "text": [
            "1362it [03:35,  7.86it/s]"
          ]
        },
        {
          "output_type": "stream",
          "name": "stdout",
          "text": [
            "1362. Trial ID:NCT03289650\n",
            "1363. Trial ID:NCT03291379\n"
          ]
        },
        {
          "output_type": "stream",
          "name": "stderr",
          "text": [
            "1364it [03:35,  7.29it/s]"
          ]
        },
        {
          "output_type": "stream",
          "name": "stdout",
          "text": [
            "1364. Trial ID:NCT03291808\n",
            "1365. Trial ID:NCT03292874\n"
          ]
        },
        {
          "output_type": "stream",
          "name": "stderr",
          "text": [
            "1366it [03:35,  7.42it/s]"
          ]
        },
        {
          "output_type": "stream",
          "name": "stdout",
          "text": [
            "1366. Trial ID:NCT03296800\n",
            "1367. Trial ID:NCT03299244\n"
          ]
        },
        {
          "output_type": "stream",
          "name": "stderr",
          "text": [
            "1368it [03:35,  7.37it/s]"
          ]
        },
        {
          "output_type": "stream",
          "name": "stdout",
          "text": [
            "1368. Trial ID:NCT03299816\n",
            "1369. Trial ID:NCT03302767\n"
          ]
        },
        {
          "output_type": "stream",
          "name": "stderr",
          "text": [
            "1370it [03:36,  7.68it/s]"
          ]
        },
        {
          "output_type": "stream",
          "name": "stdout",
          "text": [
            "1370. Trial ID:NCT03304249\n",
            "1371. Trial ID:NCT03304626\n"
          ]
        },
        {
          "output_type": "stream",
          "name": "stderr",
          "text": [
            "1372it [03:36,  7.65it/s]"
          ]
        },
        {
          "output_type": "stream",
          "name": "stdout",
          "text": [
            "1372. Trial ID:NCT03305822\n",
            "1373. Trial ID:NCT03310580\n"
          ]
        },
        {
          "output_type": "stream",
          "name": "stderr",
          "text": [
            "1374it [03:36,  7.76it/s]"
          ]
        },
        {
          "output_type": "stream",
          "name": "stdout",
          "text": [
            "1374. Trial ID:NCT03311230\n",
            "1375. Trial ID:NCT03311724\n"
          ]
        },
        {
          "output_type": "stream",
          "name": "stderr",
          "text": [
            "1376it [03:36,  7.99it/s]"
          ]
        },
        {
          "output_type": "stream",
          "name": "stdout",
          "text": [
            "1376. Trial ID:NCT03315780\n",
            "1377. Trial ID:NCT03317444\n"
          ]
        },
        {
          "output_type": "stream",
          "name": "stderr",
          "text": [
            "1378it [03:37,  7.13it/s]"
          ]
        },
        {
          "output_type": "stream",
          "name": "stdout",
          "text": [
            "1378. Trial ID:NCT03321929\n",
            "1379. Trial ID:NCT03321981\n"
          ]
        },
        {
          "output_type": "stream",
          "name": "stderr",
          "text": [
            "1380it [03:37,  7.42it/s]"
          ]
        },
        {
          "output_type": "stream",
          "name": "stdout",
          "text": [
            "1380. Trial ID:NCT03322631\n",
            "1381. Trial ID:NCT03323164\n"
          ]
        },
        {
          "output_type": "stream",
          "name": "stderr",
          "text": [
            "1382it [03:37,  7.21it/s]"
          ]
        },
        {
          "output_type": "stream",
          "name": "stdout",
          "text": [
            "1382. Trial ID:NCT03326583\n",
            "1383. Trial ID:NCT03329300\n"
          ]
        },
        {
          "output_type": "stream",
          "name": "stderr",
          "text": [
            "1384it [03:38,  6.71it/s]"
          ]
        },
        {
          "output_type": "stream",
          "name": "stdout",
          "text": [
            "1384. Trial ID:NCT03331562\n",
            "1385. Trial ID:NCT03334175\n"
          ]
        },
        {
          "output_type": "stream",
          "name": "stderr",
          "text": [
            "1386it [03:38,  6.37it/s]"
          ]
        },
        {
          "output_type": "stream",
          "name": "stdout",
          "text": [
            "1386. Trial ID:NCT03334214\n",
            "1387. Trial ID:NCT03338010\n"
          ]
        },
        {
          "output_type": "stream",
          "name": "stderr",
          "text": [
            "1388it [03:38,  6.48it/s]"
          ]
        },
        {
          "output_type": "stream",
          "name": "stdout",
          "text": [
            "1388. Trial ID:NCT03338023\n",
            "1389. Trial ID:NCT03338062\n"
          ]
        },
        {
          "output_type": "stream",
          "name": "stderr",
          "text": [
            "1390it [03:39,  6.39it/s]"
          ]
        },
        {
          "output_type": "stream",
          "name": "stdout",
          "text": [
            "1390. Trial ID:NCT03339245\n",
            "1391. Trial ID:NCT03341312\n"
          ]
        },
        {
          "output_type": "stream",
          "name": "stderr",
          "text": [
            "1392it [03:39,  5.94it/s]"
          ]
        },
        {
          "output_type": "stream",
          "name": "stdout",
          "text": [
            "1392. Trial ID:NCT03342742\n",
            "1393. Trial ID:NCT03343301\n"
          ]
        },
        {
          "output_type": "stream",
          "name": "stderr",
          "text": [
            "1394it [03:39,  5.67it/s]"
          ]
        },
        {
          "output_type": "stream",
          "name": "stdout",
          "text": [
            "1394. Trial ID:NCT03345095\n",
            "1395. Trial ID:NCT03350984\n"
          ]
        },
        {
          "output_type": "stream",
          "name": "stderr",
          "text": [
            "1396it [03:40,  5.61it/s]"
          ]
        },
        {
          "output_type": "stream",
          "name": "stdout",
          "text": [
            "1396. Trial ID:NCT03353350\n",
            "1397. Trial ID:NCT03359590\n"
          ]
        },
        {
          "output_type": "stream",
          "name": "stderr",
          "text": [
            "1398it [03:40,  5.44it/s]"
          ]
        },
        {
          "output_type": "stream",
          "name": "stdout",
          "text": [
            "1398. Trial ID:NCT03361176\n",
            "1399. Trial ID:NCT03364335\n"
          ]
        },
        {
          "output_type": "stream",
          "name": "stderr",
          "text": [
            "1400it [03:40,  5.62it/s]"
          ]
        },
        {
          "output_type": "stream",
          "name": "stdout",
          "text": [
            "1400. Trial ID:NCT03364673\n",
            "1401. Trial ID:NCT03365778\n"
          ]
        },
        {
          "output_type": "stream",
          "name": "stderr",
          "text": [
            "1402it [03:41,  5.75it/s]"
          ]
        },
        {
          "output_type": "stream",
          "name": "stdout",
          "text": [
            "1402. Trial ID:NCT03366337\n",
            "1403. Trial ID:NCT03371108\n"
          ]
        },
        {
          "output_type": "stream",
          "name": "stderr",
          "text": [
            "\r1403it [03:41,  5.53it/s]"
          ]
        },
        {
          "output_type": "stream",
          "name": "stdout",
          "text": [
            "1404. Trial ID:NCT03371355\n"
          ]
        },
        {
          "output_type": "stream",
          "name": "stderr",
          "text": [
            "1405it [03:41,  5.15it/s]"
          ]
        },
        {
          "output_type": "stream",
          "name": "stdout",
          "text": [
            "1405. Trial ID:NCT03373461\n",
            "1406. Trial ID:NCT03374176\n"
          ]
        },
        {
          "output_type": "stream",
          "name": "stderr",
          "text": [
            "1407it [03:42,  5.81it/s]"
          ]
        },
        {
          "output_type": "stream",
          "name": "stdout",
          "text": [
            "1407. Trial ID:NCT03376789\n",
            "1408. Trial ID:NCT03380000\n"
          ]
        },
        {
          "output_type": "stream",
          "name": "stderr",
          "text": [
            "1409it [03:42,  6.70it/s]"
          ]
        },
        {
          "output_type": "stream",
          "name": "stdout",
          "text": [
            "1409. Trial ID:NCT03382782\n",
            "1410. Trial ID:NCT03382873\n"
          ]
        },
        {
          "output_type": "stream",
          "name": "stderr",
          "text": [
            "1411it [03:42,  7.28it/s]"
          ]
        },
        {
          "output_type": "stream",
          "name": "stdout",
          "text": [
            "1411. Trial ID:NCT03383627\n",
            "1412. Trial ID:NCT03386773\n"
          ]
        },
        {
          "output_type": "stream",
          "name": "stderr",
          "text": [
            "1413it [03:42,  7.46it/s]"
          ]
        },
        {
          "output_type": "stream",
          "name": "stdout",
          "text": [
            "1413. Trial ID:NCT03387735\n",
            "1414. Trial ID:NCT03390426\n"
          ]
        },
        {
          "output_type": "stream",
          "name": "stderr",
          "text": [
            "1415it [03:43,  7.81it/s]"
          ]
        },
        {
          "output_type": "stream",
          "name": "stdout",
          "text": [
            "1415. Trial ID:NCT03390842\n",
            "1416. Trial ID:NCT03394027\n"
          ]
        },
        {
          "output_type": "stream",
          "name": "stderr",
          "text": [
            "1417it [03:43,  7.80it/s]"
          ]
        },
        {
          "output_type": "stream",
          "name": "stdout",
          "text": [
            "1417. Trial ID:NCT03396653\n",
            "1418. Trial ID:NCT03396874\n"
          ]
        },
        {
          "output_type": "stream",
          "name": "stderr",
          "text": [
            "1419it [03:43,  7.66it/s]"
          ]
        },
        {
          "output_type": "stream",
          "name": "stdout",
          "text": [
            "1419. Trial ID:NCT03403231\n",
            "1420. Trial ID:NCT03407118\n"
          ]
        },
        {
          "output_type": "stream",
          "name": "stderr",
          "text": [
            "1421it [03:43,  8.00it/s]"
          ]
        },
        {
          "output_type": "stream",
          "name": "stdout",
          "text": [
            "1421. Trial ID:NCT03407794\n",
            "1422. Trial ID:NCT03408639\n"
          ]
        },
        {
          "output_type": "stream",
          "name": "stderr",
          "text": [
            "\r1422it [03:44,  7.76it/s]"
          ]
        },
        {
          "output_type": "stream",
          "name": "stdout",
          "text": [
            "1423. Trial ID:NCT03416127\n"
          ]
        },
        {
          "output_type": "stream",
          "name": "stderr",
          "text": [
            "1424it [03:44,  6.85it/s]"
          ]
        },
        {
          "output_type": "stream",
          "name": "stdout",
          "text": [
            "1424. Trial ID:NCT03424044\n",
            "1425. Trial ID:NCT03426787\n"
          ]
        },
        {
          "output_type": "stream",
          "name": "stderr",
          "text": [
            "1426it [03:44,  6.98it/s]"
          ]
        },
        {
          "output_type": "stream",
          "name": "stdout",
          "text": [
            "1426. Trial ID:NCT03438383\n",
            "1427. Trial ID:NCT03439189\n"
          ]
        },
        {
          "output_type": "stream",
          "name": "stderr",
          "text": [
            "1428it [03:44,  6.67it/s]"
          ]
        },
        {
          "output_type": "stream",
          "name": "stdout",
          "text": [
            "1428. Trial ID:NCT03439462\n",
            "1429. Trial ID:NCT03440814\n"
          ]
        },
        {
          "output_type": "stream",
          "name": "stderr",
          "text": [
            "1430it [03:45,  7.11it/s]"
          ]
        },
        {
          "output_type": "stream",
          "name": "stdout",
          "text": [
            "1430. Trial ID:NCT03445065\n",
            "1431. Trial ID:NCT03452033\n"
          ]
        },
        {
          "output_type": "stream",
          "name": "stderr",
          "text": [
            "1432it [03:45,  7.57it/s]"
          ]
        },
        {
          "output_type": "stream",
          "name": "stdout",
          "text": [
            "1432. Trial ID:NCT03454529\n",
            "1433. Trial ID:NCT03461003\n"
          ]
        },
        {
          "output_type": "stream",
          "name": "stderr",
          "text": [
            "1434it [03:45,  7.43it/s]"
          ]
        },
        {
          "output_type": "stream",
          "name": "stdout",
          "text": [
            "1434. Trial ID:NCT03463265\n",
            "1435. Trial ID:NCT03463941\n"
          ]
        },
        {
          "output_type": "stream",
          "name": "stderr",
          "text": [
            "1436it [03:45,  8.00it/s]"
          ]
        },
        {
          "output_type": "stream",
          "name": "stdout",
          "text": [
            "1436. Trial ID:NCT03475992\n",
            "1437. Trial ID:NCT03479697\n"
          ]
        },
        {
          "output_type": "stream",
          "name": "stderr",
          "text": [
            "1438it [03:46,  7.64it/s]"
          ]
        },
        {
          "output_type": "stream",
          "name": "stdout",
          "text": [
            "1438. Trial ID:NCT03484429\n",
            "1439. Trial ID:NCT03485950\n"
          ]
        },
        {
          "output_type": "stream",
          "name": "stderr",
          "text": [
            "1440it [03:46,  7.33it/s]"
          ]
        },
        {
          "output_type": "stream",
          "name": "stdout",
          "text": [
            "1440. Trial ID:NCT03486223\n",
            "1441. Trial ID:NCT03490734\n"
          ]
        },
        {
          "output_type": "stream",
          "name": "stderr",
          "text": [
            "1442it [03:46,  7.69it/s]"
          ]
        },
        {
          "output_type": "stream",
          "name": "stdout",
          "text": [
            "1442. Trial ID:NCT03495102\n",
            "1443. Trial ID:NCT03495908\n"
          ]
        },
        {
          "output_type": "stream",
          "name": "stderr",
          "text": [
            "1444it [03:47,  7.23it/s]"
          ]
        },
        {
          "output_type": "stream",
          "name": "stdout",
          "text": [
            "1444. Trial ID:NCT03497429\n",
            "1445. Trial ID:NCT03497689\n"
          ]
        },
        {
          "output_type": "stream",
          "name": "stderr",
          "text": [
            "1446it [03:47,  7.23it/s]"
          ]
        },
        {
          "output_type": "stream",
          "name": "stdout",
          "text": [
            "1446. Trial ID:NCT03502148\n",
            "1447. Trial ID:NCT03506724\n"
          ]
        },
        {
          "output_type": "stream",
          "name": "stderr",
          "text": [
            "\r1447it [03:47,  7.20it/s]"
          ]
        },
        {
          "output_type": "stream",
          "name": "stdout",
          "text": [
            "1448. Trial ID:NCT03514420\n"
          ]
        },
        {
          "output_type": "stream",
          "name": "stderr",
          "text": [
            "1449it [03:47,  6.34it/s]"
          ]
        },
        {
          "output_type": "stream",
          "name": "stdout",
          "text": [
            "1449. Trial ID:NCT03514641\n",
            "1450. Trial ID:NCT03515681\n"
          ]
        },
        {
          "output_type": "stream",
          "name": "stderr",
          "text": [
            "1451it [03:48,  7.00it/s]"
          ]
        },
        {
          "output_type": "stream",
          "name": "stdout",
          "text": [
            "1451. Trial ID:NCT03516812\n",
            "1452. Trial ID:NCT03520920\n"
          ]
        },
        {
          "output_type": "stream",
          "name": "stderr",
          "text": [
            "1453it [03:48,  6.09it/s]"
          ]
        },
        {
          "output_type": "stream",
          "name": "stdout",
          "text": [
            "1453. Trial ID:NCT03532490\n",
            "1454. Trial ID:NCT03534427\n"
          ]
        },
        {
          "output_type": "stream",
          "name": "stderr",
          "text": [
            "1455it [03:48,  6.78it/s]"
          ]
        },
        {
          "output_type": "stream",
          "name": "stdout",
          "text": [
            "1455. Trial ID:NCT03541174\n",
            "1456. Trial ID:NCT03542682\n"
          ]
        },
        {
          "output_type": "stream",
          "name": "stderr",
          "text": [
            "1457it [03:48,  7.47it/s]"
          ]
        },
        {
          "output_type": "stream",
          "name": "stdout",
          "text": [
            "1457. Trial ID:NCT03544307\n",
            "1458. Trial ID:NCT03546270\n"
          ]
        },
        {
          "output_type": "stream",
          "name": "stderr",
          "text": [
            "1459it [03:49,  7.71it/s]"
          ]
        },
        {
          "output_type": "stream",
          "name": "stdout",
          "text": [
            "1459. Trial ID:NCT03549104\n",
            "1460. Trial ID:NCT03552523\n"
          ]
        },
        {
          "output_type": "stream",
          "name": "stderr",
          "text": [
            "1461it [03:49,  7.35it/s]"
          ]
        },
        {
          "output_type": "stream",
          "name": "stdout",
          "text": [
            "1461. Trial ID:NCT03556761\n",
            "1462. Trial ID:NCT03557658\n"
          ]
        },
        {
          "output_type": "stream",
          "name": "stderr",
          "text": [
            "1463it [03:49,  7.18it/s]"
          ]
        },
        {
          "output_type": "stream",
          "name": "stdout",
          "text": [
            "1463. Trial ID:NCT03561597\n",
            "1464. Trial ID:NCT03563027\n"
          ]
        },
        {
          "output_type": "stream",
          "name": "stderr",
          "text": [
            "1465it [03:50,  7.34it/s]"
          ]
        },
        {
          "output_type": "stream",
          "name": "stdout",
          "text": [
            "1465. Trial ID:NCT03565666\n",
            "1466. Trial ID:NCT03571048\n"
          ]
        },
        {
          "output_type": "stream",
          "name": "stderr",
          "text": [
            "1467it [03:50,  6.72it/s]"
          ]
        },
        {
          "output_type": "stream",
          "name": "stdout",
          "text": [
            "1467. Trial ID:NCT03572218\n",
            "1468. Trial ID:NCT03574441\n"
          ]
        },
        {
          "output_type": "stream",
          "name": "stderr",
          "text": [
            "1469it [03:50,  7.43it/s]"
          ]
        },
        {
          "output_type": "stream",
          "name": "stdout",
          "text": [
            "1469. Trial ID:NCT03577990\n",
            "1470. Trial ID:NCT03579693\n"
          ]
        },
        {
          "output_type": "stream",
          "name": "stderr",
          "text": [
            "1471it [03:50,  7.37it/s]"
          ]
        },
        {
          "output_type": "stream",
          "name": "stdout",
          "text": [
            "1471. Trial ID:NCT03595332\n",
            "1472. Trial ID:NCT03595384\n"
          ]
        },
        {
          "output_type": "stream",
          "name": "stderr",
          "text": [
            "1473it [03:51,  7.83it/s]"
          ]
        },
        {
          "output_type": "stream",
          "name": "stdout",
          "text": [
            "1473. Trial ID:NCT03604172\n",
            "1474. Trial ID:NCT03620890\n"
          ]
        },
        {
          "output_type": "stream",
          "name": "stderr",
          "text": [
            "1475it [03:51,  7.68it/s]"
          ]
        },
        {
          "output_type": "stream",
          "name": "stdout",
          "text": [
            "1475. Trial ID:NCT03641716\n",
            "1476. Trial ID:NCT03646162\n"
          ]
        },
        {
          "output_type": "stream",
          "name": "stderr",
          "text": [
            "1477it [03:51,  6.78it/s]"
          ]
        },
        {
          "output_type": "stream",
          "name": "stdout",
          "text": [
            "1477. Trial ID:NCT03649711\n",
            "1478. Trial ID:NCT03650088\n"
          ]
        },
        {
          "output_type": "stream",
          "name": "stderr",
          "text": [
            "1479it [03:52,  6.39it/s]"
          ]
        },
        {
          "output_type": "stream",
          "name": "stdout",
          "text": [
            "1479. Trial ID:NCT03651622\n",
            "1480. Trial ID:NCT03653091\n"
          ]
        },
        {
          "output_type": "stream",
          "name": "stderr",
          "text": [
            "1481it [03:52,  6.13it/s]"
          ]
        },
        {
          "output_type": "stream",
          "name": "stdout",
          "text": [
            "1481. Trial ID:NCT03657797\n",
            "1482. Trial ID:NCT03664726\n"
          ]
        },
        {
          "output_type": "stream",
          "name": "stderr",
          "text": [
            "1483it [03:52,  6.38it/s]"
          ]
        },
        {
          "output_type": "stream",
          "name": "stdout",
          "text": [
            "1483. Trial ID:NCT03668808\n",
            "1484. Trial ID:NCT03670602\n"
          ]
        },
        {
          "output_type": "stream",
          "name": "stderr",
          "text": [
            "1485it [03:53,  6.32it/s]"
          ]
        },
        {
          "output_type": "stream",
          "name": "stdout",
          "text": [
            "1485. Trial ID:NCT03672227\n",
            "1486. Trial ID:NCT03674112\n"
          ]
        },
        {
          "output_type": "stream",
          "name": "stderr",
          "text": [
            "1487it [03:53,  5.81it/s]"
          ]
        },
        {
          "output_type": "stream",
          "name": "stdout",
          "text": [
            "1487. Trial ID:NCT03675360\n",
            "1488. Trial ID:NCT03676465\n"
          ]
        },
        {
          "output_type": "stream",
          "name": "stderr",
          "text": [
            "1489it [03:53,  5.76it/s]"
          ]
        },
        {
          "output_type": "stream",
          "name": "stdout",
          "text": [
            "1489. Trial ID:NCT03679117\n",
            "1490. Trial ID:NCT03686150\n"
          ]
        },
        {
          "output_type": "stream",
          "name": "stderr",
          "text": [
            "1491it [03:54,  5.66it/s]"
          ]
        },
        {
          "output_type": "stream",
          "name": "stdout",
          "text": [
            "1491. Trial ID:NCT03688555\n",
            "1492. Trial ID:NCT03688919\n"
          ]
        },
        {
          "output_type": "stream",
          "name": "stderr",
          "text": [
            "\r1492it [03:54,  5.54it/s]"
          ]
        },
        {
          "output_type": "stream",
          "name": "stdout",
          "text": [
            "1493. Trial ID:NCT03689530\n"
          ]
        },
        {
          "output_type": "stream",
          "name": "stderr",
          "text": [
            "1494it [03:54,  5.08it/s]"
          ]
        },
        {
          "output_type": "stream",
          "name": "stdout",
          "text": [
            "1494. Trial ID:NCT03691831\n",
            "1495. Trial ID:NCT03692208\n"
          ]
        },
        {
          "output_type": "stream",
          "name": "stderr",
          "text": [
            "1496it [03:55,  6.01it/s]"
          ]
        },
        {
          "output_type": "stream",
          "name": "stdout",
          "text": [
            "1496. Trial ID:NCT03697811\n",
            "1497. Trial ID:NCT03698708\n"
          ]
        },
        {
          "output_type": "stream",
          "name": "stderr",
          "text": [
            "1498it [03:55,  6.71it/s]"
          ]
        },
        {
          "output_type": "stream",
          "name": "stdout",
          "text": [
            "1498. Trial ID:NCT03699631\n",
            "1499. Trial ID:NCT03701295\n"
          ]
        },
        {
          "output_type": "stream",
          "name": "stderr",
          "text": [
            "1500it [03:55,  7.03it/s]"
          ]
        },
        {
          "output_type": "stream",
          "name": "stdout",
          "text": [
            "1500. Trial ID:NCT03704064\n",
            "1501. Trial ID:NCT03708770\n"
          ]
        },
        {
          "output_type": "stream",
          "name": "stderr",
          "text": [
            "1502it [03:55,  7.59it/s]"
          ]
        },
        {
          "output_type": "stream",
          "name": "stdout",
          "text": [
            "1502. Trial ID:NCT03711370\n",
            "1503. Trial ID:NCT03714776\n"
          ]
        },
        {
          "output_type": "stream",
          "name": "stderr",
          "text": [
            "1504it [03:56,  7.54it/s]"
          ]
        },
        {
          "output_type": "stream",
          "name": "stdout",
          "text": [
            "1504. Trial ID:NCT03718000\n",
            "1505. Trial ID:NCT03722030\n"
          ]
        },
        {
          "output_type": "stream",
          "name": "stderr",
          "text": [
            "1506it [03:56,  7.65it/s]"
          ]
        },
        {
          "output_type": "stream",
          "name": "stdout",
          "text": [
            "1506. Trial ID:NCT03724487\n",
            "1507. Trial ID:NCT03728790\n"
          ]
        },
        {
          "output_type": "stream",
          "name": "stderr",
          "text": [
            "1508it [03:56,  7.51it/s]"
          ]
        },
        {
          "output_type": "stream",
          "name": "stdout",
          "text": [
            "1508. Trial ID:NCT03730662\n",
            "1509. Trial ID:NCT03733210\n"
          ]
        },
        {
          "output_type": "stream",
          "name": "stderr",
          "text": [
            "1510it [03:56,  7.57it/s]"
          ]
        },
        {
          "output_type": "stream",
          "name": "stdout",
          "text": [
            "1510. Trial ID:NCT03735680\n",
            "1511. Trial ID:NCT03736031\n"
          ]
        },
        {
          "output_type": "stream",
          "name": "stderr",
          "text": [
            "1512it [03:57,  7.86it/s]"
          ]
        },
        {
          "output_type": "stream",
          "name": "stdout",
          "text": [
            "1512. Trial ID:NCT03739762\n",
            "1513. Trial ID:NCT03748420\n"
          ]
        },
        {
          "output_type": "stream",
          "name": "stderr",
          "text": [
            "1514it [03:57,  8.00it/s]"
          ]
        },
        {
          "output_type": "stream",
          "name": "stdout",
          "text": [
            "1514. Trial ID:NCT03757130\n",
            "1515. Trial ID:NCT03774394\n"
          ]
        },
        {
          "output_type": "stream",
          "name": "stderr",
          "text": [
            "1516it [03:57,  8.00it/s]"
          ]
        },
        {
          "output_type": "stream",
          "name": "stdout",
          "text": [
            "1516. Trial ID:NCT03778294\n",
            "1517. Trial ID:NCT03780010\n"
          ]
        },
        {
          "output_type": "stream",
          "name": "stderr",
          "text": [
            "1518it [03:57,  7.96it/s]"
          ]
        },
        {
          "output_type": "stream",
          "name": "stdout",
          "text": [
            "1518. Trial ID:NCT03781726\n",
            "1519. Trial ID:NCT03783962\n"
          ]
        },
        {
          "output_type": "stream",
          "name": "stderr",
          "text": [
            "1520it [03:58,  7.28it/s]"
          ]
        },
        {
          "output_type": "stream",
          "name": "stdout",
          "text": [
            "1520. Trial ID:NCT03785210\n",
            "1521. Trial ID:NCT03792191\n"
          ]
        },
        {
          "output_type": "stream",
          "name": "stderr",
          "text": [
            "1522it [03:58,  7.47it/s]"
          ]
        },
        {
          "output_type": "stream",
          "name": "stdout",
          "text": [
            "1522. Trial ID:NCT03796689\n",
            "1523. Trial ID:NCT03799289\n"
          ]
        },
        {
          "output_type": "stream",
          "name": "stderr",
          "text": [
            "1524it [03:58,  7.86it/s]"
          ]
        },
        {
          "output_type": "stream",
          "name": "stdout",
          "text": [
            "1524. Trial ID:NCT03801252\n",
            "1525. Trial ID:NCT03802825\n"
          ]
        },
        {
          "output_type": "stream",
          "name": "stderr",
          "text": [
            "1526it [03:58,  8.22it/s]"
          ]
        },
        {
          "output_type": "stream",
          "name": "stdout",
          "text": [
            "1526. Trial ID:NCT03804684\n",
            "1527. Trial ID:NCT03809182\n"
          ]
        },
        {
          "output_type": "stream",
          "name": "stderr",
          "text": [
            "1528it [03:59,  7.66it/s]"
          ]
        },
        {
          "output_type": "stream",
          "name": "stdout",
          "text": [
            "1528. Trial ID:NCT03810235\n",
            "1529. Trial ID:NCT03811093\n"
          ]
        },
        {
          "output_type": "stream",
          "name": "stderr",
          "text": [
            "1530it [03:59,  7.58it/s]"
          ]
        },
        {
          "output_type": "stream",
          "name": "stdout",
          "text": [
            "1530. Trial ID:NCT03818581\n",
            "1531. Trial ID:NCT03819634\n"
          ]
        },
        {
          "output_type": "stream",
          "name": "stderr",
          "text": [
            "1532it [03:59,  7.87it/s]"
          ]
        },
        {
          "output_type": "stream",
          "name": "stdout",
          "text": [
            "1532. Trial ID:NCT03824769\n",
            "1533. Trial ID:NCT03826472\n"
          ]
        },
        {
          "output_type": "stream",
          "name": "stderr",
          "text": [
            "1534it [03:59,  7.40it/s]"
          ]
        },
        {
          "output_type": "stream",
          "name": "stdout",
          "text": [
            "1534. Trial ID:NCT03829046\n",
            "1535. Trial ID:NCT03829514\n"
          ]
        },
        {
          "output_type": "stream",
          "name": "stderr",
          "text": [
            "1536it [04:00,  7.48it/s]"
          ]
        },
        {
          "output_type": "stream",
          "name": "stdout",
          "text": [
            "1536. Trial ID:NCT03830281\n",
            "1537. Trial ID:NCT03832595\n"
          ]
        },
        {
          "output_type": "stream",
          "name": "stderr",
          "text": [
            "1538it [04:00,  7.31it/s]"
          ]
        },
        {
          "output_type": "stream",
          "name": "stdout",
          "text": [
            "1538. Trial ID:NCT03834168\n",
            "1539. Trial ID:NCT03844789\n"
          ]
        },
        {
          "output_type": "stream",
          "name": "stderr",
          "text": [
            "1540it [04:00,  7.34it/s]"
          ]
        },
        {
          "output_type": "stream",
          "name": "stdout",
          "text": [
            "1540. Trial ID:NCT03850444\n",
            "1541. Trial ID:NCT03861039\n"
          ]
        },
        {
          "output_type": "stream",
          "name": "stderr",
          "text": [
            "1542it [04:01,  7.50it/s]"
          ]
        },
        {
          "output_type": "stream",
          "name": "stdout",
          "text": [
            "1542. Trial ID:NCT03865381\n",
            "1543. Trial ID:NCT03867760\n"
          ]
        },
        {
          "output_type": "stream",
          "name": "stderr",
          "text": [
            "1544it [04:01,  7.51it/s]"
          ]
        },
        {
          "output_type": "stream",
          "name": "stdout",
          "text": [
            "1544. Trial ID:NCT03874754\n",
            "1545. Trial ID:NCT03875092\n"
          ]
        },
        {
          "output_type": "stream",
          "name": "stderr",
          "text": [
            "\r1545it [04:01,  7.01it/s]"
          ]
        },
        {
          "output_type": "stream",
          "name": "stdout",
          "text": [
            "1546. Trial ID:NCT03875729\n"
          ]
        },
        {
          "output_type": "stream",
          "name": "stderr",
          "text": [
            "1547it [04:01,  6.55it/s]"
          ]
        },
        {
          "output_type": "stream",
          "name": "stdout",
          "text": [
            "1547. Trial ID:NCT03887299\n",
            "1548. Trial ID:NCT03890588\n"
          ]
        },
        {
          "output_type": "stream",
          "name": "stderr",
          "text": [
            "1549it [04:02,  7.01it/s]"
          ]
        },
        {
          "output_type": "stream",
          "name": "stdout",
          "text": [
            "1549. Trial ID:NCT03905863\n",
            "1550. Trial ID:NCT03913455\n"
          ]
        },
        {
          "output_type": "stream",
          "name": "stderr",
          "text": [
            "1551it [04:02,  7.25it/s]"
          ]
        },
        {
          "output_type": "stream",
          "name": "stdout",
          "text": [
            "1551. Trial ID:NCT03916744\n",
            "1552. Trial ID:NCT03922945\n"
          ]
        },
        {
          "output_type": "stream",
          "name": "stderr",
          "text": [
            "1553it [04:02,  7.63it/s]"
          ]
        },
        {
          "output_type": "stream",
          "name": "stdout",
          "text": [
            "1553. Trial ID:NCT03923933\n",
            "1554. Trial ID:NCT03945266\n"
          ]
        },
        {
          "output_type": "stream",
          "name": "stderr",
          "text": [
            "1555it [04:02,  7.41it/s]"
          ]
        },
        {
          "output_type": "stream",
          "name": "stdout",
          "text": [
            "1555. Trial ID:NCT03950674\n",
            "1556. Trial ID:NCT03950973\n"
          ]
        },
        {
          "output_type": "stream",
          "name": "stderr",
          "text": [
            "1557it [04:03,  7.76it/s]"
          ]
        },
        {
          "output_type": "stream",
          "name": "stdout",
          "text": [
            "1557. Trial ID:NCT03954223\n",
            "1558. Trial ID:NCT03974334\n"
          ]
        },
        {
          "output_type": "stream",
          "name": "stderr",
          "text": [
            "1559it [04:03,  7.66it/s]"
          ]
        },
        {
          "output_type": "stream",
          "name": "stdout",
          "text": [
            "1559. Trial ID:NCT03977727\n",
            "1560. Trial ID:NCT03980808\n"
          ]
        },
        {
          "output_type": "stream",
          "name": "stderr",
          "text": [
            "1561it [04:03,  8.03it/s]"
          ]
        },
        {
          "output_type": "stream",
          "name": "stdout",
          "text": [
            "1561. Trial ID:NCT03982511\n",
            "1562. Trial ID:NCT03985098\n"
          ]
        },
        {
          "output_type": "stream",
          "name": "stderr",
          "text": [
            "1563it [04:03,  7.93it/s]"
          ]
        },
        {
          "output_type": "stream",
          "name": "stdout",
          "text": [
            "1563. Trial ID:NCT03987919\n",
            "1564. Trial ID:NCT03988920\n"
          ]
        },
        {
          "output_type": "stream",
          "name": "stderr",
          "text": [
            "1565it [04:04,  7.76it/s]"
          ]
        },
        {
          "output_type": "stream",
          "name": "stdout",
          "text": [
            "1565. Trial ID:NCT03990363\n",
            "1566. Trial ID:NCT03998046\n"
          ]
        },
        {
          "output_type": "stream",
          "name": "stderr",
          "text": [
            "1567it [04:04,  7.71it/s]"
          ]
        },
        {
          "output_type": "stream",
          "name": "stdout",
          "text": [
            "1567. Trial ID:NCT03999892\n",
            "1568. Trial ID:NCT04010227\n"
          ]
        },
        {
          "output_type": "stream",
          "name": "stderr",
          "text": [
            "1569it [04:04,  7.87it/s]"
          ]
        },
        {
          "output_type": "stream",
          "name": "stdout",
          "text": [
            "1569. Trial ID:NCT04024072\n",
            "1570. Trial ID:NCT04039503\n"
          ]
        },
        {
          "output_type": "stream",
          "name": "stderr",
          "text": [
            "1571it [04:04,  7.04it/s]"
          ]
        },
        {
          "output_type": "stream",
          "name": "stdout",
          "text": [
            "1571. Trial ID:NCT04051008\n",
            "1572. Trial ID:NCT04054011\n"
          ]
        },
        {
          "output_type": "stream",
          "name": "stderr",
          "text": [
            "1573it [04:05,  6.17it/s]"
          ]
        },
        {
          "output_type": "stream",
          "name": "stdout",
          "text": [
            "1573. Trial ID:NCT04055090\n",
            "1574. Trial ID:NCT04057248\n"
          ]
        },
        {
          "output_type": "stream",
          "name": "stderr",
          "text": [
            "1575it [04:05,  6.45it/s]"
          ]
        },
        {
          "output_type": "stream",
          "name": "stdout",
          "text": [
            "1575. Trial ID:NCT04069702\n",
            "1576. Trial ID:NCT04073056\n"
          ]
        },
        {
          "output_type": "stream",
          "name": "stderr",
          "text": [
            "1577it [04:05,  6.39it/s]"
          ]
        },
        {
          "output_type": "stream",
          "name": "stdout",
          "text": [
            "1577. Trial ID:NCT04074317\n",
            "1578. Trial ID:NCT04074941\n"
          ]
        },
        {
          "output_type": "stream",
          "name": "stderr",
          "text": [
            "1579it [04:06,  6.25it/s]"
          ]
        },
        {
          "output_type": "stream",
          "name": "stdout",
          "text": [
            "1579. Trial ID:NCT04109391\n",
            "1580. Trial ID:NCT04112069\n"
          ]
        },
        {
          "output_type": "stream",
          "name": "stderr",
          "text": [
            "1581it [04:06,  5.82it/s]"
          ]
        },
        {
          "output_type": "stream",
          "name": "stdout",
          "text": [
            "1581. Trial ID:NCT04113746\n",
            "1582. Trial ID:NCT04114071\n"
          ]
        },
        {
          "output_type": "stream",
          "name": "stderr",
          "text": [
            "1583it [04:07,  5.63it/s]"
          ]
        },
        {
          "output_type": "stream",
          "name": "stdout",
          "text": [
            "1583. Trial ID:NCT04116229\n",
            "1584. Trial ID:NCT04118166\n"
          ]
        },
        {
          "output_type": "stream",
          "name": "stderr",
          "text": [
            "1585it [04:07,  5.55it/s]"
          ]
        },
        {
          "output_type": "stream",
          "name": "stdout",
          "text": [
            "1585. Trial ID:NCT04120974\n",
            "1586. Trial ID:NCT04142034\n"
          ]
        },
        {
          "output_type": "stream",
          "name": "stderr",
          "text": [
            "1587it [04:07,  5.40it/s]"
          ]
        },
        {
          "output_type": "stream",
          "name": "stdout",
          "text": [
            "1587. Trial ID:NCT04154904\n",
            "1588. Trial ID:NCT04157738\n"
          ]
        },
        {
          "output_type": "stream",
          "name": "stderr",
          "text": [
            "1589it [04:08,  5.50it/s]"
          ]
        },
        {
          "output_type": "stream",
          "name": "stdout",
          "text": [
            "1589. Trial ID:NCT04161131\n",
            "1590. Trial ID:NCT04185220\n"
          ]
        },
        {
          "output_type": "stream",
          "name": "stderr",
          "text": [
            "1591it [04:08,  5.63it/s]"
          ]
        },
        {
          "output_type": "stream",
          "name": "stdout",
          "text": [
            "1591. Trial ID:NCT04191967\n",
            "1592. Trial ID:NCT04205955\n"
          ]
        },
        {
          "output_type": "stream",
          "name": "stderr",
          "text": [
            "1593it [04:08,  6.12it/s]"
          ]
        },
        {
          "output_type": "stream",
          "name": "stdout",
          "text": [
            "1593. Trial ID:NCT04232124\n",
            "1594. Trial ID:NCT04233580\n"
          ]
        },
        {
          "output_type": "stream",
          "name": "stderr",
          "text": [
            "1595it [04:09,  6.97it/s]"
          ]
        },
        {
          "output_type": "stream",
          "name": "stdout",
          "text": [
            "1595. Trial ID:NCT04233801\n",
            "1596. Trial ID:NCT04236258\n"
          ]
        },
        {
          "output_type": "stream",
          "name": "stderr",
          "text": [
            "1597it [04:09,  7.31it/s]"
          ]
        },
        {
          "output_type": "stream",
          "name": "stdout",
          "text": [
            "1597. Trial ID:NCT04247282\n",
            "1598. Trial ID:NCT04255381\n"
          ]
        },
        {
          "output_type": "stream",
          "name": "stderr",
          "text": [
            "1599it [04:09,  7.45it/s]"
          ]
        },
        {
          "output_type": "stream",
          "name": "stdout",
          "text": [
            "1599. Trial ID:NCT04276051\n",
            "1600. Trial ID:NCT04280783\n",
            "1601. Trial ID:NCT04281784\n"
          ]
        },
        {
          "output_type": "stream",
          "name": "stderr",
          "text": [
            "\r1601it [04:09,  9.86it/s]"
          ]
        },
        {
          "output_type": "stream",
          "name": "stdout",
          "text": [
            "1602. Trial ID:NCT04285580\n",
            "1603. Trial ID:NCT04298229\n"
          ]
        },
        {
          "output_type": "stream",
          "name": "stderr",
          "text": [
            "1604it [04:10,  8.64it/s]"
          ]
        },
        {
          "output_type": "stream",
          "name": "stdout",
          "text": [
            "1604. Trial ID:NCT04339296\n",
            "1605. Trial ID:NCT04343872\n"
          ]
        },
        {
          "output_type": "stream",
          "name": "stderr",
          "text": [
            "1606it [04:10,  8.08it/s]"
          ]
        },
        {
          "output_type": "stream",
          "name": "stdout",
          "text": [
            "1606. Trial ID:NCT04347291\n",
            "1607. Trial ID:NCT04352660\n"
          ]
        },
        {
          "output_type": "stream",
          "name": "stderr",
          "text": [
            "1608it [04:10,  7.91it/s]"
          ]
        },
        {
          "output_type": "stream",
          "name": "stdout",
          "text": [
            "1608. Trial ID:NCT04374500\n",
            "1609. Trial ID:NCT04392167\n"
          ]
        },
        {
          "output_type": "stream",
          "name": "stderr",
          "text": [
            "1610it [04:10,  7.58it/s]"
          ]
        },
        {
          "output_type": "stream",
          "name": "stdout",
          "text": [
            "1610. Trial ID:NCT04392375\n",
            "1611. Trial ID:NCT04405089\n"
          ]
        },
        {
          "output_type": "stream",
          "name": "stderr",
          "text": [
            "1612it [04:11,  7.82it/s]"
          ]
        },
        {
          "output_type": "stream",
          "name": "stdout",
          "text": [
            "1612. Trial ID:NCT04405245\n",
            "1613. Trial ID:NCT04416204\n"
          ]
        },
        {
          "output_type": "stream",
          "name": "stderr",
          "text": [
            "1614it [04:11,  7.55it/s]"
          ]
        },
        {
          "output_type": "stream",
          "name": "stdout",
          "text": [
            "1614. Trial ID:NCT04420273\n",
            "1615. Trial ID:NCT04432727\n"
          ]
        },
        {
          "output_type": "stream",
          "name": "stderr",
          "text": [
            "1616it [04:11,  7.68it/s]"
          ]
        },
        {
          "output_type": "stream",
          "name": "stdout",
          "text": [
            "1616. Trial ID:NCT04447846\n",
            "1617. Trial ID:NCT04450394\n"
          ]
        },
        {
          "output_type": "stream",
          "name": "stderr",
          "text": [
            "1618it [04:11,  7.73it/s]"
          ]
        },
        {
          "output_type": "stream",
          "name": "stdout",
          "text": [
            "1618. Trial ID:NCT04460326\n",
            "1619. Trial ID:NCT04465162\n"
          ]
        },
        {
          "output_type": "stream",
          "name": "stderr",
          "text": [
            "1620it [04:12,  7.89it/s]"
          ]
        },
        {
          "output_type": "stream",
          "name": "stdout",
          "text": [
            "1620. Trial ID:NCT04471194\n",
            "1621. Trial ID:NCT04473326\n"
          ]
        },
        {
          "output_type": "stream",
          "name": "stderr",
          "text": [
            "1622it [04:12,  7.87it/s]"
          ]
        },
        {
          "output_type": "stream",
          "name": "stdout",
          "text": [
            "1622. Trial ID:NCT04474704\n",
            "1623. Trial ID:NCT04474795\n"
          ]
        },
        {
          "output_type": "stream",
          "name": "stderr",
          "text": [
            "1624it [04:12,  7.84it/s]"
          ]
        },
        {
          "output_type": "stream",
          "name": "stdout",
          "text": [
            "1624. Trial ID:NCT04476108\n",
            "1625. Trial ID:NCT04484831\n"
          ]
        },
        {
          "output_type": "stream",
          "name": "stderr",
          "text": [
            "1626it [04:12,  7.88it/s]"
          ]
        },
        {
          "output_type": "stream",
          "name": "stdout",
          "text": [
            "1626. Trial ID:NCT04492566\n",
            "1627. Trial ID:NCT04502979\n"
          ]
        },
        {
          "output_type": "stream",
          "name": "stderr",
          "text": [
            "\r1627it [04:13,  7.93it/s]"
          ]
        },
        {
          "output_type": "stream",
          "name": "stdout",
          "text": [
            "1628. Trial ID:NCT04507867\n"
          ]
        },
        {
          "output_type": "stream",
          "name": "stderr",
          "text": [
            "1629it [04:13,  6.10it/s]"
          ]
        },
        {
          "output_type": "stream",
          "name": "stdout",
          "text": [
            "1629. Trial ID:NCT04519658\n",
            "1630. Trial ID:NCT04537923\n"
          ]
        },
        {
          "output_type": "stream",
          "name": "stderr",
          "text": [
            "1631it [04:13,  6.77it/s]"
          ]
        },
        {
          "output_type": "stream",
          "name": "stdout",
          "text": [
            "1631. Trial ID:NCT04545567\n",
            "1632. Trial ID:NCT04554394\n"
          ]
        },
        {
          "output_type": "stream",
          "name": "stderr",
          "text": [
            "1633it [04:14,  7.46it/s]"
          ]
        },
        {
          "output_type": "stream",
          "name": "stdout",
          "text": [
            "1633. Trial ID:NCT04576897\n",
            "1634. Trial ID:NCT04576988\n"
          ]
        },
        {
          "output_type": "stream",
          "name": "stderr",
          "text": [
            "1635it [04:14,  7.24it/s]"
          ]
        },
        {
          "output_type": "stream",
          "name": "stdout",
          "text": [
            "1635. Trial ID:NCT04586127\n",
            "1636. Trial ID:NCT04591171\n"
          ]
        },
        {
          "output_type": "stream",
          "name": "stderr",
          "text": [
            "1637it [04:14,  7.63it/s]"
          ]
        },
        {
          "output_type": "stream",
          "name": "stdout",
          "text": [
            "1637. Trial ID:NCT04591626\n",
            "1638. Trial ID:NCT04603560\n"
          ]
        },
        {
          "output_type": "stream",
          "name": "stderr",
          "text": [
            "1639it [04:14,  7.62it/s]"
          ]
        },
        {
          "output_type": "stream",
          "name": "stdout",
          "text": [
            "1639. Trial ID:NCT04605991\n",
            "1640. Trial ID:NCT04607291\n"
          ]
        },
        {
          "output_type": "stream",
          "name": "stderr",
          "text": [
            "1641it [04:15,  7.97it/s]"
          ]
        },
        {
          "output_type": "stream",
          "name": "stdout",
          "text": [
            "1641. Trial ID:NCT04615403\n",
            "1642. Trial ID:NCT04615624\n"
          ]
        },
        {
          "output_type": "stream",
          "name": "stderr",
          "text": [
            "1643it [04:15,  7.92it/s]"
          ]
        },
        {
          "output_type": "stream",
          "name": "stdout",
          "text": [
            "1643. Trial ID:NCT04617275\n",
            "1644. Trial ID:NCT04629521\n"
          ]
        },
        {
          "output_type": "stream",
          "name": "stderr",
          "text": [
            "1645it [04:15,  6.73it/s]"
          ]
        },
        {
          "output_type": "stream",
          "name": "stdout",
          "text": [
            "1645. Trial ID:NCT04631029\n",
            "1646. Trial ID:NCT04633551\n"
          ]
        },
        {
          "output_type": "stream",
          "name": "stderr",
          "text": [
            "1647it [04:15,  7.15it/s]"
          ]
        },
        {
          "output_type": "stream",
          "name": "stdout",
          "text": [
            "1647. Trial ID:NCT04639973\n",
            "1648. Trial ID:NCT04640519\n"
          ]
        },
        {
          "output_type": "stream",
          "name": "stderr",
          "text": [
            "1649it [04:16,  7.79it/s]"
          ]
        },
        {
          "output_type": "stream",
          "name": "stdout",
          "text": [
            "1649. Trial ID:NCT04651218\n",
            "1650. Trial ID:NCT04657003\n"
          ]
        },
        {
          "output_type": "stream",
          "name": "stderr",
          "text": [
            "1651it [04:16,  7.82it/s]"
          ]
        },
        {
          "output_type": "stream",
          "name": "stdout",
          "text": [
            "1651. Trial ID:NCT04692467\n",
            "1652. Trial ID:NCT04699032\n"
          ]
        },
        {
          "output_type": "stream",
          "name": "stderr",
          "text": [
            "1653it [04:16,  7.71it/s]"
          ]
        },
        {
          "output_type": "stream",
          "name": "stdout",
          "text": [
            "1653. Trial ID:NCT04701138\n",
            "1654. Trial ID:NCT04702997\n"
          ]
        },
        {
          "output_type": "stream",
          "name": "stderr",
          "text": [
            "1655it [04:16,  7.51it/s]"
          ]
        },
        {
          "output_type": "stream",
          "name": "stdout",
          "text": [
            "1655. Trial ID:NCT04724291\n",
            "1656. Trial ID:NCT04725240\n"
          ]
        },
        {
          "output_type": "stream",
          "name": "stderr",
          "text": [
            "1657it [04:17,  7.57it/s]"
          ]
        },
        {
          "output_type": "stream",
          "name": "stdout",
          "text": [
            "1657. Trial ID:NCT04728620\n",
            "1658. Trial ID:NCT04733664\n"
          ]
        },
        {
          "output_type": "stream",
          "name": "stderr",
          "text": [
            "1659it [04:17,  7.52it/s]"
          ]
        },
        {
          "output_type": "stream",
          "name": "stdout",
          "text": [
            "1659. Trial ID:NCT04737031\n",
            "1660. Trial ID:NCT04760444\n"
          ]
        },
        {
          "output_type": "stream",
          "name": "stderr",
          "text": [
            "1661it [04:17,  7.73it/s]"
          ]
        },
        {
          "output_type": "stream",
          "name": "stdout",
          "text": [
            "1661. Trial ID:NCT04771403\n",
            "1662. Trial ID:NCT04796779\n"
          ]
        },
        {
          "output_type": "stream",
          "name": "stderr",
          "text": [
            "1663it [04:18,  7.33it/s]"
          ]
        },
        {
          "output_type": "stream",
          "name": "stdout",
          "text": [
            "1663. Trial ID:NCT04800432\n",
            "1664. Trial ID:NCT04810247\n"
          ]
        },
        {
          "output_type": "stream",
          "name": "stderr",
          "text": [
            "1665it [04:18,  7.42it/s]"
          ]
        },
        {
          "output_type": "stream",
          "name": "stdout",
          "text": [
            "1665. Trial ID:NCT04823949\n",
            "1666. Trial ID:NCT04830969\n"
          ]
        },
        {
          "output_type": "stream",
          "name": "stderr",
          "text": [
            "1667it [04:18,  6.70it/s]"
          ]
        },
        {
          "output_type": "stream",
          "name": "stdout",
          "text": [
            "1667. Trial ID:NCT04841317\n",
            "1668. Trial ID:NCT04858295\n"
          ]
        },
        {
          "output_type": "stream",
          "name": "stderr",
          "text": [
            "\r1668it [04:18,  6.47it/s]"
          ]
        },
        {
          "output_type": "stream",
          "name": "stdout",
          "text": [
            "1669. Trial ID:NCT04864249\n"
          ]
        },
        {
          "output_type": "stream",
          "name": "stderr",
          "text": [
            "1670it [04:19,  5.66it/s]"
          ]
        },
        {
          "output_type": "stream",
          "name": "stdout",
          "text": [
            "1670. Trial ID:NCT04876274\n",
            "1671. Trial ID:NCT04877730\n"
          ]
        },
        {
          "output_type": "stream",
          "name": "stderr",
          "text": [
            "1672it [04:19,  5.79it/s]"
          ]
        },
        {
          "output_type": "stream",
          "name": "stdout",
          "text": [
            "1672. Trial ID:NCT04881760\n",
            "1673. Trial ID:NCT04884191\n"
          ]
        },
        {
          "output_type": "stream",
          "name": "stderr",
          "text": [
            "1674it [04:19,  5.97it/s]"
          ]
        },
        {
          "output_type": "stream",
          "name": "stdout",
          "text": [
            "1674. Trial ID:NCT04907214\n",
            "1675. Trial ID:NCT04914819\n"
          ]
        },
        {
          "output_type": "stream",
          "name": "stderr",
          "text": [
            "1676it [04:20,  5.74it/s]"
          ]
        },
        {
          "output_type": "stream",
          "name": "stdout",
          "text": [
            "1676. Trial ID:NCT04919564\n",
            "1677. Trial ID:NCT04946552\n"
          ]
        },
        {
          "output_type": "stream",
          "name": "stderr",
          "text": [
            "\r1677it [04:20,  5.57it/s]"
          ]
        },
        {
          "output_type": "stream",
          "name": "stdout",
          "text": [
            "1678. Trial ID:NCT04985383\n"
          ]
        },
        {
          "output_type": "stream",
          "name": "stderr",
          "text": [
            "1679it [04:20,  4.74it/s]"
          ]
        },
        {
          "output_type": "stream",
          "name": "stdout",
          "text": [
            "1679. Trial ID:NCT05001945\n",
            "1680. Trial ID:NCT05003115\n"
          ]
        },
        {
          "output_type": "stream",
          "name": "stderr",
          "text": [
            "1681it [04:21,  4.99it/s]"
          ]
        },
        {
          "output_type": "stream",
          "name": "stdout",
          "text": [
            "1681. Trial ID:NCT05051579\n",
            "1682. Trial ID:NCT05061992\n"
          ]
        },
        {
          "output_type": "stream",
          "name": "stderr",
          "text": [
            "1683it [04:21,  5.27it/s]"
          ]
        },
        {
          "output_type": "stream",
          "name": "stdout",
          "text": [
            "1683. Trial ID:NCT05074173\n",
            "1684. Trial ID:NCT05111301\n"
          ]
        },
        {
          "output_type": "stream",
          "name": "stderr",
          "text": [
            "1685it [04:21,  5.50it/s]"
          ]
        },
        {
          "output_type": "stream",
          "name": "stdout",
          "text": [
            "1685. Trial ID:NCT05137002\n",
            "1686. Trial ID:NCT05159622\n"
          ]
        },
        {
          "output_type": "stream",
          "name": "stderr",
          "text": [
            "1687it [04:22,  6.35it/s]"
          ]
        },
        {
          "output_type": "stream",
          "name": "stdout",
          "text": [
            "1687. Trial ID:NCT05177094\n",
            "1688. Trial ID:NCT05197829\n"
          ]
        },
        {
          "output_type": "stream",
          "name": "stderr",
          "text": [
            "1689it [04:22,  7.26it/s]"
          ]
        },
        {
          "output_type": "stream",
          "name": "stdout",
          "text": [
            "1689. Trial ID:NCT05204134\n",
            "1690. Trial ID:NCT05289869\n"
          ]
        },
        {
          "output_type": "stream",
          "name": "stderr",
          "text": [
            "1691it [04:22,  7.55it/s]"
          ]
        },
        {
          "output_type": "stream",
          "name": "stdout",
          "text": [
            "1691. Trial ID:NCT05387889\n",
            "1692. Trial ID:NCT05451329\n"
          ]
        },
        {
          "output_type": "stream",
          "name": "stderr",
          "text": [
            "1693it [04:23,  6.44it/s]\n"
          ]
        },
        {
          "output_type": "stream",
          "name": "stdout",
          "text": [
            "1693. Trial ID:NCT05741489\n"
          ]
        }
      ],
      "source": [
        "from tqdm import tqdm\n",
        "from time import sleep\n",
        "\n",
        "#bert_scores = pd.DataFrame(columns=['NCTId', 'Model', 'bert-score-matches-07'])\n",
        "bert_scores = pd.DataFrame()\n",
        "bert_scores['NCTId'] = data['NCTId']\n",
        "\n",
        "threeshot_example_ids = ['NCT00000620', 'NCT01483560', 'NCT04280783']\n",
        "\n",
        "for index, row in tqdm(data.iterrows()):\n",
        "\n",
        "    doc_id = row['NCTId']\n",
        "    reference = row['API_BaselineMeasures_Corrected']\n",
        "\n",
        "    print(f\"{index+1}. Trial ID:{row['NCTId']}\")\n",
        "\n",
        "    if doc_id in threeshot_example_ids:\n",
        "        continue\n",
        "\n",
        "    #run_bert_score(gen_model_name, model, doc_id, reference_list, candidate_list, bert_scores):\n",
        "\n",
        "    #eval gpt4-omni-zs\n",
        "    candidate = row['gpt4o_zs_gen']\n",
        "    bert_matches = run_bert_score('gpt4-omni-zs', model, doc_id, reference, candidate, bert_scores)\n",
        "    bert_scores.at[index, 'gpt4o_zs_gen_matches'] = bert_matches\n",
        "\n",
        "    #eval gpt4-omni-ts\n",
        "    candidate = row['gpt4o_ts_gen']\n",
        "    bert_matches = run_bert_score('gpt4-omni-ts', model, doc_id, reference, candidate, bert_scores)\n",
        "    bert_scores.at[index, 'gpt4o_ts_gen_matches'] = bert_matches\n",
        "\n",
        "    #eval llamma3-70b-in-zs\n",
        "    candidate = row['llama3_70b_it_zs_gen']\n",
        "    bert_matches = run_bert_score('llama3-70b-in-zs', model, doc_id, reference, candidate, bert_scores)\n",
        "    bert_scores.at[index, 'llama3_70b_it_zs_gen_matches'] = bert_matches\n",
        "\n",
        "    #eval llamma3-70b-in-ts\n",
        "    candidate = row['llama3_70b_it_ts_gen']\n",
        "    bert_matches = run_bert_score('llama3-70b-in-ts', model, doc_id, reference, candidate, bert_scores)\n",
        "    bert_scores.at[index, 'llama3_70b_it_ts_gen_matches'] = bert_matches\n",
        "\n",
        "    #break\n",
        "\n",
        "#save the matches\n",
        "bert_scores.to_csv('CT-Repo-With-Examples-Corrected-allbert07eval.csv', index=False)\n",
        "\n"
      ]
    },
    {
      "cell_type": "code",
      "execution_count": 8,
      "metadata": {
        "colab": {
          "base_uri": "https://localhost:8080/",
          "height": 226
        },
        "id": "9g8-tJENWSNQ",
        "outputId": "d8bad9e8-69f4-4f13-cbcb-d945be8e94de"
      },
      "outputs": [
        {
          "output_type": "execute_result",
          "data": {
            "text/plain": [
              "         NCTId                               gpt4o_zs_gen_matches  \\\n",
              "0  NCT00000620                                                NaN   \n",
              "1  NCT00003901  {\\n  \"matched_features\": [\\n    [\\n      \"Gend...   \n",
              "2  NCT00005879  {\\n  \"matched_features\": [\\n    [\\n      \"Meno...   \n",
              "3  NCT00005908  {\\n  \"matched_features\": [\\n    [\\n      \"Age ...   \n",
              "4  NCT00006110  {\\n  \"matched_features\": [\\n    [\\n      \"Sex:...   \n",
              "\n",
              "                                gpt4o_ts_gen_matches  \\\n",
              "0                                                NaN   \n",
              "1  {\\n  \"matched_features\": [\\n    [\\n      \"Regi...   \n",
              "2  {\\n  \"matched_features\": [\\n    [\\n      \"Regi...   \n",
              "3  {\\n  \"matched_features\": [\\n    [\\n      \"Regi...   \n",
              "4  {\\n  \"matched_features\": [\\n    [\\n      \"Regi...   \n",
              "\n",
              "                        llama3_70b_it_zs_gen_matches  \\\n",
              "0                                                NaN   \n",
              "1  {\\n  \"matched_features\": [\\n    [\\n      \"Gend...   \n",
              "2  {\\n  \"matched_features\": [\\n    [\\n      \"Meno...   \n",
              "3  {\\n  \"matched_features\": [\\n    [\\n      \"Age ...   \n",
              "4  {\\n  \"matched_features\": [\\n    [\\n      \"Sex:...   \n",
              "\n",
              "                        llama3_70b_it_ts_gen_matches  \n",
              "0                                                NaN  \n",
              "1  {\\n  \"matched_features\": [\\n    [\\n      \"Tumo...  \n",
              "2  {\\n  \"matched_features\": [\\n    [\\n      \"Regi...  \n",
              "3  {\\n  \"matched_features\": [\\n    [\\n      \"Regi...  \n",
              "4  {\\n  \"matched_features\": [\\n    [\\n      \"Age,...  "
            ],
            "text/html": [
              "\n",
              "  <div id=\"df-4947ed9a-c1c3-45ed-8904-64a0ae2a8001\" class=\"colab-df-container\">\n",
              "    <div>\n",
              "<style scoped>\n",
              "    .dataframe tbody tr th:only-of-type {\n",
              "        vertical-align: middle;\n",
              "    }\n",
              "\n",
              "    .dataframe tbody tr th {\n",
              "        vertical-align: top;\n",
              "    }\n",
              "\n",
              "    .dataframe thead th {\n",
              "        text-align: right;\n",
              "    }\n",
              "</style>\n",
              "<table border=\"1\" class=\"dataframe\">\n",
              "  <thead>\n",
              "    <tr style=\"text-align: right;\">\n",
              "      <th></th>\n",
              "      <th>NCTId</th>\n",
              "      <th>gpt4o_zs_gen_matches</th>\n",
              "      <th>gpt4o_ts_gen_matches</th>\n",
              "      <th>llama3_70b_it_zs_gen_matches</th>\n",
              "      <th>llama3_70b_it_ts_gen_matches</th>\n",
              "    </tr>\n",
              "  </thead>\n",
              "  <tbody>\n",
              "    <tr>\n",
              "      <th>0</th>\n",
              "      <td>NCT00000620</td>\n",
              "      <td>NaN</td>\n",
              "      <td>NaN</td>\n",
              "      <td>NaN</td>\n",
              "      <td>NaN</td>\n",
              "    </tr>\n",
              "    <tr>\n",
              "      <th>1</th>\n",
              "      <td>NCT00003901</td>\n",
              "      <td>{\\n  \"matched_features\": [\\n    [\\n      \"Gend...</td>\n",
              "      <td>{\\n  \"matched_features\": [\\n    [\\n      \"Regi...</td>\n",
              "      <td>{\\n  \"matched_features\": [\\n    [\\n      \"Gend...</td>\n",
              "      <td>{\\n  \"matched_features\": [\\n    [\\n      \"Tumo...</td>\n",
              "    </tr>\n",
              "    <tr>\n",
              "      <th>2</th>\n",
              "      <td>NCT00005879</td>\n",
              "      <td>{\\n  \"matched_features\": [\\n    [\\n      \"Meno...</td>\n",
              "      <td>{\\n  \"matched_features\": [\\n    [\\n      \"Regi...</td>\n",
              "      <td>{\\n  \"matched_features\": [\\n    [\\n      \"Meno...</td>\n",
              "      <td>{\\n  \"matched_features\": [\\n    [\\n      \"Regi...</td>\n",
              "    </tr>\n",
              "    <tr>\n",
              "      <th>3</th>\n",
              "      <td>NCT00005908</td>\n",
              "      <td>{\\n  \"matched_features\": [\\n    [\\n      \"Age ...</td>\n",
              "      <td>{\\n  \"matched_features\": [\\n    [\\n      \"Regi...</td>\n",
              "      <td>{\\n  \"matched_features\": [\\n    [\\n      \"Age ...</td>\n",
              "      <td>{\\n  \"matched_features\": [\\n    [\\n      \"Regi...</td>\n",
              "    </tr>\n",
              "    <tr>\n",
              "      <th>4</th>\n",
              "      <td>NCT00006110</td>\n",
              "      <td>{\\n  \"matched_features\": [\\n    [\\n      \"Sex:...</td>\n",
              "      <td>{\\n  \"matched_features\": [\\n    [\\n      \"Regi...</td>\n",
              "      <td>{\\n  \"matched_features\": [\\n    [\\n      \"Sex:...</td>\n",
              "      <td>{\\n  \"matched_features\": [\\n    [\\n      \"Age,...</td>\n",
              "    </tr>\n",
              "  </tbody>\n",
              "</table>\n",
              "</div>\n",
              "    <div class=\"colab-df-buttons\">\n",
              "\n",
              "  <div class=\"colab-df-container\">\n",
              "    <button class=\"colab-df-convert\" onclick=\"convertToInteractive('df-4947ed9a-c1c3-45ed-8904-64a0ae2a8001')\"\n",
              "            title=\"Convert this dataframe to an interactive table.\"\n",
              "            style=\"display:none;\">\n",
              "\n",
              "  <svg xmlns=\"http://www.w3.org/2000/svg\" height=\"24px\" viewBox=\"0 -960 960 960\">\n",
              "    <path d=\"M120-120v-720h720v720H120Zm60-500h600v-160H180v160Zm220 220h160v-160H400v160Zm0 220h160v-160H400v160ZM180-400h160v-160H180v160Zm440 0h160v-160H620v160ZM180-180h160v-160H180v160Zm440 0h160v-160H620v160Z\"/>\n",
              "  </svg>\n",
              "    </button>\n",
              "\n",
              "  <style>\n",
              "    .colab-df-container {\n",
              "      display:flex;\n",
              "      gap: 12px;\n",
              "    }\n",
              "\n",
              "    .colab-df-convert {\n",
              "      background-color: #E8F0FE;\n",
              "      border: none;\n",
              "      border-radius: 50%;\n",
              "      cursor: pointer;\n",
              "      display: none;\n",
              "      fill: #1967D2;\n",
              "      height: 32px;\n",
              "      padding: 0 0 0 0;\n",
              "      width: 32px;\n",
              "    }\n",
              "\n",
              "    .colab-df-convert:hover {\n",
              "      background-color: #E2EBFA;\n",
              "      box-shadow: 0px 1px 2px rgba(60, 64, 67, 0.3), 0px 1px 3px 1px rgba(60, 64, 67, 0.15);\n",
              "      fill: #174EA6;\n",
              "    }\n",
              "\n",
              "    .colab-df-buttons div {\n",
              "      margin-bottom: 4px;\n",
              "    }\n",
              "\n",
              "    [theme=dark] .colab-df-convert {\n",
              "      background-color: #3B4455;\n",
              "      fill: #D2E3FC;\n",
              "    }\n",
              "\n",
              "    [theme=dark] .colab-df-convert:hover {\n",
              "      background-color: #434B5C;\n",
              "      box-shadow: 0px 1px 3px 1px rgba(0, 0, 0, 0.15);\n",
              "      filter: drop-shadow(0px 1px 2px rgba(0, 0, 0, 0.3));\n",
              "      fill: #FFFFFF;\n",
              "    }\n",
              "  </style>\n",
              "\n",
              "    <script>\n",
              "      const buttonEl =\n",
              "        document.querySelector('#df-4947ed9a-c1c3-45ed-8904-64a0ae2a8001 button.colab-df-convert');\n",
              "      buttonEl.style.display =\n",
              "        google.colab.kernel.accessAllowed ? 'block' : 'none';\n",
              "\n",
              "      async function convertToInteractive(key) {\n",
              "        const element = document.querySelector('#df-4947ed9a-c1c3-45ed-8904-64a0ae2a8001');\n",
              "        const dataTable =\n",
              "          await google.colab.kernel.invokeFunction('convertToInteractive',\n",
              "                                                    [key], {});\n",
              "        if (!dataTable) return;\n",
              "\n",
              "        const docLinkHtml = 'Like what you see? Visit the ' +\n",
              "          '<a target=\"_blank\" href=https://colab.research.google.com/notebooks/data_table.ipynb>data table notebook</a>'\n",
              "          + ' to learn more about interactive tables.';\n",
              "        element.innerHTML = '';\n",
              "        dataTable['output_type'] = 'display_data';\n",
              "        await google.colab.output.renderOutput(dataTable, element);\n",
              "        const docLink = document.createElement('div');\n",
              "        docLink.innerHTML = docLinkHtml;\n",
              "        element.appendChild(docLink);\n",
              "      }\n",
              "    </script>\n",
              "  </div>\n",
              "\n",
              "\n",
              "<div id=\"df-2efdfe10-0ed8-49c8-9f7c-eda92b54a0c0\">\n",
              "  <button class=\"colab-df-quickchart\" onclick=\"quickchart('df-2efdfe10-0ed8-49c8-9f7c-eda92b54a0c0')\"\n",
              "            title=\"Suggest charts\"\n",
              "            style=\"display:none;\">\n",
              "\n",
              "<svg xmlns=\"http://www.w3.org/2000/svg\" height=\"24px\"viewBox=\"0 0 24 24\"\n",
              "     width=\"24px\">\n",
              "    <g>\n",
              "        <path d=\"M19 3H5c-1.1 0-2 .9-2 2v14c0 1.1.9 2 2 2h14c1.1 0 2-.9 2-2V5c0-1.1-.9-2-2-2zM9 17H7v-7h2v7zm4 0h-2V7h2v10zm4 0h-2v-4h2v4z\"/>\n",
              "    </g>\n",
              "</svg>\n",
              "  </button>\n",
              "\n",
              "<style>\n",
              "  .colab-df-quickchart {\n",
              "      --bg-color: #E8F0FE;\n",
              "      --fill-color: #1967D2;\n",
              "      --hover-bg-color: #E2EBFA;\n",
              "      --hover-fill-color: #174EA6;\n",
              "      --disabled-fill-color: #AAA;\n",
              "      --disabled-bg-color: #DDD;\n",
              "  }\n",
              "\n",
              "  [theme=dark] .colab-df-quickchart {\n",
              "      --bg-color: #3B4455;\n",
              "      --fill-color: #D2E3FC;\n",
              "      --hover-bg-color: #434B5C;\n",
              "      --hover-fill-color: #FFFFFF;\n",
              "      --disabled-bg-color: #3B4455;\n",
              "      --disabled-fill-color: #666;\n",
              "  }\n",
              "\n",
              "  .colab-df-quickchart {\n",
              "    background-color: var(--bg-color);\n",
              "    border: none;\n",
              "    border-radius: 50%;\n",
              "    cursor: pointer;\n",
              "    display: none;\n",
              "    fill: var(--fill-color);\n",
              "    height: 32px;\n",
              "    padding: 0;\n",
              "    width: 32px;\n",
              "  }\n",
              "\n",
              "  .colab-df-quickchart:hover {\n",
              "    background-color: var(--hover-bg-color);\n",
              "    box-shadow: 0 1px 2px rgba(60, 64, 67, 0.3), 0 1px 3px 1px rgba(60, 64, 67, 0.15);\n",
              "    fill: var(--button-hover-fill-color);\n",
              "  }\n",
              "\n",
              "  .colab-df-quickchart-complete:disabled,\n",
              "  .colab-df-quickchart-complete:disabled:hover {\n",
              "    background-color: var(--disabled-bg-color);\n",
              "    fill: var(--disabled-fill-color);\n",
              "    box-shadow: none;\n",
              "  }\n",
              "\n",
              "  .colab-df-spinner {\n",
              "    border: 2px solid var(--fill-color);\n",
              "    border-color: transparent;\n",
              "    border-bottom-color: var(--fill-color);\n",
              "    animation:\n",
              "      spin 1s steps(1) infinite;\n",
              "  }\n",
              "\n",
              "  @keyframes spin {\n",
              "    0% {\n",
              "      border-color: transparent;\n",
              "      border-bottom-color: var(--fill-color);\n",
              "      border-left-color: var(--fill-color);\n",
              "    }\n",
              "    20% {\n",
              "      border-color: transparent;\n",
              "      border-left-color: var(--fill-color);\n",
              "      border-top-color: var(--fill-color);\n",
              "    }\n",
              "    30% {\n",
              "      border-color: transparent;\n",
              "      border-left-color: var(--fill-color);\n",
              "      border-top-color: var(--fill-color);\n",
              "      border-right-color: var(--fill-color);\n",
              "    }\n",
              "    40% {\n",
              "      border-color: transparent;\n",
              "      border-right-color: var(--fill-color);\n",
              "      border-top-color: var(--fill-color);\n",
              "    }\n",
              "    60% {\n",
              "      border-color: transparent;\n",
              "      border-right-color: var(--fill-color);\n",
              "    }\n",
              "    80% {\n",
              "      border-color: transparent;\n",
              "      border-right-color: var(--fill-color);\n",
              "      border-bottom-color: var(--fill-color);\n",
              "    }\n",
              "    90% {\n",
              "      border-color: transparent;\n",
              "      border-bottom-color: var(--fill-color);\n",
              "    }\n",
              "  }\n",
              "</style>\n",
              "\n",
              "  <script>\n",
              "    async function quickchart(key) {\n",
              "      const quickchartButtonEl =\n",
              "        document.querySelector('#' + key + ' button');\n",
              "      quickchartButtonEl.disabled = true;  // To prevent multiple clicks.\n",
              "      quickchartButtonEl.classList.add('colab-df-spinner');\n",
              "      try {\n",
              "        const charts = await google.colab.kernel.invokeFunction(\n",
              "            'suggestCharts', [key], {});\n",
              "      } catch (error) {\n",
              "        console.error('Error during call to suggestCharts:', error);\n",
              "      }\n",
              "      quickchartButtonEl.classList.remove('colab-df-spinner');\n",
              "      quickchartButtonEl.classList.add('colab-df-quickchart-complete');\n",
              "    }\n",
              "    (() => {\n",
              "      let quickchartButtonEl =\n",
              "        document.querySelector('#df-2efdfe10-0ed8-49c8-9f7c-eda92b54a0c0 button');\n",
              "      quickchartButtonEl.style.display =\n",
              "        google.colab.kernel.accessAllowed ? 'block' : 'none';\n",
              "    })();\n",
              "  </script>\n",
              "</div>\n",
              "\n",
              "    </div>\n",
              "  </div>\n"
            ],
            "application/vnd.google.colaboratory.intrinsic+json": {
              "type": "dataframe",
              "variable_name": "bert_scores",
              "summary": "{\n  \"name\": \"bert_scores\",\n  \"rows\": 1693,\n  \"fields\": [\n    {\n      \"column\": \"NCTId\",\n      \"properties\": {\n        \"dtype\": \"string\",\n        \"num_unique_values\": 1693,\n        \"samples\": [\n          \"NCT03002155\",\n          \"NCT05159622\",\n          \"NCT03954223\"\n        ],\n        \"semantic_type\": \"\",\n        \"description\": \"\"\n      }\n    },\n    {\n      \"column\": \"gpt4o_zs_gen_matches\",\n      \"properties\": {\n        \"dtype\": \"string\",\n        \"num_unique_values\": 1690,\n        \"samples\": [\n          \"{\\n  \\\"matched_features\\\": [\\n    [\\n      \\\"Weight\\\",\\n      \\\"Weight Concern Scale score\\\"\\n    ]\\n  ],\\n  \\\"remaining_reference_features\\\": [\\n    \\\"Age, Categorical\\\",\\n    \\\"Age, Continuous\\\",\\n    \\\"Sex: Female, Male\\\",\\n    \\\"Ethnicity (NIH/OMB)\\\",\\n    \\\"Race (NIH/OMB)\\\",\\n    \\\"Body Mass Index\\\",\\n    \\\"Waist Circumference\\\"\\n  ],\\n  \\\"remaining_candidate_features\\\": [\\n    \\\"Age\\\",\\n    \\\"Gender\\\",\\n    \\\"BMI\\\",\\n    \\\"Smoking history (cigarettes/day)\\\",\\n    \\\"Duration of smoking (years)\\\",\\n    \\\"CES-D score\\\",\\n    \\\"Blood pressure (systolic and diastolic)\\\",\\n    \\\"History of psychiatric disorders\\\",\\n    \\\"Current medications\\\",\\n    \\\"Substance abuse history\\\",\\n    \\\"Comorbid medical conditions\\\",\\n    \\\"Geographic location (Olmsted County)\\\",\\n    \\\"Motivation to quit smoking\\\",\\n    \\\"Contraception use (for women of childbearing potential)\\\"\\n  ]\\n}\",\n          \"{\\n  \\\"matched_features\\\": [],\\n  \\\"remaining_reference_features\\\": [\\n    \\\"Age, Continuous\\\",\\n    \\\"Sex: Female, Male\\\",\\n    \\\"Ethnicity (NIH/OMB)\\\",\\n    \\\"Race (NIH/OMB)\\\",\\n    \\\"Region of Enrollment\\\",\\n    \\\"Percentage of Time With Sensor Glucose Values Between 70 and 180 mg/dL During Daytime Period\\\"\\n  ],\\n  \\\"remaining_candidate_features\\\": [\\n    \\\"Age\\\",\\n    \\\"Gender\\\",\\n    \\\"Duration of Type 2 Diabetes\\\",\\n    \\\"HbA1c\\\",\\n    \\\"Body Mass Index (BMI)\\\",\\n    \\\"Basal Insulin Dose\\\",\\n    \\\"Bolus Insulin Dose\\\",\\n    \\\"Use of Oral Antihyperglycemic Medications (OAMs)\\\",\\n    \\\"Use of GLP-1 Receptor Agonist\\\",\\n    \\\"History of Severe Hypoglycemia\\\",\\n    \\\"History of Hyperglycemic Hyperosmolar State\\\",\\n    \\\"History of Diabetic Ketoacidosis\\\",\\n    \\\"Hypoglycemia Unawareness\\\"\\n  ]\\n}\",\n          \"{\\n  \\\"matched_features\\\": [],\\n  \\\"remaining_reference_features\\\": [\\n    \\\"Age, Continuous\\\",\\n    \\\"Sex: Female, Male\\\",\\n    \\\"Ethnicity (NIH/OMB)\\\",\\n    \\\"Race (NIH/OMB)\\\",\\n    \\\"Region of Enrollment\\\",\\n    \\\"Weight\\\",\\n    \\\"Height\\\",\\n    \\\"Basal Metabolic Index\\\"\\n  ],\\n  \\\"remaining_candidate_features\\\": [\\n    \\\"Age\\\",\\n    \\\"Gender\\\",\\n    \\\"Stage of Breast Cancer\\\",\\n    \\\"ECOG Performance Status\\\",\\n    \\\"WBC Count\\\",\\n    \\\"Hemoglobin Level\\\",\\n    \\\"Platelet Count\\\",\\n    \\\"Renal Function\\\",\\n    \\\"Hepatic Function\\\",\\n    \\\"Cardiac Function\\\",\\n    \\\"Contraceptive Use\\\",\\n    \\\"Prior Chemotherapy\\\",\\n    \\\"Radiation Therapy History\\\",\\n    \\\"Bone Marrow or Stem-Cell Transplantation History\\\",\\n    \\\"History of Prior Malignancy\\\",\\n    \\\"Use of G-CSF or Neutrophil-Releasing Drugs\\\",\\n    \\\"History of Congestive Heart Failure\\\",\\n    \\\"History of Cardiomyopathy\\\",\\n    \\\"History of Myocardial Infarction\\\",\\n    \\\"Alcohol or Drug Abuse History\\\",\\n    \\\"Participation in Other Investigational Drug Trials\\\",\\n    \\\"Splenomegaly\\\",\\n    \\\"Chronic Constipation or Diarrhea\\\",\\n    \\\"Irritable Bowel Syndrome\\\",\\n    \\\"Inflammatory Bowel Disease\\\",\\n    \\\"Active Infection\\\",\\n    \\\"Hepatitis B Status\\\",\\n    \\\"Hepatitis C Status\\\",\\n    \\\"Pregnancy Status\\\",\\n    \\\"Breast-Feeding Status\\\",\\n    \\\"HIV Status\\\",\\n    \\\"AIDS Defining Illness\\\",\\n    \\\"Immunodeficiency Disorder\\\",\\n    \\\"Tuberculosis History\\\",\\n    \\\"Sickle Cell Disease\\\",\\n    \\\"Hypersensitivity to E.coli Derived Proteins\\\",\\n    \\\"Hypersensitivity to Pegfilgrastim\\\",\\n    \\\"Hypersensitivity to Filgrastim\\\"\\n  ]\\n}\"\n        ],\n        \"semantic_type\": \"\",\n        \"description\": \"\"\n      }\n    },\n    {\n      \"column\": \"gpt4o_ts_gen_matches\",\n      \"properties\": {\n        \"dtype\": \"string\",\n        \"num_unique_values\": 1690,\n        \"samples\": [\n          \"{\\n  \\\"matched_features\\\": [\\n    [\\n      \\\"Sex: Female, Male\\\",\\n      \\\"Sex: Female, Male\\\"\\n    ],\\n    [\\n      \\\"Body Mass Index\\\",\\n      \\\"Body Mass Index\\\"\\n    ],\\n    [\\n      \\\"Age, Continuous\\\",\\n      \\\"Age, Continuous\\\"\\n    ],\\n    [\\n      \\\"Weight\\\",\\n      \\\"Weight Concern Scale score\\\"\\n    ]\\n  ],\\n  \\\"remaining_reference_features\\\": [\\n    \\\"Age, Categorical\\\",\\n    \\\"Ethnicity (NIH/OMB)\\\",\\n    \\\"Race (NIH/OMB)\\\",\\n    \\\"Waist Circumference\\\"\\n  ],\\n  \\\"remaining_candidate_features\\\": [\\n    \\\"Race/Ethnicity, Customized\\\",\\n    \\\"Region of Enrollment\\\",\\n    \\\"Number of cigarettes smoked per day\\\",\\n    \\\"Center for Epidemiologic Studies-Depression (CES-D) score\\\",\\n    \\\"Blood Pressure\\\",\\n    \\\"History of substance abuse\\\",\\n    \\\"Current use of medications\\\"\\n  ]\\n}\",\n          \"{\\n  \\\"matched_features\\\": [\\n    [\\n      \\\"Age, Continuous\\\",\\n      \\\"Age, Continuous\\\"\\n    ],\\n    [\\n      \\\"Sex: Female, Male\\\",\\n      \\\"Sex: Female, Male\\\"\\n    ],\\n    [\\n      \\\"Region of Enrollment\\\",\\n      \\\"Region of Enrollment\\\"\\n    ]\\n  ],\\n  \\\"remaining_reference_features\\\": [\\n    \\\"Ethnicity (NIH/OMB)\\\",\\n    \\\"Race (NIH/OMB)\\\",\\n    \\\"Percentage of Time With Sensor Glucose Values Between 70 and 180 mg/dL During Daytime Period\\\"\\n  ],\\n  \\\"remaining_candidate_features\\\": [\\n    \\\"Race/Ethnicity, Customized\\\",\\n    \\\"Body Mass Index\\\",\\n    \\\"Duration of Diabetes\\\",\\n    \\\"HbA1c\\\",\\n    \\\"Daily Insulin Dose\\\",\\n    \\\"Use of Oral Antihyperglycemic Medications\\\",\\n    \\\"Use of Injectable GLP-1 Receptor Agonist\\\",\\n    \\\"History of Severe Hypoglycemia\\\",\\n    \\\"History of Hyperglycemic Hyperosmolar State\\\",\\n    \\\"History of Diabetic Ketoacidosis\\\"\\n  ]\\n}\",\n          \"{\\n  \\\"matched_features\\\": [\\n    [\\n      \\\"Region of Enrollment\\\",\\n      \\\"Region of Enrollment\\\"\\n    ],\\n    [\\n      \\\"Age, Continuous\\\",\\n      \\\"Age, Continuous\\\"\\n    ],\\n    [\\n      \\\"Sex: Female, Male\\\",\\n      \\\"Sex: Female\\\"\\n    ],\\n    [\\n      \\\"Weight\\\",\\n      \\\"Body Mass Index\\\"\\n    ]\\n  ],\\n  \\\"remaining_reference_features\\\": [\\n    \\\"Ethnicity (NIH/OMB)\\\",\\n    \\\"Race (NIH/OMB)\\\",\\n    \\\"Height\\\",\\n    \\\"Basal Metabolic Index\\\"\\n  ],\\n  \\\"remaining_candidate_features\\\": [\\n    \\\"Race/Ethnicity, Customized\\\",\\n    \\\"ECOG Performance Status\\\",\\n    \\\"White Blood Cell Count\\\",\\n    \\\"Hemoglobin\\\",\\n    \\\"Platelet Count\\\",\\n    \\\"Renal Function\\\",\\n    \\\"Hepatic Function\\\",\\n    \\\"Cardiac Function\\\",\\n    \\\"Contraceptive Use\\\",\\n    \\\"Stage of Breast Cancer\\\",\\n    \\\"Chemotherapy Regimen\\\"\\n  ]\\n}\"\n        ],\n        \"semantic_type\": \"\",\n        \"description\": \"\"\n      }\n    },\n    {\n      \"column\": \"llama3_70b_it_zs_gen_matches\",\n      \"properties\": {\n        \"dtype\": \"string\",\n        \"num_unique_values\": 1690,\n        \"samples\": [\n          \"{\\n  \\\"matched_features\\\": [\\n    [\\n      \\\"Weight\\\",\\n      \\\"Weight Concern Scale\\\"\\n    ],\\n    [\\n      \\\"Sex: Female, Male\\\",\\n      \\\"Sex\\\"\\n    ]\\n  ],\\n  \\\"remaining_reference_features\\\": [\\n    \\\"Age, Categorical\\\",\\n    \\\"Age, Continuous\\\",\\n    \\\"Ethnicity (NIH/OMB)\\\",\\n    \\\"Race (NIH/OMB)\\\",\\n    \\\"Body Mass Index\\\",\\n    \\\"Waist Circumference\\\"\\n  ],\\n  \\\"remaining_candidate_features\\\": [\\n    \\\"Age\\\",\\n    \\\"BMI\\\",\\n    \\\"Smoking History\\\",\\n    \\\"CES-D Score\\\",\\n    \\\"C-SSRS Score\\\",\\n    \\\"History of Suicidal Attempts\\\",\\n    \\\"History of Bipolar Disorder or Schizophrenia\\\",\\n    \\\"History of Depression\\\",\\n    \\\"Use of Anti-Psychotic Medication\\\",\\n    \\\"Use of Weight-Loss Medications\\\",\\n    \\\"Weight Fluctuations in the Past 6 Months\\\",\\n    \\\"Use of Treatments for Tobacco Dependence\\\",\\n    \\\"Use of Investigational Drugs\\\",\\n    \\\"History of Substance Abuse\\\",\\n    \\\"Use of Benzodiazepines, Narcotics, Anti-Epileptics, or Other Interacting Medications\\\",\\n    \\\"History of Hypertension\\\",\\n    \\\"History of Neurologic, Hepatic, Renal, Cardiovascular, Respiratory, or Metabolic Disease\\\",\\n    \\\"History of Diabetes\\\",\\n    \\\"Allergy to Varenicline or Lorcaserin\\\",\\n    \\\"Pregnancy or Lactation Status\\\",\\n    \\\"Contraception Use\\\"\\n  ]\\n}\",\n          \"{\\n  \\\"matched_features\\\": [\\n    [\\n      \\\"Sex: Female, Male\\\",\\n      \\\"Sex\\\"\\n    ]\\n  ],\\n  \\\"remaining_reference_features\\\": [\\n    \\\"Age, Continuous\\\",\\n    \\\"Ethnicity (NIH/OMB)\\\",\\n    \\\"Race (NIH/OMB)\\\",\\n    \\\"Region of Enrollment\\\",\\n    \\\"Percentage of Time With Sensor Glucose Values Between 70 and 180 mg/dL During Daytime Period\\\"\\n  ],\\n  \\\"remaining_candidate_features\\\": [\\n    \\\"Age\\\",\\n    \\\"Race\\\",\\n    \\\"Ethnicity\\\",\\n    \\\"Body Mass Index (BMI)\\\",\\n    \\\"Duration of Type 2 Diabetes\\\",\\n    \\\"HbA1c at Screening\\\",\\n    \\\"Fasting Plasma Glucose at Screening\\\",\\n    \\\"Type and Dose of Basal Insulin\\\",\\n    \\\"Type and Dose of Bolus Insulin\\\",\\n    \\\"Type and Dose of Oral Antihyperglycemic Medications\\\",\\n    \\\"Type and Dose of Injectable GLP-1 Receptor Agonist\\\",\\n    \\\"History of Hypoglycemia\\\",\\n    \\\"History of Hyperglycemic Hyperosmolar State or Diabetic Ketoacidosis\\\"\\n  ]\\n}\",\n          \"{\\n  \\\"matched_features\\\": [\\n    [\\n      \\\"Weight\\\",\\n      \\\"Body mass index (BMI)\\\"\\n    ]\\n  ],\\n  \\\"remaining_reference_features\\\": [\\n    \\\"Age, Continuous\\\",\\n    \\\"Sex: Female, Male\\\",\\n    \\\"Ethnicity (NIH/OMB)\\\",\\n    \\\"Race (NIH/OMB)\\\",\\n    \\\"Region of Enrollment\\\",\\n    \\\"Height\\\",\\n    \\\"Basal Metabolic Index\\\"\\n  ],\\n  \\\"remaining_candidate_features\\\": [\\n    \\\"Age\\\",\\n    \\\"ECOG Performance status\\\",\\n    \\\"WBC count\\\",\\n    \\\"Hemoglobin\\\",\\n    \\\"Platelet count\\\",\\n    \\\"ALT\\\",\\n    \\\"AST\\\",\\n    \\\"Alkaline phosphatase\\\",\\n    \\\"Total bilirubin\\\",\\n    \\\"Serum creatinine\\\",\\n    \\\"Breast cancer stage\\\",\\n    \\\"Type of breast cancer\\\",\\n    \\\"Prior chemotherapy\\\",\\n    \\\"Prior radiation therapy\\\",\\n    \\\"Menopausal status\\\",\\n    \\\"Contraception method\\\"\\n  ]\\n}\"\n        ],\n        \"semantic_type\": \"\",\n        \"description\": \"\"\n      }\n    },\n    {\n      \"column\": \"llama3_70b_it_ts_gen_matches\",\n      \"properties\": {\n        \"dtype\": \"string\",\n        \"num_unique_values\": 1690,\n        \"samples\": [\n          \"{\\n  \\\"matched_features\\\": [\\n    [\\n      \\\"Body Mass Index\\\",\\n      \\\"Body Mass Index\\\"\\n    ],\\n    [\\n      \\\"Sex: Female, Male\\\",\\n      \\\"Sex: Female, Male\\\"\\n    ],\\n    [\\n      \\\"Age, Continuous\\\",\\n      \\\"Age, Continuous\\\"\\n    ],\\n    [\\n      \\\"Weight\\\",\\n      \\\"Weight Concern Scale\\\"\\n    ]\\n  ],\\n  \\\"remaining_reference_features\\\": [\\n    \\\"Age, Categorical\\\",\\n    \\\"Ethnicity (NIH/OMB)\\\",\\n    \\\"Race (NIH/OMB)\\\",\\n    \\\"Waist Circumference\\\"\\n  ],\\n  \\\"remaining_candidate_features\\\": [\\n    \\\"Race/Ethnicity, Customized\\\",\\n    \\\"Region of Enrollment\\\",\\n    \\\"Systolic Blood Pressure\\\",\\n    \\\"Diastolic Blood Pressure\\\",\\n    \\\"Smoking Status\\\",\\n    \\\"Cigarettes per Day\\\",\\n    \\\"CES-D Score\\\",\\n    \\\"History of Depression\\\",\\n    \\\"History of Suicidal Thoughts or Attempts\\\",\\n    \\\"Use of Anti-Psychotic Medication\\\",\\n    \\\"Use of Weight-Loss Medications\\\",\\n    \\\"Use of Treatments for Tobacco Dependence\\\",\\n    \\\"Use of Investigational Drug\\\",\\n    \\\"History of Substance Abuse\\\",\\n    \\\"Use of Interacting Medications\\\",\\n    \\\"Uncontrolled Hypertension\\\",\\n    \\\"History of Neurologic, Hepatic, Renal, Cardiovascular, Respiratory, or Metabolic Disease\\\",\\n    \\\"Known Diabetes\\\",\\n    \\\"Allergy to Varenicline or Lorcaserin\\\",\\n    \\\"Pregnancy or Lactation\\\",\\n    \\\"Use of Reliable Contraception\\\"\\n  ]\\n}\",\n          \"{\\n  \\\"matched_features\\\": [\\n    [\\n      \\\"Age, Continuous\\\",\\n      \\\"Age, Continuous\\\"\\n    ],\\n    [\\n      \\\"Sex: Female, Male\\\",\\n      \\\"Sex: Female, Male\\\"\\n    ],\\n    [\\n      \\\"Region of Enrollment\\\",\\n      \\\"Region of Enrollment\\\"\\n    ]\\n  ],\\n  \\\"remaining_reference_features\\\": [\\n    \\\"Ethnicity (NIH/OMB)\\\",\\n    \\\"Race (NIH/OMB)\\\",\\n    \\\"Percentage of Time With Sensor Glucose Values Between 70 and 180 mg/dL During Daytime Period\\\"\\n  ],\\n  \\\"remaining_candidate_features\\\": [\\n    \\\"Race/Ethnicity, Customized\\\",\\n    \\\"Diabetes Duration\\\",\\n    \\\"HbA1c\\\",\\n    \\\"Body Mass Index\\\",\\n    \\\"Systolic Blood Pressure\\\",\\n    \\\"Diastolic Blood Pressure\\\",\\n    \\\"Total Daily Insulin Dose\\\",\\n    \\\"Basal Insulin Dose\\\",\\n    \\\"Bolus Insulin Dose\\\",\\n    \\\"Use of Oral Antihyperglycemic Medications\\\",\\n    \\\"Use of Injectable GLP-1 Receptor Agonist\\\"\\n  ]\\n}\",\n          \"{\\n  \\\"matched_features\\\": [\\n    [\\n      \\\"Age, Continuous\\\",\\n      \\\"Age, Continuous\\\"\\n    ],\\n    [\\n      \\\"Region of Enrollment\\\",\\n      \\\"Region of Enrollment\\\"\\n    ],\\n    [\\n      \\\"Sex: Female, Male\\\",\\n      \\\"Sex: Female\\\"\\n    ]\\n  ],\\n  \\\"remaining_reference_features\\\": [\\n    \\\"Ethnicity (NIH/OMB)\\\",\\n    \\\"Race (NIH/OMB)\\\",\\n    \\\"Weight\\\",\\n    \\\"Height\\\",\\n    \\\"Basal Metabolic Index\\\"\\n  ],\\n  \\\"remaining_candidate_features\\\": [\\n    \\\"Race/Ethnicity, Customized\\\",\\n    \\\"ECOG Performance Status\\\",\\n    \\\"Breast Cancer Stage\\\",\\n    \\\"Chemotherapy Regimen\\\",\\n    \\\"White Blood Cell Count\\\",\\n    \\\"Hemoglobin\\\",\\n    \\\"Platelet Count\\\",\\n    \\\"Liver Function Tests\\\",\\n    \\\"Serum Creatinine\\\",\\n    \\\"History of Prior Malignancy\\\",\\n    \\\"History of Radiation Therapy\\\",\\n    \\\"History of Bone Marrow or Stem-Cell Transplantation\\\",\\n    \\\"History of Congestive Heart Failure\\\",\\n    \\\"History of Cardiomyopathy\\\",\\n    \\\"History of Myocardial Infarction\\\"\\n  ]\\n}\"\n        ],\n        \"semantic_type\": \"\",\n        \"description\": \"\"\n      }\n    }\n  ]\n}"
            }
          },
          "metadata": {},
          "execution_count": 8
        }
      ],
      "source": [
        "#matched document contains match, reference mismatch, candidate mismatch\n",
        "bert_scores.head(5)"
      ]
    },
    {
      "cell_type": "markdown",
      "metadata": {
        "id": "Hv6l1KDHV5O5"
      },
      "source": [
        "## Calculate Bert Scores from BERT Matches"
      ]
    },
    {
      "cell_type": "code",
      "execution_count": 10,
      "metadata": {
        "id": "l2YmBaW0V5XI"
      },
      "outputs": [],
      "source": [
        "score_df = pd.DataFrame()\n",
        "score_df['NCTId'] = data['NCTId']"
      ]
    },
    {
      "cell_type": "code",
      "execution_count": 11,
      "metadata": {
        "id": "2e5WqMVUWBWR"
      },
      "outputs": [],
      "source": [
        "import json\n",
        "\n",
        "gzs_sum = {'precision':0, 'recall':0, 'f1':0}\n",
        "gts_sum = {'precision':0, 'recall':0, 'f1':0}\n",
        "lzs_sum = {'precision':0, 'recall':0, 'f1':0}\n",
        "lts_sum = {'precision':0, 'recall':0, 'f1':0}\n",
        "\n",
        "for index, row in bert_scores.iterrows():\n",
        "    avoid_ids = ['NCT00000620', 'NCT01483560', 'NCT04280783'] #these were used as examples for 3-shot generation\n",
        "    if row['NCTId'] in avoid_ids:\n",
        "        continue\n",
        "\n",
        "    #gzs\n",
        "    gzs_dict = json.loads(row['gpt4o_zs_gen_matches'])\n",
        "    gzs_matches, gzs_remaining_references, gzs_remaining_candidates = gzs_dict['matched_features'], gzs_dict['remaining_reference_features'], gzs_dict['remaining_candidate_features']\n",
        "    gzs_score = match_to_score(gzs_matches, gzs_remaining_references, gzs_remaining_candidates)\n",
        "    score_df.at[index, 'gpt4o_zs_gen_scores'] = json.dumps(gzs_score)\n",
        "    gzs_sum['precision'] += gzs_score['precision']\n",
        "    gzs_sum['recall'] += gzs_score['recall']\n",
        "    gzs_sum['f1'] += gzs_score['f1']\n",
        "\n",
        "    #gts\n",
        "    gts_dict = json.loads(row['gpt4o_ts_gen_matches'])\n",
        "    gts_matches, gts_remaining_references, gts_remaining_candidates = gts_dict['matched_features'], gts_dict['remaining_reference_features'], gts_dict['remaining_candidate_features']\n",
        "    gts_score = match_to_score(gts_matches, gts_remaining_references, gts_remaining_candidates)\n",
        "    score_df.at[index, 'gpt4o_ts_gen_scores'] = json.dumps(gts_score)\n",
        "    gts_sum['precision'] += gts_score['precision']\n",
        "    gts_sum['recall'] += gts_score['recall']\n",
        "    gts_sum['f1'] += gts_score['f1']\n",
        "\n",
        "    #lzs\n",
        "    lzs_dict = json.loads(row['llama3_70b_it_zs_gen_matches'])\n",
        "    lzs_matches, lzs_remaining_references, lzs_remaining_candidates = lzs_dict['matched_features'], lzs_dict['remaining_reference_features'], lzs_dict['remaining_candidate_features']\n",
        "    lzs_score = match_to_score(lzs_matches, lzs_remaining_references, lzs_remaining_candidates)\n",
        "    score_df.at[index, 'llama3_70b_it_zs_gen_scores'] = json.dumps(lzs_score)\n",
        "    lzs_sum['precision'] += lzs_score['precision']\n",
        "    lzs_sum['recall'] += lzs_score['recall']\n",
        "    lzs_sum['f1'] += lzs_score['f1']\n",
        "\n",
        "    #lts\n",
        "    lts_dict = json.loads(row['llama3_70b_it_ts_gen_matches'])\n",
        "    lts_matches, lts_remaining_references, lts_remaining_candidates = lts_dict['matched_features'], lts_dict['remaining_reference_features'], lts_dict['remaining_candidate_features']\n",
        "    lts_score = match_to_score(lts_matches, lts_remaining_references, lts_remaining_candidates)\n",
        "    score_df.at[index, 'llama3_70b_it_ts_gen_scores'] = json.dumps(lts_score)\n",
        "    lts_sum['precision'] += lts_score['precision']\n",
        "    lts_sum['recall'] += lts_score['recall']\n",
        "    lts_sum['f1'] += lts_score['f1']\n",
        "\n",
        "    #break\n",
        "\n"
      ]
    },
    {
      "cell_type": "code",
      "execution_count": 12,
      "metadata": {
        "colab": {
          "base_uri": "https://localhost:8080/",
          "height": 295
        },
        "id": "a6LCLSlwWgYR",
        "outputId": "de09831d-4d82-4b02-8977-805c37ee20d2"
      },
      "outputs": [
        {
          "output_type": "execute_result",
          "data": {
            "text/plain": [
              "         NCTId                                gpt4o_zs_gen_scores  \\\n",
              "0  NCT00000620                                                NaN   \n",
              "1  NCT00003901  {\"precision\": 0.1111111111111111, \"recall\": 0....   \n",
              "2  NCT00005879  {\"precision\": 0.0625, \"recall\": 0.166666666666...   \n",
              "3  NCT00005908  {\"precision\": 0.0625, \"recall\": 0.166666666666...   \n",
              "4  NCT00006110  {\"precision\": 0.05263157894736842, \"recall\": 0...   \n",
              "\n",
              "                                 gpt4o_ts_gen_scores  \\\n",
              "0                                                NaN   \n",
              "1  {\"precision\": 0.3333333333333333, \"recall\": 0....   \n",
              "2  {\"precision\": 0.2857142857142857, \"recall\": 0....   \n",
              "3  {\"precision\": 0.2857142857142857, \"recall\": 0....   \n",
              "4  {\"precision\": 0.2, \"recall\": 0.428571428571428...   \n",
              "\n",
              "                         llama3_70b_it_zs_gen_scores  \\\n",
              "0                                                NaN   \n",
              "1  {\"precision\": 0.18181818181818182, \"recall\": 0...   \n",
              "2  {\"precision\": 0.2, \"recall\": 0.333333333333333...   \n",
              "3  {\"precision\": 0.11764705882352941, \"recall\": 0...   \n",
              "4  {\"precision\": 0.0625, \"recall\": 0.142857142857...   \n",
              "\n",
              "                         llama3_70b_it_ts_gen_scores  \n",
              "0                                                NaN  \n",
              "1  {\"precision\": 0.45454545454545453, \"recall\": 0...  \n",
              "2  {\"precision\": 0.2608695652173913, \"recall\": 0....  \n",
              "3  {\"precision\": 0.2857142857142857, \"recall\": 0....  \n",
              "4  {\"precision\": 0.06666666666666667, \"recall\": 0...  "
            ],
            "text/html": [
              "\n",
              "  <div id=\"df-f45c50d8-bfaf-454a-bae8-e6d95836f73b\" class=\"colab-df-container\">\n",
              "    <div>\n",
              "<style scoped>\n",
              "    .dataframe tbody tr th:only-of-type {\n",
              "        vertical-align: middle;\n",
              "    }\n",
              "\n",
              "    .dataframe tbody tr th {\n",
              "        vertical-align: top;\n",
              "    }\n",
              "\n",
              "    .dataframe thead th {\n",
              "        text-align: right;\n",
              "    }\n",
              "</style>\n",
              "<table border=\"1\" class=\"dataframe\">\n",
              "  <thead>\n",
              "    <tr style=\"text-align: right;\">\n",
              "      <th></th>\n",
              "      <th>NCTId</th>\n",
              "      <th>gpt4o_zs_gen_scores</th>\n",
              "      <th>gpt4o_ts_gen_scores</th>\n",
              "      <th>llama3_70b_it_zs_gen_scores</th>\n",
              "      <th>llama3_70b_it_ts_gen_scores</th>\n",
              "    </tr>\n",
              "  </thead>\n",
              "  <tbody>\n",
              "    <tr>\n",
              "      <th>0</th>\n",
              "      <td>NCT00000620</td>\n",
              "      <td>NaN</td>\n",
              "      <td>NaN</td>\n",
              "      <td>NaN</td>\n",
              "      <td>NaN</td>\n",
              "    </tr>\n",
              "    <tr>\n",
              "      <th>1</th>\n",
              "      <td>NCT00003901</td>\n",
              "      <td>{\"precision\": 0.1111111111111111, \"recall\": 0....</td>\n",
              "      <td>{\"precision\": 0.3333333333333333, \"recall\": 0....</td>\n",
              "      <td>{\"precision\": 0.18181818181818182, \"recall\": 0...</td>\n",
              "      <td>{\"precision\": 0.45454545454545453, \"recall\": 0...</td>\n",
              "    </tr>\n",
              "    <tr>\n",
              "      <th>2</th>\n",
              "      <td>NCT00005879</td>\n",
              "      <td>{\"precision\": 0.0625, \"recall\": 0.166666666666...</td>\n",
              "      <td>{\"precision\": 0.2857142857142857, \"recall\": 0....</td>\n",
              "      <td>{\"precision\": 0.2, \"recall\": 0.333333333333333...</td>\n",
              "      <td>{\"precision\": 0.2608695652173913, \"recall\": 0....</td>\n",
              "    </tr>\n",
              "    <tr>\n",
              "      <th>3</th>\n",
              "      <td>NCT00005908</td>\n",
              "      <td>{\"precision\": 0.0625, \"recall\": 0.166666666666...</td>\n",
              "      <td>{\"precision\": 0.2857142857142857, \"recall\": 0....</td>\n",
              "      <td>{\"precision\": 0.11764705882352941, \"recall\": 0...</td>\n",
              "      <td>{\"precision\": 0.2857142857142857, \"recall\": 0....</td>\n",
              "    </tr>\n",
              "    <tr>\n",
              "      <th>4</th>\n",
              "      <td>NCT00006110</td>\n",
              "      <td>{\"precision\": 0.05263157894736842, \"recall\": 0...</td>\n",
              "      <td>{\"precision\": 0.2, \"recall\": 0.428571428571428...</td>\n",
              "      <td>{\"precision\": 0.0625, \"recall\": 0.142857142857...</td>\n",
              "      <td>{\"precision\": 0.06666666666666667, \"recall\": 0...</td>\n",
              "    </tr>\n",
              "  </tbody>\n",
              "</table>\n",
              "</div>\n",
              "    <div class=\"colab-df-buttons\">\n",
              "\n",
              "  <div class=\"colab-df-container\">\n",
              "    <button class=\"colab-df-convert\" onclick=\"convertToInteractive('df-f45c50d8-bfaf-454a-bae8-e6d95836f73b')\"\n",
              "            title=\"Convert this dataframe to an interactive table.\"\n",
              "            style=\"display:none;\">\n",
              "\n",
              "  <svg xmlns=\"http://www.w3.org/2000/svg\" height=\"24px\" viewBox=\"0 -960 960 960\">\n",
              "    <path d=\"M120-120v-720h720v720H120Zm60-500h600v-160H180v160Zm220 220h160v-160H400v160Zm0 220h160v-160H400v160ZM180-400h160v-160H180v160Zm440 0h160v-160H620v160ZM180-180h160v-160H180v160Zm440 0h160v-160H620v160Z\"/>\n",
              "  </svg>\n",
              "    </button>\n",
              "\n",
              "  <style>\n",
              "    .colab-df-container {\n",
              "      display:flex;\n",
              "      gap: 12px;\n",
              "    }\n",
              "\n",
              "    .colab-df-convert {\n",
              "      background-color: #E8F0FE;\n",
              "      border: none;\n",
              "      border-radius: 50%;\n",
              "      cursor: pointer;\n",
              "      display: none;\n",
              "      fill: #1967D2;\n",
              "      height: 32px;\n",
              "      padding: 0 0 0 0;\n",
              "      width: 32px;\n",
              "    }\n",
              "\n",
              "    .colab-df-convert:hover {\n",
              "      background-color: #E2EBFA;\n",
              "      box-shadow: 0px 1px 2px rgba(60, 64, 67, 0.3), 0px 1px 3px 1px rgba(60, 64, 67, 0.15);\n",
              "      fill: #174EA6;\n",
              "    }\n",
              "\n",
              "    .colab-df-buttons div {\n",
              "      margin-bottom: 4px;\n",
              "    }\n",
              "\n",
              "    [theme=dark] .colab-df-convert {\n",
              "      background-color: #3B4455;\n",
              "      fill: #D2E3FC;\n",
              "    }\n",
              "\n",
              "    [theme=dark] .colab-df-convert:hover {\n",
              "      background-color: #434B5C;\n",
              "      box-shadow: 0px 1px 3px 1px rgba(0, 0, 0, 0.15);\n",
              "      filter: drop-shadow(0px 1px 2px rgba(0, 0, 0, 0.3));\n",
              "      fill: #FFFFFF;\n",
              "    }\n",
              "  </style>\n",
              "\n",
              "    <script>\n",
              "      const buttonEl =\n",
              "        document.querySelector('#df-f45c50d8-bfaf-454a-bae8-e6d95836f73b button.colab-df-convert');\n",
              "      buttonEl.style.display =\n",
              "        google.colab.kernel.accessAllowed ? 'block' : 'none';\n",
              "\n",
              "      async function convertToInteractive(key) {\n",
              "        const element = document.querySelector('#df-f45c50d8-bfaf-454a-bae8-e6d95836f73b');\n",
              "        const dataTable =\n",
              "          await google.colab.kernel.invokeFunction('convertToInteractive',\n",
              "                                                    [key], {});\n",
              "        if (!dataTable) return;\n",
              "\n",
              "        const docLinkHtml = 'Like what you see? Visit the ' +\n",
              "          '<a target=\"_blank\" href=https://colab.research.google.com/notebooks/data_table.ipynb>data table notebook</a>'\n",
              "          + ' to learn more about interactive tables.';\n",
              "        element.innerHTML = '';\n",
              "        dataTable['output_type'] = 'display_data';\n",
              "        await google.colab.output.renderOutput(dataTable, element);\n",
              "        const docLink = document.createElement('div');\n",
              "        docLink.innerHTML = docLinkHtml;\n",
              "        element.appendChild(docLink);\n",
              "      }\n",
              "    </script>\n",
              "  </div>\n",
              "\n",
              "\n",
              "<div id=\"df-8ddc4926-0cdc-4d9e-b033-955a1dacd530\">\n",
              "  <button class=\"colab-df-quickchart\" onclick=\"quickchart('df-8ddc4926-0cdc-4d9e-b033-955a1dacd530')\"\n",
              "            title=\"Suggest charts\"\n",
              "            style=\"display:none;\">\n",
              "\n",
              "<svg xmlns=\"http://www.w3.org/2000/svg\" height=\"24px\"viewBox=\"0 0 24 24\"\n",
              "     width=\"24px\">\n",
              "    <g>\n",
              "        <path d=\"M19 3H5c-1.1 0-2 .9-2 2v14c0 1.1.9 2 2 2h14c1.1 0 2-.9 2-2V5c0-1.1-.9-2-2-2zM9 17H7v-7h2v7zm4 0h-2V7h2v10zm4 0h-2v-4h2v4z\"/>\n",
              "    </g>\n",
              "</svg>\n",
              "  </button>\n",
              "\n",
              "<style>\n",
              "  .colab-df-quickchart {\n",
              "      --bg-color: #E8F0FE;\n",
              "      --fill-color: #1967D2;\n",
              "      --hover-bg-color: #E2EBFA;\n",
              "      --hover-fill-color: #174EA6;\n",
              "      --disabled-fill-color: #AAA;\n",
              "      --disabled-bg-color: #DDD;\n",
              "  }\n",
              "\n",
              "  [theme=dark] .colab-df-quickchart {\n",
              "      --bg-color: #3B4455;\n",
              "      --fill-color: #D2E3FC;\n",
              "      --hover-bg-color: #434B5C;\n",
              "      --hover-fill-color: #FFFFFF;\n",
              "      --disabled-bg-color: #3B4455;\n",
              "      --disabled-fill-color: #666;\n",
              "  }\n",
              "\n",
              "  .colab-df-quickchart {\n",
              "    background-color: var(--bg-color);\n",
              "    border: none;\n",
              "    border-radius: 50%;\n",
              "    cursor: pointer;\n",
              "    display: none;\n",
              "    fill: var(--fill-color);\n",
              "    height: 32px;\n",
              "    padding: 0;\n",
              "    width: 32px;\n",
              "  }\n",
              "\n",
              "  .colab-df-quickchart:hover {\n",
              "    background-color: var(--hover-bg-color);\n",
              "    box-shadow: 0 1px 2px rgba(60, 64, 67, 0.3), 0 1px 3px 1px rgba(60, 64, 67, 0.15);\n",
              "    fill: var(--button-hover-fill-color);\n",
              "  }\n",
              "\n",
              "  .colab-df-quickchart-complete:disabled,\n",
              "  .colab-df-quickchart-complete:disabled:hover {\n",
              "    background-color: var(--disabled-bg-color);\n",
              "    fill: var(--disabled-fill-color);\n",
              "    box-shadow: none;\n",
              "  }\n",
              "\n",
              "  .colab-df-spinner {\n",
              "    border: 2px solid var(--fill-color);\n",
              "    border-color: transparent;\n",
              "    border-bottom-color: var(--fill-color);\n",
              "    animation:\n",
              "      spin 1s steps(1) infinite;\n",
              "  }\n",
              "\n",
              "  @keyframes spin {\n",
              "    0% {\n",
              "      border-color: transparent;\n",
              "      border-bottom-color: var(--fill-color);\n",
              "      border-left-color: var(--fill-color);\n",
              "    }\n",
              "    20% {\n",
              "      border-color: transparent;\n",
              "      border-left-color: var(--fill-color);\n",
              "      border-top-color: var(--fill-color);\n",
              "    }\n",
              "    30% {\n",
              "      border-color: transparent;\n",
              "      border-left-color: var(--fill-color);\n",
              "      border-top-color: var(--fill-color);\n",
              "      border-right-color: var(--fill-color);\n",
              "    }\n",
              "    40% {\n",
              "      border-color: transparent;\n",
              "      border-right-color: var(--fill-color);\n",
              "      border-top-color: var(--fill-color);\n",
              "    }\n",
              "    60% {\n",
              "      border-color: transparent;\n",
              "      border-right-color: var(--fill-color);\n",
              "    }\n",
              "    80% {\n",
              "      border-color: transparent;\n",
              "      border-right-color: var(--fill-color);\n",
              "      border-bottom-color: var(--fill-color);\n",
              "    }\n",
              "    90% {\n",
              "      border-color: transparent;\n",
              "      border-bottom-color: var(--fill-color);\n",
              "    }\n",
              "  }\n",
              "</style>\n",
              "\n",
              "  <script>\n",
              "    async function quickchart(key) {\n",
              "      const quickchartButtonEl =\n",
              "        document.querySelector('#' + key + ' button');\n",
              "      quickchartButtonEl.disabled = true;  // To prevent multiple clicks.\n",
              "      quickchartButtonEl.classList.add('colab-df-spinner');\n",
              "      try {\n",
              "        const charts = await google.colab.kernel.invokeFunction(\n",
              "            'suggestCharts', [key], {});\n",
              "      } catch (error) {\n",
              "        console.error('Error during call to suggestCharts:', error);\n",
              "      }\n",
              "      quickchartButtonEl.classList.remove('colab-df-spinner');\n",
              "      quickchartButtonEl.classList.add('colab-df-quickchart-complete');\n",
              "    }\n",
              "    (() => {\n",
              "      let quickchartButtonEl =\n",
              "        document.querySelector('#df-8ddc4926-0cdc-4d9e-b033-955a1dacd530 button');\n",
              "      quickchartButtonEl.style.display =\n",
              "        google.colab.kernel.accessAllowed ? 'block' : 'none';\n",
              "    })();\n",
              "  </script>\n",
              "</div>\n",
              "\n",
              "    </div>\n",
              "  </div>\n"
            ],
            "application/vnd.google.colaboratory.intrinsic+json": {
              "type": "dataframe",
              "variable_name": "score_df",
              "summary": "{\n  \"name\": \"score_df\",\n  \"rows\": 1693,\n  \"fields\": [\n    {\n      \"column\": \"NCTId\",\n      \"properties\": {\n        \"dtype\": \"string\",\n        \"num_unique_values\": 1693,\n        \"samples\": [\n          \"NCT03002155\",\n          \"NCT05159622\",\n          \"NCT03954223\"\n        ],\n        \"semantic_type\": \"\",\n        \"description\": \"\"\n      }\n    },\n    {\n      \"column\": \"gpt4o_zs_gen_scores\",\n      \"properties\": {\n        \"dtype\": \"category\",\n        \"num_unique_values\": 677,\n        \"samples\": [\n          \"{\\\"precision\\\": 0.4117647058823529, \\\"recall\\\": 0.3888888888888889, \\\"f1\\\": 0.39999999999999997}\",\n          \"{\\\"precision\\\": 0.4, \\\"recall\\\": 0.4, \\\"f1\\\": 0.4000000000000001}\",\n          \"{\\\"precision\\\": 0.23529411764705882, \\\"recall\\\": 0.3076923076923077, \\\"f1\\\": 0.26666666666666666}\"\n        ],\n        \"semantic_type\": \"\",\n        \"description\": \"\"\n      }\n    },\n    {\n      \"column\": \"gpt4o_ts_gen_scores\",\n      \"properties\": {\n        \"dtype\": \"category\",\n        \"num_unique_values\": 550,\n        \"samples\": [\n          \"{\\\"precision\\\": 0.46153846153846156, \\\"recall\\\": 0.42857142857142855, \\\"f1\\\": 0.4444444444444445}\",\n          \"{\\\"precision\\\": 0.5454545454545454, \\\"recall\\\": 0.8571428571428571, \\\"f1\\\": 0.6666666666666665}\",\n          \"{\\\"precision\\\": 0.26666666666666666, \\\"recall\\\": 0.19047619047619047, \\\"f1\\\": 0.2222222222222222}\"\n        ],\n        \"semantic_type\": \"\",\n        \"description\": \"\"\n      }\n    },\n    {\n      \"column\": \"llama3_70b_it_zs_gen_scores\",\n      \"properties\": {\n        \"dtype\": \"category\",\n        \"num_unique_values\": 617,\n        \"samples\": [\n          \"{\\\"precision\\\": 0.05263157894736842, \\\"recall\\\": 0.16666666666666666, \\\"f1\\\": 0.08}\",\n          \"{\\\"precision\\\": 0.4, \\\"recall\\\": 0.42857142857142855, \\\"f1\\\": 0.4137931034482759}\",\n          \"{\\\"precision\\\": 0.15384615384615385, \\\"recall\\\": 0.2, \\\"f1\\\": 0.17391304347826086}\"\n        ],\n        \"semantic_type\": \"\",\n        \"description\": \"\"\n      }\n    },\n    {\n      \"column\": \"llama3_70b_it_ts_gen_scores\",\n      \"properties\": {\n        \"dtype\": \"category\",\n        \"num_unique_values\": 628,\n        \"samples\": [\n          \"{\\\"precision\\\": 0.5, \\\"recall\\\": 0.1935483870967742, \\\"f1\\\": 0.27906976744186046}\",\n          \"{\\\"precision\\\": 0.2222222222222222, \\\"recall\\\": 0.1111111111111111, \\\"f1\\\": 0.14814814814814814}\",\n          \"{\\\"precision\\\": 0.16666666666666666, \\\"recall\\\": 0.25, \\\"f1\\\": 0.2}\"\n        ],\n        \"semantic_type\": \"\",\n        \"description\": \"\"\n      }\n    }\n  ]\n}"
            }
          },
          "metadata": {},
          "execution_count": 12
        }
      ],
      "source": [
        "score_df.head()"
      ]
    },
    {
      "cell_type": "code",
      "execution_count": 13,
      "metadata": {
        "id": "IS9qsrD5WtYZ"
      },
      "outputs": [],
      "source": [
        "#save bert scores\n",
        "score_df.to_csv('CT-Repo-With-Examples-Corrected-bertmetric.csv', index=False)"
      ]
    },
    {
      "cell_type": "code",
      "source": [
        "score_df.shape"
      ],
      "metadata": {
        "colab": {
          "base_uri": "https://localhost:8080/"
        },
        "id": "08cmEcCpCMIQ",
        "outputId": "a77cb789-6e47-4ea3-9179-6f1fe1818d4f"
      },
      "execution_count": 15,
      "outputs": [
        {
          "output_type": "execute_result",
          "data": {
            "text/plain": [
              "(1693, 5)"
            ]
          },
          "metadata": {},
          "execution_count": 15
        }
      ]
    },
    {
      "cell_type": "markdown",
      "metadata": {
        "id": "xg02zXSqW4jV"
      },
      "source": [
        "## Final Scores"
      ]
    },
    {
      "cell_type": "code",
      "execution_count": 16,
      "metadata": {
        "colab": {
          "base_uri": "https://localhost:8080/"
        },
        "id": "Q-JJK0dxW4rV",
        "outputId": "3f8d1361-df2a-4813-88c9-891d1bc00f6c"
      },
      "outputs": [
        {
          "output_type": "stream",
          "name": "stdout",
          "text": [
            "GPT-4o Zero Shot Scores: Precision=0.11919943981446339 Recall=0.20557350568423557 F1=0.14233219539428518\n",
            "GPT-4o Three Shot Scores: Precision=0.35203203711574327 Recall=0.5001452994192461 F1=0.39530252174719627\n",
            "Llama-3 70B Instruct Zero Shot Scores: Precision=0.1602543616840975 Recall=0.26408971624554145 F1=0.19040325807136668\n",
            "Llama-3 70B Instruct Three Shot Scores: Precision=0.355274892568452 Recall=0.4901739025537531 F1=0.3915967265007171\n"
          ]
        }
      ],
      "source": [
        "size = 1690\n",
        "print(f\"GPT-4o Zero Shot Scores: Precision={gzs_sum['precision']/size} Recall={gzs_sum['recall']/size} F1={gzs_sum['f1']/size}\")\n",
        "print(f\"GPT-4o Three Shot Scores: Precision={gts_sum['precision']/size} Recall={gts_sum['recall']/size} F1={gts_sum['f1']/size}\")\n",
        "print(f\"Llama-3 70B Instruct Zero Shot Scores: Precision={lzs_sum['precision']/size} Recall={lzs_sum['recall']/size} F1={lzs_sum['f1']/size}\")\n",
        "print(f\"Llama-3 70B Instruct Three Shot Scores: Precision={lts_sum['precision']/size} Recall={lts_sum['recall']/size} F1={lts_sum['f1']/size}\")"
      ]
    }
  ],
  "metadata": {
    "accelerator": "GPU",
    "colab": {
      "gpuType": "T4",
      "provenance": []
    },
    "kernelspec": {
      "display_name": "Python 3",
      "name": "python3"
    },
    "language_info": {
      "name": "python"
    },
    "widgets": {
      "application/vnd.jupyter.widget-state+json": {
        "25750f87a2dc4e3c982acbb5202b0955": {
          "model_module": "@jupyter-widgets/controls",
          "model_name": "HBoxModel",
          "model_module_version": "1.5.0",
          "state": {
            "_dom_classes": [],
            "_model_module": "@jupyter-widgets/controls",
            "_model_module_version": "1.5.0",
            "_model_name": "HBoxModel",
            "_view_count": null,
            "_view_module": "@jupyter-widgets/controls",
            "_view_module_version": "1.5.0",
            "_view_name": "HBoxView",
            "box_style": "",
            "children": [
              "IPY_MODEL_a9a7d3e7fb8745c69522101130196c3c",
              "IPY_MODEL_3e426a80dd5140bb925ef028730f8fce",
              "IPY_MODEL_8fb209700dbd4465a79db0a9f720935d"
            ],
            "layout": "IPY_MODEL_1b2f21e4622a4dd2aae853799d01177c"
          }
        },
        "a9a7d3e7fb8745c69522101130196c3c": {
          "model_module": "@jupyter-widgets/controls",
          "model_name": "HTMLModel",
          "model_module_version": "1.5.0",
          "state": {
            "_dom_classes": [],
            "_model_module": "@jupyter-widgets/controls",
            "_model_module_version": "1.5.0",
            "_model_name": "HTMLModel",
            "_view_count": null,
            "_view_module": "@jupyter-widgets/controls",
            "_view_module_version": "1.5.0",
            "_view_name": "HTMLView",
            "description": "",
            "description_tooltip": null,
            "layout": "IPY_MODEL_6d60ccda388e4266aebf1e710ac4b860",
            "placeholder": "​",
            "style": "IPY_MODEL_e20e80e2f0c04426a75b01b6ab76ed0f",
            "value": "config.json: 100%"
          }
        },
        "3e426a80dd5140bb925ef028730f8fce": {
          "model_module": "@jupyter-widgets/controls",
          "model_name": "FloatProgressModel",
          "model_module_version": "1.5.0",
          "state": {
            "_dom_classes": [],
            "_model_module": "@jupyter-widgets/controls",
            "_model_module_version": "1.5.0",
            "_model_name": "FloatProgressModel",
            "_view_count": null,
            "_view_module": "@jupyter-widgets/controls",
            "_view_module_version": "1.5.0",
            "_view_name": "ProgressView",
            "bar_style": "success",
            "description": "",
            "description_tooltip": null,
            "layout": "IPY_MODEL_d66527ab9762488cb987b623842b1a2a",
            "max": 385,
            "min": 0,
            "orientation": "horizontal",
            "style": "IPY_MODEL_9b82acaf63584ae89e4ff688fa025faa",
            "value": 385
          }
        },
        "8fb209700dbd4465a79db0a9f720935d": {
          "model_module": "@jupyter-widgets/controls",
          "model_name": "HTMLModel",
          "model_module_version": "1.5.0",
          "state": {
            "_dom_classes": [],
            "_model_module": "@jupyter-widgets/controls",
            "_model_module_version": "1.5.0",
            "_model_name": "HTMLModel",
            "_view_count": null,
            "_view_module": "@jupyter-widgets/controls",
            "_view_module_version": "1.5.0",
            "_view_name": "HTMLView",
            "description": "",
            "description_tooltip": null,
            "layout": "IPY_MODEL_6d228dfbb9d949fa920d6a996074f680",
            "placeholder": "​",
            "style": "IPY_MODEL_de041edcea0f481bbdabbead26417883",
            "value": " 385/385 [00:00&lt;00:00, 4.34kB/s]"
          }
        },
        "1b2f21e4622a4dd2aae853799d01177c": {
          "model_module": "@jupyter-widgets/base",
          "model_name": "LayoutModel",
          "model_module_version": "1.2.0",
          "state": {
            "_model_module": "@jupyter-widgets/base",
            "_model_module_version": "1.2.0",
            "_model_name": "LayoutModel",
            "_view_count": null,
            "_view_module": "@jupyter-widgets/base",
            "_view_module_version": "1.2.0",
            "_view_name": "LayoutView",
            "align_content": null,
            "align_items": null,
            "align_self": null,
            "border": null,
            "bottom": null,
            "display": null,
            "flex": null,
            "flex_flow": null,
            "grid_area": null,
            "grid_auto_columns": null,
            "grid_auto_flow": null,
            "grid_auto_rows": null,
            "grid_column": null,
            "grid_gap": null,
            "grid_row": null,
            "grid_template_areas": null,
            "grid_template_columns": null,
            "grid_template_rows": null,
            "height": null,
            "justify_content": null,
            "justify_items": null,
            "left": null,
            "margin": null,
            "max_height": null,
            "max_width": null,
            "min_height": null,
            "min_width": null,
            "object_fit": null,
            "object_position": null,
            "order": null,
            "overflow": null,
            "overflow_x": null,
            "overflow_y": null,
            "padding": null,
            "right": null,
            "top": null,
            "visibility": null,
            "width": null
          }
        },
        "6d60ccda388e4266aebf1e710ac4b860": {
          "model_module": "@jupyter-widgets/base",
          "model_name": "LayoutModel",
          "model_module_version": "1.2.0",
          "state": {
            "_model_module": "@jupyter-widgets/base",
            "_model_module_version": "1.2.0",
            "_model_name": "LayoutModel",
            "_view_count": null,
            "_view_module": "@jupyter-widgets/base",
            "_view_module_version": "1.2.0",
            "_view_name": "LayoutView",
            "align_content": null,
            "align_items": null,
            "align_self": null,
            "border": null,
            "bottom": null,
            "display": null,
            "flex": null,
            "flex_flow": null,
            "grid_area": null,
            "grid_auto_columns": null,
            "grid_auto_flow": null,
            "grid_auto_rows": null,
            "grid_column": null,
            "grid_gap": null,
            "grid_row": null,
            "grid_template_areas": null,
            "grid_template_columns": null,
            "grid_template_rows": null,
            "height": null,
            "justify_content": null,
            "justify_items": null,
            "left": null,
            "margin": null,
            "max_height": null,
            "max_width": null,
            "min_height": null,
            "min_width": null,
            "object_fit": null,
            "object_position": null,
            "order": null,
            "overflow": null,
            "overflow_x": null,
            "overflow_y": null,
            "padding": null,
            "right": null,
            "top": null,
            "visibility": null,
            "width": null
          }
        },
        "e20e80e2f0c04426a75b01b6ab76ed0f": {
          "model_module": "@jupyter-widgets/controls",
          "model_name": "DescriptionStyleModel",
          "model_module_version": "1.5.0",
          "state": {
            "_model_module": "@jupyter-widgets/controls",
            "_model_module_version": "1.5.0",
            "_model_name": "DescriptionStyleModel",
            "_view_count": null,
            "_view_module": "@jupyter-widgets/base",
            "_view_module_version": "1.2.0",
            "_view_name": "StyleView",
            "description_width": ""
          }
        },
        "d66527ab9762488cb987b623842b1a2a": {
          "model_module": "@jupyter-widgets/base",
          "model_name": "LayoutModel",
          "model_module_version": "1.2.0",
          "state": {
            "_model_module": "@jupyter-widgets/base",
            "_model_module_version": "1.2.0",
            "_model_name": "LayoutModel",
            "_view_count": null,
            "_view_module": "@jupyter-widgets/base",
            "_view_module_version": "1.2.0",
            "_view_name": "LayoutView",
            "align_content": null,
            "align_items": null,
            "align_self": null,
            "border": null,
            "bottom": null,
            "display": null,
            "flex": null,
            "flex_flow": null,
            "grid_area": null,
            "grid_auto_columns": null,
            "grid_auto_flow": null,
            "grid_auto_rows": null,
            "grid_column": null,
            "grid_gap": null,
            "grid_row": null,
            "grid_template_areas": null,
            "grid_template_columns": null,
            "grid_template_rows": null,
            "height": null,
            "justify_content": null,
            "justify_items": null,
            "left": null,
            "margin": null,
            "max_height": null,
            "max_width": null,
            "min_height": null,
            "min_width": null,
            "object_fit": null,
            "object_position": null,
            "order": null,
            "overflow": null,
            "overflow_x": null,
            "overflow_y": null,
            "padding": null,
            "right": null,
            "top": null,
            "visibility": null,
            "width": null
          }
        },
        "9b82acaf63584ae89e4ff688fa025faa": {
          "model_module": "@jupyter-widgets/controls",
          "model_name": "ProgressStyleModel",
          "model_module_version": "1.5.0",
          "state": {
            "_model_module": "@jupyter-widgets/controls",
            "_model_module_version": "1.5.0",
            "_model_name": "ProgressStyleModel",
            "_view_count": null,
            "_view_module": "@jupyter-widgets/base",
            "_view_module_version": "1.2.0",
            "_view_name": "StyleView",
            "bar_color": null,
            "description_width": ""
          }
        },
        "6d228dfbb9d949fa920d6a996074f680": {
          "model_module": "@jupyter-widgets/base",
          "model_name": "LayoutModel",
          "model_module_version": "1.2.0",
          "state": {
            "_model_module": "@jupyter-widgets/base",
            "_model_module_version": "1.2.0",
            "_model_name": "LayoutModel",
            "_view_count": null,
            "_view_module": "@jupyter-widgets/base",
            "_view_module_version": "1.2.0",
            "_view_name": "LayoutView",
            "align_content": null,
            "align_items": null,
            "align_self": null,
            "border": null,
            "bottom": null,
            "display": null,
            "flex": null,
            "flex_flow": null,
            "grid_area": null,
            "grid_auto_columns": null,
            "grid_auto_flow": null,
            "grid_auto_rows": null,
            "grid_column": null,
            "grid_gap": null,
            "grid_row": null,
            "grid_template_areas": null,
            "grid_template_columns": null,
            "grid_template_rows": null,
            "height": null,
            "justify_content": null,
            "justify_items": null,
            "left": null,
            "margin": null,
            "max_height": null,
            "max_width": null,
            "min_height": null,
            "min_width": null,
            "object_fit": null,
            "object_position": null,
            "order": null,
            "overflow": null,
            "overflow_x": null,
            "overflow_y": null,
            "padding": null,
            "right": null,
            "top": null,
            "visibility": null,
            "width": null
          }
        },
        "de041edcea0f481bbdabbead26417883": {
          "model_module": "@jupyter-widgets/controls",
          "model_name": "DescriptionStyleModel",
          "model_module_version": "1.5.0",
          "state": {
            "_model_module": "@jupyter-widgets/controls",
            "_model_module_version": "1.5.0",
            "_model_name": "DescriptionStyleModel",
            "_view_count": null,
            "_view_module": "@jupyter-widgets/base",
            "_view_module_version": "1.2.0",
            "_view_name": "StyleView",
            "description_width": ""
          }
        },
        "e59f1d78108540a9877f4663437add4d": {
          "model_module": "@jupyter-widgets/controls",
          "model_name": "HBoxModel",
          "model_module_version": "1.5.0",
          "state": {
            "_dom_classes": [],
            "_model_module": "@jupyter-widgets/controls",
            "_model_module_version": "1.5.0",
            "_model_name": "HBoxModel",
            "_view_count": null,
            "_view_module": "@jupyter-widgets/controls",
            "_view_module_version": "1.5.0",
            "_view_name": "HBoxView",
            "box_style": "",
            "children": [
              "IPY_MODEL_c6c1a11ed91849d89a4980fa4af75f84",
              "IPY_MODEL_2b5c28c2f8a2495da9e72301ee0703ac",
              "IPY_MODEL_a4aea4074519489baba60310e5a039c4"
            ],
            "layout": "IPY_MODEL_78f4cfa6d673400d94a35c1079158d83"
          }
        },
        "c6c1a11ed91849d89a4980fa4af75f84": {
          "model_module": "@jupyter-widgets/controls",
          "model_name": "HTMLModel",
          "model_module_version": "1.5.0",
          "state": {
            "_dom_classes": [],
            "_model_module": "@jupyter-widgets/controls",
            "_model_module_version": "1.5.0",
            "_model_name": "HTMLModel",
            "_view_count": null,
            "_view_module": "@jupyter-widgets/controls",
            "_view_module_version": "1.5.0",
            "_view_name": "HTMLView",
            "description": "",
            "description_tooltip": null,
            "layout": "IPY_MODEL_946ac09f6fc74be19c3a64194e06226d",
            "placeholder": "​",
            "style": "IPY_MODEL_4145211341024c7ebe574b659bc7b8f3",
            "value": "vocab.txt: 100%"
          }
        },
        "2b5c28c2f8a2495da9e72301ee0703ac": {
          "model_module": "@jupyter-widgets/controls",
          "model_name": "FloatProgressModel",
          "model_module_version": "1.5.0",
          "state": {
            "_dom_classes": [],
            "_model_module": "@jupyter-widgets/controls",
            "_model_module_version": "1.5.0",
            "_model_name": "FloatProgressModel",
            "_view_count": null,
            "_view_module": "@jupyter-widgets/controls",
            "_view_module_version": "1.5.0",
            "_view_name": "ProgressView",
            "bar_style": "success",
            "description": "",
            "description_tooltip": null,
            "layout": "IPY_MODEL_7020d24f56424696830c4d6b6fa45263",
            "max": 213450,
            "min": 0,
            "orientation": "horizontal",
            "style": "IPY_MODEL_c70d7df7f15f45cb91c5b560126a90d6",
            "value": 213450
          }
        },
        "a4aea4074519489baba60310e5a039c4": {
          "model_module": "@jupyter-widgets/controls",
          "model_name": "HTMLModel",
          "model_module_version": "1.5.0",
          "state": {
            "_dom_classes": [],
            "_model_module": "@jupyter-widgets/controls",
            "_model_module_version": "1.5.0",
            "_model_name": "HTMLModel",
            "_view_count": null,
            "_view_module": "@jupyter-widgets/controls",
            "_view_module_version": "1.5.0",
            "_view_name": "HTMLView",
            "description": "",
            "description_tooltip": null,
            "layout": "IPY_MODEL_0b0a75e34aea4f14ba51e5745e3e29ca",
            "placeholder": "​",
            "style": "IPY_MODEL_2d9853c4480f4e98a6ac53641cb65ed1",
            "value": " 213k/213k [00:00&lt;00:00, 1.76MB/s]"
          }
        },
        "78f4cfa6d673400d94a35c1079158d83": {
          "model_module": "@jupyter-widgets/base",
          "model_name": "LayoutModel",
          "model_module_version": "1.2.0",
          "state": {
            "_model_module": "@jupyter-widgets/base",
            "_model_module_version": "1.2.0",
            "_model_name": "LayoutModel",
            "_view_count": null,
            "_view_module": "@jupyter-widgets/base",
            "_view_module_version": "1.2.0",
            "_view_name": "LayoutView",
            "align_content": null,
            "align_items": null,
            "align_self": null,
            "border": null,
            "bottom": null,
            "display": null,
            "flex": null,
            "flex_flow": null,
            "grid_area": null,
            "grid_auto_columns": null,
            "grid_auto_flow": null,
            "grid_auto_rows": null,
            "grid_column": null,
            "grid_gap": null,
            "grid_row": null,
            "grid_template_areas": null,
            "grid_template_columns": null,
            "grid_template_rows": null,
            "height": null,
            "justify_content": null,
            "justify_items": null,
            "left": null,
            "margin": null,
            "max_height": null,
            "max_width": null,
            "min_height": null,
            "min_width": null,
            "object_fit": null,
            "object_position": null,
            "order": null,
            "overflow": null,
            "overflow_x": null,
            "overflow_y": null,
            "padding": null,
            "right": null,
            "top": null,
            "visibility": null,
            "width": null
          }
        },
        "946ac09f6fc74be19c3a64194e06226d": {
          "model_module": "@jupyter-widgets/base",
          "model_name": "LayoutModel",
          "model_module_version": "1.2.0",
          "state": {
            "_model_module": "@jupyter-widgets/base",
            "_model_module_version": "1.2.0",
            "_model_name": "LayoutModel",
            "_view_count": null,
            "_view_module": "@jupyter-widgets/base",
            "_view_module_version": "1.2.0",
            "_view_name": "LayoutView",
            "align_content": null,
            "align_items": null,
            "align_self": null,
            "border": null,
            "bottom": null,
            "display": null,
            "flex": null,
            "flex_flow": null,
            "grid_area": null,
            "grid_auto_columns": null,
            "grid_auto_flow": null,
            "grid_auto_rows": null,
            "grid_column": null,
            "grid_gap": null,
            "grid_row": null,
            "grid_template_areas": null,
            "grid_template_columns": null,
            "grid_template_rows": null,
            "height": null,
            "justify_content": null,
            "justify_items": null,
            "left": null,
            "margin": null,
            "max_height": null,
            "max_width": null,
            "min_height": null,
            "min_width": null,
            "object_fit": null,
            "object_position": null,
            "order": null,
            "overflow": null,
            "overflow_x": null,
            "overflow_y": null,
            "padding": null,
            "right": null,
            "top": null,
            "visibility": null,
            "width": null
          }
        },
        "4145211341024c7ebe574b659bc7b8f3": {
          "model_module": "@jupyter-widgets/controls",
          "model_name": "DescriptionStyleModel",
          "model_module_version": "1.5.0",
          "state": {
            "_model_module": "@jupyter-widgets/controls",
            "_model_module_version": "1.5.0",
            "_model_name": "DescriptionStyleModel",
            "_view_count": null,
            "_view_module": "@jupyter-widgets/base",
            "_view_module_version": "1.2.0",
            "_view_name": "StyleView",
            "description_width": ""
          }
        },
        "7020d24f56424696830c4d6b6fa45263": {
          "model_module": "@jupyter-widgets/base",
          "model_name": "LayoutModel",
          "model_module_version": "1.2.0",
          "state": {
            "_model_module": "@jupyter-widgets/base",
            "_model_module_version": "1.2.0",
            "_model_name": "LayoutModel",
            "_view_count": null,
            "_view_module": "@jupyter-widgets/base",
            "_view_module_version": "1.2.0",
            "_view_name": "LayoutView",
            "align_content": null,
            "align_items": null,
            "align_self": null,
            "border": null,
            "bottom": null,
            "display": null,
            "flex": null,
            "flex_flow": null,
            "grid_area": null,
            "grid_auto_columns": null,
            "grid_auto_flow": null,
            "grid_auto_rows": null,
            "grid_column": null,
            "grid_gap": null,
            "grid_row": null,
            "grid_template_areas": null,
            "grid_template_columns": null,
            "grid_template_rows": null,
            "height": null,
            "justify_content": null,
            "justify_items": null,
            "left": null,
            "margin": null,
            "max_height": null,
            "max_width": null,
            "min_height": null,
            "min_width": null,
            "object_fit": null,
            "object_position": null,
            "order": null,
            "overflow": null,
            "overflow_x": null,
            "overflow_y": null,
            "padding": null,
            "right": null,
            "top": null,
            "visibility": null,
            "width": null
          }
        },
        "c70d7df7f15f45cb91c5b560126a90d6": {
          "model_module": "@jupyter-widgets/controls",
          "model_name": "ProgressStyleModel",
          "model_module_version": "1.5.0",
          "state": {
            "_model_module": "@jupyter-widgets/controls",
            "_model_module_version": "1.5.0",
            "_model_name": "ProgressStyleModel",
            "_view_count": null,
            "_view_module": "@jupyter-widgets/base",
            "_view_module_version": "1.2.0",
            "_view_name": "StyleView",
            "bar_color": null,
            "description_width": ""
          }
        },
        "0b0a75e34aea4f14ba51e5745e3e29ca": {
          "model_module": "@jupyter-widgets/base",
          "model_name": "LayoutModel",
          "model_module_version": "1.2.0",
          "state": {
            "_model_module": "@jupyter-widgets/base",
            "_model_module_version": "1.2.0",
            "_model_name": "LayoutModel",
            "_view_count": null,
            "_view_module": "@jupyter-widgets/base",
            "_view_module_version": "1.2.0",
            "_view_name": "LayoutView",
            "align_content": null,
            "align_items": null,
            "align_self": null,
            "border": null,
            "bottom": null,
            "display": null,
            "flex": null,
            "flex_flow": null,
            "grid_area": null,
            "grid_auto_columns": null,
            "grid_auto_flow": null,
            "grid_auto_rows": null,
            "grid_column": null,
            "grid_gap": null,
            "grid_row": null,
            "grid_template_areas": null,
            "grid_template_columns": null,
            "grid_template_rows": null,
            "height": null,
            "justify_content": null,
            "justify_items": null,
            "left": null,
            "margin": null,
            "max_height": null,
            "max_width": null,
            "min_height": null,
            "min_width": null,
            "object_fit": null,
            "object_position": null,
            "order": null,
            "overflow": null,
            "overflow_x": null,
            "overflow_y": null,
            "padding": null,
            "right": null,
            "top": null,
            "visibility": null,
            "width": null
          }
        },
        "2d9853c4480f4e98a6ac53641cb65ed1": {
          "model_module": "@jupyter-widgets/controls",
          "model_name": "DescriptionStyleModel",
          "model_module_version": "1.5.0",
          "state": {
            "_model_module": "@jupyter-widgets/controls",
            "_model_module_version": "1.5.0",
            "_model_name": "DescriptionStyleModel",
            "_view_count": null,
            "_view_module": "@jupyter-widgets/base",
            "_view_module_version": "1.2.0",
            "_view_name": "StyleView",
            "description_width": ""
          }
        },
        "0db14b4a552743f3bedb16ffe9f96ad5": {
          "model_module": "@jupyter-widgets/controls",
          "model_name": "HBoxModel",
          "model_module_version": "1.5.0",
          "state": {
            "_dom_classes": [],
            "_model_module": "@jupyter-widgets/controls",
            "_model_module_version": "1.5.0",
            "_model_name": "HBoxModel",
            "_view_count": null,
            "_view_module": "@jupyter-widgets/controls",
            "_view_module_version": "1.5.0",
            "_view_name": "HBoxView",
            "box_style": "",
            "children": [
              "IPY_MODEL_e4c84760a0564df28ee3d7cf73baccac",
              "IPY_MODEL_91e5050ff7ca4d178ab9b810923de54d",
              "IPY_MODEL_719bbdfa252842a0b5ae09b35b83992e"
            ],
            "layout": "IPY_MODEL_651d2db9ba594652a8b4fd41f2f946de"
          }
        },
        "e4c84760a0564df28ee3d7cf73baccac": {
          "model_module": "@jupyter-widgets/controls",
          "model_name": "HTMLModel",
          "model_module_version": "1.5.0",
          "state": {
            "_dom_classes": [],
            "_model_module": "@jupyter-widgets/controls",
            "_model_module_version": "1.5.0",
            "_model_name": "HTMLModel",
            "_view_count": null,
            "_view_module": "@jupyter-widgets/controls",
            "_view_module_version": "1.5.0",
            "_view_name": "HTMLView",
            "description": "",
            "description_tooltip": null,
            "layout": "IPY_MODEL_746cba623a7646f5a9b7eae8325556f4",
            "placeholder": "​",
            "style": "IPY_MODEL_07b547390b4347caab3dd34fd0de32a1",
            "value": "pytorch_model.bin: 100%"
          }
        },
        "91e5050ff7ca4d178ab9b810923de54d": {
          "model_module": "@jupyter-widgets/controls",
          "model_name": "FloatProgressModel",
          "model_module_version": "1.5.0",
          "state": {
            "_dom_classes": [],
            "_model_module": "@jupyter-widgets/controls",
            "_model_module_version": "1.5.0",
            "_model_name": "FloatProgressModel",
            "_view_count": null,
            "_view_module": "@jupyter-widgets/controls",
            "_view_module_version": "1.5.0",
            "_view_name": "ProgressView",
            "bar_style": "success",
            "description": "",
            "description_tooltip": null,
            "layout": "IPY_MODEL_09d93aa2521d4c8da52c7aef214e9d94",
            "max": 435778770,
            "min": 0,
            "orientation": "horizontal",
            "style": "IPY_MODEL_bf18bd60a8bb4be59c01161ffd87b0fc",
            "value": 435778770
          }
        },
        "719bbdfa252842a0b5ae09b35b83992e": {
          "model_module": "@jupyter-widgets/controls",
          "model_name": "HTMLModel",
          "model_module_version": "1.5.0",
          "state": {
            "_dom_classes": [],
            "_model_module": "@jupyter-widgets/controls",
            "_model_module_version": "1.5.0",
            "_model_name": "HTMLModel",
            "_view_count": null,
            "_view_module": "@jupyter-widgets/controls",
            "_view_module_version": "1.5.0",
            "_view_name": "HTMLView",
            "description": "",
            "description_tooltip": null,
            "layout": "IPY_MODEL_60180ac527734efa98991722dfac3daa",
            "placeholder": "​",
            "style": "IPY_MODEL_4318d2a4f99f46ef88e1afa3eafb9aaf",
            "value": " 436M/436M [00:07&lt;00:00, 161MB/s]"
          }
        },
        "651d2db9ba594652a8b4fd41f2f946de": {
          "model_module": "@jupyter-widgets/base",
          "model_name": "LayoutModel",
          "model_module_version": "1.2.0",
          "state": {
            "_model_module": "@jupyter-widgets/base",
            "_model_module_version": "1.2.0",
            "_model_name": "LayoutModel",
            "_view_count": null,
            "_view_module": "@jupyter-widgets/base",
            "_view_module_version": "1.2.0",
            "_view_name": "LayoutView",
            "align_content": null,
            "align_items": null,
            "align_self": null,
            "border": null,
            "bottom": null,
            "display": null,
            "flex": null,
            "flex_flow": null,
            "grid_area": null,
            "grid_auto_columns": null,
            "grid_auto_flow": null,
            "grid_auto_rows": null,
            "grid_column": null,
            "grid_gap": null,
            "grid_row": null,
            "grid_template_areas": null,
            "grid_template_columns": null,
            "grid_template_rows": null,
            "height": null,
            "justify_content": null,
            "justify_items": null,
            "left": null,
            "margin": null,
            "max_height": null,
            "max_width": null,
            "min_height": null,
            "min_width": null,
            "object_fit": null,
            "object_position": null,
            "order": null,
            "overflow": null,
            "overflow_x": null,
            "overflow_y": null,
            "padding": null,
            "right": null,
            "top": null,
            "visibility": null,
            "width": null
          }
        },
        "746cba623a7646f5a9b7eae8325556f4": {
          "model_module": "@jupyter-widgets/base",
          "model_name": "LayoutModel",
          "model_module_version": "1.2.0",
          "state": {
            "_model_module": "@jupyter-widgets/base",
            "_model_module_version": "1.2.0",
            "_model_name": "LayoutModel",
            "_view_count": null,
            "_view_module": "@jupyter-widgets/base",
            "_view_module_version": "1.2.0",
            "_view_name": "LayoutView",
            "align_content": null,
            "align_items": null,
            "align_self": null,
            "border": null,
            "bottom": null,
            "display": null,
            "flex": null,
            "flex_flow": null,
            "grid_area": null,
            "grid_auto_columns": null,
            "grid_auto_flow": null,
            "grid_auto_rows": null,
            "grid_column": null,
            "grid_gap": null,
            "grid_row": null,
            "grid_template_areas": null,
            "grid_template_columns": null,
            "grid_template_rows": null,
            "height": null,
            "justify_content": null,
            "justify_items": null,
            "left": null,
            "margin": null,
            "max_height": null,
            "max_width": null,
            "min_height": null,
            "min_width": null,
            "object_fit": null,
            "object_position": null,
            "order": null,
            "overflow": null,
            "overflow_x": null,
            "overflow_y": null,
            "padding": null,
            "right": null,
            "top": null,
            "visibility": null,
            "width": null
          }
        },
        "07b547390b4347caab3dd34fd0de32a1": {
          "model_module": "@jupyter-widgets/controls",
          "model_name": "DescriptionStyleModel",
          "model_module_version": "1.5.0",
          "state": {
            "_model_module": "@jupyter-widgets/controls",
            "_model_module_version": "1.5.0",
            "_model_name": "DescriptionStyleModel",
            "_view_count": null,
            "_view_module": "@jupyter-widgets/base",
            "_view_module_version": "1.2.0",
            "_view_name": "StyleView",
            "description_width": ""
          }
        },
        "09d93aa2521d4c8da52c7aef214e9d94": {
          "model_module": "@jupyter-widgets/base",
          "model_name": "LayoutModel",
          "model_module_version": "1.2.0",
          "state": {
            "_model_module": "@jupyter-widgets/base",
            "_model_module_version": "1.2.0",
            "_model_name": "LayoutModel",
            "_view_count": null,
            "_view_module": "@jupyter-widgets/base",
            "_view_module_version": "1.2.0",
            "_view_name": "LayoutView",
            "align_content": null,
            "align_items": null,
            "align_self": null,
            "border": null,
            "bottom": null,
            "display": null,
            "flex": null,
            "flex_flow": null,
            "grid_area": null,
            "grid_auto_columns": null,
            "grid_auto_flow": null,
            "grid_auto_rows": null,
            "grid_column": null,
            "grid_gap": null,
            "grid_row": null,
            "grid_template_areas": null,
            "grid_template_columns": null,
            "grid_template_rows": null,
            "height": null,
            "justify_content": null,
            "justify_items": null,
            "left": null,
            "margin": null,
            "max_height": null,
            "max_width": null,
            "min_height": null,
            "min_width": null,
            "object_fit": null,
            "object_position": null,
            "order": null,
            "overflow": null,
            "overflow_x": null,
            "overflow_y": null,
            "padding": null,
            "right": null,
            "top": null,
            "visibility": null,
            "width": null
          }
        },
        "bf18bd60a8bb4be59c01161ffd87b0fc": {
          "model_module": "@jupyter-widgets/controls",
          "model_name": "ProgressStyleModel",
          "model_module_version": "1.5.0",
          "state": {
            "_model_module": "@jupyter-widgets/controls",
            "_model_module_version": "1.5.0",
            "_model_name": "ProgressStyleModel",
            "_view_count": null,
            "_view_module": "@jupyter-widgets/base",
            "_view_module_version": "1.2.0",
            "_view_name": "StyleView",
            "bar_color": null,
            "description_width": ""
          }
        },
        "60180ac527734efa98991722dfac3daa": {
          "model_module": "@jupyter-widgets/base",
          "model_name": "LayoutModel",
          "model_module_version": "1.2.0",
          "state": {
            "_model_module": "@jupyter-widgets/base",
            "_model_module_version": "1.2.0",
            "_model_name": "LayoutModel",
            "_view_count": null,
            "_view_module": "@jupyter-widgets/base",
            "_view_module_version": "1.2.0",
            "_view_name": "LayoutView",
            "align_content": null,
            "align_items": null,
            "align_self": null,
            "border": null,
            "bottom": null,
            "display": null,
            "flex": null,
            "flex_flow": null,
            "grid_area": null,
            "grid_auto_columns": null,
            "grid_auto_flow": null,
            "grid_auto_rows": null,
            "grid_column": null,
            "grid_gap": null,
            "grid_row": null,
            "grid_template_areas": null,
            "grid_template_columns": null,
            "grid_template_rows": null,
            "height": null,
            "justify_content": null,
            "justify_items": null,
            "left": null,
            "margin": null,
            "max_height": null,
            "max_width": null,
            "min_height": null,
            "min_width": null,
            "object_fit": null,
            "object_position": null,
            "order": null,
            "overflow": null,
            "overflow_x": null,
            "overflow_y": null,
            "padding": null,
            "right": null,
            "top": null,
            "visibility": null,
            "width": null
          }
        },
        "4318d2a4f99f46ef88e1afa3eafb9aaf": {
          "model_module": "@jupyter-widgets/controls",
          "model_name": "DescriptionStyleModel",
          "model_module_version": "1.5.0",
          "state": {
            "_model_module": "@jupyter-widgets/controls",
            "_model_module_version": "1.5.0",
            "_model_name": "DescriptionStyleModel",
            "_view_count": null,
            "_view_module": "@jupyter-widgets/base",
            "_view_module_version": "1.2.0",
            "_view_name": "StyleView",
            "description_width": ""
          }
        }
      }
    }
  },
  "nbformat": 4,
  "nbformat_minor": 0
}